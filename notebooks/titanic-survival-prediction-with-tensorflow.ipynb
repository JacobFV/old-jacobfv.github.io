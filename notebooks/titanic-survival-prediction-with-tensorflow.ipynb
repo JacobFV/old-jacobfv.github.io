{
 "cells": [
  {
   "cell_type": "markdown",
   "id": "miniature-reader",
   "metadata": {},
   "source": [
    "# Titanic Survival Prediction with Tensorflow\n",
    "\n",
    "*The following notebook was written completely from scratch by Jacob Valdez (no stackoverflow, no tutorials, no Google, no Internet!) to complete the \"Term Project Tutorial\" for Data Mining.*\n",
    "\n",
    "Building and training a binary classifier is easy! I'll walk you through the steps below. It should only take 2 minutes to follow along. (Or if you want to clone from my Github repo, 30 seconds)"
   ]
  },
  {
   "cell_type": "markdown",
   "id": "covered-subdivision",
   "metadata": {},
   "source": [
    "## Getting Started"
   ]
  },
  {
   "cell_type": "markdown",
   "id": "subsequent-fifty",
   "metadata": {},
   "source": [
    "Make sure you have numpy, pandas, tensorflow, matplotlib, and seaborn installed."
   ]
  },
  {
   "cell_type": "code",
   "execution_count": null,
   "id": "demanding-mapping",
   "metadata": {},
   "outputs": [],
   "source": [
    "!pip install numpy pandas tensorflow matplotlib seaborn"
   ]
  },
  {
   "cell_type": "markdown",
   "id": "asian-alfred",
   "metadata": {},
   "source": [
    "If you're running jupyter lab locally, you may want to enable the `Completer` to get intelisense popups."
   ]
  },
  {
   "cell_type": "code",
   "execution_count": 1,
   "id": "joined-zealand",
   "metadata": {
    "execution": {
     "iopub.execute_input": "2021-09-29T04:02:32.617945Z",
     "iopub.status.busy": "2021-09-29T04:02:32.617676Z",
     "iopub.status.idle": "2021-09-29T04:02:32.630118Z",
     "shell.execute_reply": "2021-09-29T04:02:32.629297Z",
     "shell.execute_reply.started": "2021-09-29T04:02:32.617879Z"
    },
    "tags": []
   },
   "outputs": [],
   "source": [
    "%config Completer.use_jedi=False"
   ]
  },
  {
   "cell_type": "markdown",
   "id": "maritime-miller",
   "metadata": {},
   "source": [
    "Now import the above libraries"
   ]
  },
  {
   "cell_type": "code",
   "execution_count": 2,
   "id": "entire-apple",
   "metadata": {
    "execution": {
     "iopub.execute_input": "2021-09-29T04:02:34.007826Z",
     "iopub.status.busy": "2021-09-29T04:02:34.007646Z",
     "iopub.status.idle": "2021-09-29T04:02:35.809772Z",
     "shell.execute_reply": "2021-09-29T04:02:35.807714Z",
     "shell.execute_reply.started": "2021-09-29T04:02:34.007808Z"
    },
    "tags": []
   },
   "outputs": [],
   "source": [
    "import numpy as np\n",
    "import tensorflow as tf\n",
    "import pandas as pd\n",
    "import matplotlib.pyplot as plt\n",
    "import seaborn as sns"
   ]
  },
  {
   "cell_type": "markdown",
   "id": "blocked-symphony",
   "metadata": {
    "execution": {
     "iopub.execute_input": "2021-09-28T21:02:40.550195Z",
     "iopub.status.busy": "2021-09-28T21:02:40.549345Z",
     "iopub.status.idle": "2021-09-28T21:02:40.561571Z",
     "shell.execute_reply": "2021-09-28T21:02:40.557454Z",
     "shell.execute_reply.started": "2021-09-28T21:02:40.550101Z"
    },
    "tags": []
   },
   "source": [
    "## Exploratory Data Analysis"
   ]
  },
  {
   "cell_type": "markdown",
   "id": "collective-headline",
   "metadata": {},
   "source": [
    "Let's start by loading our data (You'll have to change the paths below):"
   ]
  },
  {
   "cell_type": "code",
   "execution_count": 3,
   "id": "worse-aerospace",
   "metadata": {
    "execution": {
     "iopub.execute_input": "2021-09-29T04:02:37.077549Z",
     "iopub.status.busy": "2021-09-29T04:02:37.077346Z",
     "iopub.status.idle": "2021-09-29T04:02:37.121650Z",
     "shell.execute_reply": "2021-09-29T04:02:37.121113Z",
     "shell.execute_reply.started": "2021-09-29T04:02:37.077512Z"
    },
    "tags": []
   },
   "outputs": [
    {
     "data": {
      "text/html": [
       "<div>\n",
       "<style scoped>\n",
       "    .dataframe tbody tr th:only-of-type {\n",
       "        vertical-align: middle;\n",
       "    }\n",
       "\n",
       "    .dataframe tbody tr th {\n",
       "        vertical-align: top;\n",
       "    }\n",
       "\n",
       "    .dataframe thead th {\n",
       "        text-align: right;\n",
       "    }\n",
       "</style>\n",
       "<table border=\"1\" class=\"dataframe\">\n",
       "  <thead>\n",
       "    <tr style=\"text-align: right;\">\n",
       "      <th></th>\n",
       "      <th>PassengerId</th>\n",
       "      <th>Survived</th>\n",
       "      <th>Pclass</th>\n",
       "      <th>Name</th>\n",
       "      <th>Sex</th>\n",
       "      <th>Age</th>\n",
       "      <th>SibSp</th>\n",
       "      <th>Parch</th>\n",
       "      <th>Ticket</th>\n",
       "      <th>Fare</th>\n",
       "      <th>Cabin</th>\n",
       "      <th>Embarked</th>\n",
       "    </tr>\n",
       "  </thead>\n",
       "  <tbody>\n",
       "    <tr>\n",
       "      <th>0</th>\n",
       "      <td>1</td>\n",
       "      <td>0</td>\n",
       "      <td>3</td>\n",
       "      <td>Braund, Mr. Owen Harris</td>\n",
       "      <td>male</td>\n",
       "      <td>22.0</td>\n",
       "      <td>1</td>\n",
       "      <td>0</td>\n",
       "      <td>A/5 21171</td>\n",
       "      <td>7.2500</td>\n",
       "      <td>NaN</td>\n",
       "      <td>S</td>\n",
       "    </tr>\n",
       "    <tr>\n",
       "      <th>1</th>\n",
       "      <td>2</td>\n",
       "      <td>1</td>\n",
       "      <td>1</td>\n",
       "      <td>Cumings, Mrs. John Bradley (Florence Briggs Th...</td>\n",
       "      <td>female</td>\n",
       "      <td>38.0</td>\n",
       "      <td>1</td>\n",
       "      <td>0</td>\n",
       "      <td>PC 17599</td>\n",
       "      <td>71.2833</td>\n",
       "      <td>C85</td>\n",
       "      <td>C</td>\n",
       "    </tr>\n",
       "    <tr>\n",
       "      <th>2</th>\n",
       "      <td>3</td>\n",
       "      <td>1</td>\n",
       "      <td>3</td>\n",
       "      <td>Heikkinen, Miss. Laina</td>\n",
       "      <td>female</td>\n",
       "      <td>26.0</td>\n",
       "      <td>0</td>\n",
       "      <td>0</td>\n",
       "      <td>STON/O2. 3101282</td>\n",
       "      <td>7.9250</td>\n",
       "      <td>NaN</td>\n",
       "      <td>S</td>\n",
       "    </tr>\n",
       "    <tr>\n",
       "      <th>3</th>\n",
       "      <td>4</td>\n",
       "      <td>1</td>\n",
       "      <td>1</td>\n",
       "      <td>Futrelle, Mrs. Jacques Heath (Lily May Peel)</td>\n",
       "      <td>female</td>\n",
       "      <td>35.0</td>\n",
       "      <td>1</td>\n",
       "      <td>0</td>\n",
       "      <td>113803</td>\n",
       "      <td>53.1000</td>\n",
       "      <td>C123</td>\n",
       "      <td>S</td>\n",
       "    </tr>\n",
       "    <tr>\n",
       "      <th>4</th>\n",
       "      <td>5</td>\n",
       "      <td>0</td>\n",
       "      <td>3</td>\n",
       "      <td>Allen, Mr. William Henry</td>\n",
       "      <td>male</td>\n",
       "      <td>35.0</td>\n",
       "      <td>0</td>\n",
       "      <td>0</td>\n",
       "      <td>373450</td>\n",
       "      <td>8.0500</td>\n",
       "      <td>NaN</td>\n",
       "      <td>S</td>\n",
       "    </tr>\n",
       "    <tr>\n",
       "      <th>...</th>\n",
       "      <td>...</td>\n",
       "      <td>...</td>\n",
       "      <td>...</td>\n",
       "      <td>...</td>\n",
       "      <td>...</td>\n",
       "      <td>...</td>\n",
       "      <td>...</td>\n",
       "      <td>...</td>\n",
       "      <td>...</td>\n",
       "      <td>...</td>\n",
       "      <td>...</td>\n",
       "      <td>...</td>\n",
       "    </tr>\n",
       "    <tr>\n",
       "      <th>886</th>\n",
       "      <td>887</td>\n",
       "      <td>0</td>\n",
       "      <td>2</td>\n",
       "      <td>Montvila, Rev. Juozas</td>\n",
       "      <td>male</td>\n",
       "      <td>27.0</td>\n",
       "      <td>0</td>\n",
       "      <td>0</td>\n",
       "      <td>211536</td>\n",
       "      <td>13.0000</td>\n",
       "      <td>NaN</td>\n",
       "      <td>S</td>\n",
       "    </tr>\n",
       "    <tr>\n",
       "      <th>887</th>\n",
       "      <td>888</td>\n",
       "      <td>1</td>\n",
       "      <td>1</td>\n",
       "      <td>Graham, Miss. Margaret Edith</td>\n",
       "      <td>female</td>\n",
       "      <td>19.0</td>\n",
       "      <td>0</td>\n",
       "      <td>0</td>\n",
       "      <td>112053</td>\n",
       "      <td>30.0000</td>\n",
       "      <td>B42</td>\n",
       "      <td>S</td>\n",
       "    </tr>\n",
       "    <tr>\n",
       "      <th>888</th>\n",
       "      <td>889</td>\n",
       "      <td>0</td>\n",
       "      <td>3</td>\n",
       "      <td>Johnston, Miss. Catherine Helen \"Carrie\"</td>\n",
       "      <td>female</td>\n",
       "      <td>NaN</td>\n",
       "      <td>1</td>\n",
       "      <td>2</td>\n",
       "      <td>W./C. 6607</td>\n",
       "      <td>23.4500</td>\n",
       "      <td>NaN</td>\n",
       "      <td>S</td>\n",
       "    </tr>\n",
       "    <tr>\n",
       "      <th>889</th>\n",
       "      <td>890</td>\n",
       "      <td>1</td>\n",
       "      <td>1</td>\n",
       "      <td>Behr, Mr. Karl Howell</td>\n",
       "      <td>male</td>\n",
       "      <td>26.0</td>\n",
       "      <td>0</td>\n",
       "      <td>0</td>\n",
       "      <td>111369</td>\n",
       "      <td>30.0000</td>\n",
       "      <td>C148</td>\n",
       "      <td>C</td>\n",
       "    </tr>\n",
       "    <tr>\n",
       "      <th>890</th>\n",
       "      <td>891</td>\n",
       "      <td>0</td>\n",
       "      <td>3</td>\n",
       "      <td>Dooley, Mr. Patrick</td>\n",
       "      <td>male</td>\n",
       "      <td>32.0</td>\n",
       "      <td>0</td>\n",
       "      <td>0</td>\n",
       "      <td>370376</td>\n",
       "      <td>7.7500</td>\n",
       "      <td>NaN</td>\n",
       "      <td>Q</td>\n",
       "    </tr>\n",
       "  </tbody>\n",
       "</table>\n",
       "<p>891 rows × 12 columns</p>\n",
       "</div>"
      ],
      "text/plain": [
       "     PassengerId  Survived  Pclass  \\\n",
       "0              1         0       3   \n",
       "1              2         1       1   \n",
       "2              3         1       3   \n",
       "3              4         1       1   \n",
       "4              5         0       3   \n",
       "..           ...       ...     ...   \n",
       "886          887         0       2   \n",
       "887          888         1       1   \n",
       "888          889         0       3   \n",
       "889          890         1       1   \n",
       "890          891         0       3   \n",
       "\n",
       "                                                  Name     Sex   Age  SibSp  \\\n",
       "0                              Braund, Mr. Owen Harris    male  22.0      1   \n",
       "1    Cumings, Mrs. John Bradley (Florence Briggs Th...  female  38.0      1   \n",
       "2                               Heikkinen, Miss. Laina  female  26.0      0   \n",
       "3         Futrelle, Mrs. Jacques Heath (Lily May Peel)  female  35.0      1   \n",
       "4                             Allen, Mr. William Henry    male  35.0      0   \n",
       "..                                                 ...     ...   ...    ...   \n",
       "886                              Montvila, Rev. Juozas    male  27.0      0   \n",
       "887                       Graham, Miss. Margaret Edith  female  19.0      0   \n",
       "888           Johnston, Miss. Catherine Helen \"Carrie\"  female   NaN      1   \n",
       "889                              Behr, Mr. Karl Howell    male  26.0      0   \n",
       "890                                Dooley, Mr. Patrick    male  32.0      0   \n",
       "\n",
       "     Parch            Ticket     Fare Cabin Embarked  \n",
       "0        0         A/5 21171   7.2500   NaN        S  \n",
       "1        0          PC 17599  71.2833   C85        C  \n",
       "2        0  STON/O2. 3101282   7.9250   NaN        S  \n",
       "3        0            113803  53.1000  C123        S  \n",
       "4        0            373450   8.0500   NaN        S  \n",
       "..     ...               ...      ...   ...      ...  \n",
       "886      0            211536  13.0000   NaN        S  \n",
       "887      0            112053  30.0000   B42        S  \n",
       "888      2        W./C. 6607  23.4500   NaN        S  \n",
       "889      0            111369  30.0000  C148        C  \n",
       "890      0            370376   7.7500   NaN        Q  \n",
       "\n",
       "[891 rows x 12 columns]"
      ]
     },
     "execution_count": 3,
     "metadata": {},
     "output_type": "execute_result"
    }
   ],
   "source": [
    "train_data = pd.read_csv('~/Downloads/train.csv')\n",
    "test_data = pd.read_csv('~/Downloads/test.csv')\n",
    "train_data #, test_data (don't look at your test data! ;) ) "
   ]
  },
  {
   "cell_type": "markdown",
   "id": "headed-harvest",
   "metadata": {},
   "source": [
    "Now we want to get several 'tastes' of the data. We'll take a few different perspectives below"
   ]
  },
  {
   "cell_type": "code",
   "execution_count": 4,
   "id": "quality-workplace",
   "metadata": {
    "execution": {
     "iopub.execute_input": "2021-09-29T04:02:39.341050Z",
     "iopub.status.busy": "2021-09-29T04:02:39.340837Z",
     "iopub.status.idle": "2021-09-29T04:02:39.619879Z",
     "shell.execute_reply": "2021-09-29T04:02:39.619245Z",
     "shell.execute_reply.started": "2021-09-29T04:02:39.341027Z"
    },
    "tags": []
   },
   "outputs": [
    {
     "data": {
      "text/plain": [
       "<seaborn.axisgrid.FacetGrid at 0x7f8bc43a1bb0>"
      ]
     },
     "execution_count": 4,
     "metadata": {},
     "output_type": "execute_result"
    },
    {
     "data": {
      "image/png": "[encoded data removed]",
      "text/plain": [
       "<Figure size 360x360 with 1 Axes>"
      ]
     },
     "metadata": {
      "needs_background": "light"
     },
     "output_type": "display_data"
    }
   ],
   "source": [
    "sns.displot(x='PassengerId', data=train_data)"
   ]
  },
  {
   "cell_type": "markdown",
   "id": "greatest-fiber",
   "metadata": {},
   "source": [
    "Ok, good. `PassengerId` is uniformly distributed across the 1 to 891.\n",
    "\n",
    "Let's look at some other attributes:"
   ]
  },
  {
   "cell_type": "code",
   "execution_count": 5,
   "id": "asian-accuracy",
   "metadata": {
    "execution": {
     "iopub.execute_input": "2021-09-29T04:02:41.356083Z",
     "iopub.status.busy": "2021-09-29T04:02:41.355817Z",
     "iopub.status.idle": "2021-09-29T04:02:41.770607Z",
     "shell.execute_reply": "2021-09-29T04:02:41.769574Z",
     "shell.execute_reply.started": "2021-09-29T04:02:41.356054Z"
    },
    "tags": []
   },
   "outputs": [
    {
     "ename": "ValueError",
     "evalue": "Invalid RGBA argument: 'Survived'",
     "output_type": "error",
     "traceback": [
      "\u001b[0;31m---------------------------------------------------------------------------\u001b[0m",
      "\u001b[0;31mValueError\u001b[0m                                Traceback (most recent call last)",
      "\u001b[0;32m<ipython-input-5-471bbbae538e>\u001b[0m in \u001b[0;36m<module>\u001b[0;34m\u001b[0m\n\u001b[0;32m----> 1\u001b[0;31m sns.displot(x='Age', y='Pclass',\n\u001b[0m\u001b[1;32m      2\u001b[0m            color='Survived', data=train_data)\n",
      "\u001b[0;32m~/anaconda3/envs/ai/lib/python3.8/site-packages/seaborn/distributions.py\u001b[0m in \u001b[0;36mdisplot\u001b[0;34m(data, x, y, hue, row, col, weights, kind, rug, rug_kws, log_scale, legend, palette, hue_order, hue_norm, color, col_wrap, row_order, col_order, height, aspect, facet_kws, **kwargs)\u001b[0m\n\u001b[1;32m   2230\u001b[0m \u001b[0;34m\u001b[0m\u001b[0m\n\u001b[1;32m   2231\u001b[0m             \u001b[0m_assign_default_kwargs\u001b[0m\u001b[0;34m(\u001b[0m\u001b[0mhist_kws\u001b[0m\u001b[0;34m,\u001b[0m \u001b[0mp\u001b[0m\u001b[0;34m.\u001b[0m\u001b[0mplot_bivariate_histogram\u001b[0m\u001b[0;34m,\u001b[0m \u001b[0mhistplot\u001b[0m\u001b[0;34m)\u001b[0m\u001b[0;34m\u001b[0m\u001b[0;34m\u001b[0m\u001b[0m\n\u001b[0;32m-> 2232\u001b[0;31m             \u001b[0mp\u001b[0m\u001b[0;34m.\u001b[0m\u001b[0mplot_bivariate_histogram\u001b[0m\u001b[0;34m(\u001b[0m\u001b[0;34m**\u001b[0m\u001b[0mhist_kws\u001b[0m\u001b[0;34m)\u001b[0m\u001b[0;34m\u001b[0m\u001b[0;34m\u001b[0m\u001b[0m\n\u001b[0m\u001b[1;32m   2233\u001b[0m \u001b[0;34m\u001b[0m\u001b[0m\n\u001b[1;32m   2234\u001b[0m     \u001b[0;32melif\u001b[0m \u001b[0mkind\u001b[0m \u001b[0;34m==\u001b[0m \u001b[0;34m\"kde\"\u001b[0m\u001b[0;34m:\u001b[0m\u001b[0;34m\u001b[0m\u001b[0;34m\u001b[0m\u001b[0m\n",
      "\u001b[0;32m~/anaconda3/envs/ai/lib/python3.8/site-packages/seaborn/distributions.py\u001b[0m in \u001b[0;36mplot_bivariate_histogram\u001b[0;34m(self, common_bins, common_norm, thresh, pthresh, pmax, color, legend, cbar, cbar_ax, cbar_kws, estimate_kws, **plot_kws)\u001b[0m\n\u001b[1;32m    808\u001b[0m                     \u001b[0mcmap\u001b[0m \u001b[0;34m=\u001b[0m \u001b[0mcolor_palette\u001b[0m\u001b[0;34m(\u001b[0m\u001b[0mcmap\u001b[0m\u001b[0;34m,\u001b[0m \u001b[0mas_cmap\u001b[0m\u001b[0;34m=\u001b[0m\u001b[0;32mTrue\u001b[0m\u001b[0;34m)\u001b[0m\u001b[0;34m\u001b[0m\u001b[0;34m\u001b[0m\u001b[0m\n\u001b[1;32m    809\u001b[0m                 \u001b[0;32melif\u001b[0m \u001b[0mcmap\u001b[0m \u001b[0;32mis\u001b[0m \u001b[0;32mNone\u001b[0m\u001b[0;34m:\u001b[0m\u001b[0;34m\u001b[0m\u001b[0;34m\u001b[0m\u001b[0m\n\u001b[0;32m--> 810\u001b[0;31m                     \u001b[0mcmap\u001b[0m \u001b[0;34m=\u001b[0m \u001b[0mself\u001b[0m\u001b[0;34m.\u001b[0m\u001b[0m_cmap_from_color\u001b[0m\u001b[0;34m(\u001b[0m\u001b[0mcolor\u001b[0m\u001b[0;34m)\u001b[0m\u001b[0;34m\u001b[0m\u001b[0;34m\u001b[0m\u001b[0m\n\u001b[0m\u001b[1;32m    811\u001b[0m                 \u001b[0martist_kws\u001b[0m\u001b[0;34m[\u001b[0m\u001b[0;34m\"cmap\"\u001b[0m\u001b[0;34m]\u001b[0m \u001b[0;34m=\u001b[0m \u001b[0mcmap\u001b[0m\u001b[0;34m\u001b[0m\u001b[0;34m\u001b[0m\u001b[0m\n\u001b[1;32m    812\u001b[0m \u001b[0;34m\u001b[0m\u001b[0m\n",
      "\u001b[0;32m~/anaconda3/envs/ai/lib/python3.8/site-packages/seaborn/distributions.py\u001b[0m in \u001b[0;36m_cmap_from_color\u001b[0;34m(self, color)\u001b[0m\n\u001b[1;32m    190\u001b[0m         \u001b[0;31m# Like so much else here, this is broadly useful, but keeping it\u001b[0m\u001b[0;34m\u001b[0m\u001b[0;34m\u001b[0m\u001b[0;34m\u001b[0m\u001b[0m\n\u001b[1;32m    191\u001b[0m         \u001b[0;31m# in this class to signify that I haven't thought overly hard about it...\u001b[0m\u001b[0;34m\u001b[0m\u001b[0;34m\u001b[0m\u001b[0;34m\u001b[0m\u001b[0m\n\u001b[0;32m--> 192\u001b[0;31m         \u001b[0mr\u001b[0m\u001b[0;34m,\u001b[0m \u001b[0mg\u001b[0m\u001b[0;34m,\u001b[0m \u001b[0mb\u001b[0m\u001b[0;34m,\u001b[0m \u001b[0m_\u001b[0m \u001b[0;34m=\u001b[0m \u001b[0mto_rgba\u001b[0m\u001b[0;34m(\u001b[0m\u001b[0mcolor\u001b[0m\u001b[0;34m)\u001b[0m\u001b[0;34m\u001b[0m\u001b[0;34m\u001b[0m\u001b[0m\n\u001b[0m\u001b[1;32m    193\u001b[0m         \u001b[0mh\u001b[0m\u001b[0;34m,\u001b[0m \u001b[0ms\u001b[0m\u001b[0;34m,\u001b[0m \u001b[0m_\u001b[0m \u001b[0;34m=\u001b[0m \u001b[0mhusl\u001b[0m\u001b[0;34m.\u001b[0m\u001b[0mrgb_to_husl\u001b[0m\u001b[0;34m(\u001b[0m\u001b[0mr\u001b[0m\u001b[0;34m,\u001b[0m \u001b[0mg\u001b[0m\u001b[0;34m,\u001b[0m \u001b[0mb\u001b[0m\u001b[0;34m)\u001b[0m\u001b[0;34m\u001b[0m\u001b[0;34m\u001b[0m\u001b[0m\n\u001b[1;32m    194\u001b[0m         \u001b[0mxx\u001b[0m \u001b[0;34m=\u001b[0m \u001b[0mnp\u001b[0m\u001b[0;34m.\u001b[0m\u001b[0mlinspace\u001b[0m\u001b[0;34m(\u001b[0m\u001b[0;34m-\u001b[0m\u001b[0;36m1\u001b[0m\u001b[0;34m,\u001b[0m \u001b[0;36m1\u001b[0m\u001b[0;34m,\u001b[0m \u001b[0mint\u001b[0m\u001b[0;34m(\u001b[0m\u001b[0;36m1.15\u001b[0m \u001b[0;34m*\u001b[0m \u001b[0;36m256\u001b[0m\u001b[0;34m)\u001b[0m\u001b[0;34m)\u001b[0m\u001b[0;34m[\u001b[0m\u001b[0;34m:\u001b[0m\u001b[0;36m256\u001b[0m\u001b[0;34m]\u001b[0m\u001b[0;34m\u001b[0m\u001b[0;34m\u001b[0m\u001b[0m\n",
      "\u001b[0;32m~/anaconda3/envs/ai/lib/python3.8/site-packages/matplotlib/colors.py\u001b[0m in \u001b[0;36mto_rgba\u001b[0;34m(c, alpha)\u001b[0m\n\u001b[1;32m    187\u001b[0m         \u001b[0mrgba\u001b[0m \u001b[0;34m=\u001b[0m \u001b[0;32mNone\u001b[0m\u001b[0;34m\u001b[0m\u001b[0;34m\u001b[0m\u001b[0m\n\u001b[1;32m    188\u001b[0m     \u001b[0;32mif\u001b[0m \u001b[0mrgba\u001b[0m \u001b[0;32mis\u001b[0m \u001b[0;32mNone\u001b[0m\u001b[0;34m:\u001b[0m  \u001b[0;31m# Suppress exception chaining of cache lookup failure.\u001b[0m\u001b[0;34m\u001b[0m\u001b[0;34m\u001b[0m\u001b[0m\n\u001b[0;32m--> 189\u001b[0;31m         \u001b[0mrgba\u001b[0m \u001b[0;34m=\u001b[0m \u001b[0m_to_rgba_no_colorcycle\u001b[0m\u001b[0;34m(\u001b[0m\u001b[0mc\u001b[0m\u001b[0;34m,\u001b[0m \u001b[0malpha\u001b[0m\u001b[0;34m)\u001b[0m\u001b[0;34m\u001b[0m\u001b[0;34m\u001b[0m\u001b[0m\n\u001b[0m\u001b[1;32m    190\u001b[0m         \u001b[0;32mtry\u001b[0m\u001b[0;34m:\u001b[0m\u001b[0;34m\u001b[0m\u001b[0;34m\u001b[0m\u001b[0m\n\u001b[1;32m    191\u001b[0m             \u001b[0m_colors_full_map\u001b[0m\u001b[0;34m.\u001b[0m\u001b[0mcache\u001b[0m\u001b[0;34m[\u001b[0m\u001b[0mc\u001b[0m\u001b[0;34m,\u001b[0m \u001b[0malpha\u001b[0m\u001b[0;34m]\u001b[0m \u001b[0;34m=\u001b[0m \u001b[0mrgba\u001b[0m\u001b[0;34m\u001b[0m\u001b[0;34m\u001b[0m\u001b[0m\n",
      "\u001b[0;32m~/anaconda3/envs/ai/lib/python3.8/site-packages/matplotlib/colors.py\u001b[0m in \u001b[0;36m_to_rgba_no_colorcycle\u001b[0;34m(c, alpha)\u001b[0m\n\u001b[1;32m    258\u001b[0m                     f\"Value must be within 0-1 range\")\n\u001b[1;32m    259\u001b[0m             \u001b[0;32mreturn\u001b[0m \u001b[0mc\u001b[0m\u001b[0;34m,\u001b[0m \u001b[0mc\u001b[0m\u001b[0;34m,\u001b[0m \u001b[0mc\u001b[0m\u001b[0;34m,\u001b[0m \u001b[0malpha\u001b[0m \u001b[0;32mif\u001b[0m \u001b[0malpha\u001b[0m \u001b[0;32mis\u001b[0m \u001b[0;32mnot\u001b[0m \u001b[0;32mNone\u001b[0m \u001b[0;32melse\u001b[0m \u001b[0;36m1.\u001b[0m\u001b[0;34m\u001b[0m\u001b[0;34m\u001b[0m\u001b[0m\n\u001b[0;32m--> 260\u001b[0;31m         \u001b[0;32mraise\u001b[0m \u001b[0mValueError\u001b[0m\u001b[0;34m(\u001b[0m\u001b[0;34mf\"Invalid RGBA argument: {orig_c!r}\"\u001b[0m\u001b[0;34m)\u001b[0m\u001b[0;34m\u001b[0m\u001b[0;34m\u001b[0m\u001b[0m\n\u001b[0m\u001b[1;32m    261\u001b[0m     \u001b[0;31m# tuple color.\u001b[0m\u001b[0;34m\u001b[0m\u001b[0;34m\u001b[0m\u001b[0;34m\u001b[0m\u001b[0m\n\u001b[1;32m    262\u001b[0m     \u001b[0;32mif\u001b[0m \u001b[0;32mnot\u001b[0m \u001b[0mnp\u001b[0m\u001b[0;34m.\u001b[0m\u001b[0miterable\u001b[0m\u001b[0;34m(\u001b[0m\u001b[0mc\u001b[0m\u001b[0;34m)\u001b[0m\u001b[0;34m:\u001b[0m\u001b[0;34m\u001b[0m\u001b[0;34m\u001b[0m\u001b[0m\n",
      "\u001b[0;31mValueError\u001b[0m: Invalid RGBA argument: 'Survived'"
     ]
    },
    {
     "data": {
      "image/png": "[encoded data removed]",
      "text/plain": [
       "<Figure size 360x360 with 1 Axes>"
      ]
     },
     "metadata": {
      "needs_background": "light"
     },
     "output_type": "display_data"
    }
   ],
   "source": [
    "sns.displot(x='Age', y='Pclass',\n",
    "           color='Survived', data=train_data)"
   ]
  },
  {
   "cell_type": "markdown",
   "id": "fifteen-shield",
   "metadata": {},
   "source": [
    "Whoops! I'm not hiding my errors in this notebook because I want to guide you through similar problems that you may encounter. The above error says, `ValueError: Invalid RGBA argument: 'Survived'` I'm guessing that means `seaborn.displot` was expecting a 3-tuple or 4-tuple for the `color` parameter. To resolve this issue, I remembered using the `hue` arguement with a scalar column with the lineplot. Let's see if `hue` works in the above case:  "
   ]
  },
  {
   "cell_type": "code",
   "execution_count": 6,
   "id": "computational-saskatchewan",
   "metadata": {
    "execution": {
     "iopub.execute_input": "2021-09-29T04:02:44.917088Z",
     "iopub.status.busy": "2021-09-29T04:02:44.916860Z",
     "iopub.status.idle": "2021-09-29T04:02:45.419474Z",
     "shell.execute_reply": "2021-09-29T04:02:45.418218Z",
     "shell.execute_reply.started": "2021-09-29T04:02:44.917064Z"
    },
    "tags": []
   },
   "outputs": [
    {
     "data": {
      "text/plain": [
       "<seaborn.axisgrid.FacetGrid at 0x7f8bc43a1910>"
      ]
     },
     "execution_count": 6,
     "metadata": {},
     "output_type": "execute_result"
    },
    {
     "data": {
      "image/png": "[encoded data removed]",
      "text/plain": [
       "<Figure size 411.875x360 with 1 Axes>"
      ]
     },
     "metadata": {
      "needs_background": "light"
     },
     "output_type": "display_data"
    }
   ],
   "source": [
    "sns.displot(x='Age', y='Pclass',\n",
    "           hue='Survived', data=train_data)"
   ]
  },
  {
   "cell_type": "markdown",
   "id": "medium-exhaust",
   "metadata": {},
   "source": [
    "It works! Now you can see that there are only three classes. More importantly, note that the age variation of survival rate increases with `Pclass`.\n",
    "\n",
    "Let's not stop exploring our data. Guided by intuition and curiosity, I select the following attributes:"
   ]
  },
  {
   "cell_type": "code",
   "execution_count": 7,
   "id": "supreme-complex",
   "metadata": {
    "execution": {
     "iopub.execute_input": "2021-09-29T04:02:47.363650Z",
     "iopub.status.busy": "2021-09-29T04:02:47.363460Z",
     "iopub.status.idle": "2021-09-29T04:02:48.147833Z",
     "shell.execute_reply": "2021-09-29T04:02:48.147204Z",
     "shell.execute_reply.started": "2021-09-29T04:02:47.363629Z"
    },
    "tags": []
   },
   "outputs": [
    {
     "data": {
      "text/plain": [
       "<seaborn.axisgrid.FacetGrid at 0x7f8b274e0130>"
      ]
     },
     "execution_count": 7,
     "metadata": {},
     "output_type": "execute_result"
    },
    {
     "data": {
      "image/png": "[encoded data removed]",
      "text/plain": [
       "<Figure size 432x288 with 2 Axes>"
      ]
     },
     "metadata": {
      "needs_background": "light"
     },
     "output_type": "display_data"
    },
    {
     "data": {
      "image/png": "[encoded data removed]",
      "text/plain": [
       "<Figure size 430.5x360 with 1 Axes>"
      ]
     },
     "metadata": {
      "needs_background": "light"
     },
     "output_type": "display_data"
    }
   ],
   "source": [
    "fig, [ax1, ax2] = plt.subplots(2)\n",
    "\n",
    "sns.histplot(x='Fare', y='Pclass',\n",
    "           hue='Survived', data=train_data,\n",
    "           ax=ax1)\n",
    "\n",
    "sns.histplot(train_data['Age'],\n",
    "            ax=ax2)\n",
    "\n",
    "sns.displot(x='Age', y='Pclass',\n",
    "           hue='Sex', data=train_data)"
   ]
  },
  {
   "cell_type": "markdown",
   "id": "brief-integral",
   "metadata": {},
   "source": [
    "I'm sure there's alot to pull out of these figures. Survival classification is not an intuitive problem. Take a minute or two to make your own analyses, and think about how you will make a your own program that predicts if a passenger survived."
   ]
  },
  {
   "cell_type": "markdown",
   "id": "stable-marina",
   "metadata": {
    "execution": {
     "iopub.execute_input": "2021-09-28T21:28:04.073863Z",
     "iopub.status.busy": "2021-09-28T21:28:04.073592Z",
     "iopub.status.idle": "2021-09-28T21:28:04.077631Z",
     "shell.execute_reply": "2021-09-28T21:28:04.076419Z",
     "shell.execute_reply.started": "2021-09-28T21:28:04.073833Z"
    },
    "tags": []
   },
   "source": [
    "---"
   ]
  },
  {
   "cell_type": "markdown",
   "id": "plastic-scott",
   "metadata": {},
   "source": [
    "Now that you have an idea about how you might start developing a survival classifier, let me share the good news: We can use machine learning to classify if a patient will survive without actually learning the deep data trends ourselves."
   ]
  },
  {
   "cell_type": "markdown",
   "id": "egyptian-following",
   "metadata": {},
   "source": [
    "## Converting the data"
   ]
  },
  {
   "cell_type": "markdown",
   "id": "legitimate-aberdeen",
   "metadata": {},
   "source": [
    "We want to convert as much data as possible into machine readable form. For the purpose of this simple tutorial, let's drop textual data (see the Appendix if you're curious on how it might be parsed) and only utilize numerical or categorical data to classify passenger survival.\n",
    "\n",
    "If you forgot what the data looks like:"
   ]
  },
  {
   "cell_type": "code",
   "execution_count": 8,
   "id": "destroyed-concern",
   "metadata": {
    "execution": {
     "iopub.execute_input": "2021-09-29T04:02:50.570503Z",
     "iopub.status.busy": "2021-09-29T04:02:50.570252Z",
     "iopub.status.idle": "2021-09-29T04:02:50.582729Z",
     "shell.execute_reply": "2021-09-29T04:02:50.581972Z",
     "shell.execute_reply.started": "2021-09-29T04:02:50.570475Z"
    },
    "tags": []
   },
   "outputs": [
    {
     "data": {
      "text/html": [
       "<div>\n",
       "<style scoped>\n",
       "    .dataframe tbody tr th:only-of-type {\n",
       "        vertical-align: middle;\n",
       "    }\n",
       "\n",
       "    .dataframe tbody tr th {\n",
       "        vertical-align: top;\n",
       "    }\n",
       "\n",
       "    .dataframe thead th {\n",
       "        text-align: right;\n",
       "    }\n",
       "</style>\n",
       "<table border=\"1\" class=\"dataframe\">\n",
       "  <thead>\n",
       "    <tr style=\"text-align: right;\">\n",
       "      <th></th>\n",
       "      <th>PassengerId</th>\n",
       "      <th>Survived</th>\n",
       "      <th>Pclass</th>\n",
       "      <th>Name</th>\n",
       "      <th>Sex</th>\n",
       "      <th>Age</th>\n",
       "      <th>SibSp</th>\n",
       "      <th>Parch</th>\n",
       "      <th>Ticket</th>\n",
       "      <th>Fare</th>\n",
       "      <th>Cabin</th>\n",
       "      <th>Embarked</th>\n",
       "    </tr>\n",
       "  </thead>\n",
       "  <tbody>\n",
       "    <tr>\n",
       "      <th>0</th>\n",
       "      <td>1</td>\n",
       "      <td>0</td>\n",
       "      <td>3</td>\n",
       "      <td>Braund, Mr. Owen Harris</td>\n",
       "      <td>male</td>\n",
       "      <td>22.0</td>\n",
       "      <td>1</td>\n",
       "      <td>0</td>\n",
       "      <td>A/5 21171</td>\n",
       "      <td>7.2500</td>\n",
       "      <td>NaN</td>\n",
       "      <td>S</td>\n",
       "    </tr>\n",
       "    <tr>\n",
       "      <th>1</th>\n",
       "      <td>2</td>\n",
       "      <td>1</td>\n",
       "      <td>1</td>\n",
       "      <td>Cumings, Mrs. John Bradley (Florence Briggs Th...</td>\n",
       "      <td>female</td>\n",
       "      <td>38.0</td>\n",
       "      <td>1</td>\n",
       "      <td>0</td>\n",
       "      <td>PC 17599</td>\n",
       "      <td>71.2833</td>\n",
       "      <td>C85</td>\n",
       "      <td>C</td>\n",
       "    </tr>\n",
       "    <tr>\n",
       "      <th>2</th>\n",
       "      <td>3</td>\n",
       "      <td>1</td>\n",
       "      <td>3</td>\n",
       "      <td>Heikkinen, Miss. Laina</td>\n",
       "      <td>female</td>\n",
       "      <td>26.0</td>\n",
       "      <td>0</td>\n",
       "      <td>0</td>\n",
       "      <td>STON/O2. 3101282</td>\n",
       "      <td>7.9250</td>\n",
       "      <td>NaN</td>\n",
       "      <td>S</td>\n",
       "    </tr>\n",
       "    <tr>\n",
       "      <th>3</th>\n",
       "      <td>4</td>\n",
       "      <td>1</td>\n",
       "      <td>1</td>\n",
       "      <td>Futrelle, Mrs. Jacques Heath (Lily May Peel)</td>\n",
       "      <td>female</td>\n",
       "      <td>35.0</td>\n",
       "      <td>1</td>\n",
       "      <td>0</td>\n",
       "      <td>113803</td>\n",
       "      <td>53.1000</td>\n",
       "      <td>C123</td>\n",
       "      <td>S</td>\n",
       "    </tr>\n",
       "    <tr>\n",
       "      <th>4</th>\n",
       "      <td>5</td>\n",
       "      <td>0</td>\n",
       "      <td>3</td>\n",
       "      <td>Allen, Mr. William Henry</td>\n",
       "      <td>male</td>\n",
       "      <td>35.0</td>\n",
       "      <td>0</td>\n",
       "      <td>0</td>\n",
       "      <td>373450</td>\n",
       "      <td>8.0500</td>\n",
       "      <td>NaN</td>\n",
       "      <td>S</td>\n",
       "    </tr>\n",
       "  </tbody>\n",
       "</table>\n",
       "</div>"
      ],
      "text/plain": [
       "   PassengerId  Survived  Pclass  \\\n",
       "0            1         0       3   \n",
       "1            2         1       1   \n",
       "2            3         1       3   \n",
       "3            4         1       1   \n",
       "4            5         0       3   \n",
       "\n",
       "                                                Name     Sex   Age  SibSp  \\\n",
       "0                            Braund, Mr. Owen Harris    male  22.0      1   \n",
       "1  Cumings, Mrs. John Bradley (Florence Briggs Th...  female  38.0      1   \n",
       "2                             Heikkinen, Miss. Laina  female  26.0      0   \n",
       "3       Futrelle, Mrs. Jacques Heath (Lily May Peel)  female  35.0      1   \n",
       "4                           Allen, Mr. William Henry    male  35.0      0   \n",
       "\n",
       "   Parch            Ticket     Fare Cabin Embarked  \n",
       "0      0         A/5 21171   7.2500   NaN        S  \n",
       "1      0          PC 17599  71.2833   C85        C  \n",
       "2      0  STON/O2. 3101282   7.9250   NaN        S  \n",
       "3      0            113803  53.1000  C123        S  \n",
       "4      0            373450   8.0500   NaN        S  "
      ]
     },
     "execution_count": 8,
     "metadata": {},
     "output_type": "execute_result"
    }
   ],
   "source": [
    "train_data.head()"
   ]
  },
  {
   "cell_type": "markdown",
   "id": "uniform-astronomy",
   "metadata": {},
   "source": [
    "It looks like we need to convert `Sex` and `Embarked` into integer class ID's. You can do this by:"
   ]
  },
  {
   "cell_type": "code",
   "execution_count": 9,
   "id": "fossil-accounting",
   "metadata": {
    "execution": {
     "iopub.execute_input": "2021-09-29T04:02:52.195904Z",
     "iopub.status.busy": "2021-09-29T04:02:52.195571Z",
     "iopub.status.idle": "2021-09-29T04:02:52.245233Z",
     "shell.execute_reply": "2021-09-29T04:02:52.244446Z",
     "shell.execute_reply.started": "2021-09-29T04:02:52.195856Z"
    },
    "tags": []
   },
   "outputs": [
    {
     "name": "stdout",
     "output_type": "stream",
     "text": [
      "nan\n",
      "nan\n"
     ]
    },
    {
     "data": {
      "text/html": [
       "<div>\n",
       "<style scoped>\n",
       "    .dataframe tbody tr th:only-of-type {\n",
       "        vertical-align: middle;\n",
       "    }\n",
       "\n",
       "    .dataframe tbody tr th {\n",
       "        vertical-align: top;\n",
       "    }\n",
       "\n",
       "    .dataframe thead th {\n",
       "        text-align: right;\n",
       "    }\n",
       "</style>\n",
       "<table border=\"1\" class=\"dataframe\">\n",
       "  <thead>\n",
       "    <tr style=\"text-align: right;\">\n",
       "      <th></th>\n",
       "      <th>PassengerId</th>\n",
       "      <th>Survived</th>\n",
       "      <th>Pclass</th>\n",
       "      <th>Name</th>\n",
       "      <th>Sex</th>\n",
       "      <th>Age</th>\n",
       "      <th>SibSp</th>\n",
       "      <th>Parch</th>\n",
       "      <th>Ticket</th>\n",
       "      <th>Fare</th>\n",
       "      <th>Cabin</th>\n",
       "      <th>Embarked</th>\n",
       "    </tr>\n",
       "  </thead>\n",
       "  <tbody>\n",
       "    <tr>\n",
       "      <th>0</th>\n",
       "      <td>1</td>\n",
       "      <td>0</td>\n",
       "      <td>3</td>\n",
       "      <td>Braund, Mr. Owen Harris</td>\n",
       "      <td>0</td>\n",
       "      <td>22.0</td>\n",
       "      <td>1</td>\n",
       "      <td>0</td>\n",
       "      <td>A/5 21171</td>\n",
       "      <td>7.2500</td>\n",
       "      <td>NaN</td>\n",
       "      <td>0</td>\n",
       "    </tr>\n",
       "    <tr>\n",
       "      <th>1</th>\n",
       "      <td>2</td>\n",
       "      <td>1</td>\n",
       "      <td>1</td>\n",
       "      <td>Cumings, Mrs. John Bradley (Florence Briggs Th...</td>\n",
       "      <td>1</td>\n",
       "      <td>38.0</td>\n",
       "      <td>1</td>\n",
       "      <td>0</td>\n",
       "      <td>PC 17599</td>\n",
       "      <td>71.2833</td>\n",
       "      <td>C85</td>\n",
       "      <td>1</td>\n",
       "    </tr>\n",
       "    <tr>\n",
       "      <th>2</th>\n",
       "      <td>3</td>\n",
       "      <td>1</td>\n",
       "      <td>3</td>\n",
       "      <td>Heikkinen, Miss. Laina</td>\n",
       "      <td>1</td>\n",
       "      <td>26.0</td>\n",
       "      <td>0</td>\n",
       "      <td>0</td>\n",
       "      <td>STON/O2. 3101282</td>\n",
       "      <td>7.9250</td>\n",
       "      <td>NaN</td>\n",
       "      <td>0</td>\n",
       "    </tr>\n",
       "    <tr>\n",
       "      <th>3</th>\n",
       "      <td>4</td>\n",
       "      <td>1</td>\n",
       "      <td>1</td>\n",
       "      <td>Futrelle, Mrs. Jacques Heath (Lily May Peel)</td>\n",
       "      <td>1</td>\n",
       "      <td>35.0</td>\n",
       "      <td>1</td>\n",
       "      <td>0</td>\n",
       "      <td>113803</td>\n",
       "      <td>53.1000</td>\n",
       "      <td>C123</td>\n",
       "      <td>0</td>\n",
       "    </tr>\n",
       "    <tr>\n",
       "      <th>4</th>\n",
       "      <td>5</td>\n",
       "      <td>0</td>\n",
       "      <td>3</td>\n",
       "      <td>Allen, Mr. William Henry</td>\n",
       "      <td>0</td>\n",
       "      <td>35.0</td>\n",
       "      <td>0</td>\n",
       "      <td>0</td>\n",
       "      <td>373450</td>\n",
       "      <td>8.0500</td>\n",
       "      <td>NaN</td>\n",
       "      <td>0</td>\n",
       "    </tr>\n",
       "    <tr>\n",
       "      <th>...</th>\n",
       "      <td>...</td>\n",
       "      <td>...</td>\n",
       "      <td>...</td>\n",
       "      <td>...</td>\n",
       "      <td>...</td>\n",
       "      <td>...</td>\n",
       "      <td>...</td>\n",
       "      <td>...</td>\n",
       "      <td>...</td>\n",
       "      <td>...</td>\n",
       "      <td>...</td>\n",
       "      <td>...</td>\n",
       "    </tr>\n",
       "    <tr>\n",
       "      <th>886</th>\n",
       "      <td>887</td>\n",
       "      <td>0</td>\n",
       "      <td>2</td>\n",
       "      <td>Montvila, Rev. Juozas</td>\n",
       "      <td>0</td>\n",
       "      <td>27.0</td>\n",
       "      <td>0</td>\n",
       "      <td>0</td>\n",
       "      <td>211536</td>\n",
       "      <td>13.0000</td>\n",
       "      <td>NaN</td>\n",
       "      <td>0</td>\n",
       "    </tr>\n",
       "    <tr>\n",
       "      <th>887</th>\n",
       "      <td>888</td>\n",
       "      <td>1</td>\n",
       "      <td>1</td>\n",
       "      <td>Graham, Miss. Margaret Edith</td>\n",
       "      <td>1</td>\n",
       "      <td>19.0</td>\n",
       "      <td>0</td>\n",
       "      <td>0</td>\n",
       "      <td>112053</td>\n",
       "      <td>30.0000</td>\n",
       "      <td>B42</td>\n",
       "      <td>0</td>\n",
       "    </tr>\n",
       "    <tr>\n",
       "      <th>888</th>\n",
       "      <td>889</td>\n",
       "      <td>0</td>\n",
       "      <td>3</td>\n",
       "      <td>Johnston, Miss. Catherine Helen \"Carrie\"</td>\n",
       "      <td>1</td>\n",
       "      <td>NaN</td>\n",
       "      <td>1</td>\n",
       "      <td>2</td>\n",
       "      <td>W./C. 6607</td>\n",
       "      <td>23.4500</td>\n",
       "      <td>NaN</td>\n",
       "      <td>0</td>\n",
       "    </tr>\n",
       "    <tr>\n",
       "      <th>889</th>\n",
       "      <td>890</td>\n",
       "      <td>1</td>\n",
       "      <td>1</td>\n",
       "      <td>Behr, Mr. Karl Howell</td>\n",
       "      <td>0</td>\n",
       "      <td>26.0</td>\n",
       "      <td>0</td>\n",
       "      <td>0</td>\n",
       "      <td>111369</td>\n",
       "      <td>30.0000</td>\n",
       "      <td>C148</td>\n",
       "      <td>1</td>\n",
       "    </tr>\n",
       "    <tr>\n",
       "      <th>890</th>\n",
       "      <td>891</td>\n",
       "      <td>0</td>\n",
       "      <td>3</td>\n",
       "      <td>Dooley, Mr. Patrick</td>\n",
       "      <td>0</td>\n",
       "      <td>32.0</td>\n",
       "      <td>0</td>\n",
       "      <td>0</td>\n",
       "      <td>370376</td>\n",
       "      <td>7.7500</td>\n",
       "      <td>NaN</td>\n",
       "      <td>2</td>\n",
       "    </tr>\n",
       "  </tbody>\n",
       "</table>\n",
       "<p>891 rows × 12 columns</p>\n",
       "</div>"
      ],
      "text/plain": [
       "     PassengerId  Survived  Pclass  \\\n",
       "0              1         0       3   \n",
       "1              2         1       1   \n",
       "2              3         1       3   \n",
       "3              4         1       1   \n",
       "4              5         0       3   \n",
       "..           ...       ...     ...   \n",
       "886          887         0       2   \n",
       "887          888         1       1   \n",
       "888          889         0       3   \n",
       "889          890         1       1   \n",
       "890          891         0       3   \n",
       "\n",
       "                                                  Name  Sex   Age  SibSp  \\\n",
       "0                              Braund, Mr. Owen Harris    0  22.0      1   \n",
       "1    Cumings, Mrs. John Bradley (Florence Briggs Th...    1  38.0      1   \n",
       "2                               Heikkinen, Miss. Laina    1  26.0      0   \n",
       "3         Futrelle, Mrs. Jacques Heath (Lily May Peel)    1  35.0      1   \n",
       "4                             Allen, Mr. William Henry    0  35.0      0   \n",
       "..                                                 ...  ...   ...    ...   \n",
       "886                              Montvila, Rev. Juozas    0  27.0      0   \n",
       "887                       Graham, Miss. Margaret Edith    1  19.0      0   \n",
       "888           Johnston, Miss. Catherine Helen \"Carrie\"    1   NaN      1   \n",
       "889                              Behr, Mr. Karl Howell    0  26.0      0   \n",
       "890                                Dooley, Mr. Patrick    0  32.0      0   \n",
       "\n",
       "     Parch            Ticket     Fare Cabin  Embarked  \n",
       "0        0         A/5 21171   7.2500   NaN         0  \n",
       "1        0          PC 17599  71.2833   C85         1  \n",
       "2        0  STON/O2. 3101282   7.9250   NaN         0  \n",
       "3        0            113803  53.1000  C123         0  \n",
       "4        0            373450   8.0500   NaN         0  \n",
       "..     ...               ...      ...   ...       ...  \n",
       "886      0            211536  13.0000   NaN         0  \n",
       "887      0            112053  30.0000   B42         0  \n",
       "888      2        W./C. 6607  23.4500   NaN         0  \n",
       "889      0            111369  30.0000  C148         1  \n",
       "890      0            370376   7.7500   NaN         2  \n",
       "\n",
       "[891 rows x 12 columns]"
      ]
     },
     "execution_count": 9,
     "metadata": {},
     "output_type": "execute_result"
    }
   ],
   "source": [
    "embarked_map = {\n",
    "    'S': 0,\n",
    "    'C': 1,\n",
    "    'Q': 2,\n",
    "}\n",
    "\n",
    "def mapE(v):\n",
    "    if v in embarked_map:\n",
    "        return embarked_map[v]\n",
    "    else:\n",
    "        print(v)\n",
    "        return 3\n",
    "\n",
    "train_data_modified = train_data.copy()\n",
    "train_data_modified['Sex'] = train_data_modified.apply(\n",
    "    lambda x : 0 if x.Sex == 'male' else 1, axis=1)\n",
    "train_data_modified['Embarked'] = train_data_modified.apply(\n",
    "    lambda x : mapE(x.Embarked), axis=1)\n",
    "train_data_modified"
   ]
  },
  {
   "cell_type": "markdown",
   "id": "surprising-blade",
   "metadata": {},
   "source": [
    "I first copied the origonal dataset into `train_data_modified` so that I could test the above code cell multiple times while resolving syntax issues but not modify the ground truth `train_data`. I'm sure there are better ways to do this, but I'm just looking for a one-off answer right now. MLops is big on fast, imperfect-but-improving iterations, so you may find it convenient at times to follow this convention in your work.  \n",
    "\n",
    "You'll probabbly also note that the above code treats the `Embarked` variable differently than `Sex`. I had to use that approach because a few variables were actually missing (they were `NaN` like you see in the `Age` column of row 888 above) There's actually several other not-a-numbers in the dataset. For our purposes, we'll override them with 0, but keep in mind that this can cause confusion in many scenerios."
   ]
  },
  {
   "cell_type": "code",
   "execution_count": 10,
   "id": "stainless-variation",
   "metadata": {
    "execution": {
     "iopub.execute_input": "2021-09-29T04:02:55.031829Z",
     "iopub.status.busy": "2021-09-29T04:02:55.031572Z",
     "iopub.status.idle": "2021-09-29T04:02:55.075912Z",
     "shell.execute_reply": "2021-09-29T04:02:55.075350Z",
     "shell.execute_reply.started": "2021-09-29T04:02:55.031799Z"
    },
    "tags": []
   },
   "outputs": [
    {
     "data": {
      "text/html": [
       "<div>\n",
       "<style scoped>\n",
       "    .dataframe tbody tr th:only-of-type {\n",
       "        vertical-align: middle;\n",
       "    }\n",
       "\n",
       "    .dataframe tbody tr th {\n",
       "        vertical-align: top;\n",
       "    }\n",
       "\n",
       "    .dataframe thead th {\n",
       "        text-align: right;\n",
       "    }\n",
       "</style>\n",
       "<table border=\"1\" class=\"dataframe\">\n",
       "  <thead>\n",
       "    <tr style=\"text-align: right;\">\n",
       "      <th></th>\n",
       "      <th>PassengerId</th>\n",
       "      <th>Survived</th>\n",
       "      <th>Pclass</th>\n",
       "      <th>Name</th>\n",
       "      <th>Sex</th>\n",
       "      <th>Age</th>\n",
       "      <th>SibSp</th>\n",
       "      <th>Parch</th>\n",
       "      <th>Ticket</th>\n",
       "      <th>Fare</th>\n",
       "      <th>Cabin</th>\n",
       "      <th>Embarked</th>\n",
       "    </tr>\n",
       "  </thead>\n",
       "  <tbody>\n",
       "    <tr>\n",
       "      <th>0</th>\n",
       "      <td>1</td>\n",
       "      <td>0</td>\n",
       "      <td>3</td>\n",
       "      <td>Braund, Mr. Owen Harris</td>\n",
       "      <td>0</td>\n",
       "      <td>22.0</td>\n",
       "      <td>1</td>\n",
       "      <td>0</td>\n",
       "      <td>A/5 21171</td>\n",
       "      <td>7.2500</td>\n",
       "      <td>NaN</td>\n",
       "      <td>0</td>\n",
       "    </tr>\n",
       "    <tr>\n",
       "      <th>1</th>\n",
       "      <td>2</td>\n",
       "      <td>1</td>\n",
       "      <td>1</td>\n",
       "      <td>Cumings, Mrs. John Bradley (Florence Briggs Th...</td>\n",
       "      <td>1</td>\n",
       "      <td>38.0</td>\n",
       "      <td>1</td>\n",
       "      <td>0</td>\n",
       "      <td>PC 17599</td>\n",
       "      <td>71.2833</td>\n",
       "      <td>C85</td>\n",
       "      <td>1</td>\n",
       "    </tr>\n",
       "    <tr>\n",
       "      <th>2</th>\n",
       "      <td>3</td>\n",
       "      <td>1</td>\n",
       "      <td>3</td>\n",
       "      <td>Heikkinen, Miss. Laina</td>\n",
       "      <td>1</td>\n",
       "      <td>26.0</td>\n",
       "      <td>0</td>\n",
       "      <td>0</td>\n",
       "      <td>STON/O2. 3101282</td>\n",
       "      <td>7.9250</td>\n",
       "      <td>NaN</td>\n",
       "      <td>0</td>\n",
       "    </tr>\n",
       "    <tr>\n",
       "      <th>3</th>\n",
       "      <td>4</td>\n",
       "      <td>1</td>\n",
       "      <td>1</td>\n",
       "      <td>Futrelle, Mrs. Jacques Heath (Lily May Peel)</td>\n",
       "      <td>1</td>\n",
       "      <td>35.0</td>\n",
       "      <td>1</td>\n",
       "      <td>0</td>\n",
       "      <td>113803</td>\n",
       "      <td>53.1000</td>\n",
       "      <td>C123</td>\n",
       "      <td>0</td>\n",
       "    </tr>\n",
       "    <tr>\n",
       "      <th>4</th>\n",
       "      <td>5</td>\n",
       "      <td>0</td>\n",
       "      <td>3</td>\n",
       "      <td>Allen, Mr. William Henry</td>\n",
       "      <td>0</td>\n",
       "      <td>35.0</td>\n",
       "      <td>0</td>\n",
       "      <td>0</td>\n",
       "      <td>373450</td>\n",
       "      <td>8.0500</td>\n",
       "      <td>NaN</td>\n",
       "      <td>0</td>\n",
       "    </tr>\n",
       "    <tr>\n",
       "      <th>...</th>\n",
       "      <td>...</td>\n",
       "      <td>...</td>\n",
       "      <td>...</td>\n",
       "      <td>...</td>\n",
       "      <td>...</td>\n",
       "      <td>...</td>\n",
       "      <td>...</td>\n",
       "      <td>...</td>\n",
       "      <td>...</td>\n",
       "      <td>...</td>\n",
       "      <td>...</td>\n",
       "      <td>...</td>\n",
       "    </tr>\n",
       "    <tr>\n",
       "      <th>886</th>\n",
       "      <td>887</td>\n",
       "      <td>0</td>\n",
       "      <td>2</td>\n",
       "      <td>Montvila, Rev. Juozas</td>\n",
       "      <td>0</td>\n",
       "      <td>27.0</td>\n",
       "      <td>0</td>\n",
       "      <td>0</td>\n",
       "      <td>211536</td>\n",
       "      <td>13.0000</td>\n",
       "      <td>NaN</td>\n",
       "      <td>0</td>\n",
       "    </tr>\n",
       "    <tr>\n",
       "      <th>887</th>\n",
       "      <td>888</td>\n",
       "      <td>1</td>\n",
       "      <td>1</td>\n",
       "      <td>Graham, Miss. Margaret Edith</td>\n",
       "      <td>1</td>\n",
       "      <td>19.0</td>\n",
       "      <td>0</td>\n",
       "      <td>0</td>\n",
       "      <td>112053</td>\n",
       "      <td>30.0000</td>\n",
       "      <td>B42</td>\n",
       "      <td>0</td>\n",
       "    </tr>\n",
       "    <tr>\n",
       "      <th>888</th>\n",
       "      <td>889</td>\n",
       "      <td>0</td>\n",
       "      <td>3</td>\n",
       "      <td>Johnston, Miss. Catherine Helen \"Carrie\"</td>\n",
       "      <td>1</td>\n",
       "      <td>0.0</td>\n",
       "      <td>1</td>\n",
       "      <td>2</td>\n",
       "      <td>W./C. 6607</td>\n",
       "      <td>23.4500</td>\n",
       "      <td>NaN</td>\n",
       "      <td>0</td>\n",
       "    </tr>\n",
       "    <tr>\n",
       "      <th>889</th>\n",
       "      <td>890</td>\n",
       "      <td>1</td>\n",
       "      <td>1</td>\n",
       "      <td>Behr, Mr. Karl Howell</td>\n",
       "      <td>0</td>\n",
       "      <td>26.0</td>\n",
       "      <td>0</td>\n",
       "      <td>0</td>\n",
       "      <td>111369</td>\n",
       "      <td>30.0000</td>\n",
       "      <td>C148</td>\n",
       "      <td>1</td>\n",
       "    </tr>\n",
       "    <tr>\n",
       "      <th>890</th>\n",
       "      <td>891</td>\n",
       "      <td>0</td>\n",
       "      <td>3</td>\n",
       "      <td>Dooley, Mr. Patrick</td>\n",
       "      <td>0</td>\n",
       "      <td>32.0</td>\n",
       "      <td>0</td>\n",
       "      <td>0</td>\n",
       "      <td>370376</td>\n",
       "      <td>7.7500</td>\n",
       "      <td>NaN</td>\n",
       "      <td>2</td>\n",
       "    </tr>\n",
       "  </tbody>\n",
       "</table>\n",
       "<p>891 rows × 12 columns</p>\n",
       "</div>"
      ],
      "text/plain": [
       "     PassengerId  Survived  Pclass  \\\n",
       "0              1         0       3   \n",
       "1              2         1       1   \n",
       "2              3         1       3   \n",
       "3              4         1       1   \n",
       "4              5         0       3   \n",
       "..           ...       ...     ...   \n",
       "886          887         0       2   \n",
       "887          888         1       1   \n",
       "888          889         0       3   \n",
       "889          890         1       1   \n",
       "890          891         0       3   \n",
       "\n",
       "                                                  Name  Sex   Age  SibSp  \\\n",
       "0                              Braund, Mr. Owen Harris    0  22.0      1   \n",
       "1    Cumings, Mrs. John Bradley (Florence Briggs Th...    1  38.0      1   \n",
       "2                               Heikkinen, Miss. Laina    1  26.0      0   \n",
       "3         Futrelle, Mrs. Jacques Heath (Lily May Peel)    1  35.0      1   \n",
       "4                             Allen, Mr. William Henry    0  35.0      0   \n",
       "..                                                 ...  ...   ...    ...   \n",
       "886                              Montvila, Rev. Juozas    0  27.0      0   \n",
       "887                       Graham, Miss. Margaret Edith    1  19.0      0   \n",
       "888           Johnston, Miss. Catherine Helen \"Carrie\"    1   0.0      1   \n",
       "889                              Behr, Mr. Karl Howell    0  26.0      0   \n",
       "890                                Dooley, Mr. Patrick    0  32.0      0   \n",
       "\n",
       "     Parch            Ticket     Fare Cabin  Embarked  \n",
       "0        0         A/5 21171   7.2500   NaN         0  \n",
       "1        0          PC 17599  71.2833   C85         1  \n",
       "2        0  STON/O2. 3101282   7.9250   NaN         0  \n",
       "3        0            113803  53.1000  C123         0  \n",
       "4        0            373450   8.0500   NaN         0  \n",
       "..     ...               ...      ...   ...       ...  \n",
       "886      0            211536  13.0000   NaN         0  \n",
       "887      0            112053  30.0000   B42         0  \n",
       "888      2        W./C. 6607  23.4500   NaN         0  \n",
       "889      0            111369  30.0000  C148         1  \n",
       "890      0            370376   7.7500   NaN         2  \n",
       "\n",
       "[891 rows x 12 columns]"
      ]
     },
     "execution_count": 10,
     "metadata": {},
     "output_type": "execute_result"
    }
   ],
   "source": [
    "for k in ['Survived', 'Pclass', 'Sex', 'Age', 'Fare', 'Embarked']:\n",
    "    train_data_modified[k] = train_data_modified[k].apply(\n",
    "        lambda x : 0 if np.isnan(x) else x)\n",
    "train_data_modified"
   ]
  },
  {
   "cell_type": "markdown",
   "id": "improving-canon",
   "metadata": {},
   "source": [
    "Notice the `0` now present on row `888` above. We're ready to feed this to a neural network classifier."
   ]
  },
  {
   "cell_type": "markdown",
   "id": "tropical-aurora",
   "metadata": {},
   "source": [
    "## Building the network"
   ]
  },
  {
   "cell_type": "markdown",
   "id": "processed-contents",
   "metadata": {},
   "source": [
    "You may have heard about 'deep learning' and 'neural networks' before. Don't let those fancy terms scare you. There's little true 'neural' inspiration to the networks were going to build, but its probabbly simpler for our purposes to think of the classifier as a statistical blackbox model that we can op-tim-ize to correctly identify the class of incoming data. This statistical model won't be your standard linear Bayesian classifier though. Instead, we'll use stacks of fully connected neural network layers (which are each like a multidimensional nonlinear version of Bayesian classifiers.) You might think of each weight in the network as a fuzzy-valued if-gate that partially decides whether some input value is relevant or not to the downstream or output value. "
   ]
  },
  {
   "cell_type": "markdown",
   "id": "spectacular-perspective",
   "metadata": {},
   "source": [
    "To be precise, a fully connected layer looks like this:\n",
    "$$y=f(xW+b)$$\n",
    "where \n",
    "- $x \\in \\mathbb{R}^{n_x}$ are the input values\n",
    "- $y \\in \\mathbb{R}^{n_y}$ are the output values \n",
    "- $W \\in \\mathbb{R}^{n_x \\times n_y}$ is the weight matrix \n",
    "- $b \\in \\mathbb{R}^{n_y}$ are the bias values \n",
    "- $f \\colon \\mathbb{R}^{n_y} \\mapsto \\mathbb{R}^{n_y}$ is some elementwise, non-linear function like `relu` or `sigmoid`\n",
    "- $xW$ is the matrix multipulcation operation between $x$ and $W$\n",
    "\n",
    "There are several powerful deep learning libraries that simplify this mathematics, so we can practically ignore it for now. Take a look at `tensorflow.keras.layers.Dense`:"
   ]
  },
  {
   "cell_type": "code",
   "execution_count": 11,
   "id": "favorite-invention",
   "metadata": {
    "execution": {
     "iopub.execute_input": "2021-09-29T04:02:58.147054Z",
     "iopub.status.busy": "2021-09-29T04:02:58.146784Z",
     "iopub.status.idle": "2021-09-29T04:03:00.432694Z",
     "shell.execute_reply": "2021-09-29T04:03:00.430198Z",
     "shell.execute_reply.started": "2021-09-29T04:02:58.147024Z"
    },
    "tags": []
   },
   "outputs": [
    {
     "data": {
      "text/plain": [
       "<keras.layers.core.Dense at 0x7f8b27772070>"
      ]
     },
     "execution_count": 11,
     "metadata": {},
     "output_type": "execute_result"
    }
   ],
   "source": [
    "n_x = 20\n",
    "n_y = 30\n",
    "\n",
    "dense_layer = tf.keras.layers.Dense(units=n_y, activation=tf.nn.relu)\n",
    "dense_layer"
   ]
  },
  {
   "cell_type": "markdown",
   "id": "legal-national",
   "metadata": {},
   "source": [
    "Let's run this layer on some random data and see what it outputs"
   ]
  },
  {
   "cell_type": "code",
   "execution_count": 12,
   "id": "absent-tobago",
   "metadata": {
    "execution": {
     "iopub.execute_input": "2021-09-29T04:03:00.435079Z",
     "iopub.status.busy": "2021-09-29T04:03:00.434627Z",
     "iopub.status.idle": "2021-09-29T04:03:02.333161Z",
     "shell.execute_reply": "2021-09-29T04:03:02.330234Z",
     "shell.execute_reply.started": "2021-09-29T04:03:00.435013Z"
    },
    "tags": []
   },
   "outputs": [
    {
     "data": {
      "text/plain": [
       "(<tf.Tensor: shape=(1, 20), dtype=float32, numpy=\n",
       " array([[0.56778884, 0.56160414, 0.893572  , 0.3229041 , 0.90937114,\n",
       "         0.63573694, 0.35387146, 0.47441912, 0.60885704, 0.01633441,\n",
       "         0.3315431 , 0.39821362, 0.70036566, 0.12150264, 0.28599095,\n",
       "         0.9301748 , 0.12281406, 0.7980323 , 0.8837979 , 0.44928217]],\n",
       "       dtype=float32)>,\n",
       " <tf.Tensor: shape=(1, 30), dtype=float32, numpy=\n",
       " array([[0.19415012, 0.        , 0.6113546 , 0.18879873, 0.        ,\n",
       "         0.        , 0.34119648, 0.        , 0.        , 0.        ,\n",
       "         0.32419968, 0.15420988, 0.        , 0.9238754 , 0.        ,\n",
       "         0.4397241 , 0.        , 0.21186957, 0.077152  , 0.19395241,\n",
       "         0.        , 0.        , 0.        , 0.24134715, 0.        ,\n",
       "         0.29542112, 0.        , 0.        , 0.51963073, 0.72648084]],\n",
       "       dtype=float32)>)"
      ]
     },
     "execution_count": 12,
     "metadata": {},
     "output_type": "execute_result"
    }
   ],
   "source": [
    "input_val = tf.random.uniform(shape=(1, n_x), minval=0, maxval=1)\n",
    "\n",
    "output_val = dense_layer(input_val)\n",
    "\n",
    "input_val, output_val"
   ]
  },
  {
   "cell_type": "markdown",
   "id": "aggregate-mirror",
   "metadata": {},
   "source": [
    "I forgot to mention: deep learning accelerators often have special support for parallel execution, so most high-level tensorflow and keras layers and operations expect data to be supplied in multiple batches simultaneously. We just made a single batch dimension by appendingn `(1,...)` to our input data shape.\n",
    "\n",
    "You'll notice that about half of the output data values are zero. That's good because it means our dense layer weights are effectively normalizing the positive input data for us. A lot of times when you're stacking neural networks, you get layers that take in positive values and output unit normal values. Of course, the `relu` function truncates negative values, so they just show up on the output as `0.`.\n",
    "\n",
    "As activations climb the layer hierarchy of a neural network, they successively acquire more certainty about their underlying significance and target representation. The previous layer was just an example. Let's now stack some more layers togethor. `keras` makes this easy with their `Sequential` API."
   ]
  },
  {
   "cell_type": "code",
   "execution_count": 13,
   "id": "inappropriate-bristol",
   "metadata": {
    "execution": {
     "iopub.execute_input": "2021-09-29T04:03:02.337882Z",
     "iopub.status.busy": "2021-09-29T04:03:02.337354Z",
     "iopub.status.idle": "2021-09-29T04:03:02.484866Z",
     "shell.execute_reply": "2021-09-29T04:03:02.484233Z",
     "shell.execute_reply.started": "2021-09-29T04:03:02.337817Z"
    },
    "tags": []
   },
   "outputs": [],
   "source": [
    "model = tf.keras.Sequential([\n",
    "    tf.keras.layers.Input(6),\n",
    "    tf.keras.layers.Dense(20, activation='relu'),\n",
    "    tf.keras.layers.Dense(20, activation='relu'),\n",
    "    tf.keras.layers.Dense(1, activation='sigmoid')\n",
    "])"
   ]
  },
  {
   "cell_type": "markdown",
   "id": "rolled-techno",
   "metadata": {},
   "source": [
    "This model takes in 6-dimensional data and passes it through 3 linear and nonlinear transforms to realize an output binary decision of survived `1` or did not survive `0`. Keras gives us a high level summary of this model via the `.summary` method:"
   ]
  },
  {
   "cell_type": "code",
   "execution_count": 14,
   "id": "mathematical-michigan",
   "metadata": {
    "execution": {
     "iopub.execute_input": "2021-09-29T04:03:02.485846Z",
     "iopub.status.busy": "2021-09-29T04:03:02.485685Z",
     "iopub.status.idle": "2021-09-29T04:03:02.491764Z",
     "shell.execute_reply": "2021-09-29T04:03:02.491178Z",
     "shell.execute_reply.started": "2021-09-29T04:03:02.485828Z"
    },
    "tags": []
   },
   "outputs": [
    {
     "name": "stdout",
     "output_type": "stream",
     "text": [
      "Model: \"sequential\"\n",
      "_________________________________________________________________\n",
      "Layer (type)                 Output Shape              Param #   \n",
      "=================================================================\n",
      "dense_1 (Dense)              (None, 20)                140       \n",
      "_________________________________________________________________\n",
      "dense_2 (Dense)              (None, 20)                420       \n",
      "_________________________________________________________________\n",
      "dense_3 (Dense)              (None, 1)                 21        \n",
      "=================================================================\n",
      "Total params: 581\n",
      "Trainable params: 581\n",
      "Non-trainable params: 0\n",
      "_________________________________________________________________\n"
     ]
    }
   ],
   "source": [
    "model.summary()"
   ]
  },
  {
   "cell_type": "markdown",
   "id": "threatened-jacob",
   "metadata": {},
   "source": [
    "Machine learning systems are data-hungry. Notice that our model has 581 trainable parameters. From an optimal machine learning perspective, that means we'll need at least 581 data values to train on. Our data set is $890 \\times 5 \\div 581\\approx 7.66x$ bigger so we might have enough data to reasonably tune each parameter. If this first model doesn't work, then we can come back and build a smaller model or add some regularization."
   ]
  },
  {
   "cell_type": "markdown",
   "id": "civic-symposium",
   "metadata": {},
   "source": [
    "Before we forget, let's specify the optimizer and loss function that we'd like to use. You hear optimization introduced as 'rolling the ball down the hill' alot, but in 581-dimensional space (rather than 3D), dynamics aren't as intuitive. As an effect, machine learning research has developed many methods to minimize objectives in high dimensional space. Let's start with the simplest `sgd`. Since our problem is binary classification, we'll use `binary_crossentropy` which gives a purer information-theoretic measure to optimality than say mean squared error. "
   ]
  },
  {
   "cell_type": "code",
   "execution_count": 15,
   "id": "regular-republican",
   "metadata": {
    "execution": {
     "iopub.execute_input": "2021-09-29T04:03:02.492713Z",
     "iopub.status.busy": "2021-09-29T04:03:02.492536Z",
     "iopub.status.idle": "2021-09-29T04:03:02.591186Z",
     "shell.execute_reply": "2021-09-29T04:03:02.590259Z",
     "shell.execute_reply.started": "2021-09-29T04:03:02.492695Z"
    },
    "tags": []
   },
   "outputs": [],
   "source": [
    "model.compile(optimizer='sgd', loss='binary_crossentropy')"
   ]
  },
  {
   "cell_type": "markdown",
   "id": "modular-turtle",
   "metadata": {},
   "source": [
    "## The training pipeline"
   ]
  },
  {
   "cell_type": "markdown",
   "id": "cathedral-table",
   "metadata": {},
   "source": [
    "Now that you can see the input shape of our model, I hope you see why our `pandas.DataFrame` isn't ready for direct neural network consumption. It needs to be converted to a numpy array:"
   ]
  },
  {
   "cell_type": "code",
   "execution_count": 16,
   "id": "dirty-rotation",
   "metadata": {
    "execution": {
     "iopub.execute_input": "2021-09-29T04:03:05.049369Z",
     "iopub.status.busy": "2021-09-29T04:03:05.049056Z",
     "iopub.status.idle": "2021-09-29T04:03:05.061073Z",
     "shell.execute_reply": "2021-09-29T04:03:05.060251Z",
     "shell.execute_reply.started": "2021-09-29T04:03:05.049330Z"
    },
    "tags": []
   },
   "outputs": [
    {
     "data": {
      "text/html": [
       "<div>\n",
       "<style scoped>\n",
       "    .dataframe tbody tr th:only-of-type {\n",
       "        vertical-align: middle;\n",
       "    }\n",
       "\n",
       "    .dataframe tbody tr th {\n",
       "        vertical-align: top;\n",
       "    }\n",
       "\n",
       "    .dataframe thead th {\n",
       "        text-align: right;\n",
       "    }\n",
       "</style>\n",
       "<table border=\"1\" class=\"dataframe\">\n",
       "  <thead>\n",
       "    <tr style=\"text-align: right;\">\n",
       "      <th></th>\n",
       "      <th>PassengerId</th>\n",
       "      <th>Survived</th>\n",
       "      <th>Pclass</th>\n",
       "      <th>Name</th>\n",
       "      <th>Sex</th>\n",
       "      <th>Age</th>\n",
       "      <th>SibSp</th>\n",
       "      <th>Parch</th>\n",
       "      <th>Ticket</th>\n",
       "      <th>Fare</th>\n",
       "      <th>Cabin</th>\n",
       "      <th>Embarked</th>\n",
       "    </tr>\n",
       "  </thead>\n",
       "  <tbody>\n",
       "  </tbody>\n",
       "</table>\n",
       "</div>"
      ],
      "text/plain": [
       "Empty DataFrame\n",
       "Columns: [PassengerId, Survived, Pclass, Name, Sex, Age, SibSp, Parch, Ticket, Fare, Cabin, Embarked]\n",
       "Index: []"
      ]
     },
     "execution_count": 16,
     "metadata": {},
     "output_type": "execute_result"
    }
   ],
   "source": [
    "# inputs:  'Pclass', 'Sex', 'Age', 'Fare', 'Embarked'\n",
    "# outputs: 'Survived'\n",
    "\n",
    "train_data_modified.head(0)"
   ]
  },
  {
   "cell_type": "code",
   "execution_count": 17,
   "id": "resident-chapter",
   "metadata": {
    "execution": {
     "iopub.execute_input": "2021-09-29T04:03:06.142889Z",
     "iopub.status.busy": "2021-09-29T04:03:06.142681Z",
     "iopub.status.idle": "2021-09-29T04:03:06.151803Z",
     "shell.execute_reply": "2021-09-29T04:03:06.150976Z",
     "shell.execute_reply.started": "2021-09-29T04:03:06.142866Z"
    },
    "tags": []
   },
   "outputs": [
    {
     "data": {
      "text/html": [
       "<div>\n",
       "<style scoped>\n",
       "    .dataframe tbody tr th:only-of-type {\n",
       "        vertical-align: middle;\n",
       "    }\n",
       "\n",
       "    .dataframe tbody tr th {\n",
       "        vertical-align: top;\n",
       "    }\n",
       "\n",
       "    .dataframe thead th {\n",
       "        text-align: right;\n",
       "    }\n",
       "</style>\n",
       "<table border=\"1\" class=\"dataframe\">\n",
       "  <thead>\n",
       "    <tr style=\"text-align: right;\">\n",
       "      <th></th>\n",
       "      <th>Survived</th>\n",
       "      <th>Pclass</th>\n",
       "      <th>Sex</th>\n",
       "      <th>Age</th>\n",
       "      <th>Parch</th>\n",
       "      <th>Fare</th>\n",
       "      <th>Embarked</th>\n",
       "    </tr>\n",
       "  </thead>\n",
       "  <tbody>\n",
       "  </tbody>\n",
       "</table>\n",
       "</div>"
      ],
      "text/plain": [
       "Empty DataFrame\n",
       "Columns: [Survived, Pclass, Sex, Age, Parch, Fare, Embarked]\n",
       "Index: []"
      ]
     },
     "execution_count": 17,
     "metadata": {},
     "output_type": "execute_result"
    }
   ],
   "source": [
    "train_data_modified = train_data_modified.drop(\n",
    "    columns=['PassengerId', 'Name', 'SibSp', 'Ticket', 'Cabin'])\n",
    "train_data_modified.head(0)"
   ]
  },
  {
   "cell_type": "code",
   "execution_count": 18,
   "id": "preliminary-profile",
   "metadata": {
    "execution": {
     "iopub.execute_input": "2021-09-29T04:03:07.229891Z",
     "iopub.status.busy": "2021-09-29T04:03:07.229566Z",
     "iopub.status.idle": "2021-09-29T04:03:07.238373Z",
     "shell.execute_reply": "2021-09-29T04:03:07.237495Z",
     "shell.execute_reply.started": "2021-09-29T04:03:07.229855Z"
    },
    "tags": []
   },
   "outputs": [
    {
     "data": {
      "text/plain": [
       "((891, 7),\n",
       " array([[ 0.    ,  3.    ,  0.    , ...,  0.    ,  7.25  ,  0.    ],\n",
       "        [ 1.    ,  1.    ,  1.    , ...,  0.    , 71.2833,  1.    ],\n",
       "        [ 1.    ,  3.    ,  1.    , ...,  0.    ,  7.925 ,  0.    ],\n",
       "        ...,\n",
       "        [ 0.    ,  3.    ,  1.    , ...,  2.    , 23.45  ,  0.    ],\n",
       "        [ 1.    ,  1.    ,  0.    , ...,  0.    , 30.    ,  1.    ],\n",
       "        [ 0.    ,  3.    ,  0.    , ...,  0.    ,  7.75  ,  2.    ]]))"
      ]
     },
     "execution_count": 18,
     "metadata": {},
     "output_type": "execute_result"
    }
   ],
   "source": [
    "train_data_modified_arr = train_data_modified.to_numpy()\n",
    "train_data_modified_arr.shape, train_data_modified_arr "
   ]
  },
  {
   "cell_type": "markdown",
   "id": "endangered-shoulder",
   "metadata": {},
   "source": [
    "We removed columns from `train_data_modified` that we won't need and then converted it to a `numpy.array`. Notice that for each column in this final dataframe, there is an equivalent column in the numpy array. The columns have the same ordering in both objects, so column 0 of the above matrix refers to `Survived`, column 1 to `Pclass`, column 2 to `Sex`, ... you get the idea. `numpy` and other multi-dimensional indexed Python objects support a special convention to slice a subset out of an array. We can use:"
   ]
  },
  {
   "cell_type": "code",
   "execution_count": 19,
   "id": "olive-seventh",
   "metadata": {
    "execution": {
     "iopub.execute_input": "2021-09-29T04:03:09.467108Z",
     "iopub.status.busy": "2021-09-29T04:03:09.466800Z",
     "iopub.status.idle": "2021-09-29T04:03:09.473984Z",
     "shell.execute_reply": "2021-09-29T04:03:09.473237Z",
     "shell.execute_reply.started": "2021-09-29T04:03:09.467070Z"
    },
    "tags": []
   },
   "outputs": [
    {
     "data": {
      "text/plain": [
       "(891,)"
      ]
     },
     "execution_count": 19,
     "metadata": {},
     "output_type": "execute_result"
    }
   ],
   "source": [
    "y_train = train_data_modified_arr[:, 0]\n",
    "y_train.shape"
   ]
  },
  {
   "cell_type": "markdown",
   "id": "ruled-reggae",
   "metadata": {},
   "source": [
    "to retrieve just the first value from every row of `train_data_modified_arr`. We'll do something similar to extracted the rest of the input data:  "
   ]
  },
  {
   "cell_type": "code",
   "execution_count": 20,
   "id": "distant-enemy",
   "metadata": {
    "execution": {
     "iopub.execute_input": "2021-09-29T04:03:10.347231Z",
     "iopub.status.busy": "2021-09-29T04:03:10.346979Z",
     "iopub.status.idle": "2021-09-29T04:03:10.351974Z",
     "shell.execute_reply": "2021-09-29T04:03:10.351002Z",
     "shell.execute_reply.started": "2021-09-29T04:03:10.347204Z"
    },
    "tags": []
   },
   "outputs": [
    {
     "data": {
      "text/plain": [
       "(891, 6)"
      ]
     },
     "execution_count": 20,
     "metadata": {},
     "output_type": "execute_result"
    }
   ],
   "source": [
    "X_train = train_data_modified_arr[:, 1:]\n",
    "X_train.shape"
   ]
  },
  {
   "cell_type": "markdown",
   "id": "hungarian-barbados",
   "metadata": {},
   "source": [
    "There's a lot going on behind the scenes of those operations: First, you're starting with a two dimensional `np.array` `train_data_modified_arr` which has a shape (891, 7). Now when we're defining `y_train`, we only want to take the first item from the second axis of this tensor, but we want to do this for every unit along the first axis. We express this by writting the index slicing operation `[: , 0]` where the colon means 'do this for all units on my axis' and the `0` means 'take the first element'. Those statements are applied to the axes that they are ordered in, so we get the first element of the second axis for all units along the first axis as a result. \n",
    "\n",
    "It gets a little trickier with `X_train`, but the underlying rules are the same. The colon indexing statement `:` on its own filters nothing along its axis. However, when it is qualified by positive integers, they identify an inclusive-first exclusive-last index filter for selection. For example, `[0:5]` selects the first, second, third, forth, and fifth elements of a sequence (the last index is exclusive so we don't get the sixth element). If you leave one of the indeces blank, the array boundary is assumed, so `[:9]` selects all elements up to but not including the tenth element. Now putting this all togethor with multidimensional indexing, `[:, 1:]` selects all elements including and after the second element on the second axis for every example along the first axis.\n",
    "\n",
    "It may seem confusing to think about all these shapes and indeces, but trust me, with data and mindset in tensor-form, the pipeline just takes off. The `tensorflow.keras` API makes it super easy to train our model from here. All we have to do is call the `.fit` method!"
   ]
  },
  {
   "cell_type": "code",
   "execution_count": 21,
   "id": "maritime-commitment",
   "metadata": {
    "execution": {
     "iopub.execute_input": "2021-09-29T04:03:12.400584Z",
     "iopub.status.busy": "2021-09-29T04:03:12.400360Z",
     "iopub.status.idle": "2021-09-29T04:03:14.185260Z",
     "shell.execute_reply": "2021-09-29T04:03:14.184454Z",
     "shell.execute_reply.started": "2021-09-29T04:03:12.400559Z"
    },
    "tags": []
   },
   "outputs": [
    {
     "name": "stdout",
     "output_type": "stream",
     "text": [
      "28/28 [==============================] - 1s 2ms/step - loss: 0.7807\n"
     ]
    },
    {
     "data": {
      "text/plain": [
       "<keras.callbacks.History at 0x7f8b242088b0>"
      ]
     },
     "execution_count": 21,
     "metadata": {},
     "output_type": "execute_result"
    }
   ],
   "source": [
    "model.fit(x=X_train, y=y_train)"
   ]
  },
  {
   "cell_type": "markdown",
   "id": "dimensional-vanilla",
   "metadata": {},
   "source": [
    "It works! 🎉 Or does it? There were no programming syntax issues, but we still have to ask ourselves: 'Is the model doing what its supposed to do?' Let's repeat the above process multiple time (in ML lingo, for multiple epochs) and then visualize how the model training runs. To make training runs consistent, I'll make two code cells below: one to reinitialize the neural network and another to train and visualize improvement. In anything bigger than this tutorial, you'd probabbly want to actually write functions instead of code so that it's easier to see the history of all executions. Also many Github is the home to myriads of libraries that assist visualizing results. Currently, weights and biases is a popular free for personal use ML checkpointing and visualization tool. "
   ]
  },
  {
   "cell_type": "code",
   "execution_count": 22,
   "id": "mediterranean-thailand",
   "metadata": {
    "execution": {
     "iopub.execute_input": "2021-09-29T04:03:15.999899Z",
     "iopub.status.busy": "2021-09-29T04:03:15.999691Z",
     "iopub.status.idle": "2021-09-29T04:03:16.026887Z",
     "shell.execute_reply": "2021-09-29T04:03:16.025450Z",
     "shell.execute_reply.started": "2021-09-29T04:03:15.999876Z"
    },
    "tags": []
   },
   "outputs": [],
   "source": [
    "model = tf.keras.Sequential([\n",
    "    tf.keras.layers.Input(6),\n",
    "    tf.keras.layers.Dense(20, activation='relu'),\n",
    "    tf.keras.layers.Dense(20, activation='relu'),\n",
    "    tf.keras.layers.Dense(1, activation='sigmoid')\n",
    "])\n",
    "model.compile(optimizer='sgd', loss='binary_crossentropy')"
   ]
  },
  {
   "cell_type": "code",
   "execution_count": 23,
   "id": "adjusted-impossible",
   "metadata": {
    "execution": {
     "iopub.execute_input": "2021-09-29T04:03:16.934323Z",
     "iopub.status.busy": "2021-09-29T04:03:16.934045Z",
     "iopub.status.idle": "2021-09-29T04:03:18.047216Z",
     "shell.execute_reply": "2021-09-29T04:03:18.046476Z",
     "shell.execute_reply.started": "2021-09-29T04:03:16.934288Z"
    },
    "tags": []
   },
   "outputs": [
    {
     "name": "stdout",
     "output_type": "stream",
     "text": [
      "Epoch 1/10\n",
      "28/28 [==============================] - 0s 2ms/step - loss: 2.0561\n",
      "Epoch 2/10\n",
      "28/28 [==============================] - 0s 1ms/step - loss: 0.7405\n",
      "Epoch 3/10\n",
      "28/28 [==============================] - 0s 2ms/step - loss: 0.7312\n",
      "Epoch 4/10\n",
      "28/28 [==============================] - 0s 2ms/step - loss: 0.6404\n",
      "Epoch 5/10\n",
      "28/28 [==============================] - 0s 2ms/step - loss: 0.6530\n",
      "Epoch 6/10\n",
      "28/28 [==============================] - 0s 1ms/step - loss: 0.6696\n",
      "Epoch 7/10\n",
      "28/28 [==============================] - 0s 1ms/step - loss: 0.6262\n",
      "Epoch 8/10\n",
      "28/28 [==============================] - 0s 1ms/step - loss: 0.6126\n",
      "Epoch 9/10\n",
      "28/28 [==============================] - 0s 1ms/step - loss: 0.6144\n",
      "Epoch 10/10\n",
      "28/28 [==============================] - 0s 1ms/step - loss: 0.6202\n"
     ]
    },
    {
     "data": {
      "text/plain": [
       "[<matplotlib.lines.Line2D at 0x7f8b02706f10>]"
      ]
     },
     "execution_count": 23,
     "metadata": {},
     "output_type": "execute_result"
    },
    {
     "data": {
      "image/png": "[encoded data removed]",
      "text/plain": [
       "<Figure size 432x288 with 1 Axes>"
      ]
     },
     "metadata": {
      "needs_background": "light"
     },
     "output_type": "display_data"
    }
   ],
   "source": [
    "history = model.fit(x=X_train, y=y_train, epochs=10)\n",
    "plt.plot(history.history['loss'])"
   ]
  },
  {
   "cell_type": "markdown",
   "id": "pleasant-evanescence",
   "metadata": {},
   "source": [
    "Watch that training loss go! Our model is really learning! Notice that the optimization algorithm we selected stochastic gradient descent `model.compile(optimizer='sgd', ...)` is *stochastic*. It only estimates the optimal gradient values from statistical samples against the dataset at each epoch. Don't be surprised then to see the loss jump up and down a bit. Still, it generally makes progress towards convergence. Let's see if more iterations improve the model further:"
   ]
  },
  {
   "cell_type": "code",
   "execution_count": 24,
   "id": "spatial-david",
   "metadata": {
    "execution": {
     "iopub.execute_input": "2021-09-29T04:03:20.158230Z",
     "iopub.status.busy": "2021-09-29T04:03:20.157995Z",
     "iopub.status.idle": "2021-09-29T04:03:22.886342Z",
     "shell.execute_reply": "2021-09-29T04:03:22.885701Z",
     "shell.execute_reply.started": "2021-09-29T04:03:20.158209Z"
    },
    "tags": []
   },
   "outputs": [
    {
     "data": {
      "text/plain": [
       "[<matplotlib.lines.Line2D at 0x7f8b02f0d610>]"
      ]
     },
     "execution_count": 24,
     "metadata": {},
     "output_type": "execute_result"
    },
    {
     "data": {
      "image/png": "[encoded data removed]",
      "text/plain": [
       "<Figure size 432x288 with 1 Axes>"
      ]
     },
     "metadata": {
      "needs_background": "light"
     },
     "output_type": "display_data"
    }
   ],
   "source": [
    "history = model.fit(x=X_train, y=y_train, epochs=100, verbose=0)\n",
    "plt.plot(history.history['loss'])"
   ]
  },
  {
   "cell_type": "markdown",
   "id": "stylish-oriental",
   "metadata": {},
   "source": [
    "Notice that now training doesn't improve so quickly. In fact, as loss decreases, we start to approach the Bayesian error bound which is a theoretical minimum for any classification system, and as our classifier approaches that phase boundary, it begins to oscillate even more violently. We could use a few tricks to minimize stachasticity like turning down the learning rate, cahanging the optimizer, or regularizing the weights, activations, gradients, or error, but in the end there's no getting around the impossible."
   ]
  },
  {
   "cell_type": "markdown",
   "id": "ethical-teach",
   "metadata": {},
   "source": [
    "## Congradulations"
   ]
  },
  {
   "cell_type": "markdown",
   "id": "widespread-victim",
   "metadata": {},
   "source": [
    "We still haven't gone over validation sets, regularization, or pipeline construction, but take a moment to relax and congradulate yourself for building and training your very own neural network. Maybe celebrate by\n",
    "- sharing this post with your friends\n",
    "- visiting [arxiv.org](https://arxiv.org) and reading a interesting paper on AI.\n",
    "- testing your model on unseen data"
   ]
  },
  {
   "cell_type": "markdown",
   "id": "bacterial-trigger",
   "metadata": {},
   "source": [
    "## Test Data"
   ]
  },
  {
   "cell_type": "markdown",
   "id": "green-disclosure",
   "metadata": {},
   "source": [
    "If you chose the latter option, go ahead and load your test data into neural-network-readable format using the before proceedure:"
   ]
  },
  {
   "cell_type": "code",
   "execution_count": 25,
   "id": "saved-cuisine",
   "metadata": {
    "execution": {
     "iopub.execute_input": "2021-09-29T04:03:23.282463Z",
     "iopub.status.busy": "2021-09-29T04:03:23.282161Z",
     "iopub.status.idle": "2021-09-29T04:03:23.341361Z",
     "shell.execute_reply": "2021-09-29T04:03:23.340528Z",
     "shell.execute_reply.started": "2021-09-29T04:03:23.282428Z"
    },
    "tags": []
   },
   "outputs": [
    {
     "data": {
      "text/html": [
       "<div>\n",
       "<style scoped>\n",
       "    .dataframe tbody tr th:only-of-type {\n",
       "        vertical-align: middle;\n",
       "    }\n",
       "\n",
       "    .dataframe tbody tr th {\n",
       "        vertical-align: top;\n",
       "    }\n",
       "\n",
       "    .dataframe thead th {\n",
       "        text-align: right;\n",
       "    }\n",
       "</style>\n",
       "<table border=\"1\" class=\"dataframe\">\n",
       "  <thead>\n",
       "    <tr style=\"text-align: right;\">\n",
       "      <th></th>\n",
       "      <th>PassengerId</th>\n",
       "      <th>Pclass</th>\n",
       "      <th>Name</th>\n",
       "      <th>Sex</th>\n",
       "      <th>Age</th>\n",
       "      <th>SibSp</th>\n",
       "      <th>Parch</th>\n",
       "      <th>Ticket</th>\n",
       "      <th>Fare</th>\n",
       "      <th>Cabin</th>\n",
       "      <th>Embarked</th>\n",
       "    </tr>\n",
       "  </thead>\n",
       "  <tbody>\n",
       "    <tr>\n",
       "      <th>0</th>\n",
       "      <td>892</td>\n",
       "      <td>3</td>\n",
       "      <td>Kelly, Mr. James</td>\n",
       "      <td>0</td>\n",
       "      <td>34.5</td>\n",
       "      <td>0</td>\n",
       "      <td>0</td>\n",
       "      <td>330911</td>\n",
       "      <td>7.8292</td>\n",
       "      <td>NaN</td>\n",
       "      <td>2</td>\n",
       "    </tr>\n",
       "    <tr>\n",
       "      <th>1</th>\n",
       "      <td>893</td>\n",
       "      <td>3</td>\n",
       "      <td>Wilkes, Mrs. James (Ellen Needs)</td>\n",
       "      <td>1</td>\n",
       "      <td>47.0</td>\n",
       "      <td>1</td>\n",
       "      <td>0</td>\n",
       "      <td>363272</td>\n",
       "      <td>7.0000</td>\n",
       "      <td>NaN</td>\n",
       "      <td>0</td>\n",
       "    </tr>\n",
       "    <tr>\n",
       "      <th>2</th>\n",
       "      <td>894</td>\n",
       "      <td>2</td>\n",
       "      <td>Myles, Mr. Thomas Francis</td>\n",
       "      <td>0</td>\n",
       "      <td>62.0</td>\n",
       "      <td>0</td>\n",
       "      <td>0</td>\n",
       "      <td>240276</td>\n",
       "      <td>9.6875</td>\n",
       "      <td>NaN</td>\n",
       "      <td>2</td>\n",
       "    </tr>\n",
       "    <tr>\n",
       "      <th>3</th>\n",
       "      <td>895</td>\n",
       "      <td>3</td>\n",
       "      <td>Wirz, Mr. Albert</td>\n",
       "      <td>0</td>\n",
       "      <td>27.0</td>\n",
       "      <td>0</td>\n",
       "      <td>0</td>\n",
       "      <td>315154</td>\n",
       "      <td>8.6625</td>\n",
       "      <td>NaN</td>\n",
       "      <td>0</td>\n",
       "    </tr>\n",
       "    <tr>\n",
       "      <th>4</th>\n",
       "      <td>896</td>\n",
       "      <td>3</td>\n",
       "      <td>Hirvonen, Mrs. Alexander (Helga E Lindqvist)</td>\n",
       "      <td>1</td>\n",
       "      <td>22.0</td>\n",
       "      <td>1</td>\n",
       "      <td>1</td>\n",
       "      <td>3101298</td>\n",
       "      <td>12.2875</td>\n",
       "      <td>NaN</td>\n",
       "      <td>0</td>\n",
       "    </tr>\n",
       "    <tr>\n",
       "      <th>...</th>\n",
       "      <td>...</td>\n",
       "      <td>...</td>\n",
       "      <td>...</td>\n",
       "      <td>...</td>\n",
       "      <td>...</td>\n",
       "      <td>...</td>\n",
       "      <td>...</td>\n",
       "      <td>...</td>\n",
       "      <td>...</td>\n",
       "      <td>...</td>\n",
       "      <td>...</td>\n",
       "    </tr>\n",
       "    <tr>\n",
       "      <th>413</th>\n",
       "      <td>1305</td>\n",
       "      <td>3</td>\n",
       "      <td>Spector, Mr. Woolf</td>\n",
       "      <td>0</td>\n",
       "      <td>0.0</td>\n",
       "      <td>0</td>\n",
       "      <td>0</td>\n",
       "      <td>A.5. 3236</td>\n",
       "      <td>8.0500</td>\n",
       "      <td>NaN</td>\n",
       "      <td>0</td>\n",
       "    </tr>\n",
       "    <tr>\n",
       "      <th>414</th>\n",
       "      <td>1306</td>\n",
       "      <td>1</td>\n",
       "      <td>Oliva y Ocana, Dona. Fermina</td>\n",
       "      <td>1</td>\n",
       "      <td>39.0</td>\n",
       "      <td>0</td>\n",
       "      <td>0</td>\n",
       "      <td>PC 17758</td>\n",
       "      <td>108.9000</td>\n",
       "      <td>C105</td>\n",
       "      <td>1</td>\n",
       "    </tr>\n",
       "    <tr>\n",
       "      <th>415</th>\n",
       "      <td>1307</td>\n",
       "      <td>3</td>\n",
       "      <td>Saether, Mr. Simon Sivertsen</td>\n",
       "      <td>0</td>\n",
       "      <td>38.5</td>\n",
       "      <td>0</td>\n",
       "      <td>0</td>\n",
       "      <td>SOTON/O.Q. 3101262</td>\n",
       "      <td>7.2500</td>\n",
       "      <td>NaN</td>\n",
       "      <td>0</td>\n",
       "    </tr>\n",
       "    <tr>\n",
       "      <th>416</th>\n",
       "      <td>1308</td>\n",
       "      <td>3</td>\n",
       "      <td>Ware, Mr. Frederick</td>\n",
       "      <td>0</td>\n",
       "      <td>0.0</td>\n",
       "      <td>0</td>\n",
       "      <td>0</td>\n",
       "      <td>359309</td>\n",
       "      <td>8.0500</td>\n",
       "      <td>NaN</td>\n",
       "      <td>0</td>\n",
       "    </tr>\n",
       "    <tr>\n",
       "      <th>417</th>\n",
       "      <td>1309</td>\n",
       "      <td>3</td>\n",
       "      <td>Peter, Master. Michael J</td>\n",
       "      <td>0</td>\n",
       "      <td>0.0</td>\n",
       "      <td>1</td>\n",
       "      <td>1</td>\n",
       "      <td>2668</td>\n",
       "      <td>22.3583</td>\n",
       "      <td>NaN</td>\n",
       "      <td>1</td>\n",
       "    </tr>\n",
       "  </tbody>\n",
       "</table>\n",
       "<p>418 rows × 11 columns</p>\n",
       "</div>"
      ],
      "text/plain": [
       "     PassengerId  Pclass                                          Name  Sex  \\\n",
       "0            892       3                              Kelly, Mr. James    0   \n",
       "1            893       3              Wilkes, Mrs. James (Ellen Needs)    1   \n",
       "2            894       2                     Myles, Mr. Thomas Francis    0   \n",
       "3            895       3                              Wirz, Mr. Albert    0   \n",
       "4            896       3  Hirvonen, Mrs. Alexander (Helga E Lindqvist)    1   \n",
       "..           ...     ...                                           ...  ...   \n",
       "413         1305       3                            Spector, Mr. Woolf    0   \n",
       "414         1306       1                  Oliva y Ocana, Dona. Fermina    1   \n",
       "415         1307       3                  Saether, Mr. Simon Sivertsen    0   \n",
       "416         1308       3                           Ware, Mr. Frederick    0   \n",
       "417         1309       3                      Peter, Master. Michael J    0   \n",
       "\n",
       "      Age  SibSp  Parch              Ticket      Fare Cabin  Embarked  \n",
       "0    34.5      0      0              330911    7.8292   NaN         2  \n",
       "1    47.0      1      0              363272    7.0000   NaN         0  \n",
       "2    62.0      0      0              240276    9.6875   NaN         2  \n",
       "3    27.0      0      0              315154    8.6625   NaN         0  \n",
       "4    22.0      1      1             3101298   12.2875   NaN         0  \n",
       "..    ...    ...    ...                 ...       ...   ...       ...  \n",
       "413   0.0      0      0           A.5. 3236    8.0500   NaN         0  \n",
       "414  39.0      0      0            PC 17758  108.9000  C105         1  \n",
       "415  38.5      0      0  SOTON/O.Q. 3101262    7.2500   NaN         0  \n",
       "416   0.0      0      0              359309    8.0500   NaN         0  \n",
       "417   0.0      1      1                2668   22.3583   NaN         1  \n",
       "\n",
       "[418 rows x 11 columns]"
      ]
     },
     "execution_count": 25,
     "metadata": {},
     "output_type": "execute_result"
    }
   ],
   "source": [
    "test_data_modified = test_data.copy()\n",
    "test_data_modified['Sex'] = test_data_modified.apply(\n",
    "    lambda x : 0 if x.Sex == 'male' else 1, axis=1)\n",
    "test_data_modified['Embarked'] = test_data_modified.apply(\n",
    "    lambda x : mapE(x.Embarked), axis=1)\n",
    "\n",
    "for k in ['Pclass', 'Sex', 'Age', 'Fare', 'Embarked']:\n",
    "    test_data_modified[k] = test_data_modified[k].apply(\n",
    "        lambda x : 0 if np.isnan(x) else x)\n",
    "test_data_modified"
   ]
  },
  {
   "cell_type": "markdown",
   "id": "black-venue",
   "metadata": {},
   "source": [
    "I had to remove the `'Survived'` column since it wasn't there. (It's test data after all!) Also, while scrolling through the list of methods under `train_data`, I encountered the `dropna` method. It is a much cleaner solution to the previous 3-line for loop I used when cleaning `train_data`. I have kept the above code as origonally so you can see this overall development process."
   ]
  },
  {
   "cell_type": "code",
   "execution_count": 26,
   "id": "national-shaft",
   "metadata": {
    "execution": {
     "iopub.execute_input": "2021-09-29T04:03:25.515215Z",
     "iopub.status.busy": "2021-09-29T04:03:25.515023Z",
     "iopub.status.idle": "2021-09-29T04:03:25.528359Z",
     "shell.execute_reply": "2021-09-29T04:03:25.527569Z",
     "shell.execute_reply.started": "2021-09-29T04:03:25.515193Z"
    },
    "tags": []
   },
   "outputs": [
    {
     "data": {
      "text/html": [
       "<div>\n",
       "<style scoped>\n",
       "    .dataframe tbody tr th:only-of-type {\n",
       "        vertical-align: middle;\n",
       "    }\n",
       "\n",
       "    .dataframe tbody tr th {\n",
       "        vertical-align: top;\n",
       "    }\n",
       "\n",
       "    .dataframe thead th {\n",
       "        text-align: right;\n",
       "    }\n",
       "</style>\n",
       "<table border=\"1\" class=\"dataframe\">\n",
       "  <thead>\n",
       "    <tr style=\"text-align: right;\">\n",
       "      <th></th>\n",
       "      <th>Pclass</th>\n",
       "      <th>Sex</th>\n",
       "      <th>Age</th>\n",
       "      <th>Parch</th>\n",
       "      <th>Fare</th>\n",
       "      <th>Embarked</th>\n",
       "    </tr>\n",
       "  </thead>\n",
       "  <tbody>\n",
       "    <tr>\n",
       "      <th>0</th>\n",
       "      <td>3</td>\n",
       "      <td>0</td>\n",
       "      <td>34.5</td>\n",
       "      <td>0</td>\n",
       "      <td>7.8292</td>\n",
       "      <td>2</td>\n",
       "    </tr>\n",
       "    <tr>\n",
       "      <th>1</th>\n",
       "      <td>3</td>\n",
       "      <td>1</td>\n",
       "      <td>47.0</td>\n",
       "      <td>0</td>\n",
       "      <td>7.0000</td>\n",
       "      <td>0</td>\n",
       "    </tr>\n",
       "    <tr>\n",
       "      <th>2</th>\n",
       "      <td>2</td>\n",
       "      <td>0</td>\n",
       "      <td>62.0</td>\n",
       "      <td>0</td>\n",
       "      <td>9.6875</td>\n",
       "      <td>2</td>\n",
       "    </tr>\n",
       "    <tr>\n",
       "      <th>3</th>\n",
       "      <td>3</td>\n",
       "      <td>0</td>\n",
       "      <td>27.0</td>\n",
       "      <td>0</td>\n",
       "      <td>8.6625</td>\n",
       "      <td>0</td>\n",
       "    </tr>\n",
       "    <tr>\n",
       "      <th>4</th>\n",
       "      <td>3</td>\n",
       "      <td>1</td>\n",
       "      <td>22.0</td>\n",
       "      <td>1</td>\n",
       "      <td>12.2875</td>\n",
       "      <td>0</td>\n",
       "    </tr>\n",
       "    <tr>\n",
       "      <th>...</th>\n",
       "      <td>...</td>\n",
       "      <td>...</td>\n",
       "      <td>...</td>\n",
       "      <td>...</td>\n",
       "      <td>...</td>\n",
       "      <td>...</td>\n",
       "    </tr>\n",
       "    <tr>\n",
       "      <th>413</th>\n",
       "      <td>3</td>\n",
       "      <td>0</td>\n",
       "      <td>0.0</td>\n",
       "      <td>0</td>\n",
       "      <td>8.0500</td>\n",
       "      <td>0</td>\n",
       "    </tr>\n",
       "    <tr>\n",
       "      <th>414</th>\n",
       "      <td>1</td>\n",
       "      <td>1</td>\n",
       "      <td>39.0</td>\n",
       "      <td>0</td>\n",
       "      <td>108.9000</td>\n",
       "      <td>1</td>\n",
       "    </tr>\n",
       "    <tr>\n",
       "      <th>415</th>\n",
       "      <td>3</td>\n",
       "      <td>0</td>\n",
       "      <td>38.5</td>\n",
       "      <td>0</td>\n",
       "      <td>7.2500</td>\n",
       "      <td>0</td>\n",
       "    </tr>\n",
       "    <tr>\n",
       "      <th>416</th>\n",
       "      <td>3</td>\n",
       "      <td>0</td>\n",
       "      <td>0.0</td>\n",
       "      <td>0</td>\n",
       "      <td>8.0500</td>\n",
       "      <td>0</td>\n",
       "    </tr>\n",
       "    <tr>\n",
       "      <th>417</th>\n",
       "      <td>3</td>\n",
       "      <td>0</td>\n",
       "      <td>0.0</td>\n",
       "      <td>1</td>\n",
       "      <td>22.3583</td>\n",
       "      <td>1</td>\n",
       "    </tr>\n",
       "  </tbody>\n",
       "</table>\n",
       "<p>418 rows × 6 columns</p>\n",
       "</div>"
      ],
      "text/plain": [
       "     Pclass  Sex   Age  Parch      Fare  Embarked\n",
       "0         3    0  34.5      0    7.8292         2\n",
       "1         3    1  47.0      0    7.0000         0\n",
       "2         2    0  62.0      0    9.6875         2\n",
       "3         3    0  27.0      0    8.6625         0\n",
       "4         3    1  22.0      1   12.2875         0\n",
       "..      ...  ...   ...    ...       ...       ...\n",
       "413       3    0   0.0      0    8.0500         0\n",
       "414       1    1  39.0      0  108.9000         1\n",
       "415       3    0  38.5      0    7.2500         0\n",
       "416       3    0   0.0      0    8.0500         0\n",
       "417       3    0   0.0      1   22.3583         1\n",
       "\n",
       "[418 rows x 6 columns]"
      ]
     },
     "execution_count": 26,
     "metadata": {},
     "output_type": "execute_result"
    }
   ],
   "source": [
    "test_data_modified = test_data_modified.drop(\n",
    "    columns=['PassengerId', 'Name', 'SibSp', 'Ticket', 'Cabin'])\n",
    "test_data_modified"
   ]
  },
  {
   "cell_type": "code",
   "execution_count": 27,
   "id": "artificial-lightning",
   "metadata": {
    "execution": {
     "iopub.execute_input": "2021-09-29T04:03:27.086287Z",
     "iopub.status.busy": "2021-09-29T04:03:27.086075Z",
     "iopub.status.idle": "2021-09-29T04:03:27.090824Z",
     "shell.execute_reply": "2021-09-29T04:03:27.090278Z",
     "shell.execute_reply.started": "2021-09-29T04:03:27.086264Z"
    },
    "tags": []
   },
   "outputs": [
    {
     "data": {
      "text/plain": [
       "array([[ 3.    ,  0.    , 34.5   ,  0.    ,  7.8292,  2.    ],\n",
       "       [ 3.    ,  1.    , 47.    ,  0.    ,  7.    ,  0.    ],\n",
       "       [ 2.    ,  0.    , 62.    ,  0.    ,  9.6875,  2.    ],\n",
       "       [ 3.    ,  0.    , 27.    ,  0.    ,  8.6625,  0.    ],\n",
       "       [ 3.    ,  1.    , 22.    ,  1.    , 12.2875,  0.    ],\n",
       "       [ 3.    ,  0.    , 14.    ,  0.    ,  9.225 ,  0.    ],\n",
       "       [ 3.    ,  1.    , 30.    ,  0.    ,  7.6292,  2.    ],\n",
       "       [ 2.    ,  0.    , 26.    ,  1.    , 29.    ,  0.    ],\n",
       "       [ 3.    ,  1.    , 18.    ,  0.    ,  7.2292,  1.    ],\n",
       "       [ 3.    ,  0.    , 21.    ,  0.    , 24.15  ,  0.    ]])"
      ]
     },
     "execution_count": 27,
     "metadata": {},
     "output_type": "execute_result"
    }
   ],
   "source": [
    "X_test = test_data_modified.to_numpy()\n",
    "X_test[:10]"
   ]
  },
  {
   "cell_type": "markdown",
   "id": "acquired-lexington",
   "metadata": {},
   "source": [
    "Now let's make our predictions:"
   ]
  },
  {
   "cell_type": "code",
   "execution_count": 28,
   "id": "engaging-friday",
   "metadata": {
    "execution": {
     "iopub.execute_input": "2021-09-29T04:03:28.523392Z",
     "iopub.status.busy": "2021-09-29T04:03:28.523188Z",
     "iopub.status.idle": "2021-09-29T04:03:28.675490Z",
     "shell.execute_reply": "2021-09-29T04:03:28.674784Z",
     "shell.execute_reply.started": "2021-09-29T04:03:28.523371Z"
    },
    "tags": []
   },
   "outputs": [
    {
     "data": {
      "text/plain": [
       "array([0, 0, 0, 0, 0, 0, 0, 0, 0, 0, 0, 0, 1, 0, 1, 1, 0, 0, 0, 0, 0, 0,\n",
       "       1, 1, 1, 0, 1, 0, 0, 0, 0, 0, 0, 0, 0, 0, 0, 0, 0, 0, 0, 0, 0, 0,\n",
       "       1, 0, 0, 0, 1, 0, 1, 0, 1, 1, 0, 0, 0, 0, 0, 1, 0, 0, 0, 0, 1, 1,\n",
       "       0, 0, 0, 1, 0, 0, 0, 0, 1, 1, 0, 0, 0, 0, 0, 1, 0, 0, 0, 0, 0, 0,\n",
       "       1, 0, 0, 0, 1, 0, 0, 0, 1, 0, 0, 0, 1, 0, 0, 0, 0, 0, 0, 0, 0, 0,\n",
       "       0, 1, 1, 0, 1, 0, 0, 0, 1, 0, 1, 0, 1, 0, 0, 0, 0, 1, 0, 0, 0, 0,\n",
       "       0, 0, 0, 0, 0, 0, 0, 0, 1, 1, 1, 0, 0, 0, 0, 0, 0, 0, 1, 0, 0, 0,\n",
       "       0, 0, 1, 0, 0, 0, 1, 0, 0, 0, 0, 0, 0, 0, 1, 0, 0, 0, 0, 0, 0, 1,\n",
       "       1, 0, 1, 1, 0, 1, 1, 0, 1, 0, 1, 0, 1, 0, 0, 0, 0, 0, 0, 0, 1, 0,\n",
       "       0, 0, 1, 0, 1, 1, 0, 0, 0, 0, 1, 0, 0, 0, 1, 0, 0, 0, 1, 1, 1, 0,\n",
       "       0, 0, 0, 0, 0, 1, 0, 1, 0, 0, 1, 1, 0, 0, 0, 0, 0, 0, 0, 1, 0, 0,\n",
       "       1, 0, 0, 0, 1, 0, 0, 1, 1, 0, 1, 0, 0, 0, 0, 0, 0, 0, 0, 0, 0, 0,\n",
       "       0, 0, 0, 0, 0, 0, 0, 0, 1, 1, 0, 1, 0, 0, 0, 0, 0, 0, 1, 1, 0, 0,\n",
       "       0, 1, 0, 0, 0, 0, 0, 0, 0, 0, 1, 0, 0, 0, 0, 0, 0, 0, 1, 0, 1, 0,\n",
       "       0, 0, 0, 0, 0, 0, 1, 0, 1, 0, 0, 0, 0, 0, 0, 0, 1, 0, 1, 0, 0, 0,\n",
       "       0, 0, 0, 0, 0, 0, 0, 0, 0, 0, 0, 0, 0, 1, 0, 0, 0, 0, 0, 0, 1, 0,\n",
       "       1, 0, 0, 0, 0, 0, 0, 0, 0, 1, 0, 0, 1, 0, 0, 1, 1, 0, 0, 1, 0, 0,\n",
       "       1, 1, 0, 0, 0, 0, 0, 0, 0, 0, 0, 1, 0, 0, 0, 0, 1, 0, 0, 0, 0, 1,\n",
       "       0, 1, 0, 0, 1, 0, 1, 1, 0, 0, 0, 1, 1, 0, 1, 1, 0, 0, 1, 0, 0, 0])"
      ]
     },
     "execution_count": 28,
     "metadata": {},
     "output_type": "execute_result"
    }
   ],
   "source": [
    "y_test = model.predict(X_test)\n",
    "y_test = y_test[:,0]\n",
    "y_test = y_test > 0.5\n",
    "y_test = y_test.astype(int)\n",
    "y_test"
   ]
  },
  {
   "cell_type": "markdown",
   "id": "vanilla-tradition",
   "metadata": {},
   "source": [
    "It looks like most of these passengers survived! We need to convert this back into the submission CSV format. This means we need to associate each output value with the passenger ID. Since everything is still in order, we can use Python's zip enumerate feature to pairwise associate and enumerate over the two:"
   ]
  },
  {
   "cell_type": "code",
   "execution_count": 29,
   "id": "married-network",
   "metadata": {
    "execution": {
     "iopub.execute_input": "2021-09-29T04:03:30.531497Z",
     "iopub.status.busy": "2021-09-29T04:03:30.531320Z",
     "iopub.status.idle": "2021-09-29T04:03:30.538636Z",
     "shell.execute_reply": "2021-09-29T04:03:30.538119Z",
     "shell.execute_reply.started": "2021-09-29T04:03:30.531478Z"
    },
    "tags": []
   },
   "outputs": [
    {
     "data": {
      "text/plain": [
       "[(892, 0),\n",
       " (893, 0),\n",
       " (894, 0),\n",
       " (895, 0),\n",
       " (896, 0),\n",
       " (897, 0),\n",
       " (898, 0),\n",
       " (899, 0),\n",
       " (900, 0),\n",
       " (901, 0)]"
      ]
     },
     "execution_count": 29,
     "metadata": {},
     "output_type": "execute_result"
    }
   ],
   "source": [
    "submission_vals = list()\n",
    "for passengerId, survived in zip(test_data['PassengerId'], y_test):\n",
    "    submission_vals.append((passengerId, survived))\n",
    "submission_vals[:10]"
   ]
  },
  {
   "cell_type": "markdown",
   "id": "fifteen-preservation",
   "metadata": {},
   "source": [
    "Now let's write it to a CSV and submit!"
   ]
  },
  {
   "cell_type": "code",
   "execution_count": 30,
   "id": "broke-riverside",
   "metadata": {
    "execution": {
     "iopub.execute_input": "2021-09-29T04:03:32.119846Z",
     "iopub.status.busy": "2021-09-29T04:03:32.119596Z",
     "iopub.status.idle": "2021-09-29T04:03:32.214850Z",
     "shell.execute_reply": "2021-09-29T04:03:32.213676Z",
     "shell.execute_reply.started": "2021-09-29T04:03:32.119814Z"
    },
    "tags": []
   },
   "outputs": [
    {
     "data": {
      "text/html": [
       "<div>\n",
       "<style scoped>\n",
       "    .dataframe tbody tr th:only-of-type {\n",
       "        vertical-align: middle;\n",
       "    }\n",
       "\n",
       "    .dataframe tbody tr th {\n",
       "        vertical-align: top;\n",
       "    }\n",
       "\n",
       "    .dataframe thead th {\n",
       "        text-align: right;\n",
       "    }\n",
       "</style>\n",
       "<table border=\"1\" class=\"dataframe\">\n",
       "  <thead>\n",
       "    <tr style=\"text-align: right;\">\n",
       "      <th></th>\n",
       "      <th>PassengerId</th>\n",
       "      <th>Survived</th>\n",
       "    </tr>\n",
       "  </thead>\n",
       "  <tbody>\n",
       "    <tr>\n",
       "      <th>0</th>\n",
       "      <td>892</td>\n",
       "      <td>0</td>\n",
       "    </tr>\n",
       "    <tr>\n",
       "      <th>1</th>\n",
       "      <td>893</td>\n",
       "      <td>0</td>\n",
       "    </tr>\n",
       "    <tr>\n",
       "      <th>2</th>\n",
       "      <td>894</td>\n",
       "      <td>0</td>\n",
       "    </tr>\n",
       "    <tr>\n",
       "      <th>3</th>\n",
       "      <td>895</td>\n",
       "      <td>0</td>\n",
       "    </tr>\n",
       "    <tr>\n",
       "      <th>4</th>\n",
       "      <td>896</td>\n",
       "      <td>0</td>\n",
       "    </tr>\n",
       "    <tr>\n",
       "      <th>...</th>\n",
       "      <td>...</td>\n",
       "      <td>...</td>\n",
       "    </tr>\n",
       "    <tr>\n",
       "      <th>413</th>\n",
       "      <td>1305</td>\n",
       "      <td>0</td>\n",
       "    </tr>\n",
       "    <tr>\n",
       "      <th>414</th>\n",
       "      <td>1306</td>\n",
       "      <td>1</td>\n",
       "    </tr>\n",
       "    <tr>\n",
       "      <th>415</th>\n",
       "      <td>1307</td>\n",
       "      <td>0</td>\n",
       "    </tr>\n",
       "    <tr>\n",
       "      <th>416</th>\n",
       "      <td>1308</td>\n",
       "      <td>0</td>\n",
       "    </tr>\n",
       "    <tr>\n",
       "      <th>417</th>\n",
       "      <td>1309</td>\n",
       "      <td>0</td>\n",
       "    </tr>\n",
       "  </tbody>\n",
       "</table>\n",
       "<p>418 rows × 2 columns</p>\n",
       "</div>"
      ],
      "text/plain": [
       "     PassengerId  Survived\n",
       "0            892         0\n",
       "1            893         0\n",
       "2            894         0\n",
       "3            895         0\n",
       "4            896         0\n",
       "..           ...       ...\n",
       "413         1305         0\n",
       "414         1306         1\n",
       "415         1307         0\n",
       "416         1308         0\n",
       "417         1309         0\n",
       "\n",
       "[418 rows x 2 columns]"
      ]
     },
     "execution_count": 30,
     "metadata": {},
     "output_type": "execute_result"
    }
   ],
   "source": [
    "submission_df = pd.DataFrame(submission_vals, \n",
    "                             columns=['PassengerId', 'Survived'])\n",
    "submission_df.to_csv('~/Downloads/titanic_submission.csv', index=0)  # I had to look up on stack overflow how to remove the index column\n",
    "submission_df"
   ]
  },
  {
   "cell_type": "markdown",
   "id": "numeric-sister",
   "metadata": {},
   "source": [
    "(I got 49000th place)"
   ]
  },
  {
   "cell_type": "markdown",
   "id": "emerging-yemen",
   "metadata": {},
   "source": [
    "## Appendix: Parsing textual data"
   ]
  },
  {
   "cell_type": "markdown",
   "id": "graduate-motorcycle",
   "metadata": {},
   "source": [
    "You may be curious how to parse text data meaningfully. There are quick tricks and deep answers to that question. First, a simple approach is to map each character or word to a unique dimension index. Keras supports this with the `preprocessing` api:"
   ]
  },
  {
   "cell_type": "code",
   "execution_count": 31,
   "id": "administrative-disclosure",
   "metadata": {
    "execution": {
     "iopub.execute_input": "2021-09-29T04:03:34.190458Z",
     "iopub.status.busy": "2021-09-29T04:03:34.190184Z",
     "iopub.status.idle": "2021-09-29T04:03:34.197181Z",
     "shell.execute_reply": "2021-09-29T04:03:34.196393Z",
     "shell.execute_reply.started": "2021-09-29T04:03:34.190422Z"
    },
    "tags": []
   },
   "outputs": [
    {
     "data": {
      "text/plain": [
       "array([[2]])"
      ]
     },
     "execution_count": 31,
     "metadata": {},
     "output_type": "execute_result"
    }
   ],
   "source": [
    "tokenizer = tf.keras.preprocessing.text.Tokenizer(num_words=1000)\n",
    "tokenizer.fit_on_texts(['Your', 'text'])\n",
    "seq = tokenizer.texts_to_sequences([\"This is some sample text\"])\n",
    "seq = np.array(seq)\n",
    "seq"
   ]
  },
  {
   "cell_type": "markdown",
   "id": "occupied-olympus",
   "metadata": {},
   "source": [
    "Then you can feed this input to an `Embedding` layer, which will make a high-dimensional semantically 'meaningful' vector embedding of the word tokens. "
   ]
  },
  {
   "cell_type": "code",
   "execution_count": 32,
   "id": "small-remark",
   "metadata": {
    "execution": {
     "iopub.execute_input": "2021-09-29T04:03:35.664315Z",
     "iopub.status.busy": "2021-09-29T04:03:35.664111Z",
     "iopub.status.idle": "2021-09-29T04:03:35.684993Z",
     "shell.execute_reply": "2021-09-29T04:03:35.684414Z",
     "shell.execute_reply.started": "2021-09-29T04:03:35.664293Z"
    },
    "tags": []
   },
   "outputs": [
    {
     "data": {
      "text/plain": [
       "<tf.Tensor: shape=(1, 1, 50), dtype=float32, numpy=\n",
       "array([[[-0.03666707, -0.0117747 , -0.01397576, -0.03344081,\n",
       "          0.00617025, -0.00786964, -0.0313362 , -0.02986075,\n",
       "         -0.04250616,  0.03273335,  0.03770379, -0.0225114 ,\n",
       "         -0.02535275, -0.03679086, -0.02828252, -0.01776195,\n",
       "          0.01099538,  0.04877671, -0.03985844, -0.00252389,\n",
       "         -0.04078058,  0.04710824,  0.04433593, -0.04815951,\n",
       "          0.01366485,  0.03712184,  0.01594793,  0.04662714,\n",
       "          0.04077223,  0.04944262,  0.03550125,  0.0411897 ,\n",
       "          0.02776184,  0.00730548,  0.04782952,  0.0046821 ,\n",
       "          0.01143534, -0.02176028, -0.04670025, -0.0265502 ,\n",
       "          0.04350844,  0.02636589, -0.00414578,  0.03208989,\n",
       "          0.00499483,  0.03859944,  0.03411831, -0.04564637,\n",
       "         -0.0142778 , -0.02033343]]], dtype=float32)>"
      ]
     },
     "execution_count": 32,
     "metadata": {},
     "output_type": "execute_result"
    }
   ],
   "source": [
    "emb_layer = tf.keras.layers.Embedding(input_dim=1000, output_dim=50)\n",
    "emb_layer(seq)"
   ]
  },
  {
   "cell_type": "markdown",
   "id": "touched-berkeley",
   "metadata": {},
   "source": [
    "Great! Now your dense layers and other layers can start learning the tokenizer's language to parse words (or characters) in order to understand natural language columns."
   ]
  },
  {
   "cell_type": "markdown",
   "id": "nasty-myanmar",
   "metadata": {},
   "source": [
    "A faster (actually computationally slower, but faster to develop) and more complete solution is just to use off-the-shelf transformers like GPT."
   ]
  },
  {
   "cell_type": "code",
   "execution_count": 33,
   "id": "fifth-denial",
   "metadata": {
    "execution": {
     "iopub.execute_input": "2021-09-29T04:03:42.090833Z",
     "iopub.status.busy": "2021-09-29T04:03:42.090512Z",
     "iopub.status.idle": "2021-09-29T04:03:44.993175Z",
     "shell.execute_reply": "2021-09-29T04:03:44.991048Z",
     "shell.execute_reply.started": "2021-09-29T04:03:42.090797Z"
    },
    "tags": []
   },
   "outputs": [],
   "source": [
    "import transformers"
   ]
  },
  {
   "cell_type": "code",
   "execution_count": 34,
   "id": "continent-conference",
   "metadata": {
    "execution": {
     "iopub.execute_input": "2021-09-29T04:03:55.989635Z",
     "iopub.status.busy": "2021-09-29T04:03:55.989136Z",
     "iopub.status.idle": "2021-09-29T04:04:21.132439Z",
     "shell.execute_reply": "2021-09-29T04:04:20.563007Z",
     "shell.execute_reply.started": "2021-09-29T04:03:55.989582Z"
    },
    "tags": []
   },
   "outputs": [
    {
     "name": "stderr",
     "output_type": "stream",
     "text": [
      "ftfy or spacy is not installed using BERT BasicTokenizer instead of SpaCy & ftfy.\n"
     ]
    }
   ],
   "source": [
    "gpt_tokenizer = transformers.OpenAIGPTTokenizer.from_pretrained('openai-gpt')\n",
    "gpt_model = transformers.OpenAIGPTModel.from_pretrained('openai-gpt')"
   ]
  },
  {
   "cell_type": "code",
   "execution_count": 35,
   "id": "close-recruitment",
   "metadata": {
    "collapsed": true,
    "execution": {
     "iopub.execute_input": "2021-09-29T04:05:50.426053Z",
     "iopub.status.busy": "2021-09-29T04:05:50.425732Z",
     "iopub.status.idle": "2021-09-29T04:05:52.140460Z",
     "shell.execute_reply": "2021-09-29T04:05:52.138717Z",
     "shell.execute_reply.started": "2021-09-29T04:05:50.426017Z"
    },
    "jupyter": {
     "outputs_hidden": true
    },
    "tags": []
   },
   "outputs": [
    {
     "ename": "AttributeError",
     "evalue": "\n        'EagerTensor' object has no attribute 'size'.\n        If you are looking for numpy-related methods, please run the following:\n        from tensorflow.python.ops.numpy_ops import np_config\n        np_config.enable_numpy_behavior()",
     "output_type": "error",
     "traceback": [
      "\u001b[0;31m---------------------------------------------------------------------------\u001b[0m",
      "\u001b[0;31mAttributeError\u001b[0m                            Traceback (most recent call last)",
      "\u001b[0;32m<ipython-input-35-210e5781931c>\u001b[0m in \u001b[0;36m<module>\u001b[0;34m\u001b[0m\n\u001b[1;32m      1\u001b[0m \u001b[0mtokens\u001b[0m \u001b[0;34m=\u001b[0m \u001b[0mgpt_tokenizer\u001b[0m\u001b[0;34m.\u001b[0m\u001b[0mencode\u001b[0m\u001b[0;34m(\u001b[0m\u001b[0;34m\"some text input\"\u001b[0m\u001b[0;34m,\u001b[0m \u001b[0mreturn_tensors\u001b[0m\u001b[0;34m=\u001b[0m\u001b[0;34m'tf'\u001b[0m\u001b[0;34m)\u001b[0m\u001b[0;34m\u001b[0m\u001b[0;34m\u001b[0m\u001b[0m\n\u001b[0;32m----> 2\u001b[0;31m \u001b[0mtext_encoding\u001b[0m \u001b[0;34m=\u001b[0m \u001b[0mgpt_model\u001b[0m\u001b[0;34m(\u001b[0m\u001b[0mtokens\u001b[0m\u001b[0;34m)\u001b[0m\u001b[0;34m\u001b[0m\u001b[0;34m\u001b[0m\u001b[0m\n\u001b[0m",
      "\u001b[0;32m~/anaconda3/envs/ai/lib/python3.8/site-packages/torch/nn/modules/module.py\u001b[0m in \u001b[0;36m_call_impl\u001b[0;34m(self, *input, **kwargs)\u001b[0m\n\u001b[1;32m   1049\u001b[0m         if not (self._backward_hooks or self._forward_hooks or self._forward_pre_hooks or _global_backward_hooks\n\u001b[1;32m   1050\u001b[0m                 or _global_forward_hooks or _global_forward_pre_hooks):\n\u001b[0;32m-> 1051\u001b[0;31m             \u001b[0;32mreturn\u001b[0m \u001b[0mforward_call\u001b[0m\u001b[0;34m(\u001b[0m\u001b[0;34m*\u001b[0m\u001b[0minput\u001b[0m\u001b[0;34m,\u001b[0m \u001b[0;34m**\u001b[0m\u001b[0mkwargs\u001b[0m\u001b[0;34m)\u001b[0m\u001b[0;34m\u001b[0m\u001b[0;34m\u001b[0m\u001b[0m\n\u001b[0m\u001b[1;32m   1052\u001b[0m         \u001b[0;31m# Do not call functions when jit is used\u001b[0m\u001b[0;34m\u001b[0m\u001b[0;34m\u001b[0m\u001b[0;34m\u001b[0m\u001b[0m\n\u001b[1;32m   1053\u001b[0m         \u001b[0mfull_backward_hooks\u001b[0m\u001b[0;34m,\u001b[0m \u001b[0mnon_full_backward_hooks\u001b[0m \u001b[0;34m=\u001b[0m \u001b[0;34m[\u001b[0m\u001b[0;34m]\u001b[0m\u001b[0;34m,\u001b[0m \u001b[0;34m[\u001b[0m\u001b[0;34m]\u001b[0m\u001b[0;34m\u001b[0m\u001b[0;34m\u001b[0m\u001b[0m\n",
      "\u001b[0;32m~/anaconda3/envs/ai/lib/python3.8/site-packages/transformers/models/openai/modeling_openai.py\u001b[0m in \u001b[0;36mforward\u001b[0;34m(self, input_ids, attention_mask, token_type_ids, position_ids, head_mask, inputs_embeds, output_attentions, output_hidden_states, return_dict)\u001b[0m\n\u001b[1;32m    460\u001b[0m             \u001b[0;32mraise\u001b[0m \u001b[0mValueError\u001b[0m\u001b[0;34m(\u001b[0m\u001b[0;34m\"You cannot specify both input_ids and inputs_embeds at the same time\"\u001b[0m\u001b[0;34m)\u001b[0m\u001b[0;34m\u001b[0m\u001b[0;34m\u001b[0m\u001b[0m\n\u001b[1;32m    461\u001b[0m         \u001b[0;32melif\u001b[0m \u001b[0minput_ids\u001b[0m \u001b[0;32mis\u001b[0m \u001b[0;32mnot\u001b[0m \u001b[0;32mNone\u001b[0m\u001b[0;34m:\u001b[0m\u001b[0;34m\u001b[0m\u001b[0;34m\u001b[0m\u001b[0m\n\u001b[0;32m--> 462\u001b[0;31m             \u001b[0minput_shape\u001b[0m \u001b[0;34m=\u001b[0m \u001b[0minput_ids\u001b[0m\u001b[0;34m.\u001b[0m\u001b[0msize\u001b[0m\u001b[0;34m(\u001b[0m\u001b[0;34m)\u001b[0m\u001b[0;34m\u001b[0m\u001b[0;34m\u001b[0m\u001b[0m\n\u001b[0m\u001b[1;32m    463\u001b[0m             \u001b[0minput_ids\u001b[0m \u001b[0;34m=\u001b[0m \u001b[0minput_ids\u001b[0m\u001b[0;34m.\u001b[0m\u001b[0mview\u001b[0m\u001b[0;34m(\u001b[0m\u001b[0;34m-\u001b[0m\u001b[0;36m1\u001b[0m\u001b[0;34m,\u001b[0m \u001b[0minput_shape\u001b[0m\u001b[0;34m[\u001b[0m\u001b[0;34m-\u001b[0m\u001b[0;36m1\u001b[0m\u001b[0;34m]\u001b[0m\u001b[0;34m)\u001b[0m\u001b[0;34m\u001b[0m\u001b[0;34m\u001b[0m\u001b[0m\n\u001b[1;32m    464\u001b[0m         \u001b[0;32melif\u001b[0m \u001b[0minputs_embeds\u001b[0m \u001b[0;32mis\u001b[0m \u001b[0;32mnot\u001b[0m \u001b[0;32mNone\u001b[0m\u001b[0;34m:\u001b[0m\u001b[0;34m\u001b[0m\u001b[0;34m\u001b[0m\u001b[0m\n",
      "\u001b[0;32m~/anaconda3/envs/ai/lib/python3.8/site-packages/tensorflow/python/framework/ops.py\u001b[0m in \u001b[0;36m__getattr__\u001b[0;34m(self, name)\u001b[0m\n\u001b[1;32m    394\u001b[0m                 \"tolist\", \"data\"}:\n\u001b[1;32m    395\u001b[0m       \u001b[0;31m# TODO(wangpeng): Export the enable_numpy_behavior knob\u001b[0m\u001b[0;34m\u001b[0m\u001b[0;34m\u001b[0m\u001b[0;34m\u001b[0m\u001b[0m\n\u001b[0;32m--> 396\u001b[0;31m       raise AttributeError(\"\"\"\n\u001b[0m\u001b[1;32m    397\u001b[0m         \u001b[0;34m'{}'\u001b[0m \u001b[0mobject\u001b[0m \u001b[0mhas\u001b[0m \u001b[0mno\u001b[0m \u001b[0mattribute\u001b[0m \u001b[0;34m'{}'\u001b[0m\u001b[0;34m.\u001b[0m\u001b[0;34m\u001b[0m\u001b[0;34m\u001b[0m\u001b[0m\n\u001b[1;32m    398\u001b[0m         \u001b[0mIf\u001b[0m \u001b[0myou\u001b[0m \u001b[0mare\u001b[0m \u001b[0mlooking\u001b[0m \u001b[0;32mfor\u001b[0m \u001b[0mnumpy\u001b[0m\u001b[0;34m-\u001b[0m\u001b[0mrelated\u001b[0m \u001b[0mmethods\u001b[0m\u001b[0;34m,\u001b[0m \u001b[0mplease\u001b[0m \u001b[0mrun\u001b[0m \u001b[0mthe\u001b[0m \u001b[0mfollowing\u001b[0m\u001b[0;34m:\u001b[0m\u001b[0;34m\u001b[0m\u001b[0;34m\u001b[0m\u001b[0m\n",
      "\u001b[0;31mAttributeError\u001b[0m: \n        'EagerTensor' object has no attribute 'size'.\n        If you are looking for numpy-related methods, please run the following:\n        from tensorflow.python.ops.numpy_ops import np_config\n        np_config.enable_numpy_behavior()"
     ]
    }
   ],
   "source": [
    "tokens = gpt_tokenizer.encode(\"some text input\", return_tensors='tf')\n",
    "text_encoding = gpt_model(tokens)"
   ]
  },
  {
   "cell_type": "markdown",
   "id": "collectible-nightlife",
   "metadata": {},
   "source": [
    "I didn't realize you need pytorch by default."
   ]
  },
  {
   "cell_type": "code",
   "execution_count": 37,
   "id": "prospective-excess",
   "metadata": {
    "execution": {
     "iopub.execute_input": "2021-09-29T04:06:23.824399Z",
     "iopub.status.busy": "2021-09-29T04:06:23.824036Z",
     "iopub.status.idle": "2021-09-29T04:06:23.828920Z",
     "shell.execute_reply": "2021-09-29T04:06:23.827981Z",
     "shell.execute_reply.started": "2021-09-29T04:06:23.824359Z"
    },
    "tags": []
   },
   "outputs": [],
   "source": [
    "import torch"
   ]
  },
  {
   "cell_type": "code",
   "execution_count": 38,
   "id": "geological-present",
   "metadata": {
    "execution": {
     "iopub.execute_input": "2021-09-29T04:06:39.610078Z",
     "iopub.status.busy": "2021-09-29T04:06:39.609689Z",
     "iopub.status.idle": "2021-09-29T04:06:42.614213Z",
     "shell.execute_reply": "2021-09-29T04:06:42.613630Z",
     "shell.execute_reply.started": "2021-09-29T04:06:39.610020Z"
    },
    "tags": []
   },
   "outputs": [],
   "source": [
    "tokens = gpt_tokenizer.encode(\"some text input\", return_tensors='pt')\n",
    "text_encoding = gpt_model(tokens)"
   ]
  },
  {
   "cell_type": "code",
   "execution_count": 39,
   "id": "activated-professional",
   "metadata": {
    "execution": {
     "iopub.execute_input": "2021-09-29T04:06:49.734485Z",
     "iopub.status.busy": "2021-09-29T04:06:49.733504Z",
     "iopub.status.idle": "2021-09-29T04:06:50.345764Z",
     "shell.execute_reply": "2021-09-29T04:06:50.342431Z",
     "shell.execute_reply.started": "2021-09-29T04:06:49.734398Z"
    },
    "tags": []
   },
   "outputs": [
    {
     "data": {
      "text/plain": [
       "BaseModelOutput(last_hidden_state=tensor([[[ 0.0882,  0.0539,  0.3581,  ...,  0.1716, -0.7176,  0.3359],\n",
       "         [ 0.0464,  0.3434,  0.2813,  ...,  0.3462, -0.6462,  0.5508],\n",
       "         [ 0.5369,  0.1385,  1.0945,  ...,  0.2260, -0.4896,  0.2685]]],\n",
       "       grad_fn=<ViewBackward>), hidden_states=None, attentions=None)"
      ]
     },
     "execution_count": 39,
     "metadata": {},
     "output_type": "execute_result"
    }
   ],
   "source": [
    "text_encoding"
   ]
  },
  {
   "cell_type": "markdown",
   "id": "treated-closure",
   "metadata": {},
   "source": [
    "You now have a highly informative vector representation. With pretrained transformers, you are generally good to go for advanced text data extraction."
   ]
  }
 ],
 "metadata": {
  "kernelspec": {
   "display_name": "ai",
   "language": "python",
   "name": "ai"
  },
  "language_info": {
   "codemirror_mode": {
    "name": "ipython",
    "version": 3
   },
   "file_extension": ".py",
   "mimetype": "text/x-python",
   "name": "python",
   "nbconvert_exporter": "python",
   "pygments_lexer": "ipython3",
   "version": "3.8.8"
  }
 },
 "nbformat": 4,
 "nbformat_minor": 5
}
