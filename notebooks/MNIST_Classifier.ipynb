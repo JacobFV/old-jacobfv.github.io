{
  "cells": [
    {
      "cell_type": "markdown",
      "metadata": {
        "id": "BtadkAOhL1ee"
      },
      "source": [
        "# MNIST Classifier\n",
        "\n",
        "In this tutorial, we are going to build a neural network that can classify handwritten digits (0-9)! Does that sound exciting? Probabbly not in this problem domain. However the principles we are going to apply in handwritten digit recognition are equally valid to other visual recognition challanges. Would you like to build a 1000 class image classifier? Are you developing an automated vehicle? Do you want to replicate the human visual system? Read on.\n",
        "\n",
        "*Disclaimer: the latter two objectives are far more complicated than this tutorial makes vision seem to be. It is almost abusive to consider human vision as simple as convolution.*"
      ]
    },
    {
      "cell_type": "markdown",
      "metadata": {
        "id": "l30_mJEuzntt"
      },
      "source": [
        "### Notice and Copyright"
      ]
    },
    {
      "cell_type": "markdown",
      "metadata": {
        "id": "h_mPTUndztZS"
      },
      "source": [
        "This tutorial was written to complete the Quiz 14 and Assignment 1 requirement of Data Mining:\n",
        "\n",
        "> Your goal is building CIFAR-10 image classifier. (Assignment 1)\n",
        "\n",
        "> Complete the MNIST Classifier shown in class and submit the code+output screenshot.\n",
        "> \n",
        "> Change the network to contain 4 convolution layers with 6, 32, 64, 16 layers, and 3 fully connected layers with 256, 64, 10 nodes in each layer respectively.\n",
        "> \n",
        "> Use sigmoid activation in all layers except the output layer.\n",
        "> (Quiz 14)\n",
        "\n",
        "All comments and code were written from memory. No papers, books, Google, stack overflow, or Internet unless noted.\n",
        "\n",
        "Copyright &copy; Jacob Valdez 2021. Released under MIT License."
      ]
    },
    {
      "cell_type": "markdown",
      "metadata": {
        "id": "euUgkDg41ELU"
      },
      "source": [
        "## Getting Started"
      ]
    },
    {
      "cell_type": "markdown",
      "metadata": {
        "id": "QDZm0H2G4fMp"
      },
      "source": [
        "As you start to explore github, you'll observe a few common nicknames that we give our packages. I'm just going to import my default go-to's for now:"
      ]
    },
    {
      "cell_type": "code",
      "execution_count": 1,
      "metadata": {
        "id": "kHFneIoiLSil"
      },
      "outputs": [],
      "source": [
        "import numpy as np\n",
        "import matplotlib.pyplot as plt\n",
        "import seaborn as sns\n",
        "import IPython.display as display\n",
        "\n",
        "import tensorflow as tf\n",
        "import tensorflow.keras as keras\n",
        "import tensorflow.keras.layers as tfkl\n",
        "import tensorflow.keras.datasets as datasets"
      ]
    },
    {
      "cell_type": "markdown",
      "metadata": {
        "id": "0KU9iEYT1G_7"
      },
      "source": [
        "## The Data"
      ]
    },
    {
      "cell_type": "markdown",
      "metadata": {
        "id": "wxQV5nkq45Uz"
      },
      "source": [
        "Let's load the `mnist` dataset and observe a few elements."
      ]
    },
    {
      "cell_type": "code",
      "execution_count": 2,
      "metadata": {
        "colab": {
          "base_uri": "https://localhost:8080/",
          "height": 1000
        },
        "id": "EbldrAalM5ar",
        "outputId": "a7e0f709-950d-4056-ea90-56290d4add5e"
      },
      "outputs": [
        {
          "name": "stdout",
          "output_type": "stream",
          "text": [
            "Downloading data from https://storage.googleapis.com/tensorflow/tf-keras-datasets/mnist.npz\n",
            "11493376/11490434 [==============================] - 2s 0us/step\n",
            "11501568/11490434 [==============================] - 2s 0us/step\n"
          ]
        },
        {
          "data": {
            "text/plain": [
              "5"
            ]
          },
          "metadata": {},
          "output_type": "display_data"
        },
        {
          "data": {
            "image/png": "[encoded data removed]",
            "text/plain": [
              "<Figure size 432x288 with 1 Axes>"
            ]
          },
          "metadata": {
            "needs_background": "light"
          },
          "output_type": "display_data"
        },
        {
          "data": {
            "text/plain": [
              "0"
            ]
          },
          "metadata": {},
          "output_type": "display_data"
        },
        {
          "data": {
            "image/png": "[encoded data removed]",
            "text/plain": [
              "<Figure size 432x288 with 1 Axes>"
            ]
          },
          "metadata": {
            "needs_background": "light"
          },
          "output_type": "display_data"
        },
        {
          "data": {
            "text/plain": [
              "4"
            ]
          },
          "metadata": {},
          "output_type": "display_data"
        },
        {
          "data": {
            "image/png": "[encoded data removed]",
            "text/plain": [
              "<Figure size 432x288 with 1 Axes>"
            ]
          },
          "metadata": {
            "needs_background": "light"
          },
          "output_type": "display_data"
        },
        {
          "data": {
            "text/plain": [
              "1"
            ]
          },
          "metadata": {},
          "output_type": "display_data"
        },
        {
          "data": {
            "image/png": "[encoded data removed]",
            "text/plain": [
              "<Figure size 432x288 with 1 Axes>"
            ]
          },
          "metadata": {
            "needs_background": "light"
          },
          "output_type": "display_data"
        },
        {
          "name": "stdout",
          "output_type": "stream",
          "text": [
            "(60000, 28, 28) (60000,) (10000, 28, 28) (10000,)\n"
          ]
        }
      ],
      "source": [
        "(X_train, Y_train), (X_test, Y_test) = datasets.mnist.load_data()\n",
        "\n",
        "for i in range(4):\n",
        "    plt.imshow(X_train[i])\n",
        "    display.display(Y_train[i])\n",
        "    plt.show()\n",
        "\n",
        "print(X_train.shape, Y_train.shape, X_test.shape, Y_test.shape)"
      ]
    },
    {
      "cell_type": "markdown",
      "metadata": {
        "id": "OmlsLB9s4_pV"
      },
      "source": [
        "Notice that each number has an image (stored in `X_train/test`) and a label (stored in `Y_train/test`) Each image is 28 by 28 pixels and there are 60000 training examples and 10000 test examples. Note that this dataset is supplied in integers so I'm going to convert it to floating point representation for our neural network:"
      ]
    },
    {
      "cell_type": "code",
      "execution_count": 3,
      "metadata": {
        "colab": {
          "base_uri": "https://localhost:8080/"
        },
        "id": "0WIvgqZf7BE3",
        "outputId": "eac1ae81-3e0c-412a-ccba-b5c0aa09964b"
      },
      "outputs": [
        {
          "name": "stdout",
          "output_type": "stream",
          "text": [
            "before uint8\n",
            "after float64\n"
          ]
        }
      ],
      "source": [
        "print('before', X_train.dtype)\n",
        "X_train, X_test = X_train/255., X_test/255.\n",
        "print('after', X_train.dtype)"
      ]
    },
    {
      "cell_type": "markdown",
      "metadata": {
        "id": "3j8UumXI1LlQ"
      },
      "source": [
        "## The Classifier"
      ]
    },
    {
      "cell_type": "markdown",
      "metadata": {
        "id": "pusyMgNm_OVK"
      },
      "source": [
        "We're just going to build a plain-old Convolutional Neural Network. The idea of performing convolutions is that not every part of an images has information pertaining to every other part. As we analyze a scene, we can often decompose the visual information relationships into a spatially segmented hierarchy. Convolutional neural networks carry this inductive bias by performing a miniature perceptron operation at every receptive field location in an image. Unless commented below, we'll use keras's default implementations to achieve this:  "
      ]
    },
    {
      "cell_type": "code",
      "execution_count": 4,
      "metadata": {
        "id": "BP1xK4X-Lf3N"
      },
      "outputs": [],
      "source": [
        "model = keras.Sequential([\n",
        "    tfkl.Input(shape=(28, 28)),\n",
        "    tfkl.Reshape(target_shape=(28, 28, 1)),  # give each pixel a 1 dimensional channel\n",
        "    tfkl.Conv2D(filters=6, kernel_size=(3,3), activation='sigmoid'),\n",
        "    tfkl.Conv2D(filters=32, kernel_size=(3,3), activation='sigmoid'),\n",
        "    tfkl.Conv2D(filters=64, kernel_size=(3,3), activation='sigmoid'),\n",
        "    tfkl.Conv2D(filters=16, kernel_size=(3,3), activation='sigmoid'),\n",
        "    tfkl.GlobalMaxPooling2D(),  # this layer will take the highest value features over all pixels for each of the 16 filters\n",
        "    tfkl.Dense(256, activation='sigmoid'),\n",
        "    tfkl.Dense(64, activation='sigmoid'),\n",
        "    tfkl.Dense(10),\n",
        "])"
      ]
    },
    {
      "cell_type": "markdown",
      "metadata": {
        "id": "33-VHaHg1Nvg"
      },
      "source": [
        "## Training\n",
        "\n",
        "Next, we're goign to train our classifier. Since the data is supplied with integer labels but our model outputs probabilities over 10 classes, we cannot directly differentiate between the two without either\n",
        "- converting `y_train` and `y_test` integer labels into one-hot encodings or\n",
        "- using a sparse categorical loss function.\n",
        "\n",
        "I select the latter option for computational and information theoretic reasons. Cross entropy $H(p,q)$ represents the expected amount of extra information needed to encode some code under an existing distribution. Formally, $$H(p,q)=E_{x \\sim p(x)}[-\\log{q(x)}]$$\n",
        "This is ideal when our model serves as the posterier $q(x,y)$ and the dataset as the prior $p(x,y)$. Our loss function will then be the sparse categorical cross entropy between our model's estimates and the dataset labels. Keras provides a high level interface to implement this in the `model.compile` function:"
      ]
    },
    {
      "cell_type": "code",
      "execution_count": 5,
      "metadata": {
        "colab": {
          "base_uri": "https://localhost:8080/"
        },
        "id": "CIvjK_MqM4GT",
        "outputId": "b2e0f86c-e462-48a5-c9b5-7369d2c5f186"
      },
      "outputs": [
        {
          "name": "stdout",
          "output_type": "stream",
          "text": [
            "Model: \"sequential\"\n",
            "_________________________________________________________________\n",
            "Layer (type)                 Output Shape              Param #   \n",
            "=================================================================\n",
            "reshape (Reshape)            (None, 28, 28, 1)         0         \n",
            "_________________________________________________________________\n",
            "conv2d (Conv2D)              (None, 26, 26, 6)         60        \n",
            "_________________________________________________________________\n",
            "conv2d_1 (Conv2D)            (None, 24, 24, 32)        1760      \n",
            "_________________________________________________________________\n",
            "conv2d_2 (Conv2D)            (None, 22, 22, 64)        18496     \n",
            "_________________________________________________________________\n",
            "conv2d_3 (Conv2D)            (None, 20, 20, 16)        9232      \n",
            "_________________________________________________________________\n",
            "global_max_pooling2d (Global (None, 16)                0         \n",
            "_________________________________________________________________\n",
            "dense (Dense)                (None, 256)               4352      \n",
            "_________________________________________________________________\n",
            "dense_1 (Dense)              (None, 64)                16448     \n",
            "_________________________________________________________________\n",
            "dense_2 (Dense)              (None, 10)                650       \n",
            "=================================================================\n",
            "Total params: 50,998\n",
            "Trainable params: 50,998\n",
            "Non-trainable params: 0\n",
            "_________________________________________________________________\n"
          ]
        }
      ],
      "source": [
        "model.compile(loss=keras.losses.SparseCategoricalCrossentropy(from_logits=True))\n",
        "model.summary()"
      ]
    },
    {
      "cell_type": "markdown",
      "metadata": {
        "id": "cE0XTzET33dT"
      },
      "source": [
        "Now it's time to actually train the model. Let's supply our training a testing data and see how training progresses:"
      ]
    },
    {
      "cell_type": "code",
      "execution_count": 6,
      "metadata": {
        "colab": {
          "base_uri": "https://localhost:8080/"
        },
        "id": "d4CNYojJNWfg",
        "outputId": "64e46dbd-3d2e-405c-d9a4-2fe3f45e3fda"
      },
      "outputs": [
        {
          "name": "stdout",
          "output_type": "stream",
          "text": [
            "Epoch 1/10\n",
            "938/938 - 103s - loss: 2.3093 - val_loss: 2.3037\n",
            "Epoch 2/10\n",
            "938/938 - 100s - loss: 2.3040 - val_loss: 2.3022\n",
            "Epoch 3/10\n",
            "938/938 - 105s - loss: 2.3028 - val_loss: 2.3025\n",
            "Epoch 4/10\n",
            "938/938 - 100s - loss: 2.3022 - val_loss: 2.3018\n",
            "Epoch 5/10\n",
            "938/938 - 99s - loss: 2.3020 - val_loss: 2.3020\n",
            "Epoch 6/10\n",
            "938/938 - 98s - loss: 2.3020 - val_loss: 2.3026\n",
            "Epoch 7/10\n",
            "938/938 - 97s - loss: 2.3020 - val_loss: 2.3019\n",
            "Epoch 8/10\n",
            "938/938 - 96s - loss: 2.3019 - val_loss: 2.3013\n",
            "Epoch 9/10\n",
            "938/938 - 98s - loss: 2.3018 - val_loss: 2.3015\n",
            "Epoch 10/10\n",
            "938/938 - 98s - loss: 2.3017 - val_loss: 2.3012\n"
          ]
        }
      ],
      "source": [
        "history = model.fit(\n",
        "    x=X_train,\n",
        "    y=Y_train,\n",
        "    batch_size=64,\n",
        "    epochs=10,\n",
        "    verbose=2,\n",
        "    validation_data=(X_test, Y_test),\n",
        "    validation_batch_size=64,\n",
        ")"
      ]
    },
    {
      "cell_type": "markdown",
      "metadata": {
        "id": "9KgTD3xV-jBy"
      },
      "source": [
        "What's happening? The loss isn't improving. \n",
        "\n",
        "Why can't we just plug and chug whatever data we want into our model? Consider two reasons:\n",
        "1) There is no globally optimal universal approximator, and specialized models such as this CNN may not have sufficient inductive priors to estimate their data generating distribution\n",
        "2) Sigmoid-type activation functions saturate the gradients relatively easily. This means that when the input is large in the positive or negative extrema, gradients are effectively zero. During backpropagation, the gradients hardly penetrate the top layer and only slowly penetrate lower and lower into the model. (See the paper that introduced batch norm and *The Principles of Deep Learning Theory* for a longer discussion of these points.)\n",
        "\n",
        "We can solve this problem by changing our activation function to something that is still nonlinear but allows gradients to flow faster over the epochs. My go-to activation function is the rectified linear unit `relu`:"
      ]
    },
    {
      "cell_type": "code",
      "execution_count": 7,
      "metadata": {
        "colab": {
          "base_uri": "https://localhost:8080/"
        },
        "id": "s7g1B1gH85_F",
        "outputId": "73d327cd-3de4-4eb0-e204-842cd93578a6"
      },
      "outputs": [
        {
          "name": "stdout",
          "output_type": "stream",
          "text": [
            "Epoch 1/10\n",
            "938/938 - 97s - loss: 0.6285 - val_loss: 0.3915\n",
            "Epoch 2/10\n",
            "938/938 - 92s - loss: 0.2265 - val_loss: 0.1613\n",
            "Epoch 3/10\n",
            "938/938 - 92s - loss: 0.1514 - val_loss: 0.1135\n",
            "Epoch 4/10\n",
            "938/938 - 92s - loss: 0.1176 - val_loss: 0.1007\n",
            "Epoch 5/10\n",
            "938/938 - 94s - loss: 0.0979 - val_loss: 0.0949\n",
            "Epoch 6/10\n",
            "938/938 - 95s - loss: 0.0851 - val_loss: 0.0955\n",
            "Epoch 7/10\n",
            "938/938 - 94s - loss: 0.0785 - val_loss: 0.1052\n",
            "Epoch 8/10\n",
            "938/938 - 96s - loss: 0.0732 - val_loss: 0.1247\n",
            "Epoch 9/10\n",
            "938/938 - 97s - loss: 0.0690 - val_loss: 0.0772\n",
            "Epoch 10/10\n",
            "938/938 - 92s - loss: 0.0637 - val_loss: 0.0789\n"
          ]
        }
      ],
      "source": [
        "model = keras.Sequential([\n",
        "    tfkl.Input(shape=(28, 28)),\n",
        "    tfkl.Reshape(target_shape=(28, 28, 1)),  # give each pixel a 1 dimensional channel\n",
        "    tfkl.Conv2D(filters=6, kernel_size=(3,3), activation='relu'),\n",
        "    tfkl.Conv2D(filters=32, kernel_size=(3,3), activation='relu'),\n",
        "    tfkl.Conv2D(filters=64, kernel_size=(3,3), activation='relu'),\n",
        "    tfkl.Conv2D(filters=16, kernel_size=(3,3), activation='relu'),\n",
        "    tfkl.GlobalMaxPooling2D(),  # this layer will take the highest value features over all pixels for each of the 16 filters\n",
        "    tfkl.Dense(256, activation='relu'),\n",
        "    tfkl.Dense(64, activation='relu'),\n",
        "    tfkl.Dense(10),\n",
        "])\n",
        "model.compile(loss=keras.losses.SparseCategoricalCrossentropy(from_logits=True))\n",
        "history = model.fit(\n",
        "    x=X_train,\n",
        "    y=Y_train,\n",
        "    batch_size=64,\n",
        "    epochs=10,\n",
        "    verbose=2,\n",
        "    validation_data=(X_test, Y_test),\n",
        "    validation_batch_size=64,\n",
        ")"
      ]
    },
    {
      "cell_type": "markdown",
      "metadata": {
        "id": "ILGSgogpBDMv"
      },
      "source": [
        "What a significant change. `relu` definitely performed better in the first 10 epochs than `sigmoid`. Feel free to experiment yourself with this model."
      ]
    },
    {
      "cell_type": "code",
      "execution_count": null,
      "metadata": {},
      "outputs": [],
      "source": [
        "# your code here (download this notebook at https://raw.githubusercontent.com/JacobFV/jacobfv.github.io/source/notebooks/MNIST_Classifier.ipynb)"
      ]
    },
    {
      "cell_type": "markdown",
      "metadata": {},
      "source": [
        "## How to Overfit Your Dev Set\n",
        "\n",
        "I hope you've enjoyed learning about machine learning by tweaking the hyperparameters of your model. Likely you realize at this point that we could tweek hyperparameters forever. Why not let machine learn machine learning instead? [`ray-tune`](https://docs.ray.io/en/latest/tune/index.html) is a powerful tool we can use to find the optimal hyperparameters for a model. We'll use it along with `tensorboard` to conduct sbayesian optimal, asynchronous halving, and population based optimization.\n",
        "\n",
        "Per its official docs, `ray.tune` frames its optimization problem into a run -- report metric -- optimize iteration loop. To give you the idea, here's their [quick start code](https://docs.ray.io/en/latest/tune/index.html):\n",
        "\n",
        "```python\n",
        "from ray import tune\n",
        "\n",
        "\n",
        "def objective(step, alpha, beta):\n",
        "    return (0.1 + alpha * step / 100)**(-1) + beta * 0.1\n",
        "\n",
        "\n",
        "def training_function(config):\n",
        "    # Hyperparameters\n",
        "    alpha, beta = config[\"alpha\"], config[\"beta\"]\n",
        "    for step in range(10):\n",
        "        # Iterative training function - can be any arbitrary training procedure.\n",
        "        intermediate_score = objective(step, alpha, beta)\n",
        "        # Feed the score back back to Tune.\n",
        "        tune.report(mean_loss=intermediate_score)\n",
        "\n",
        "\n",
        "analysis = tune.run(\n",
        "    training_function,\n",
        "    config={\n",
        "        \"alpha\": tune.grid_search([0.001, 0.01, 0.1]),\n",
        "        \"beta\": tune.choice([1, 2, 3])\n",
        "    })\n",
        "\n",
        "print(\"Best config: \", analysis.get_best_config(\n",
        "    metric=\"mean_loss\", mode=\"min\"))\n",
        "\n",
        "# Get a dataframe for analyzing trial results.\n",
        "df = analysis.results_df\n",
        "```\n",
        "\n",
        "Let's make an isomorphic case with our MNIST classifier: We'll have a triple optimization loop. On the inside, `SGD`, `Adam`, `RMSProp`, or another first order optimizer will backpropagate gradients into the trainable parameters. After 10 epochs, a hyperparameter optimizer will tune our choice of activation function, hidden convolution and dense layers, hidden depth, loss function, and inner optimizer. Finally, we'll be the slow optimizer and make changes to the primary and secondary optimization loops when needed. Let's start by defining our meta-objective:"
      ]
    },
    {
      "cell_type": "code",
      "execution_count": null,
      "metadata": {},
      "outputs": [],
      "source": [
        "def meta_loss(hparams):\n",
        "\n",
        "    # number of units in each layer (if applicable)\n",
        "    N1 = hparams['N1']\n",
        "    N2 = hparams['N2']\n",
        "    N3 = hparams['N3']\n",
        "    N4 = hparams['N4']\n",
        "    N5 = hparams['N5']\n",
        "    N6 = hparams['N6']\n",
        "    N7 = hparams['N7']\n",
        "\n",
        "    # layer type: conv2d, dense, maxpooling2d, flatten, dropout, none\n",
        "    # exactly one flatten layer is allowed and conv2d must be placed before flatten\n",
        "    # errors are indicated by massive negative losses\n",
        "    L1 = hparams['L1']\n",
        "    L2 = hparams['L2']\n",
        "    L3 = hparams['L3']\n",
        "    L4 = hparams['L4']\n",
        "    L5 = hparams['L5']\n",
        "    L6 = hparams['L6']\n",
        "    L7 = hparams['L7']\n",
        "\n",
        "    # learning rate is linearly interpolated between the two values\n",
        "    start_learning_rate = 10 ** hparams['start_learning_rate_exp']  # -4.0 to -1.0\n",
        "    end_learning_rate = 10 ** hparams['end_learning_rate_exp']  # -4.0 to -1.0\n",
        "    optimizer = hparams['optimizer']  # 'adam', 'sgd', 'rmsprop', 'adagrad', 'adadelta', 'adamax', or 'nadam'\n",
        "    batch_size = hparams['batch_size']  # 4 to 1024, integers only\n",
        "    loss = hparams['loss']  # 'mse', 'mae', 'mape', 'categorical_crossentropy', or 'sparse_categorical_crossentropy'\n",
        "\n",
        "    # build model\n",
        "    model = keras.Sequential([\n",
        "        tfkl.Input(shape=(28, 28)),\n",
        "        tfkl.Reshape(target_shape=(28, 28, 1))  # give each pixel a 1 dimensional channel\n",
        "    ])\n",
        "\n",
        "    model.add(tfkl.Dense(10, activation='softmax'))  # softmax activation is used for classification\n",
        "    model.compile(loss=keras.losses.SparseCategoricalCrossentropy(from_logits=True),\n",
        "\n",
        "    # train model\n",
        "    history = model.fit(\n",
        "        x=X_train,\n",
        "        y=Y_train,\n",
        "        batch_size=batch_size,\n",
        "        epochs=epochs,\n",
        "        verbose=2,\n",
        "        validation_data=(X_test, Y_test),\n",
        "        validation_batch_size=64,\n",
        "    )\n",
        "\n",
        "    # report validation loss\n",
        "    return history.history['val_loss'][-1]"
      ]
    },
    {
      "cell_type": "markdown",
      "metadata": {},
      "source": [
        "Now just looking at the hyperparameter space we've defined, you can see why this is overkill for MNIST. Each run of `meta_loss` runs a full 10 iterations on the optimization loop beneath it. To meet these computation demands, I'm running this notebook on a deep learning optimized Google Cloud VM (n1-highmem-2 with an nvidia-tesla-k80). Learn how you can do this on your own for AWS or GCP from my [previous notebook](https://jacobfv.github.io/blog/rtc-jupyterlab-in-the-cloud/).\n",
        "\n",
        "Without further hesitation (the assignment due date is approaching), let's start tuning!"
      ]
    },
    {
      "cell_type": "code",
      "execution_count": null,
      "metadata": {},
      "outputs": [],
      "source": [
        "# TODO"
      ]
    },
    {
      "cell_type": "markdown",
      "metadata": {},
      "source": [
        "Modest improvement. Let's try a few other tunning algorithms:"
      ]
    },
    {
      "cell_type": "code",
      "execution_count": null,
      "metadata": {},
      "outputs": [],
      "source": [
        "# TODO"
      ]
    },
    {
      "cell_type": "markdown",
      "metadata": {},
      "source": [
        "Make comment on which approach was best.\n",
        "\n",
        "This was a long notebook. I hope you enjoyed it. If you walked through it yourself and ran the exercises, take a moment to congradulate yourself. What would you move to the inner optimization loop? What would you keep in the slow lane? Would you make the gradient optimizer differentiable also? Would you run a 2nd order Hessian optimizer on the final layers? Please share your thoughts with gpt3 and me."
      ]
    }
  ],
  "metadata": {
    "accelerator": "GPU",
    "colab": {
      "collapsed_sections": [],
      "name": "MNIST Classifier.ipynb",
      "provenance": []
    },
    "interpreter": {
      "hash": "605fe966a75bc2c3dfa708e269323e6491854b30a36f4e77953579e94649bfba"
    },
    "kernelspec": {
      "display_name": "Python 3.8.8 64-bit ('ai': conda)",
      "name": "python3"
    },
    "language_info": {
      "codemirror_mode": {
        "name": "ipython",
        "version": 3
      },
      "file_extension": ".py",
      "mimetype": "text/x-python",
      "name": "python",
      "nbconvert_exporter": "python",
      "pygments_lexer": "ipython3",
      "version": "3.8.8"
    }
  },
  "nbformat": 4,
  "nbformat_minor": 0
}
