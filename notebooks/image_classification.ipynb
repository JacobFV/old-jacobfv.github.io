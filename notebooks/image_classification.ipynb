{
  "cells": [
    {
      "cell_type": "markdown",
      "metadata": {
        "id": "BtadkAOhL1ee"
      },
      "source": [
        "# MNIST Classifier\n",
        "\n",
        "In this tutorial, we are going to build a neural network that can classify handwritten digits (0-9)! Does that sound exciting? Probabbly not in this problem domain. However the principles we are going to apply in handwritten digit recognition are equally valid to other visual recognition challanges. Would you like to build a 1000 class image classifier? Are you developing an automated vehicle? Do you want to replicate the human visual system? Read on.\n",
        "\n",
        "*Disclaimer: the latter two objectives are far more complicated than this tutorial makes vision seem to be. It is almost abusive to consider human vision as simple as convolution.*"
      ]
    },
    {
      "cell_type": "markdown",
      "metadata": {
        "id": "l30_mJEuzntt"
      },
      "source": [
        "### Notice and Copyright"
      ]
    },
    {
      "cell_type": "markdown",
      "metadata": {
        "id": "h_mPTUndztZS"
      },
      "source": [
        "This tutorial was written to complete the Quiz 14 requirement of Data Mining:\n",
        "\n",
        "> Complete the MNIST Classifier shown in class and submit the code+output screenshot.\n",
        "> \n",
        "> Change the network to contain 4 convolution layers with 6, 32, 64, 16 layers, and 3 fully connected layers with 256, 64, 10 nodes in each layer respectively.\n",
        "> \n",
        "> Use sigmoid activation in all layers except the output layer.\n",
        "\n",
        "And later extended for the Assignment 1 requirement of the same class:\n",
        "\n",
        "> Your goal is building CIFAR-10 image classifier.\n",
        "\n",
        "All comments and code were written from memory. No papers, books, Google, stack overflow, or Internet unless noted.\n",
        "\n",
        "Copyright &copy; Jacob Valdez 2021. Released under MIT License."
      ]
    },
    {
      "cell_type": "markdown",
      "metadata": {
        "id": "euUgkDg41ELU"
      },
      "source": [
        "## Getting Started"
      ]
    },
    {
      "cell_type": "markdown",
      "metadata": {
        "id": "QDZm0H2G4fMp"
      },
      "source": [
        "As you start to explore github, you'll observe a few common nicknames that we give our packages. I'm just going to import my default go-to's for now:"
      ]
    },
    {
      "cell_type": "code",
      "execution_count": null,
      "metadata": {
        "id": "kHFneIoiLSil"
      },
      "outputs": [],
      "source": [
        "import numpy as np\n",
        "import matplotlib.pyplot as plt\n",
        "import seaborn as sns\n",
        "import IPython.display as display\n",
        "\n",
        "import tensorflow as tf\n",
        "import tensorflow.keras as keras\n",
        "import tensorflow.keras.layers as tfkl\n",
        "import tensorflow.keras.datasets as datasets"
      ]
    },
    {
      "cell_type": "markdown",
      "metadata": {
        "id": "0KU9iEYT1G_7",
        "jp-MarkdownHeadingCollapsed": true,
        "tags": []
      },
      "source": [
        "## The Data"
      ]
    },
    {
      "cell_type": "markdown",
      "metadata": {
        "id": "wxQV5nkq45Uz"
      },
      "source": [
        "Let's load the `mnist` dataset and observe a few elements."
      ]
    },
    {
      "cell_type": "code",
      "execution_count": null,
      "metadata": {
        "colab": {
          "base_uri": "https://localhost:8080/",
          "height": 1000
        },
        "id": "EbldrAalM5ar",
        "outputId": "1968f290-448f-4bdb-92b1-51b187654269"
      },
      "outputs": [
        {
          "name": "stdout",
          "output_type": "stream",
          "text": [
            "Downloading data from https://storage.googleapis.com/tensorflow/tf-keras-datasets/mnist.npz\n",
            "11493376/11490434 [==============================] - 0s 0us/step\n",
            "11501568/11490434 [==============================] - 0s 0us/step\n"
          ]
        },
        {
          "data": {
            "text/plain": [
              "5"
            ]
          },
          "metadata": {},
          "output_type": "display_data"
        },
        {
          "data": {
            "image/png": "[encoded data removed]",
            "text/plain": [
              "<Figure size 432x288 with 1 Axes>"
            ]
          },
          "metadata": {
            "needs_background": "light"
          },
          "output_type": "display_data"
        },
        {
          "data": {
            "text/plain": [
              "0"
            ]
          },
          "metadata": {},
          "output_type": "display_data"
        },
        {
          "data": {
            "image/png": "[encoded data removed]",
            "text/plain": [
              "<Figure size 432x288 with 1 Axes>"
            ]
          },
          "metadata": {
            "needs_background": "light"
          },
          "output_type": "display_data"
        },
        {
          "data": {
            "text/plain": [
              "4"
            ]
          },
          "metadata": {},
          "output_type": "display_data"
        },
        {
          "data": {
            "image/png": "[encoded data removed]",
            "text/plain": [
              "<Figure size 432x288 with 1 Axes>"
            ]
          },
          "metadata": {
            "needs_background": "light"
          },
          "output_type": "display_data"
        },
        {
          "data": {
            "text/plain": [
              "1"
            ]
          },
          "metadata": {},
          "output_type": "display_data"
        },
        {
          "data": {
            "image/png": "[encoded data removed]",
            "text/plain": [
              "<Figure size 432x288 with 1 Axes>"
            ]
          },
          "metadata": {
            "needs_background": "light"
          },
          "output_type": "display_data"
        },
        {
          "name": "stdout",
          "output_type": "stream",
          "text": [
            "(60000, 28, 28) (60000,) (10000, 28, 28) (10000,)\n"
          ]
        }
      ],
      "source": [
        "(X_train, Y_train), (X_test, Y_test) = datasets.mnist.load_data()\n",
        "\n",
        "for i in range(4):\n",
        "    plt.imshow(X_train[i])\n",
        "    display.display(Y_train[i])\n",
        "    plt.show()\n",
        "\n",
        "print(X_train.shape, Y_train.shape, X_test.shape, Y_test.shape)"
      ]
    },
    {
      "cell_type": "markdown",
      "metadata": {
        "id": "OmlsLB9s4_pV"
      },
      "source": [
        "Notice that each number has an image (stored in `X_train/test`) and a label (stored in `Y_train/test`) Each image is 28 by 28 pixels and there are 60000 training examples and 10000 test examples. Note that this dataset is supplied in integers so I'm going to convert it to floating point representation for our neural network:"
      ]
    },
    {
      "cell_type": "code",
      "execution_count": null,
      "metadata": {
        "colab": {
          "base_uri": "https://localhost:8080/"
        },
        "id": "0WIvgqZf7BE3",
        "outputId": "c45971d8-05fa-473b-8662-1f046e9ae7e3"
      },
      "outputs": [
        {
          "name": "stdout",
          "output_type": "stream",
          "text": [
            "before uint8\n",
            "after float64\n"
          ]
        }
      ],
      "source": [
        "print('before', X_train.dtype)\n",
        "X_train, X_test = X_train/255., X_test/255.\n",
        "print('after', X_train.dtype)"
      ]
    },
    {
      "cell_type": "markdown",
      "metadata": {
        "id": "3j8UumXI1LlQ",
        "jp-MarkdownHeadingCollapsed": true,
        "tags": []
      },
      "source": [
        "## The Classifier"
      ]
    },
    {
      "cell_type": "markdown",
      "metadata": {
        "id": "pusyMgNm_OVK"
      },
      "source": [
        "We're just going to build a plain-old Convolutional Neural Network. The idea of performing convolutions is that not every part of an images has information pertaining to every other part. As we analyze a scene, we can often decompose the visual information relationships into a spatially segmented hierarchy. Convolutional neural networks carry this inductive bias by performing a miniature perceptron operation at every receptive field location in an image. Unless commented below, we'll use keras's default implementations to achieve this:  "
      ]
    },
    {
      "cell_type": "code",
      "execution_count": null,
      "metadata": {
        "id": "BP1xK4X-Lf3N"
      },
      "outputs": [],
      "source": [
        "model = keras.Sequential([\n",
        "    tfkl.Input(shape=(28, 28)),\n",
        "    tfkl.Reshape(target_shape=(28, 28, 1)),  # give each pixel a 1 dimensional channel\n",
        "    tfkl.Conv2D(filters=6, kernel_size=(3,3), activation='sigmoid'),\n",
        "    tfkl.Conv2D(filters=32, kernel_size=(3,3), activation='sigmoid'),\n",
        "    tfkl.Conv2D(filters=64, kernel_size=(3,3), activation='sigmoid'),\n",
        "    tfkl.Conv2D(filters=16, kernel_size=(3,3), activation='sigmoid'),\n",
        "    tfkl.GlobalMaxPooling2D(),  # this layer will take the highest value features over all pixels for each of the 16 filters\n",
        "    tfkl.Dense(256, activation='sigmoid'),\n",
        "    tfkl.Dense(64, activation='sigmoid'),\n",
        "    tfkl.Dense(10),\n",
        "])"
      ]
    },
    {
      "cell_type": "markdown",
      "metadata": {
        "id": "33-VHaHg1Nvg",
        "jp-MarkdownHeadingCollapsed": true,
        "tags": []
      },
      "source": [
        "## Training\n",
        "\n",
        "Next, we're goign to train our classifier. Since the data is supplied with integer labels but our model outputs probabilities over 10 classes, we cannot directly differentiate between the two without either\n",
        "- converting `y_train` and `y_test` integer labels into one-hot encodings or\n",
        "- using a sparse categorical loss function.\n",
        "\n",
        "I select the latter option for computational and information theoretic reasons. Cross entropy $H(p,q)$ represents the expected amount of extra information needed to encode some code under an existing distribution. Formally, $$H(p,q)=E_{x \\sim p(x)}[-\\log{q(x)}]$$\n",
        "This is ideal when our model serves as the posterier $q(x,y)$ and the dataset as the prior $p(x,y)$. Our loss function will then be the sparse categorical cross entropy between our model's estimates and the dataset labels. Keras provides a high level interface to implement this in the `model.compile` function:"
      ]
    },
    {
      "cell_type": "code",
      "execution_count": null,
      "metadata": {
        "colab": {
          "base_uri": "https://localhost:8080/"
        },
        "id": "CIvjK_MqM4GT",
        "outputId": "c6484220-8008-4449-87da-457ac4b62a4c"
      },
      "outputs": [
        {
          "name": "stdout",
          "output_type": "stream",
          "text": [
            "Model: \"sequential\"\n",
            "_________________________________________________________________\n",
            "Layer (type)                 Output Shape              Param #   \n",
            "=================================================================\n",
            "reshape (Reshape)            (None, 28, 28, 1)         0         \n",
            "_________________________________________________________________\n",
            "conv2d (Conv2D)              (None, 26, 26, 6)         60        \n",
            "_________________________________________________________________\n",
            "conv2d_1 (Conv2D)            (None, 24, 24, 32)        1760      \n",
            "_________________________________________________________________\n",
            "conv2d_2 (Conv2D)            (None, 22, 22, 64)        18496     \n",
            "_________________________________________________________________\n",
            "conv2d_3 (Conv2D)            (None, 20, 20, 16)        9232      \n",
            "_________________________________________________________________\n",
            "global_max_pooling2d (Global (None, 16)                0         \n",
            "_________________________________________________________________\n",
            "dense (Dense)                (None, 256)               4352      \n",
            "_________________________________________________________________\n",
            "dense_1 (Dense)              (None, 64)                16448     \n",
            "_________________________________________________________________\n",
            "dense_2 (Dense)              (None, 10)                650       \n",
            "=================================================================\n",
            "Total params: 50,998\n",
            "Trainable params: 50,998\n",
            "Non-trainable params: 0\n",
            "_________________________________________________________________\n"
          ]
        }
      ],
      "source": [
        "model.compile(loss=keras.losses.SparseCategoricalCrossentropy(from_logits=True))\n",
        "model.summary()"
      ]
    },
    {
      "cell_type": "markdown",
      "metadata": {
        "id": "cE0XTzET33dT"
      },
      "source": [
        "Now it's time to actually train the model. Let's supply our training a testing data and see how training progresses:"
      ]
    },
    {
      "cell_type": "code",
      "execution_count": null,
      "metadata": {
        "colab": {
          "base_uri": "https://localhost:8080/"
        },
        "id": "d4CNYojJNWfg",
        "outputId": "1b2a5b3d-34dd-4bc5-8678-5d95a9a0e5ab"
      },
      "outputs": [
        {
          "name": "stdout",
          "output_type": "stream",
          "text": [
            "Epoch 1/10\n",
            "938/938 - 22s - loss: 2.3095 - val_loss: 2.3083\n",
            "Epoch 2/10\n",
            "938/938 - 5s - loss: 2.0046 - val_loss: 1.8036\n",
            "Epoch 3/10\n",
            "938/938 - 5s - loss: 1.5575 - val_loss: 1.3240\n",
            "Epoch 4/10\n",
            "938/938 - 5s - loss: 1.0506 - val_loss: 0.8737\n",
            "Epoch 5/10\n",
            "938/938 - 5s - loss: 0.6946 - val_loss: 0.5424\n",
            "Epoch 6/10\n",
            "938/938 - 5s - loss: 0.5413 - val_loss: 0.5187\n",
            "Epoch 7/10\n",
            "938/938 - 5s - loss: 0.4601 - val_loss: 0.4580\n",
            "Epoch 8/10\n",
            "938/938 - 5s - loss: 0.3984 - val_loss: 0.3420\n",
            "Epoch 9/10\n",
            "938/938 - 5s - loss: 0.3344 - val_loss: 0.2832\n",
            "Epoch 10/10\n",
            "938/938 - 5s - loss: 0.2850 - val_loss: 0.2613\n"
          ]
        }
      ],
      "source": [
        "history = model.fit(\n",
        "    x=X_train,\n",
        "    y=Y_train,\n",
        "    batch_size=64,\n",
        "    epochs=10,\n",
        "    verbose=2,\n",
        "    validation_data=(X_test, Y_test),\n",
        "    validation_batch_size=64,\n",
        ")"
      ]
    },
    {
      "cell_type": "markdown",
      "metadata": {
        "id": "9KgTD3xV-jBy"
      },
      "source": [
        "What's happening? The loss isn't improving. \n",
        "\n",
        "Why can't we just plug and chug whatever data we want into our model? Consider two reasons:\n",
        "1) There is no globally optimal universal approximator, and specialized models such as this CNN may not have sufficient inductive priors to estimate their data generating distribution\n",
        "2) Sigmoid-type activation functions saturate the gradients relatively easily. This means that when the input is large in the positive or negative extrema, gradients are effectively zero. During backpropagation, the gradients hardly penetrate the top layer and only slowly penetrate lower and lower into the model. (See the paper that introduced batch norm and *The Principles of Deep Learning Theory* for a longer discussion of these points.)\n",
        "\n",
        "We can solve this problem by changing our activation function to something that is still nonlinear but allows gradients to flow faster over the epochs. My go-to activation function is the rectified linear unit `relu`:"
      ]
    },
    {
      "cell_type": "code",
      "execution_count": null,
      "metadata": {
        "colab": {
          "base_uri": "https://localhost:8080/"
        },
        "id": "s7g1B1gH85_F",
        "outputId": "fa3affac-c281-4f2d-a675-88c8619b0df6"
      },
      "outputs": [
        {
          "name": "stdout",
          "output_type": "stream",
          "text": [
            "Epoch 1/10\n",
            "938/938 - 6s - loss: 0.6999 - val_loss: 0.3878\n",
            "Epoch 2/10\n",
            "938/938 - 5s - loss: 0.2282 - val_loss: 0.1778\n",
            "Epoch 3/10\n",
            "938/938 - 5s - loss: 0.1500 - val_loss: 0.1543\n",
            "Epoch 4/10\n",
            "938/938 - 5s - loss: 0.1216 - val_loss: 0.1268\n",
            "Epoch 5/10\n",
            "938/938 - 5s - loss: 0.1027 - val_loss: 0.0911\n",
            "Epoch 6/10\n",
            "938/938 - 5s - loss: 0.0929 - val_loss: 0.0902\n",
            "Epoch 7/10\n",
            "938/938 - 5s - loss: 0.0808 - val_loss: 0.0770\n",
            "Epoch 8/10\n",
            "938/938 - 5s - loss: 0.0733 - val_loss: 0.0844\n",
            "Epoch 9/10\n",
            "938/938 - 5s - loss: 0.0680 - val_loss: 0.0790\n",
            "Epoch 10/10\n",
            "938/938 - 5s - loss: 0.0632 - val_loss: 0.0964\n"
          ]
        }
      ],
      "source": [
        "model = keras.Sequential([\n",
        "    tfkl.Input(shape=(28, 28)),\n",
        "    tfkl.Reshape(target_shape=(28, 28, 1)),  # give each pixel a 1 dimensional channel\n",
        "    tfkl.Conv2D(filters=6, kernel_size=(3,3), activation='relu'),\n",
        "    tfkl.Conv2D(filters=32, kernel_size=(3,3), activation='relu'),\n",
        "    tfkl.Conv2D(filters=64, kernel_size=(3,3), activation='relu'),\n",
        "    tfkl.Conv2D(filters=16, kernel_size=(3,3), activation='relu'),\n",
        "    tfkl.GlobalMaxPooling2D(),  # this layer will take the highest value features over all pixels for each of the 16 filters\n",
        "    tfkl.Dense(256, activation='relu'),\n",
        "    tfkl.Dense(64, activation='relu'),\n",
        "    tfkl.Dense(10),\n",
        "])\n",
        "model.compile(loss=keras.losses.SparseCategoricalCrossentropy(from_logits=True))\n",
        "history = model.fit(\n",
        "    x=X_train,\n",
        "    y=Y_train,\n",
        "    batch_size=64,\n",
        "    epochs=10,\n",
        "    verbose=2,\n",
        "    validation_data=(X_test, Y_test),\n",
        "    validation_batch_size=64,\n",
        ")"
      ]
    },
    {
      "cell_type": "markdown",
      "metadata": {
        "id": "ILGSgogpBDMv"
      },
      "source": [
        "What a significant change. `relu` definitely performed better in the first 10 epochs than `sigmoid`. Feel free to experiment yourself with this model."
      ]
    },
    {
      "cell_type": "code",
      "execution_count": null,
      "metadata": {
        "id": "3B_i2f2hWfKw"
      },
      "outputs": [],
      "source": [
        "# your code here (download this notebook at https://raw.githubusercontent.com/JacobFV/jacobfv.github.io/source/notebooks/MNIST_Classifier.ipynb)"
      ]
    },
    {
      "cell_type": "markdown",
      "metadata": {
        "id": "AJDffedcWfKx"
      },
      "source": [
        "## How to Overfit Your Dev Set\n",
        "\n",
        "I hope you've enjoyed learning about machine learning by tweaking the hyperparameters of your model. Likely you realize at this point that we could tweek hyperparameters forever. Why not let machine learn machine learning instead? [`ray-tune`](https://docs.ray.io/en/latest/tune/index.html) is a powerful tool we can use to find the optimal hyperparameters for a model. Per its official docs, `ray.tune` frames its optimization problem into a run -- report metric -- optimize iteration loop. To give you the idea, here's their [quick start code](https://docs.ray.io/en/latest/tune/index.html):\n",
        "\n",
        "```python\n",
        "from ray import tune\n",
        "\n",
        "\n",
        "def objective(step, alpha, beta):\n",
        "    return (0.1 + alpha * step / 100)**(-1) + beta * 0.1\n",
        "\n",
        "\n",
        "def training_function(config):\n",
        "    # Hyperparameters\n",
        "    alpha, beta = config[\"alpha\"], config[\"beta\"]\n",
        "    for step in range(10):\n",
        "        # Iterative training function - can be any arbitrary training procedure.\n",
        "        intermediate_score = objective(step, alpha, beta)\n",
        "        # Feed the score back back to Tune.\n",
        "        tune.report(mean_loss=intermediate_score)\n",
        "\n",
        "\n",
        "analysis = tune.run(\n",
        "    training_function,\n",
        "    config={\n",
        "        \"alpha\": tune.grid_search([0.001, 0.01, 0.1]),\n",
        "        \"beta\": tune.choice([1, 2, 3])\n",
        "    })\n",
        "\n",
        "print(\"Best config: \", analysis.get_best_config(\n",
        "    metric=\"mean_loss\", mode=\"min\"))\n",
        "\n",
        "# Get a dataframe for analyzing trial results.\n",
        "df = analysis.results_df\n",
        "```\n",
        "\n",
        "Let's make an isomorphic case with our MNIST classifier: We'll have a triple optimization loop. On the inside, `SGD`, `Adam`, `RMSProp`, or another first order optimizer will backpropagate gradients into the trainable parameters. After 10 epochs, a hyperparameter optimizer will tune our choice of activation function, hidden convolution and dense layers, hidden depth, loss function, and inner optimizer. Finally, we'll be the slow optimizer and make changes to the primary and secondary optimization loops when needed. Let's start by defining our meta-objective:"
      ]
    },
    {
      "cell_type": "code",
      "execution_count": null,
      "metadata": {
        "colab": {
          "base_uri": "https://localhost:8080/"
        },
        "id": "4_8SKlurWfKx",
        "outputId": "05343c49-4852-4395-f8fc-ddabc2b31c1c"
      },
      "outputs": [
        {
          "name": "stderr",
          "output_type": "stream",
          "text": [
            "2021-11-01 13:39:23,542\tINFO worker.py:827 -- Connecting to existing Ray cluster at address: 10.138.0.10:6379\n"
          ]
        },
        {
          "data": {
            "text/plain": [
              "{'node_ip_address': '10.138.0.10',\n",
              " 'raylet_ip_address': '10.138.0.10',\n",
              " 'redis_address': '10.138.0.10:6379',\n",
              " 'object_store_address': '/tmp/ray/session_2021-11-01_13-39-17_184816_6838/sockets/plasma_store',\n",
              " 'raylet_socket_name': '/tmp/ray/session_2021-11-01_13-39-17_184816_6838/sockets/raylet',\n",
              " 'webui_url': None,\n",
              " 'session_dir': '/tmp/ray/session_2021-11-01_13-39-17_184816_6838',\n",
              " 'metrics_export_port': 49266,\n",
              " 'node_id': '06fd01adf83b504b561996944ea682fc4135d39c2ebd6199b713c524'}"
            ]
          },
          "execution_count": 1,
          "metadata": {},
          "output_type": "execute_result"
        }
      ],
      "source": [
        "# on a separate console run:\n",
        "# pip install -q ray[tune]\n",
        "# ray start --head --num-cpus 2 --num-gpus 1\n",
        "\n",
        "import ray\n",
        "import ray.tune as tune\n",
        "ray.init(address='auto', _redis_password='5241590000000000')"
      ]
    },
    {
      "cell_type": "markdown",
      "metadata": {
        "id": "jjM2CzXuWfKy",
        "jp-MarkdownHeadingCollapsed": true,
        "tags": []
      },
      "source": [
        "### Iteration 1"
      ]
    },
    {
      "cell_type": "code",
      "execution_count": null,
      "metadata": {
        "id": "oNP6cDlmWfKy"
      },
      "outputs": [],
      "source": [
        "def meta_loss(config):\n",
        "\n",
        "    # load dataset\n",
        "    (X_train, Y_train), (X_test, Y_test) = datasets.mnist.load_data()\n",
        "    X_train, X_test = X_train / 255., X_test / 255.\n",
        "    \n",
        "\n",
        "    # number of units in each layer (if applicable)\n",
        "    N1 = config['N1']\n",
        "    N2 = config['N2']\n",
        "    N3 = config['N3']\n",
        "    N4 = config['N4']\n",
        "    N5 = config['N5']\n",
        "    N6 = config['N6']\n",
        "    N7 = config['N7']\n",
        "\n",
        "    # layer type: conv2d, dense, maxpooling2d, flatten, dropout, none\n",
        "    # exactly one flatten layer is allowed and conv2d must be placed before flatten\n",
        "    # errors are indicated by massive negative losses\n",
        "    L1 = config['L1'].lower()\n",
        "    L2 = config['L2'].lower()\n",
        "    L3 = config['L3'].lower()\n",
        "    L4 = config['L4'].lower()\n",
        "    L5 = config['L5'].lower()\n",
        "    L6 = config['L6'].lower()\n",
        "    L7 = config['L7'].lower()\n",
        "\n",
        "    conv_activation = config['conv_activation'].lower()  # 'sigmoid', 'relu', 'tanh', 'elu', 'selu', 'softplus', 'softsign'\n",
        "    dense_activation = config['dense_activation'].lower()  # 'sigmoid', 'relu', 'tanh', 'elu', 'selu', 'softplus', 'softsign'\n",
        "    initial_learning_rate = 10 ** config['initial_learning_rate_exp']  # -4.0 to -1.0\n",
        "    learning_rate_rate = 10 ** config['learning_rate_rate']  # 0.0 to 1.0\n",
        "    optimizer_name = config['optimizer_name'].lower()  # 'adam', 'sgd', 'rmsprop', 'adagrad', 'adadelta', 'adamax', or 'nadam'\n",
        "    batch_size = config['batch_size']  # 4 to 1024, integers only\n",
        "    loss_name = config['loss_name'].lower()  # 'mse', 'mae', 'mape', 'categorical_crossentropy', or 'sparse_categorical_crossentropy'\n",
        "\n",
        "    # activation functions\n",
        "    activations = {\n",
        "        'sigmoid': tf.nn.sigmoid,\n",
        "        'relu': tf.nn.relu,\n",
        "        'tanh': tf.nn.tanh,\n",
        "        'elu': tf.nn.elu,\n",
        "        'selu': tf.nn.selu,\n",
        "        'softplus': tf.nn.softplus,\n",
        "        'softsign': tf.nn.softsign,\n",
        "    }\n",
        "    conv_activation = activations[conv_activation]\n",
        "    dense_activation = activations[dense_activation]\n",
        "\n",
        "    # make the loss function\n",
        "    losses = {\n",
        "        'mse': keras.losses.MeanSquaredError(),\n",
        "        'mae': keras.losses.MeanAbsoluteError(),\n",
        "        'mape': keras.losses.MeanAbsolutePercentageError(),\n",
        "        'categorical_crossentropy': keras.losses.CategoricalCrossentropy(),\n",
        "        'sparse_categorical_crossentropy': keras.losses.SparseCategoricalCrossentropy(from_logits=False),\n",
        "    }\n",
        "    loss = losses[loss_name]\n",
        "\n",
        "    # convert labels to one-hot vectors for dense loss penalties\n",
        "    if loss_name != 'spare_categorical_crossentropy':\n",
        "        Y_train = tf.one_hot(Y_train, depth=10)\n",
        "        Y_test = tf.one_hot(Y_test, depth=10)\n",
        "    \n",
        "    # optimizer and learning rate\n",
        "    optimziers = {\n",
        "        'SGD': keras.optimizers.SGD,\n",
        "        'RMSprop': keras.optimizers.RMSprop,\n",
        "        'Adagrad': keras.optimizers.Adagrad,\n",
        "        'Adadelta': keras.optimizers.Adadelta,\n",
        "        'Adam': keras.optimizers.Adam,\n",
        "        'Adamax': keras.optimizers.Adamax,\n",
        "        'Nadam': keras.optimizers.Nadam,\n",
        "    }\n",
        "    optimizer = optimziers[optimizer_name](initial_learning_rate)\n",
        "\n",
        "    learning_rate_scheduler = keras.callbacks.LearningRateScheduler(\n",
        "        lambda epoch, _: initial_learning_rate * (learning_rate_rate ** epoch))\n",
        "\n",
        "    # build model\n",
        "    model = keras.Sequential([\n",
        "        tfkl.Input(shape=(28, 28)),\n",
        "        tfkl.Reshape(target_shape=(28, 28, 1))  # give each pixel a 1 dimensional channel\n",
        "    ])\n",
        "\n",
        "    flattened = False\n",
        "    for L, N in zip([L1, L2, L3, L4, L5, L6, L7], [N1, N2, N3, N4, N5, N6, N7]):\n",
        "        if L == 'conv2d':\n",
        "            if not flattened:\n",
        "                model.add(tfkl.Conv2D(filters=N, kernel_size=(3,3), \n",
        "                                      activation=conv_activation))\n",
        "        elif L == 'maxpooling2d':\n",
        "            if not flattened:\n",
        "                model.add(tfkl.MaxPooling2D(pool_size=(2,2)))\n",
        "        elif L == 'flatten':\n",
        "            if not flattened:\n",
        "                model.add(tfkl.Flatten())\n",
        "                flattened = True\n",
        "        elif L == 'dropout':\n",
        "            model.add(tfkl.Dropout(rate=0.1))\n",
        "        elif L == 'dense':\n",
        "            if flattened:\n",
        "                model.add(tfkl.Dense(N, activation=dense_activation))\n",
        "        elif L == 'none':  # no more hidden layers\n",
        "            break\n",
        "        else:\n",
        "            raise ValueError(f'unknown layer type {L}')\n",
        "    model.add(tfkl.Dense(10, activation='softmax'))  # softmax activation is used for classification\n",
        "    model.compile(loss=loss, optimizer=optimizer)\n",
        "\n",
        "    # train model\n",
        "    history = model.fit(\n",
        "        x=X_train,\n",
        "        y=Y_train,\n",
        "        batch_size=batch_size,\n",
        "        epochs=10,\n",
        "        verbose=2,\n",
        "        callbacks=[learning_rate_scheduler],\n",
        "        validation_data=(X_test, Y_test),\n",
        "        validation_batch_size=64,\n",
        "    )\n",
        "\n",
        "    # report validation loss\n",
        "    final_val_loss = history.history['val_loss'][-1]\n",
        "    tune.report(validation_loss=final_val_loss)"
      ]
    },
    {
      "cell_type": "markdown",
      "metadata": {
        "id": "De-2YOnoWfK0"
      },
      "source": [
        "Now just looking at the hyperparameter space we've defined, you can see why this is overkill for MNIST. Each run of `meta_loss` runs a full 10 iterations on the optimization loop beneath it. To meet these computation demands, I'm running this notebook on a deep learning optimized Google Cloud VM (n1-highmem-2 with an nvidia-tesla-k80). Learn how you can do this on your own for AWS or GCP from my [previous notebook](https://jacobfv.github.io/blog/rtc-jupyterlab-in-the-cloud/).\n",
        "\n",
        "Without further hesitation (the assignment due date is approaching), let's start tuning!"
      ]
    },
    {
      "cell_type": "code",
      "execution_count": null,
      "metadata": {
        "collapsed": true,
        "id": "IrsZx8WVWfK2",
        "jupyter": {
          "outputs_hidden": true
        },
        "outputId": "63b12940-f62c-41d2-e712-8fd84cac8258",
        "tags": []
      },
      "outputs": [
        {
          "name": "stderr",
          "output_type": "stream",
          "text": [
            "2021-11-01 12:24:01,660\tWARNING function_runner.py:559 -- Function checkpointing is disabled. This may result in unexpected behavior when using checkpointing features or certain schedulers. To enable, set the train function arguments to be `func(config, checkpoint_dir=None)`.\n",
            "/opt/conda/lib/python3.7/site-packages/ray/tune/suggest/basic_variant.py:289: UserWarning: The number of pre-generated samples (267302874351744) exceeds the serialization threshold (1000000). Resume ability is disabled. To fix this, reduce the number of dimensions/size of the provided grid search.\n",
            "  f\"The number of pre-generated samples ({grid_vals}) \"\n"
          ]
        },
        {
          "data": {
            "text/html": [
              "== Status ==<br>Memory usage on this node: 1.4/12.7 GiB<br>Using FIFO scheduling algorithm.<br>Resources requested: 0/2 CPUs, 0/1 GPUs, 0.0/7.21 GiB heap, 0.0/3.6 GiB objects (0.0/1.0 accelerator_type:K80)<br>Result logdir: /home/jacobfv123/ray_results/meta_loss_2021-11-01_12-24-01<br>Number of trials: 16/267302874351744 (16 PENDING)<br><table>\n",
              "<thead>\n",
              "<tr><th>Trial name           </th><th>status  </th><th>loc  </th><th>L1          </th><th>L2          </th><th>L3    </th><th>L4    </th><th>L5    </th><th>L6    </th><th>L7    </th><th style=\"text-align: right;\">  N1</th><th style=\"text-align: right;\">  N2</th><th style=\"text-align: right;\">  N3</th><th style=\"text-align: right;\">  N4</th><th style=\"text-align: right;\">  N5</th><th style=\"text-align: right;\">  N6</th><th style=\"text-align: right;\">  N7</th><th style=\"text-align: right;\">  batch_size</th><th>conv_activation  </th><th>dense_activation  </th><th style=\"text-align: right;\">  initial_learning_rate_exp</th><th style=\"text-align: right;\">  learning_rate_rate</th><th>loss_name                      </th><th>optimizer_name  </th></tr>\n",
              "</thead>\n",
              "<tbody>\n",
              "<tr><td>meta_loss_98963_00000</td><td>PENDING </td><td>     </td><td>conv2d      </td><td>conv2d      </td><td>conv2d</td><td>conv2d</td><td>conv2d</td><td>conv2d</td><td>conv2d</td><td style=\"text-align: right;\">   8</td><td style=\"text-align: right;\">   8</td><td style=\"text-align: right;\">   8</td><td style=\"text-align: right;\">   8</td><td style=\"text-align: right;\">   8</td><td style=\"text-align: right;\">   8</td><td style=\"text-align: right;\">   8</td><td style=\"text-align: right;\">          24</td><td>sigmoid          </td><td>sigmoid           </td><td style=\"text-align: right;\">                   -2.51525</td><td style=\"text-align: right;\">           0.553209 </td><td>mape                           </td><td>adagrad         </td></tr>\n",
              "<tr><td>meta_loss_98963_00001</td><td>PENDING </td><td>     </td><td>dense       </td><td>conv2d      </td><td>conv2d</td><td>conv2d</td><td>conv2d</td><td>conv2d</td><td>conv2d</td><td style=\"text-align: right;\">   8</td><td style=\"text-align: right;\">   8</td><td style=\"text-align: right;\">   8</td><td style=\"text-align: right;\">   8</td><td style=\"text-align: right;\">   8</td><td style=\"text-align: right;\">   8</td><td style=\"text-align: right;\">   8</td><td style=\"text-align: right;\">          16</td><td>sigmoid          </td><td>sigmoid           </td><td style=\"text-align: right;\">                   -2.37358</td><td style=\"text-align: right;\">           0.314978 </td><td>sparse_categorical_crossentropy</td><td>adagrad         </td></tr>\n",
              "<tr><td>meta_loss_98963_00002</td><td>PENDING </td><td>     </td><td>maxpooling2d</td><td>conv2d      </td><td>conv2d</td><td>conv2d</td><td>conv2d</td><td>conv2d</td><td>conv2d</td><td style=\"text-align: right;\">   8</td><td style=\"text-align: right;\">   8</td><td style=\"text-align: right;\">   8</td><td style=\"text-align: right;\">   8</td><td style=\"text-align: right;\">   8</td><td style=\"text-align: right;\">   8</td><td style=\"text-align: right;\">   8</td><td style=\"text-align: right;\">         128</td><td>sigmoid          </td><td>sigmoid           </td><td style=\"text-align: right;\">                   -2.8581 </td><td style=\"text-align: right;\">           0.512218 </td><td>sparse_categorical_crossentropy</td><td>adamax          </td></tr>\n",
              "<tr><td>meta_loss_98963_00003</td><td>PENDING </td><td>     </td><td>flatten     </td><td>conv2d      </td><td>conv2d</td><td>conv2d</td><td>conv2d</td><td>conv2d</td><td>conv2d</td><td style=\"text-align: right;\">   8</td><td style=\"text-align: right;\">   8</td><td style=\"text-align: right;\">   8</td><td style=\"text-align: right;\">   8</td><td style=\"text-align: right;\">   8</td><td style=\"text-align: right;\">   8</td><td style=\"text-align: right;\">   8</td><td style=\"text-align: right;\">           4</td><td>sigmoid          </td><td>sigmoid           </td><td style=\"text-align: right;\">                   -1.27046</td><td style=\"text-align: right;\">           0.454703 </td><td>mape                           </td><td>sgd             </td></tr>\n",
              "<tr><td>meta_loss_98963_00004</td><td>PENDING </td><td>     </td><td>dropout     </td><td>conv2d      </td><td>conv2d</td><td>conv2d</td><td>conv2d</td><td>conv2d</td><td>conv2d</td><td style=\"text-align: right;\">   8</td><td style=\"text-align: right;\">   8</td><td style=\"text-align: right;\">   8</td><td style=\"text-align: right;\">   8</td><td style=\"text-align: right;\">   8</td><td style=\"text-align: right;\">   8</td><td style=\"text-align: right;\">   8</td><td style=\"text-align: right;\">          16</td><td>sigmoid          </td><td>sigmoid           </td><td style=\"text-align: right;\">                   -3.53965</td><td style=\"text-align: right;\">           0.861406 </td><td>categorical_crossentropy       </td><td>adadelta        </td></tr>\n",
              "<tr><td>meta_loss_98963_00005</td><td>PENDING </td><td>     </td><td>none        </td><td>conv2d      </td><td>conv2d</td><td>conv2d</td><td>conv2d</td><td>conv2d</td><td>conv2d</td><td style=\"text-align: right;\">   8</td><td style=\"text-align: right;\">   8</td><td style=\"text-align: right;\">   8</td><td style=\"text-align: right;\">   8</td><td style=\"text-align: right;\">   8</td><td style=\"text-align: right;\">   8</td><td style=\"text-align: right;\">   8</td><td style=\"text-align: right;\">           8</td><td>sigmoid          </td><td>sigmoid           </td><td style=\"text-align: right;\">                   -3.50222</td><td style=\"text-align: right;\">           0.955176 </td><td>mape                           </td><td>sgd             </td></tr>\n",
              "<tr><td>meta_loss_98963_00006</td><td>PENDING </td><td>     </td><td>conv2d      </td><td>dense       </td><td>conv2d</td><td>conv2d</td><td>conv2d</td><td>conv2d</td><td>conv2d</td><td style=\"text-align: right;\">   8</td><td style=\"text-align: right;\">   8</td><td style=\"text-align: right;\">   8</td><td style=\"text-align: right;\">   8</td><td style=\"text-align: right;\">   8</td><td style=\"text-align: right;\">   8</td><td style=\"text-align: right;\">   8</td><td style=\"text-align: right;\">         128</td><td>sigmoid          </td><td>sigmoid           </td><td style=\"text-align: right;\">                   -2.40886</td><td style=\"text-align: right;\">           0.878881 </td><td>mae                            </td><td>adadelta        </td></tr>\n",
              "<tr><td>meta_loss_98963_00007</td><td>PENDING </td><td>     </td><td>dense       </td><td>dense       </td><td>conv2d</td><td>conv2d</td><td>conv2d</td><td>conv2d</td><td>conv2d</td><td style=\"text-align: right;\">   8</td><td style=\"text-align: right;\">   8</td><td style=\"text-align: right;\">   8</td><td style=\"text-align: right;\">   8</td><td style=\"text-align: right;\">   8</td><td style=\"text-align: right;\">   8</td><td style=\"text-align: right;\">   8</td><td style=\"text-align: right;\">          24</td><td>sigmoid          </td><td>sigmoid           </td><td style=\"text-align: right;\">                   -1.66232</td><td style=\"text-align: right;\">           0.355708 </td><td>mae                            </td><td>adagrad         </td></tr>\n",
              "<tr><td>meta_loss_98963_00008</td><td>PENDING </td><td>     </td><td>maxpooling2d</td><td>dense       </td><td>conv2d</td><td>conv2d</td><td>conv2d</td><td>conv2d</td><td>conv2d</td><td style=\"text-align: right;\">   8</td><td style=\"text-align: right;\">   8</td><td style=\"text-align: right;\">   8</td><td style=\"text-align: right;\">   8</td><td style=\"text-align: right;\">   8</td><td style=\"text-align: right;\">   8</td><td style=\"text-align: right;\">   8</td><td style=\"text-align: right;\">          64</td><td>sigmoid          </td><td>sigmoid           </td><td style=\"text-align: right;\">                   -1.15489</td><td style=\"text-align: right;\">           0.736778 </td><td>mae                            </td><td>nadam           </td></tr>\n",
              "<tr><td>meta_loss_98963_00009</td><td>PENDING </td><td>     </td><td>flatten     </td><td>dense       </td><td>conv2d</td><td>conv2d</td><td>conv2d</td><td>conv2d</td><td>conv2d</td><td style=\"text-align: right;\">   8</td><td style=\"text-align: right;\">   8</td><td style=\"text-align: right;\">   8</td><td style=\"text-align: right;\">   8</td><td style=\"text-align: right;\">   8</td><td style=\"text-align: right;\">   8</td><td style=\"text-align: right;\">   8</td><td style=\"text-align: right;\">          48</td><td>sigmoid          </td><td>sigmoid           </td><td style=\"text-align: right;\">                   -2.96978</td><td style=\"text-align: right;\">           0.814146 </td><td>categorical_crossentropy       </td><td>adamax          </td></tr>\n",
              "<tr><td>meta_loss_98963_00010</td><td>PENDING </td><td>     </td><td>dropout     </td><td>dense       </td><td>conv2d</td><td>conv2d</td><td>conv2d</td><td>conv2d</td><td>conv2d</td><td style=\"text-align: right;\">   8</td><td style=\"text-align: right;\">   8</td><td style=\"text-align: right;\">   8</td><td style=\"text-align: right;\">   8</td><td style=\"text-align: right;\">   8</td><td style=\"text-align: right;\">   8</td><td style=\"text-align: right;\">   8</td><td style=\"text-align: right;\">          48</td><td>sigmoid          </td><td>sigmoid           </td><td style=\"text-align: right;\">                   -1.84345</td><td style=\"text-align: right;\">           0.335166 </td><td>sparse_categorical_crossentropy</td><td>adadelta        </td></tr>\n",
              "<tr><td>meta_loss_98963_00011</td><td>PENDING </td><td>     </td><td>none        </td><td>dense       </td><td>conv2d</td><td>conv2d</td><td>conv2d</td><td>conv2d</td><td>conv2d</td><td style=\"text-align: right;\">   8</td><td style=\"text-align: right;\">   8</td><td style=\"text-align: right;\">   8</td><td style=\"text-align: right;\">   8</td><td style=\"text-align: right;\">   8</td><td style=\"text-align: right;\">   8</td><td style=\"text-align: right;\">   8</td><td style=\"text-align: right;\">          24</td><td>sigmoid          </td><td>sigmoid           </td><td style=\"text-align: right;\">                   -3.12773</td><td style=\"text-align: right;\">           0.515024 </td><td>categorical_crossentropy       </td><td>adamax          </td></tr>\n",
              "<tr><td>meta_loss_98963_00012</td><td>PENDING </td><td>     </td><td>conv2d      </td><td>maxpooling2d</td><td>conv2d</td><td>conv2d</td><td>conv2d</td><td>conv2d</td><td>conv2d</td><td style=\"text-align: right;\">   8</td><td style=\"text-align: right;\">   8</td><td style=\"text-align: right;\">   8</td><td style=\"text-align: right;\">   8</td><td style=\"text-align: right;\">   8</td><td style=\"text-align: right;\">   8</td><td style=\"text-align: right;\">   8</td><td style=\"text-align: right;\">           8</td><td>sigmoid          </td><td>sigmoid           </td><td style=\"text-align: right;\">                   -2.44683</td><td style=\"text-align: right;\">           0.949793 </td><td>mse                            </td><td>adamax          </td></tr>\n",
              "<tr><td>meta_loss_98963_00013</td><td>PENDING </td><td>     </td><td>dense       </td><td>maxpooling2d</td><td>conv2d</td><td>conv2d</td><td>conv2d</td><td>conv2d</td><td>conv2d</td><td style=\"text-align: right;\">   8</td><td style=\"text-align: right;\">   8</td><td style=\"text-align: right;\">   8</td><td style=\"text-align: right;\">   8</td><td style=\"text-align: right;\">   8</td><td style=\"text-align: right;\">   8</td><td style=\"text-align: right;\">   8</td><td style=\"text-align: right;\">          48</td><td>sigmoid          </td><td>sigmoid           </td><td style=\"text-align: right;\">                   -2.7508 </td><td style=\"text-align: right;\">           0.0587266</td><td>categorical_crossentropy       </td><td>nadam           </td></tr>\n",
              "<tr><td>meta_loss_98963_00014</td><td>PENDING </td><td>     </td><td>maxpooling2d</td><td>maxpooling2d</td><td>conv2d</td><td>conv2d</td><td>conv2d</td><td>conv2d</td><td>conv2d</td><td style=\"text-align: right;\">   8</td><td style=\"text-align: right;\">   8</td><td style=\"text-align: right;\">   8</td><td style=\"text-align: right;\">   8</td><td style=\"text-align: right;\">   8</td><td style=\"text-align: right;\">   8</td><td style=\"text-align: right;\">   8</td><td style=\"text-align: right;\">          48</td><td>sigmoid          </td><td>sigmoid           </td><td style=\"text-align: right;\">                   -3.15043</td><td style=\"text-align: right;\">           0.594349 </td><td>mse                            </td><td>adagrad         </td></tr>\n",
              "<tr><td>meta_loss_98963_00015</td><td>PENDING </td><td>     </td><td>flatten     </td><td>maxpooling2d</td><td>conv2d</td><td>conv2d</td><td>conv2d</td><td>conv2d</td><td>conv2d</td><td style=\"text-align: right;\">   8</td><td style=\"text-align: right;\">   8</td><td style=\"text-align: right;\">   8</td><td style=\"text-align: right;\">   8</td><td style=\"text-align: right;\">   8</td><td style=\"text-align: right;\">   8</td><td style=\"text-align: right;\">   8</td><td style=\"text-align: right;\">           4</td><td>sigmoid          </td><td>sigmoid           </td><td style=\"text-align: right;\">                   -1.01626</td><td style=\"text-align: right;\">           0.938932 </td><td>mse                            </td><td>adagrad         </td></tr>\n",
              "</tbody>\n",
              "</table><br><br>"
            ],
            "text/plain": [
              "<IPython.core.display.HTML object>"
            ]
          },
          "metadata": {},
          "output_type": "display_data"
        },
        {
          "name": "stdout",
          "output_type": "stream",
          "text": [
            "\u001b[2m\u001b[36m(ImplicitFunc pid=1145)\u001b[0m Downloading data from https://storage.googleapis.com/tensorflow/tf-keras-datasets/mnist.npz\n",
            "   16384/11490434 [..............................] - ETA: 0s\n",
            "11493376/11490434 [==============================] - 0s 0us/step\n",
            "11501568/11490434 [==============================] - 0s 0us/step\n"
          ]
        },
        {
          "data": {
            "text/html": [
              "== Status ==<br>Memory usage on this node: 2.0/12.7 GiB<br>Using FIFO scheduling algorithm.<br>Resources requested: 1.0/2 CPUs, 1.0/1 GPUs, 0.0/7.21 GiB heap, 0.0/3.6 GiB objects (0.0/1.0 accelerator_type:K80)<br>Result logdir: /home/jacobfv123/ray_results/meta_loss_2021-11-01_12-24-01<br>Number of trials: 17/267302874351744 (16 PENDING, 1 RUNNING)<br><table>\n",
              "<thead>\n",
              "<tr><th>Trial name           </th><th>status  </th><th>loc  </th><th>L1          </th><th>L2          </th><th>L3    </th><th>L4    </th><th>L5    </th><th>L6    </th><th>L7    </th><th style=\"text-align: right;\">  N1</th><th style=\"text-align: right;\">  N2</th><th style=\"text-align: right;\">  N3</th><th style=\"text-align: right;\">  N4</th><th style=\"text-align: right;\">  N5</th><th style=\"text-align: right;\">  N6</th><th style=\"text-align: right;\">  N7</th><th style=\"text-align: right;\">  batch_size</th><th>conv_activation  </th><th>dense_activation  </th><th style=\"text-align: right;\">  initial_learning_rate_exp</th><th style=\"text-align: right;\">  learning_rate_rate</th><th>loss_name                      </th><th>optimizer_name  </th></tr>\n",
              "</thead>\n",
              "<tbody>\n",
              "<tr><td>meta_loss_98963_00000</td><td>RUNNING </td><td>     </td><td>conv2d      </td><td>conv2d      </td><td>conv2d</td><td>conv2d</td><td>conv2d</td><td>conv2d</td><td>conv2d</td><td style=\"text-align: right;\">   8</td><td style=\"text-align: right;\">   8</td><td style=\"text-align: right;\">   8</td><td style=\"text-align: right;\">   8</td><td style=\"text-align: right;\">   8</td><td style=\"text-align: right;\">   8</td><td style=\"text-align: right;\">   8</td><td style=\"text-align: right;\">          24</td><td>sigmoid          </td><td>sigmoid           </td><td style=\"text-align: right;\">                   -2.51525</td><td style=\"text-align: right;\">           0.553209 </td><td>mape                           </td><td>adagrad         </td></tr>\n",
              "<tr><td>meta_loss_98963_00001</td><td>PENDING </td><td>     </td><td>dense       </td><td>conv2d      </td><td>conv2d</td><td>conv2d</td><td>conv2d</td><td>conv2d</td><td>conv2d</td><td style=\"text-align: right;\">   8</td><td style=\"text-align: right;\">   8</td><td style=\"text-align: right;\">   8</td><td style=\"text-align: right;\">   8</td><td style=\"text-align: right;\">   8</td><td style=\"text-align: right;\">   8</td><td style=\"text-align: right;\">   8</td><td style=\"text-align: right;\">          16</td><td>sigmoid          </td><td>sigmoid           </td><td style=\"text-align: right;\">                   -2.37358</td><td style=\"text-align: right;\">           0.314978 </td><td>sparse_categorical_crossentropy</td><td>adagrad         </td></tr>\n",
              "<tr><td>meta_loss_98963_00002</td><td>PENDING </td><td>     </td><td>maxpooling2d</td><td>conv2d      </td><td>conv2d</td><td>conv2d</td><td>conv2d</td><td>conv2d</td><td>conv2d</td><td style=\"text-align: right;\">   8</td><td style=\"text-align: right;\">   8</td><td style=\"text-align: right;\">   8</td><td style=\"text-align: right;\">   8</td><td style=\"text-align: right;\">   8</td><td style=\"text-align: right;\">   8</td><td style=\"text-align: right;\">   8</td><td style=\"text-align: right;\">         128</td><td>sigmoid          </td><td>sigmoid           </td><td style=\"text-align: right;\">                   -2.8581 </td><td style=\"text-align: right;\">           0.512218 </td><td>sparse_categorical_crossentropy</td><td>adamax          </td></tr>\n",
              "<tr><td>meta_loss_98963_00003</td><td>PENDING </td><td>     </td><td>flatten     </td><td>conv2d      </td><td>conv2d</td><td>conv2d</td><td>conv2d</td><td>conv2d</td><td>conv2d</td><td style=\"text-align: right;\">   8</td><td style=\"text-align: right;\">   8</td><td style=\"text-align: right;\">   8</td><td style=\"text-align: right;\">   8</td><td style=\"text-align: right;\">   8</td><td style=\"text-align: right;\">   8</td><td style=\"text-align: right;\">   8</td><td style=\"text-align: right;\">           4</td><td>sigmoid          </td><td>sigmoid           </td><td style=\"text-align: right;\">                   -1.27046</td><td style=\"text-align: right;\">           0.454703 </td><td>mape                           </td><td>sgd             </td></tr>\n",
              "<tr><td>meta_loss_98963_00004</td><td>PENDING </td><td>     </td><td>dropout     </td><td>conv2d      </td><td>conv2d</td><td>conv2d</td><td>conv2d</td><td>conv2d</td><td>conv2d</td><td style=\"text-align: right;\">   8</td><td style=\"text-align: right;\">   8</td><td style=\"text-align: right;\">   8</td><td style=\"text-align: right;\">   8</td><td style=\"text-align: right;\">   8</td><td style=\"text-align: right;\">   8</td><td style=\"text-align: right;\">   8</td><td style=\"text-align: right;\">          16</td><td>sigmoid          </td><td>sigmoid           </td><td style=\"text-align: right;\">                   -3.53965</td><td style=\"text-align: right;\">           0.861406 </td><td>categorical_crossentropy       </td><td>adadelta        </td></tr>\n",
              "<tr><td>meta_loss_98963_00005</td><td>PENDING </td><td>     </td><td>none        </td><td>conv2d      </td><td>conv2d</td><td>conv2d</td><td>conv2d</td><td>conv2d</td><td>conv2d</td><td style=\"text-align: right;\">   8</td><td style=\"text-align: right;\">   8</td><td style=\"text-align: right;\">   8</td><td style=\"text-align: right;\">   8</td><td style=\"text-align: right;\">   8</td><td style=\"text-align: right;\">   8</td><td style=\"text-align: right;\">   8</td><td style=\"text-align: right;\">           8</td><td>sigmoid          </td><td>sigmoid           </td><td style=\"text-align: right;\">                   -3.50222</td><td style=\"text-align: right;\">           0.955176 </td><td>mape                           </td><td>sgd             </td></tr>\n",
              "<tr><td>meta_loss_98963_00006</td><td>PENDING </td><td>     </td><td>conv2d      </td><td>dense       </td><td>conv2d</td><td>conv2d</td><td>conv2d</td><td>conv2d</td><td>conv2d</td><td style=\"text-align: right;\">   8</td><td style=\"text-align: right;\">   8</td><td style=\"text-align: right;\">   8</td><td style=\"text-align: right;\">   8</td><td style=\"text-align: right;\">   8</td><td style=\"text-align: right;\">   8</td><td style=\"text-align: right;\">   8</td><td style=\"text-align: right;\">         128</td><td>sigmoid          </td><td>sigmoid           </td><td style=\"text-align: right;\">                   -2.40886</td><td style=\"text-align: right;\">           0.878881 </td><td>mae                            </td><td>adadelta        </td></tr>\n",
              "<tr><td>meta_loss_98963_00007</td><td>PENDING </td><td>     </td><td>dense       </td><td>dense       </td><td>conv2d</td><td>conv2d</td><td>conv2d</td><td>conv2d</td><td>conv2d</td><td style=\"text-align: right;\">   8</td><td style=\"text-align: right;\">   8</td><td style=\"text-align: right;\">   8</td><td style=\"text-align: right;\">   8</td><td style=\"text-align: right;\">   8</td><td style=\"text-align: right;\">   8</td><td style=\"text-align: right;\">   8</td><td style=\"text-align: right;\">          24</td><td>sigmoid          </td><td>sigmoid           </td><td style=\"text-align: right;\">                   -1.66232</td><td style=\"text-align: right;\">           0.355708 </td><td>mae                            </td><td>adagrad         </td></tr>\n",
              "<tr><td>meta_loss_98963_00008</td><td>PENDING </td><td>     </td><td>maxpooling2d</td><td>dense       </td><td>conv2d</td><td>conv2d</td><td>conv2d</td><td>conv2d</td><td>conv2d</td><td style=\"text-align: right;\">   8</td><td style=\"text-align: right;\">   8</td><td style=\"text-align: right;\">   8</td><td style=\"text-align: right;\">   8</td><td style=\"text-align: right;\">   8</td><td style=\"text-align: right;\">   8</td><td style=\"text-align: right;\">   8</td><td style=\"text-align: right;\">          64</td><td>sigmoid          </td><td>sigmoid           </td><td style=\"text-align: right;\">                   -1.15489</td><td style=\"text-align: right;\">           0.736778 </td><td>mae                            </td><td>nadam           </td></tr>\n",
              "<tr><td>meta_loss_98963_00009</td><td>PENDING </td><td>     </td><td>flatten     </td><td>dense       </td><td>conv2d</td><td>conv2d</td><td>conv2d</td><td>conv2d</td><td>conv2d</td><td style=\"text-align: right;\">   8</td><td style=\"text-align: right;\">   8</td><td style=\"text-align: right;\">   8</td><td style=\"text-align: right;\">   8</td><td style=\"text-align: right;\">   8</td><td style=\"text-align: right;\">   8</td><td style=\"text-align: right;\">   8</td><td style=\"text-align: right;\">          48</td><td>sigmoid          </td><td>sigmoid           </td><td style=\"text-align: right;\">                   -2.96978</td><td style=\"text-align: right;\">           0.814146 </td><td>categorical_crossentropy       </td><td>adamax          </td></tr>\n",
              "<tr><td>meta_loss_98963_00010</td><td>PENDING </td><td>     </td><td>dropout     </td><td>dense       </td><td>conv2d</td><td>conv2d</td><td>conv2d</td><td>conv2d</td><td>conv2d</td><td style=\"text-align: right;\">   8</td><td style=\"text-align: right;\">   8</td><td style=\"text-align: right;\">   8</td><td style=\"text-align: right;\">   8</td><td style=\"text-align: right;\">   8</td><td style=\"text-align: right;\">   8</td><td style=\"text-align: right;\">   8</td><td style=\"text-align: right;\">          48</td><td>sigmoid          </td><td>sigmoid           </td><td style=\"text-align: right;\">                   -1.84345</td><td style=\"text-align: right;\">           0.335166 </td><td>sparse_categorical_crossentropy</td><td>adadelta        </td></tr>\n",
              "<tr><td>meta_loss_98963_00011</td><td>PENDING </td><td>     </td><td>none        </td><td>dense       </td><td>conv2d</td><td>conv2d</td><td>conv2d</td><td>conv2d</td><td>conv2d</td><td style=\"text-align: right;\">   8</td><td style=\"text-align: right;\">   8</td><td style=\"text-align: right;\">   8</td><td style=\"text-align: right;\">   8</td><td style=\"text-align: right;\">   8</td><td style=\"text-align: right;\">   8</td><td style=\"text-align: right;\">   8</td><td style=\"text-align: right;\">          24</td><td>sigmoid          </td><td>sigmoid           </td><td style=\"text-align: right;\">                   -3.12773</td><td style=\"text-align: right;\">           0.515024 </td><td>categorical_crossentropy       </td><td>adamax          </td></tr>\n",
              "<tr><td>meta_loss_98963_00012</td><td>PENDING </td><td>     </td><td>conv2d      </td><td>maxpooling2d</td><td>conv2d</td><td>conv2d</td><td>conv2d</td><td>conv2d</td><td>conv2d</td><td style=\"text-align: right;\">   8</td><td style=\"text-align: right;\">   8</td><td style=\"text-align: right;\">   8</td><td style=\"text-align: right;\">   8</td><td style=\"text-align: right;\">   8</td><td style=\"text-align: right;\">   8</td><td style=\"text-align: right;\">   8</td><td style=\"text-align: right;\">           8</td><td>sigmoid          </td><td>sigmoid           </td><td style=\"text-align: right;\">                   -2.44683</td><td style=\"text-align: right;\">           0.949793 </td><td>mse                            </td><td>adamax          </td></tr>\n",
              "<tr><td>meta_loss_98963_00013</td><td>PENDING </td><td>     </td><td>dense       </td><td>maxpooling2d</td><td>conv2d</td><td>conv2d</td><td>conv2d</td><td>conv2d</td><td>conv2d</td><td style=\"text-align: right;\">   8</td><td style=\"text-align: right;\">   8</td><td style=\"text-align: right;\">   8</td><td style=\"text-align: right;\">   8</td><td style=\"text-align: right;\">   8</td><td style=\"text-align: right;\">   8</td><td style=\"text-align: right;\">   8</td><td style=\"text-align: right;\">          48</td><td>sigmoid          </td><td>sigmoid           </td><td style=\"text-align: right;\">                   -2.7508 </td><td style=\"text-align: right;\">           0.0587266</td><td>categorical_crossentropy       </td><td>nadam           </td></tr>\n",
              "<tr><td>meta_loss_98963_00014</td><td>PENDING </td><td>     </td><td>maxpooling2d</td><td>maxpooling2d</td><td>conv2d</td><td>conv2d</td><td>conv2d</td><td>conv2d</td><td>conv2d</td><td style=\"text-align: right;\">   8</td><td style=\"text-align: right;\">   8</td><td style=\"text-align: right;\">   8</td><td style=\"text-align: right;\">   8</td><td style=\"text-align: right;\">   8</td><td style=\"text-align: right;\">   8</td><td style=\"text-align: right;\">   8</td><td style=\"text-align: right;\">          48</td><td>sigmoid          </td><td>sigmoid           </td><td style=\"text-align: right;\">                   -3.15043</td><td style=\"text-align: right;\">           0.594349 </td><td>mse                            </td><td>adagrad         </td></tr>\n",
              "<tr><td>meta_loss_98963_00015</td><td>PENDING </td><td>     </td><td>flatten     </td><td>maxpooling2d</td><td>conv2d</td><td>conv2d</td><td>conv2d</td><td>conv2d</td><td>conv2d</td><td style=\"text-align: right;\">   8</td><td style=\"text-align: right;\">   8</td><td style=\"text-align: right;\">   8</td><td style=\"text-align: right;\">   8</td><td style=\"text-align: right;\">   8</td><td style=\"text-align: right;\">   8</td><td style=\"text-align: right;\">   8</td><td style=\"text-align: right;\">           4</td><td>sigmoid          </td><td>sigmoid           </td><td style=\"text-align: right;\">                   -1.01626</td><td style=\"text-align: right;\">           0.938932 </td><td>mse                            </td><td>adagrad         </td></tr>\n",
              "<tr><td>meta_loss_98963_00016</td><td>PENDING </td><td>     </td><td>dropout     </td><td>maxpooling2d</td><td>conv2d</td><td>conv2d</td><td>conv2d</td><td>conv2d</td><td>conv2d</td><td style=\"text-align: right;\">   8</td><td style=\"text-align: right;\">   8</td><td style=\"text-align: right;\">   8</td><td style=\"text-align: right;\">   8</td><td style=\"text-align: right;\">   8</td><td style=\"text-align: right;\">   8</td><td style=\"text-align: right;\">   8</td><td style=\"text-align: right;\">           8</td><td>sigmoid          </td><td>sigmoid           </td><td style=\"text-align: right;\">                   -3.70958</td><td style=\"text-align: right;\">           0.0631872</td><td>mape                           </td><td>sgd             </td></tr>\n",
              "</tbody>\n",
              "</table><br><br>"
            ],
            "text/plain": [
              "<IPython.core.display.HTML object>"
            ]
          },
          "metadata": {},
          "output_type": "display_data"
        },
        {
          "name": "stderr",
          "output_type": "stream",
          "text": [
            "\u001b[2m\u001b[36m(pid=1145)\u001b[0m 2021-11-01 12:24:08.783944: I tensorflow/stream_executor/cuda/cuda_gpu_executor.cc:937] successful NUMA node read from SysFS had negative value (-1), but there must be at least one NUMA node, so returning NUMA node zero\n",
            "\u001b[2m\u001b[36m(pid=1145)\u001b[0m 2021-11-01 12:24:08.941310: I tensorflow/stream_executor/cuda/cuda_gpu_executor.cc:937] successful NUMA node read from SysFS had negative value (-1), but there must be at least one NUMA node, so returning NUMA node zero\n",
            "\u001b[2m\u001b[36m(pid=1145)\u001b[0m 2021-11-01 12:24:08.942175: I tensorflow/stream_executor/cuda/cuda_gpu_executor.cc:937] successful NUMA node read from SysFS had negative value (-1), but there must be at least one NUMA node, so returning NUMA node zero\n",
            "\u001b[2m\u001b[36m(pid=1145)\u001b[0m 2021-11-01 12:24:08.944842: I tensorflow/core/platform/cpu_feature_guard.cc:142] This TensorFlow binary is optimized with oneAPI Deep Neural Network Library (oneDNN) to use the following CPU instructions in performance-critical operations:  AVX2 FMA\n",
            "\u001b[2m\u001b[36m(pid=1145)\u001b[0m To enable them in other operations, rebuild TensorFlow with the appropriate compiler flags.\n",
            "\u001b[2m\u001b[36m(pid=1145)\u001b[0m 2021-11-01 12:24:08.945198: I tensorflow/stream_executor/cuda/cuda_gpu_executor.cc:937] successful NUMA node read from SysFS had negative value (-1), but there must be at least one NUMA node, so returning NUMA node zero\n",
            "\u001b[2m\u001b[36m(pid=1145)\u001b[0m 2021-11-01 12:24:08.946028: I tensorflow/stream_executor/cuda/cuda_gpu_executor.cc:937] successful NUMA node read from SysFS had negative value (-1), but there must be at least one NUMA node, so returning NUMA node zero\n",
            "\u001b[2m\u001b[36m(pid=1145)\u001b[0m 2021-11-01 12:24:08.946751: I tensorflow/stream_executor/cuda/cuda_gpu_executor.cc:937] successful NUMA node read from SysFS had negative value (-1), but there must be at least one NUMA node, so returning NUMA node zero\n",
            "\u001b[2m\u001b[36m(pid=1145)\u001b[0m 2021-11-01 12:24:11.377990: I tensorflow/stream_executor/cuda/cuda_gpu_executor.cc:937] successful NUMA node read from SysFS had negative value (-1), but there must be at least one NUMA node, so returning NUMA node zero\n",
            "\u001b[2m\u001b[36m(pid=1145)\u001b[0m 2021-11-01 12:24:11.378975: I tensorflow/stream_executor/cuda/cuda_gpu_executor.cc:937] successful NUMA node read from SysFS had negative value (-1), but there must be at least one NUMA node, so returning NUMA node zero\n",
            "\u001b[2m\u001b[36m(pid=1145)\u001b[0m 2021-11-01 12:24:11.379808: I tensorflow/stream_executor/cuda/cuda_gpu_executor.cc:937] successful NUMA node read from SysFS had negative value (-1), but there must be at least one NUMA node, so returning NUMA node zero\n",
            "\u001b[2m\u001b[36m(pid=1145)\u001b[0m 2021-11-01 12:24:11,436\tERROR function_runner.py:266 -- Runner Thread raised error.\n",
            "\u001b[2m\u001b[36m(pid=1145)\u001b[0m Traceback (most recent call last):\n",
            "\u001b[2m\u001b[36m(pid=1145)\u001b[0m   File \"/opt/conda/lib/python3.7/site-packages/ray/tune/function_runner.py\", line 260, in run\n",
            "\u001b[2m\u001b[36m(pid=1145)\u001b[0m     self._entrypoint()\n",
            "\u001b[2m\u001b[36m(pid=1145)\u001b[0m   File \"/opt/conda/lib/python3.7/site-packages/ray/tune/function_runner.py\", line 329, in entrypoint\n",
            "\u001b[2m\u001b[36m(pid=1145)\u001b[0m     self._status_reporter.get_checkpoint())\n",
            "\u001b[2m\u001b[36m(pid=1145)\u001b[0m   File \"/opt/conda/lib/python3.7/site-packages/ray/util/tracing/tracing_helper.py\", line 449, in _resume_span\n",
            "\u001b[2m\u001b[36m(pid=1145)\u001b[0m     return method(self, *_args, **_kwargs)\n",
            "\u001b[2m\u001b[36m(pid=1145)\u001b[0m   File \"/opt/conda/lib/python3.7/site-packages/ray/tune/function_runner.py\", line 594, in _trainable_func\n",
            "\u001b[2m\u001b[36m(pid=1145)\u001b[0m     output = fn()\n",
            "\u001b[2m\u001b[36m(pid=1145)\u001b[0m   File \"/tmp/ipykernel_886/1119233880.py\", line 61, in meta_loss\n",
            "\u001b[2m\u001b[36m(pid=1145)\u001b[0m   File \"/opt/conda/lib/python3.7/site-packages/tensorflow/python/util/dispatch.py\", line 206, in wrapper\n",
            "\u001b[2m\u001b[36m(pid=1145)\u001b[0m     return target(*args, **kwargs)\n",
            "\u001b[2m\u001b[36m(pid=1145)\u001b[0m   File \"/opt/conda/lib/python3.7/site-packages/tensorflow/python/ops/array_ops.py\", line 4338, in one_hot\n",
            "\u001b[2m\u001b[36m(pid=1145)\u001b[0m     on_value = ops.convert_to_tensor(1, dtype, name=\"on_value\")\n",
            "\u001b[2m\u001b[36m(pid=1145)\u001b[0m   File \"/opt/conda/lib/python3.7/site-packages/tensorflow/python/profiler/trace.py\", line 163, in wrapped\n",
            "\u001b[2m\u001b[36m(pid=1145)\u001b[0m     return func(*args, **kwargs)\n",
            "\u001b[2m\u001b[36m(pid=1145)\u001b[0m   File \"/opt/conda/lib/python3.7/site-packages/tensorflow/python/framework/ops.py\", line 1566, in convert_to_tensor\n",
            "\u001b[2m\u001b[36m(pid=1145)\u001b[0m     ret = conversion_func(value, dtype=dtype, name=name, as_ref=as_ref)\n",
            "\u001b[2m\u001b[36m(pid=1145)\u001b[0m   File \"/opt/conda/lib/python3.7/site-packages/tensorflow/python/framework/tensor_conversion_registry.py\", line 52, in _default_conversion_function\n",
            "\u001b[2m\u001b[36m(pid=1145)\u001b[0m     return constant_op.constant(value, dtype, name=name)\n",
            "\u001b[2m\u001b[36m(pid=1145)\u001b[0m   File \"/opt/conda/lib/python3.7/site-packages/tensorflow/python/framework/constant_op.py\", line 272, in constant\n",
            "\u001b[2m\u001b[36m(pid=1145)\u001b[0m     allow_broadcast=True)\n",
            "\u001b[2m\u001b[36m(pid=1145)\u001b[0m   File \"/opt/conda/lib/python3.7/site-packages/tensorflow/python/framework/constant_op.py\", line 283, in _constant_impl\n",
            "\u001b[2m\u001b[36m(pid=1145)\u001b[0m     return _constant_eager_impl(ctx, value, dtype, shape, verify_shape)\n",
            "\u001b[2m\u001b[36m(pid=1145)\u001b[0m   File \"/opt/conda/lib/python3.7/site-packages/tensorflow/python/framework/constant_op.py\", line 308, in _constant_eager_impl\n",
            "\u001b[2m\u001b[36m(pid=1145)\u001b[0m     t = convert_to_eager_tensor(value, ctx, dtype)\n",
            "\u001b[2m\u001b[36m(pid=1145)\u001b[0m   File \"/opt/conda/lib/python3.7/site-packages/tensorflow/python/framework/constant_op.py\", line 105, in convert_to_eager_tensor\n",
            "\u001b[2m\u001b[36m(pid=1145)\u001b[0m     ctx.ensure_initialized()\n",
            "\u001b[2m\u001b[36m(pid=1145)\u001b[0m   File \"/opt/conda/lib/python3.7/site-packages/tensorflow/python/eager/context.py\", line 555, in ensure_initialized\n",
            "\u001b[2m\u001b[36m(pid=1145)\u001b[0m     context_handle = pywrap_tfe.TFE_NewContext(opts)\n",
            "\u001b[2m\u001b[36m(pid=1145)\u001b[0m MemoryError: std::bad_alloc\n",
            "\u001b[2m\u001b[36m(pid=1145)\u001b[0m Exception in thread Thread-2:\n",
            "\u001b[2m\u001b[36m(pid=1145)\u001b[0m Traceback (most recent call last):\n",
            "\u001b[2m\u001b[36m(pid=1145)\u001b[0m   File \"/opt/conda/lib/python3.7/threading.py\", line 926, in _bootstrap_inner\n",
            "\u001b[2m\u001b[36m(pid=1145)\u001b[0m     self.run()\n",
            "\u001b[2m\u001b[36m(pid=1145)\u001b[0m   File \"/opt/conda/lib/python3.7/site-packages/ray/tune/function_runner.py\", line 279, in run\n",
            "\u001b[2m\u001b[36m(pid=1145)\u001b[0m     raise e\n",
            "\u001b[2m\u001b[36m(pid=1145)\u001b[0m   File \"/opt/conda/lib/python3.7/site-packages/ray/tune/function_runner.py\", line 260, in run\n",
            "\u001b[2m\u001b[36m(pid=1145)\u001b[0m     self._entrypoint()\n",
            "\u001b[2m\u001b[36m(pid=1145)\u001b[0m   File \"/opt/conda/lib/python3.7/site-packages/ray/tune/function_runner.py\", line 329, in entrypoint\n",
            "\u001b[2m\u001b[36m(pid=1145)\u001b[0m     self._status_reporter.get_checkpoint())\n",
            "\u001b[2m\u001b[36m(pid=1145)\u001b[0m   File \"/opt/conda/lib/python3.7/site-packages/ray/util/tracing/tracing_helper.py\", line 449, in _resume_span\n",
            "\u001b[2m\u001b[36m(pid=1145)\u001b[0m     return method(self, *_args, **_kwargs)\n",
            "\u001b[2m\u001b[36m(pid=1145)\u001b[0m   File \"/opt/conda/lib/python3.7/site-packages/ray/tune/function_runner.py\", line 594, in _trainable_func\n",
            "\u001b[2m\u001b[36m(pid=1145)\u001b[0m     output = fn()\n",
            "\u001b[2m\u001b[36m(pid=1145)\u001b[0m   File \"/tmp/ipykernel_886/1119233880.py\", line 61, in meta_loss\n",
            "\u001b[2m\u001b[36m(pid=1145)\u001b[0m   File \"/opt/conda/lib/python3.7/site-packages/tensorflow/python/util/dispatch.py\", line 206, in wrapper\n",
            "\u001b[2m\u001b[36m(pid=1145)\u001b[0m     return target(*args, **kwargs)\n",
            "\u001b[2m\u001b[36m(pid=1145)\u001b[0m   File \"/opt/conda/lib/python3.7/site-packages/tensorflow/python/ops/array_ops.py\", line 4338, in one_hot\n",
            "\u001b[2m\u001b[36m(pid=1145)\u001b[0m     on_value = ops.convert_to_tensor(1, dtype, name=\"on_value\")\n",
            "\u001b[2m\u001b[36m(pid=1145)\u001b[0m   File \"/opt/conda/lib/python3.7/site-packages/tensorflow/python/profiler/trace.py\", line 163, in wrapped\n",
            "\u001b[2m\u001b[36m(pid=1145)\u001b[0m     return func(*args, **kwargs)\n",
            "\u001b[2m\u001b[36m(pid=1145)\u001b[0m   File \"/opt/conda/lib/python3.7/site-packages/tensorflow/python/framework/ops.py\", line 1566, in convert_to_tensor\n",
            "\u001b[2m\u001b[36m(pid=1145)\u001b[0m     ret = conversion_func(value, dtype=dtype, name=name, as_ref=as_ref)\n",
            "\u001b[2m\u001b[36m(pid=1145)\u001b[0m   File \"/opt/conda/lib/python3.7/site-packages/tensorflow/python/framework/tensor_conversion_registry.py\", line 52, in _default_conversion_function\n",
            "\u001b[2m\u001b[36m(pid=1145)\u001b[0m     return constant_op.constant(value, dtype, name=name)\n",
            "\u001b[2m\u001b[36m(pid=1145)\u001b[0m   File \"/opt/conda/lib/python3.7/site-packages/tensorflow/python/framework/constant_op.py\", line 272, in constant\n",
            "\u001b[2m\u001b[36m(pid=1145)\u001b[0m     allow_broadcast=True)\n",
            "\u001b[2m\u001b[36m(pid=1145)\u001b[0m   File \"/opt/conda/lib/python3.7/site-packages/tensorflow/python/framework/constant_op.py\", line 283, in _constant_impl\n",
            "\u001b[2m\u001b[36m(pid=1145)\u001b[0m     return _constant_eager_impl(ctx, value, dtype, shape, verify_shape)\n",
            "\u001b[2m\u001b[36m(pid=1145)\u001b[0m   File \"/opt/conda/lib/python3.7/site-packages/tensorflow/python/framework/constant_op.py\", line 308, in _constant_eager_impl\n",
            "\u001b[2m\u001b[36m(pid=1145)\u001b[0m     t = convert_to_eager_tensor(value, ctx, dtype)\n",
            "\u001b[2m\u001b[36m(pid=1145)\u001b[0m   File \"/opt/conda/lib/python3.7/site-packages/tensorflow/python/framework/constant_op.py\", line 105, in convert_to_eager_tensor\n",
            "\u001b[2m\u001b[36m(pid=1145)\u001b[0m     ctx.ensure_initialized()\n",
            "\u001b[2m\u001b[36m(pid=1145)\u001b[0m   File \"/opt/conda/lib/python3.7/site-packages/tensorflow/python/eager/context.py\", line 555, in ensure_initialized\n",
            "\u001b[2m\u001b[36m(pid=1145)\u001b[0m     context_handle = pywrap_tfe.TFE_NewContext(opts)\n",
            "\u001b[2m\u001b[36m(pid=1145)\u001b[0m MemoryError: std::bad_alloc\n",
            "\u001b[2m\u001b[36m(pid=1145)\u001b[0m \n",
            "2021-11-01 12:24:11,639\tERROR trial_runner.py:846 -- Trial meta_loss_98963_00000: Error processing event.\n",
            "Traceback (most recent call last):\n",
            "  File \"/opt/conda/lib/python3.7/site-packages/ray/tune/trial_runner.py\", line 812, in _process_trial\n",
            "    results = self.trial_executor.fetch_result(trial)\n",
            "  File \"/opt/conda/lib/python3.7/site-packages/ray/tune/ray_trial_executor.py\", line 767, in fetch_result\n",
            "    result = ray.get(trial_future[0], timeout=DEFAULT_GET_TIMEOUT)\n",
            "  File \"/opt/conda/lib/python3.7/site-packages/ray/_private/client_mode_hook.py\", line 89, in wrapper\n",
            "    return func(*args, **kwargs)\n",
            "  File \"/opt/conda/lib/python3.7/site-packages/ray/worker.py\", line 1621, in get\n",
            "    raise value.as_instanceof_cause()\n",
            "ray.exceptions.RayTaskError(TuneError): \u001b[36mray::ImplicitFunc.train_buffered()\u001b[39m (pid=1145, ip=10.138.0.10, repr=<types.ImplicitFunc object at 0x7fda288a30d0>)\n",
            "  File \"/opt/conda/lib/python3.7/site-packages/ray/tune/trainable.py\", line 189, in train_buffered\n",
            "    result = self.train()\n",
            "  File \"/opt/conda/lib/python3.7/site-packages/ray/tune/trainable.py\", line 248, in train\n",
            "    result = self.step()\n",
            "  File \"/opt/conda/lib/python3.7/site-packages/ray/tune/function_runner.py\", line 379, in step\n",
            "    self._report_thread_runner_error(block=True)\n",
            "  File \"/opt/conda/lib/python3.7/site-packages/ray/tune/function_runner.py\", line 527, in _report_thread_runner_error\n",
            "    (\"Trial raised an exception. Traceback:\\n{}\".format(err_tb_str)\n",
            "ray.tune.error.TuneError: Trial raised an exception. Traceback:\n",
            "\u001b[36mray::ImplicitFunc.train_buffered()\u001b[39m (pid=1145, ip=10.138.0.10, repr=<types.ImplicitFunc object at 0x7fda288a30d0>)\n",
            "  File \"/opt/conda/lib/python3.7/site-packages/ray/tune/function_runner.py\", line 260, in run\n",
            "    self._entrypoint()\n",
            "  File \"/opt/conda/lib/python3.7/site-packages/ray/tune/function_runner.py\", line 329, in entrypoint\n",
            "    self._status_reporter.get_checkpoint())\n",
            "  File \"/opt/conda/lib/python3.7/site-packages/ray/tune/function_runner.py\", line 594, in _trainable_func\n",
            "    output = fn()\n",
            "  File \"/tmp/ipykernel_886/1119233880.py\", line 61, in meta_loss\n",
            "  File \"/opt/conda/lib/python3.7/site-packages/tensorflow/python/util/dispatch.py\", line 206, in wrapper\n",
            "    return target(*args, **kwargs)\n",
            "  File \"/opt/conda/lib/python3.7/site-packages/tensorflow/python/ops/array_ops.py\", line 4338, in one_hot\n",
            "    on_value = ops.convert_to_tensor(1, dtype, name=\"on_value\")\n",
            "  File \"/opt/conda/lib/python3.7/site-packages/tensorflow/python/profiler/trace.py\", line 163, in wrapped\n",
            "    return func(*args, **kwargs)\n",
            "  File \"/opt/conda/lib/python3.7/site-packages/tensorflow/python/framework/ops.py\", line 1566, in convert_to_tensor\n",
            "    ret = conversion_func(value, dtype=dtype, name=name, as_ref=as_ref)\n",
            "  File \"/opt/conda/lib/python3.7/site-packages/tensorflow/python/framework/tensor_conversion_registry.py\", line 52, in _default_conversion_function\n",
            "    return constant_op.constant(value, dtype, name=name)\n",
            "  File \"/opt/conda/lib/python3.7/site-packages/tensorflow/python/framework/constant_op.py\", line 272, in constant\n",
            "    allow_broadcast=True)\n",
            "  File \"/opt/conda/lib/python3.7/site-packages/tensorflow/python/framework/constant_op.py\", line 283, in _constant_impl\n",
            "    return _constant_eager_impl(ctx, value, dtype, shape, verify_shape)\n",
            "  File \"/opt/conda/lib/python3.7/site-packages/tensorflow/python/framework/constant_op.py\", line 308, in _constant_eager_impl\n",
            "    t = convert_to_eager_tensor(value, ctx, dtype)\n",
            "  File \"/opt/conda/lib/python3.7/site-packages/tensorflow/python/framework/constant_op.py\", line 105, in convert_to_eager_tensor\n",
            "    ctx.ensure_initialized()\n",
            "  File \"/opt/conda/lib/python3.7/site-packages/tensorflow/python/eager/context.py\", line 555, in ensure_initialized\n",
            "    context_handle = pywrap_tfe.TFE_NewContext(opts)\n",
            "MemoryError: std::bad_alloc\n"
          ]
        },
        {
          "name": "stdout",
          "output_type": "stream",
          "text": [
            "Result for meta_loss_98963_00000:\n",
            "  {}\n",
            "  \n"
          ]
        },
        {
          "data": {
            "text/html": [
              "== Status ==<br>Memory usage on this node: 1.4/12.7 GiB<br>Using FIFO scheduling algorithm.<br>Resources requested: 1.0/2 CPUs, 1.0/1 GPUs, 0.0/7.21 GiB heap, 0.0/3.6 GiB objects (0.0/1.0 accelerator_type:K80)<br>Result logdir: /home/jacobfv123/ray_results/meta_loss_2021-11-01_12-24-01<br>Number of trials: 18/267302874351744 (1 ERROR, 16 PENDING, 1 RUNNING)<br><table>\n",
              "<thead>\n",
              "<tr><th>Trial name           </th><th>status  </th><th>loc  </th><th>L1          </th><th>L2          </th><th>L3    </th><th>L4    </th><th>L5    </th><th>L6    </th><th>L7    </th><th style=\"text-align: right;\">  N1</th><th style=\"text-align: right;\">  N2</th><th style=\"text-align: right;\">  N3</th><th style=\"text-align: right;\">  N4</th><th style=\"text-align: right;\">  N5</th><th style=\"text-align: right;\">  N6</th><th style=\"text-align: right;\">  N7</th><th style=\"text-align: right;\">  batch_size</th><th>conv_activation  </th><th>dense_activation  </th><th style=\"text-align: right;\">  initial_learning_rate_exp</th><th style=\"text-align: right;\">  learning_rate_rate</th><th>loss_name                      </th><th>optimizer_name  </th></tr>\n",
              "</thead>\n",
              "<tbody>\n",
              "<tr><td>meta_loss_98963_00001</td><td>RUNNING </td><td>     </td><td>dense       </td><td>conv2d      </td><td>conv2d</td><td>conv2d</td><td>conv2d</td><td>conv2d</td><td>conv2d</td><td style=\"text-align: right;\">   8</td><td style=\"text-align: right;\">   8</td><td style=\"text-align: right;\">   8</td><td style=\"text-align: right;\">   8</td><td style=\"text-align: right;\">   8</td><td style=\"text-align: right;\">   8</td><td style=\"text-align: right;\">   8</td><td style=\"text-align: right;\">          16</td><td>sigmoid          </td><td>sigmoid           </td><td style=\"text-align: right;\">                   -2.37358</td><td style=\"text-align: right;\">           0.314978 </td><td>sparse_categorical_crossentropy</td><td>adagrad         </td></tr>\n",
              "<tr><td>meta_loss_98963_00002</td><td>PENDING </td><td>     </td><td>maxpooling2d</td><td>conv2d      </td><td>conv2d</td><td>conv2d</td><td>conv2d</td><td>conv2d</td><td>conv2d</td><td style=\"text-align: right;\">   8</td><td style=\"text-align: right;\">   8</td><td style=\"text-align: right;\">   8</td><td style=\"text-align: right;\">   8</td><td style=\"text-align: right;\">   8</td><td style=\"text-align: right;\">   8</td><td style=\"text-align: right;\">   8</td><td style=\"text-align: right;\">         128</td><td>sigmoid          </td><td>sigmoid           </td><td style=\"text-align: right;\">                   -2.8581 </td><td style=\"text-align: right;\">           0.512218 </td><td>sparse_categorical_crossentropy</td><td>adamax          </td></tr>\n",
              "<tr><td>meta_loss_98963_00003</td><td>PENDING </td><td>     </td><td>flatten     </td><td>conv2d      </td><td>conv2d</td><td>conv2d</td><td>conv2d</td><td>conv2d</td><td>conv2d</td><td style=\"text-align: right;\">   8</td><td style=\"text-align: right;\">   8</td><td style=\"text-align: right;\">   8</td><td style=\"text-align: right;\">   8</td><td style=\"text-align: right;\">   8</td><td style=\"text-align: right;\">   8</td><td style=\"text-align: right;\">   8</td><td style=\"text-align: right;\">           4</td><td>sigmoid          </td><td>sigmoid           </td><td style=\"text-align: right;\">                   -1.27046</td><td style=\"text-align: right;\">           0.454703 </td><td>mape                           </td><td>sgd             </td></tr>\n",
              "<tr><td>meta_loss_98963_00004</td><td>PENDING </td><td>     </td><td>dropout     </td><td>conv2d      </td><td>conv2d</td><td>conv2d</td><td>conv2d</td><td>conv2d</td><td>conv2d</td><td style=\"text-align: right;\">   8</td><td style=\"text-align: right;\">   8</td><td style=\"text-align: right;\">   8</td><td style=\"text-align: right;\">   8</td><td style=\"text-align: right;\">   8</td><td style=\"text-align: right;\">   8</td><td style=\"text-align: right;\">   8</td><td style=\"text-align: right;\">          16</td><td>sigmoid          </td><td>sigmoid           </td><td style=\"text-align: right;\">                   -3.53965</td><td style=\"text-align: right;\">           0.861406 </td><td>categorical_crossentropy       </td><td>adadelta        </td></tr>\n",
              "<tr><td>meta_loss_98963_00005</td><td>PENDING </td><td>     </td><td>none        </td><td>conv2d      </td><td>conv2d</td><td>conv2d</td><td>conv2d</td><td>conv2d</td><td>conv2d</td><td style=\"text-align: right;\">   8</td><td style=\"text-align: right;\">   8</td><td style=\"text-align: right;\">   8</td><td style=\"text-align: right;\">   8</td><td style=\"text-align: right;\">   8</td><td style=\"text-align: right;\">   8</td><td style=\"text-align: right;\">   8</td><td style=\"text-align: right;\">           8</td><td>sigmoid          </td><td>sigmoid           </td><td style=\"text-align: right;\">                   -3.50222</td><td style=\"text-align: right;\">           0.955176 </td><td>mape                           </td><td>sgd             </td></tr>\n",
              "<tr><td>meta_loss_98963_00006</td><td>PENDING </td><td>     </td><td>conv2d      </td><td>dense       </td><td>conv2d</td><td>conv2d</td><td>conv2d</td><td>conv2d</td><td>conv2d</td><td style=\"text-align: right;\">   8</td><td style=\"text-align: right;\">   8</td><td style=\"text-align: right;\">   8</td><td style=\"text-align: right;\">   8</td><td style=\"text-align: right;\">   8</td><td style=\"text-align: right;\">   8</td><td style=\"text-align: right;\">   8</td><td style=\"text-align: right;\">         128</td><td>sigmoid          </td><td>sigmoid           </td><td style=\"text-align: right;\">                   -2.40886</td><td style=\"text-align: right;\">           0.878881 </td><td>mae                            </td><td>adadelta        </td></tr>\n",
              "<tr><td>meta_loss_98963_00007</td><td>PENDING </td><td>     </td><td>dense       </td><td>dense       </td><td>conv2d</td><td>conv2d</td><td>conv2d</td><td>conv2d</td><td>conv2d</td><td style=\"text-align: right;\">   8</td><td style=\"text-align: right;\">   8</td><td style=\"text-align: right;\">   8</td><td style=\"text-align: right;\">   8</td><td style=\"text-align: right;\">   8</td><td style=\"text-align: right;\">   8</td><td style=\"text-align: right;\">   8</td><td style=\"text-align: right;\">          24</td><td>sigmoid          </td><td>sigmoid           </td><td style=\"text-align: right;\">                   -1.66232</td><td style=\"text-align: right;\">           0.355708 </td><td>mae                            </td><td>adagrad         </td></tr>\n",
              "<tr><td>meta_loss_98963_00008</td><td>PENDING </td><td>     </td><td>maxpooling2d</td><td>dense       </td><td>conv2d</td><td>conv2d</td><td>conv2d</td><td>conv2d</td><td>conv2d</td><td style=\"text-align: right;\">   8</td><td style=\"text-align: right;\">   8</td><td style=\"text-align: right;\">   8</td><td style=\"text-align: right;\">   8</td><td style=\"text-align: right;\">   8</td><td style=\"text-align: right;\">   8</td><td style=\"text-align: right;\">   8</td><td style=\"text-align: right;\">          64</td><td>sigmoid          </td><td>sigmoid           </td><td style=\"text-align: right;\">                   -1.15489</td><td style=\"text-align: right;\">           0.736778 </td><td>mae                            </td><td>nadam           </td></tr>\n",
              "<tr><td>meta_loss_98963_00009</td><td>PENDING </td><td>     </td><td>flatten     </td><td>dense       </td><td>conv2d</td><td>conv2d</td><td>conv2d</td><td>conv2d</td><td>conv2d</td><td style=\"text-align: right;\">   8</td><td style=\"text-align: right;\">   8</td><td style=\"text-align: right;\">   8</td><td style=\"text-align: right;\">   8</td><td style=\"text-align: right;\">   8</td><td style=\"text-align: right;\">   8</td><td style=\"text-align: right;\">   8</td><td style=\"text-align: right;\">          48</td><td>sigmoid          </td><td>sigmoid           </td><td style=\"text-align: right;\">                   -2.96978</td><td style=\"text-align: right;\">           0.814146 </td><td>categorical_crossentropy       </td><td>adamax          </td></tr>\n",
              "<tr><td>meta_loss_98963_00010</td><td>PENDING </td><td>     </td><td>dropout     </td><td>dense       </td><td>conv2d</td><td>conv2d</td><td>conv2d</td><td>conv2d</td><td>conv2d</td><td style=\"text-align: right;\">   8</td><td style=\"text-align: right;\">   8</td><td style=\"text-align: right;\">   8</td><td style=\"text-align: right;\">   8</td><td style=\"text-align: right;\">   8</td><td style=\"text-align: right;\">   8</td><td style=\"text-align: right;\">   8</td><td style=\"text-align: right;\">          48</td><td>sigmoid          </td><td>sigmoid           </td><td style=\"text-align: right;\">                   -1.84345</td><td style=\"text-align: right;\">           0.335166 </td><td>sparse_categorical_crossentropy</td><td>adadelta        </td></tr>\n",
              "<tr><td>meta_loss_98963_00011</td><td>PENDING </td><td>     </td><td>none        </td><td>dense       </td><td>conv2d</td><td>conv2d</td><td>conv2d</td><td>conv2d</td><td>conv2d</td><td style=\"text-align: right;\">   8</td><td style=\"text-align: right;\">   8</td><td style=\"text-align: right;\">   8</td><td style=\"text-align: right;\">   8</td><td style=\"text-align: right;\">   8</td><td style=\"text-align: right;\">   8</td><td style=\"text-align: right;\">   8</td><td style=\"text-align: right;\">          24</td><td>sigmoid          </td><td>sigmoid           </td><td style=\"text-align: right;\">                   -3.12773</td><td style=\"text-align: right;\">           0.515024 </td><td>categorical_crossentropy       </td><td>adamax          </td></tr>\n",
              "<tr><td>meta_loss_98963_00012</td><td>PENDING </td><td>     </td><td>conv2d      </td><td>maxpooling2d</td><td>conv2d</td><td>conv2d</td><td>conv2d</td><td>conv2d</td><td>conv2d</td><td style=\"text-align: right;\">   8</td><td style=\"text-align: right;\">   8</td><td style=\"text-align: right;\">   8</td><td style=\"text-align: right;\">   8</td><td style=\"text-align: right;\">   8</td><td style=\"text-align: right;\">   8</td><td style=\"text-align: right;\">   8</td><td style=\"text-align: right;\">           8</td><td>sigmoid          </td><td>sigmoid           </td><td style=\"text-align: right;\">                   -2.44683</td><td style=\"text-align: right;\">           0.949793 </td><td>mse                            </td><td>adamax          </td></tr>\n",
              "<tr><td>meta_loss_98963_00013</td><td>PENDING </td><td>     </td><td>dense       </td><td>maxpooling2d</td><td>conv2d</td><td>conv2d</td><td>conv2d</td><td>conv2d</td><td>conv2d</td><td style=\"text-align: right;\">   8</td><td style=\"text-align: right;\">   8</td><td style=\"text-align: right;\">   8</td><td style=\"text-align: right;\">   8</td><td style=\"text-align: right;\">   8</td><td style=\"text-align: right;\">   8</td><td style=\"text-align: right;\">   8</td><td style=\"text-align: right;\">          48</td><td>sigmoid          </td><td>sigmoid           </td><td style=\"text-align: right;\">                   -2.7508 </td><td style=\"text-align: right;\">           0.0587266</td><td>categorical_crossentropy       </td><td>nadam           </td></tr>\n",
              "<tr><td>meta_loss_98963_00014</td><td>PENDING </td><td>     </td><td>maxpooling2d</td><td>maxpooling2d</td><td>conv2d</td><td>conv2d</td><td>conv2d</td><td>conv2d</td><td>conv2d</td><td style=\"text-align: right;\">   8</td><td style=\"text-align: right;\">   8</td><td style=\"text-align: right;\">   8</td><td style=\"text-align: right;\">   8</td><td style=\"text-align: right;\">   8</td><td style=\"text-align: right;\">   8</td><td style=\"text-align: right;\">   8</td><td style=\"text-align: right;\">          48</td><td>sigmoid          </td><td>sigmoid           </td><td style=\"text-align: right;\">                   -3.15043</td><td style=\"text-align: right;\">           0.594349 </td><td>mse                            </td><td>adagrad         </td></tr>\n",
              "<tr><td>meta_loss_98963_00015</td><td>PENDING </td><td>     </td><td>flatten     </td><td>maxpooling2d</td><td>conv2d</td><td>conv2d</td><td>conv2d</td><td>conv2d</td><td>conv2d</td><td style=\"text-align: right;\">   8</td><td style=\"text-align: right;\">   8</td><td style=\"text-align: right;\">   8</td><td style=\"text-align: right;\">   8</td><td style=\"text-align: right;\">   8</td><td style=\"text-align: right;\">   8</td><td style=\"text-align: right;\">   8</td><td style=\"text-align: right;\">           4</td><td>sigmoid          </td><td>sigmoid           </td><td style=\"text-align: right;\">                   -1.01626</td><td style=\"text-align: right;\">           0.938932 </td><td>mse                            </td><td>adagrad         </td></tr>\n",
              "<tr><td>meta_loss_98963_00016</td><td>PENDING </td><td>     </td><td>dropout     </td><td>maxpooling2d</td><td>conv2d</td><td>conv2d</td><td>conv2d</td><td>conv2d</td><td>conv2d</td><td style=\"text-align: right;\">   8</td><td style=\"text-align: right;\">   8</td><td style=\"text-align: right;\">   8</td><td style=\"text-align: right;\">   8</td><td style=\"text-align: right;\">   8</td><td style=\"text-align: right;\">   8</td><td style=\"text-align: right;\">   8</td><td style=\"text-align: right;\">           8</td><td>sigmoid          </td><td>sigmoid           </td><td style=\"text-align: right;\">                   -3.70958</td><td style=\"text-align: right;\">           0.0631872</td><td>mape                           </td><td>sgd             </td></tr>\n",
              "<tr><td>meta_loss_98963_00017</td><td>PENDING </td><td>     </td><td>none        </td><td>maxpooling2d</td><td>conv2d</td><td>conv2d</td><td>conv2d</td><td>conv2d</td><td>conv2d</td><td style=\"text-align: right;\">   8</td><td style=\"text-align: right;\">   8</td><td style=\"text-align: right;\">   8</td><td style=\"text-align: right;\">   8</td><td style=\"text-align: right;\">   8</td><td style=\"text-align: right;\">   8</td><td style=\"text-align: right;\">   8</td><td style=\"text-align: right;\">          16</td><td>sigmoid          </td><td>sigmoid           </td><td style=\"text-align: right;\">                   -3.41504</td><td style=\"text-align: right;\">           0.482399 </td><td>mae                            </td><td>nadam           </td></tr>\n",
              "<tr><td>meta_loss_98963_00000</td><td>ERROR   </td><td>     </td><td>conv2d      </td><td>conv2d      </td><td>conv2d</td><td>conv2d</td><td>conv2d</td><td>conv2d</td><td>conv2d</td><td style=\"text-align: right;\">   8</td><td style=\"text-align: right;\">   8</td><td style=\"text-align: right;\">   8</td><td style=\"text-align: right;\">   8</td><td style=\"text-align: right;\">   8</td><td style=\"text-align: right;\">   8</td><td style=\"text-align: right;\">   8</td><td style=\"text-align: right;\">          24</td><td>sigmoid          </td><td>sigmoid           </td><td style=\"text-align: right;\">                   -2.51525</td><td style=\"text-align: right;\">           0.553209 </td><td>mape                           </td><td>adagrad         </td></tr>\n",
              "</tbody>\n",
              "</table><br>Number of errored trials: 1<br><table>\n",
              "<thead>\n",
              "<tr><th>Trial name           </th><th style=\"text-align: right;\">  # failures</th><th>error file                                                                                                                                                                                                                 </th></tr>\n",
              "</thead>\n",
              "<tbody>\n",
              "<tr><td>meta_loss_98963_00000</td><td style=\"text-align: right;\">           1</td><td>/home/jacobfv123/ray_results/meta_loss_2021-11-01_12-24-01/meta_loss_98963_00000_0_L1=conv2d,L2=conv2d,L3=conv2d,L4=conv2d,L5=conv2d,L6=conv2d,L7=conv2d,N1=8,N2=8,N3=8,N4=8,N5=8,N6=8,N7=8,b_2021-11-01_12-24-02/error.txt</td></tr>\n",
              "</tbody>\n",
              "</table><br>"
            ],
            "text/plain": [
              "<IPython.core.display.HTML object>"
            ]
          },
          "metadata": {},
          "output_type": "display_data"
        },
        {
          "data": {
            "text/html": [
              "== Status ==<br>Memory usage on this node: 2.0/12.7 GiB<br>Using FIFO scheduling algorithm.<br>Resources requested: 1.0/2 CPUs, 1.0/1 GPUs, 0.0/7.21 GiB heap, 0.0/3.6 GiB objects (0.0/1.0 accelerator_type:K80)<br>Result logdir: /home/jacobfv123/ray_results/meta_loss_2021-11-01_12-24-01<br>Number of trials: 18/267302874351744 (1 ERROR, 16 PENDING, 1 RUNNING)<br><table>\n",
              "<thead>\n",
              "<tr><th>Trial name           </th><th>status  </th><th>loc  </th><th>L1          </th><th>L2          </th><th>L3    </th><th>L4    </th><th>L5    </th><th>L6    </th><th>L7    </th><th style=\"text-align: right;\">  N1</th><th style=\"text-align: right;\">  N2</th><th style=\"text-align: right;\">  N3</th><th style=\"text-align: right;\">  N4</th><th style=\"text-align: right;\">  N5</th><th style=\"text-align: right;\">  N6</th><th style=\"text-align: right;\">  N7</th><th style=\"text-align: right;\">  batch_size</th><th>conv_activation  </th><th>dense_activation  </th><th style=\"text-align: right;\">  initial_learning_rate_exp</th><th style=\"text-align: right;\">  learning_rate_rate</th><th>loss_name                      </th><th>optimizer_name  </th></tr>\n",
              "</thead>\n",
              "<tbody>\n",
              "<tr><td>meta_loss_98963_00001</td><td>RUNNING </td><td>     </td><td>dense       </td><td>conv2d      </td><td>conv2d</td><td>conv2d</td><td>conv2d</td><td>conv2d</td><td>conv2d</td><td style=\"text-align: right;\">   8</td><td style=\"text-align: right;\">   8</td><td style=\"text-align: right;\">   8</td><td style=\"text-align: right;\">   8</td><td style=\"text-align: right;\">   8</td><td style=\"text-align: right;\">   8</td><td style=\"text-align: right;\">   8</td><td style=\"text-align: right;\">          16</td><td>sigmoid          </td><td>sigmoid           </td><td style=\"text-align: right;\">                   -2.37358</td><td style=\"text-align: right;\">           0.314978 </td><td>sparse_categorical_crossentropy</td><td>adagrad         </td></tr>\n",
              "<tr><td>meta_loss_98963_00002</td><td>PENDING </td><td>     </td><td>maxpooling2d</td><td>conv2d      </td><td>conv2d</td><td>conv2d</td><td>conv2d</td><td>conv2d</td><td>conv2d</td><td style=\"text-align: right;\">   8</td><td style=\"text-align: right;\">   8</td><td style=\"text-align: right;\">   8</td><td style=\"text-align: right;\">   8</td><td style=\"text-align: right;\">   8</td><td style=\"text-align: right;\">   8</td><td style=\"text-align: right;\">   8</td><td style=\"text-align: right;\">         128</td><td>sigmoid          </td><td>sigmoid           </td><td style=\"text-align: right;\">                   -2.8581 </td><td style=\"text-align: right;\">           0.512218 </td><td>sparse_categorical_crossentropy</td><td>adamax          </td></tr>\n",
              "<tr><td>meta_loss_98963_00003</td><td>PENDING </td><td>     </td><td>flatten     </td><td>conv2d      </td><td>conv2d</td><td>conv2d</td><td>conv2d</td><td>conv2d</td><td>conv2d</td><td style=\"text-align: right;\">   8</td><td style=\"text-align: right;\">   8</td><td style=\"text-align: right;\">   8</td><td style=\"text-align: right;\">   8</td><td style=\"text-align: right;\">   8</td><td style=\"text-align: right;\">   8</td><td style=\"text-align: right;\">   8</td><td style=\"text-align: right;\">           4</td><td>sigmoid          </td><td>sigmoid           </td><td style=\"text-align: right;\">                   -1.27046</td><td style=\"text-align: right;\">           0.454703 </td><td>mape                           </td><td>sgd             </td></tr>\n",
              "<tr><td>meta_loss_98963_00004</td><td>PENDING </td><td>     </td><td>dropout     </td><td>conv2d      </td><td>conv2d</td><td>conv2d</td><td>conv2d</td><td>conv2d</td><td>conv2d</td><td style=\"text-align: right;\">   8</td><td style=\"text-align: right;\">   8</td><td style=\"text-align: right;\">   8</td><td style=\"text-align: right;\">   8</td><td style=\"text-align: right;\">   8</td><td style=\"text-align: right;\">   8</td><td style=\"text-align: right;\">   8</td><td style=\"text-align: right;\">          16</td><td>sigmoid          </td><td>sigmoid           </td><td style=\"text-align: right;\">                   -3.53965</td><td style=\"text-align: right;\">           0.861406 </td><td>categorical_crossentropy       </td><td>adadelta        </td></tr>\n",
              "<tr><td>meta_loss_98963_00005</td><td>PENDING </td><td>     </td><td>none        </td><td>conv2d      </td><td>conv2d</td><td>conv2d</td><td>conv2d</td><td>conv2d</td><td>conv2d</td><td style=\"text-align: right;\">   8</td><td style=\"text-align: right;\">   8</td><td style=\"text-align: right;\">   8</td><td style=\"text-align: right;\">   8</td><td style=\"text-align: right;\">   8</td><td style=\"text-align: right;\">   8</td><td style=\"text-align: right;\">   8</td><td style=\"text-align: right;\">           8</td><td>sigmoid          </td><td>sigmoid           </td><td style=\"text-align: right;\">                   -3.50222</td><td style=\"text-align: right;\">           0.955176 </td><td>mape                           </td><td>sgd             </td></tr>\n",
              "<tr><td>meta_loss_98963_00006</td><td>PENDING </td><td>     </td><td>conv2d      </td><td>dense       </td><td>conv2d</td><td>conv2d</td><td>conv2d</td><td>conv2d</td><td>conv2d</td><td style=\"text-align: right;\">   8</td><td style=\"text-align: right;\">   8</td><td style=\"text-align: right;\">   8</td><td style=\"text-align: right;\">   8</td><td style=\"text-align: right;\">   8</td><td style=\"text-align: right;\">   8</td><td style=\"text-align: right;\">   8</td><td style=\"text-align: right;\">         128</td><td>sigmoid          </td><td>sigmoid           </td><td style=\"text-align: right;\">                   -2.40886</td><td style=\"text-align: right;\">           0.878881 </td><td>mae                            </td><td>adadelta        </td></tr>\n",
              "<tr><td>meta_loss_98963_00007</td><td>PENDING </td><td>     </td><td>dense       </td><td>dense       </td><td>conv2d</td><td>conv2d</td><td>conv2d</td><td>conv2d</td><td>conv2d</td><td style=\"text-align: right;\">   8</td><td style=\"text-align: right;\">   8</td><td style=\"text-align: right;\">   8</td><td style=\"text-align: right;\">   8</td><td style=\"text-align: right;\">   8</td><td style=\"text-align: right;\">   8</td><td style=\"text-align: right;\">   8</td><td style=\"text-align: right;\">          24</td><td>sigmoid          </td><td>sigmoid           </td><td style=\"text-align: right;\">                   -1.66232</td><td style=\"text-align: right;\">           0.355708 </td><td>mae                            </td><td>adagrad         </td></tr>\n",
              "<tr><td>meta_loss_98963_00008</td><td>PENDING </td><td>     </td><td>maxpooling2d</td><td>dense       </td><td>conv2d</td><td>conv2d</td><td>conv2d</td><td>conv2d</td><td>conv2d</td><td style=\"text-align: right;\">   8</td><td style=\"text-align: right;\">   8</td><td style=\"text-align: right;\">   8</td><td style=\"text-align: right;\">   8</td><td style=\"text-align: right;\">   8</td><td style=\"text-align: right;\">   8</td><td style=\"text-align: right;\">   8</td><td style=\"text-align: right;\">          64</td><td>sigmoid          </td><td>sigmoid           </td><td style=\"text-align: right;\">                   -1.15489</td><td style=\"text-align: right;\">           0.736778 </td><td>mae                            </td><td>nadam           </td></tr>\n",
              "<tr><td>meta_loss_98963_00009</td><td>PENDING </td><td>     </td><td>flatten     </td><td>dense       </td><td>conv2d</td><td>conv2d</td><td>conv2d</td><td>conv2d</td><td>conv2d</td><td style=\"text-align: right;\">   8</td><td style=\"text-align: right;\">   8</td><td style=\"text-align: right;\">   8</td><td style=\"text-align: right;\">   8</td><td style=\"text-align: right;\">   8</td><td style=\"text-align: right;\">   8</td><td style=\"text-align: right;\">   8</td><td style=\"text-align: right;\">          48</td><td>sigmoid          </td><td>sigmoid           </td><td style=\"text-align: right;\">                   -2.96978</td><td style=\"text-align: right;\">           0.814146 </td><td>categorical_crossentropy       </td><td>adamax          </td></tr>\n",
              "<tr><td>meta_loss_98963_00010</td><td>PENDING </td><td>     </td><td>dropout     </td><td>dense       </td><td>conv2d</td><td>conv2d</td><td>conv2d</td><td>conv2d</td><td>conv2d</td><td style=\"text-align: right;\">   8</td><td style=\"text-align: right;\">   8</td><td style=\"text-align: right;\">   8</td><td style=\"text-align: right;\">   8</td><td style=\"text-align: right;\">   8</td><td style=\"text-align: right;\">   8</td><td style=\"text-align: right;\">   8</td><td style=\"text-align: right;\">          48</td><td>sigmoid          </td><td>sigmoid           </td><td style=\"text-align: right;\">                   -1.84345</td><td style=\"text-align: right;\">           0.335166 </td><td>sparse_categorical_crossentropy</td><td>adadelta        </td></tr>\n",
              "<tr><td>meta_loss_98963_00011</td><td>PENDING </td><td>     </td><td>none        </td><td>dense       </td><td>conv2d</td><td>conv2d</td><td>conv2d</td><td>conv2d</td><td>conv2d</td><td style=\"text-align: right;\">   8</td><td style=\"text-align: right;\">   8</td><td style=\"text-align: right;\">   8</td><td style=\"text-align: right;\">   8</td><td style=\"text-align: right;\">   8</td><td style=\"text-align: right;\">   8</td><td style=\"text-align: right;\">   8</td><td style=\"text-align: right;\">          24</td><td>sigmoid          </td><td>sigmoid           </td><td style=\"text-align: right;\">                   -3.12773</td><td style=\"text-align: right;\">           0.515024 </td><td>categorical_crossentropy       </td><td>adamax          </td></tr>\n",
              "<tr><td>meta_loss_98963_00012</td><td>PENDING </td><td>     </td><td>conv2d      </td><td>maxpooling2d</td><td>conv2d</td><td>conv2d</td><td>conv2d</td><td>conv2d</td><td>conv2d</td><td style=\"text-align: right;\">   8</td><td style=\"text-align: right;\">   8</td><td style=\"text-align: right;\">   8</td><td style=\"text-align: right;\">   8</td><td style=\"text-align: right;\">   8</td><td style=\"text-align: right;\">   8</td><td style=\"text-align: right;\">   8</td><td style=\"text-align: right;\">           8</td><td>sigmoid          </td><td>sigmoid           </td><td style=\"text-align: right;\">                   -2.44683</td><td style=\"text-align: right;\">           0.949793 </td><td>mse                            </td><td>adamax          </td></tr>\n",
              "<tr><td>meta_loss_98963_00013</td><td>PENDING </td><td>     </td><td>dense       </td><td>maxpooling2d</td><td>conv2d</td><td>conv2d</td><td>conv2d</td><td>conv2d</td><td>conv2d</td><td style=\"text-align: right;\">   8</td><td style=\"text-align: right;\">   8</td><td style=\"text-align: right;\">   8</td><td style=\"text-align: right;\">   8</td><td style=\"text-align: right;\">   8</td><td style=\"text-align: right;\">   8</td><td style=\"text-align: right;\">   8</td><td style=\"text-align: right;\">          48</td><td>sigmoid          </td><td>sigmoid           </td><td style=\"text-align: right;\">                   -2.7508 </td><td style=\"text-align: right;\">           0.0587266</td><td>categorical_crossentropy       </td><td>nadam           </td></tr>\n",
              "<tr><td>meta_loss_98963_00014</td><td>PENDING </td><td>     </td><td>maxpooling2d</td><td>maxpooling2d</td><td>conv2d</td><td>conv2d</td><td>conv2d</td><td>conv2d</td><td>conv2d</td><td style=\"text-align: right;\">   8</td><td style=\"text-align: right;\">   8</td><td style=\"text-align: right;\">   8</td><td style=\"text-align: right;\">   8</td><td style=\"text-align: right;\">   8</td><td style=\"text-align: right;\">   8</td><td style=\"text-align: right;\">   8</td><td style=\"text-align: right;\">          48</td><td>sigmoid          </td><td>sigmoid           </td><td style=\"text-align: right;\">                   -3.15043</td><td style=\"text-align: right;\">           0.594349 </td><td>mse                            </td><td>adagrad         </td></tr>\n",
              "<tr><td>meta_loss_98963_00015</td><td>PENDING </td><td>     </td><td>flatten     </td><td>maxpooling2d</td><td>conv2d</td><td>conv2d</td><td>conv2d</td><td>conv2d</td><td>conv2d</td><td style=\"text-align: right;\">   8</td><td style=\"text-align: right;\">   8</td><td style=\"text-align: right;\">   8</td><td style=\"text-align: right;\">   8</td><td style=\"text-align: right;\">   8</td><td style=\"text-align: right;\">   8</td><td style=\"text-align: right;\">   8</td><td style=\"text-align: right;\">           4</td><td>sigmoid          </td><td>sigmoid           </td><td style=\"text-align: right;\">                   -1.01626</td><td style=\"text-align: right;\">           0.938932 </td><td>mse                            </td><td>adagrad         </td></tr>\n",
              "<tr><td>meta_loss_98963_00016</td><td>PENDING </td><td>     </td><td>dropout     </td><td>maxpooling2d</td><td>conv2d</td><td>conv2d</td><td>conv2d</td><td>conv2d</td><td>conv2d</td><td style=\"text-align: right;\">   8</td><td style=\"text-align: right;\">   8</td><td style=\"text-align: right;\">   8</td><td style=\"text-align: right;\">   8</td><td style=\"text-align: right;\">   8</td><td style=\"text-align: right;\">   8</td><td style=\"text-align: right;\">   8</td><td style=\"text-align: right;\">           8</td><td>sigmoid          </td><td>sigmoid           </td><td style=\"text-align: right;\">                   -3.70958</td><td style=\"text-align: right;\">           0.0631872</td><td>mape                           </td><td>sgd             </td></tr>\n",
              "<tr><td>meta_loss_98963_00017</td><td>PENDING </td><td>     </td><td>none        </td><td>maxpooling2d</td><td>conv2d</td><td>conv2d</td><td>conv2d</td><td>conv2d</td><td>conv2d</td><td style=\"text-align: right;\">   8</td><td style=\"text-align: right;\">   8</td><td style=\"text-align: right;\">   8</td><td style=\"text-align: right;\">   8</td><td style=\"text-align: right;\">   8</td><td style=\"text-align: right;\">   8</td><td style=\"text-align: right;\">   8</td><td style=\"text-align: right;\">          16</td><td>sigmoid          </td><td>sigmoid           </td><td style=\"text-align: right;\">                   -3.41504</td><td style=\"text-align: right;\">           0.482399 </td><td>mae                            </td><td>nadam           </td></tr>\n",
              "<tr><td>meta_loss_98963_00000</td><td>ERROR   </td><td>     </td><td>conv2d      </td><td>conv2d      </td><td>conv2d</td><td>conv2d</td><td>conv2d</td><td>conv2d</td><td>conv2d</td><td style=\"text-align: right;\">   8</td><td style=\"text-align: right;\">   8</td><td style=\"text-align: right;\">   8</td><td style=\"text-align: right;\">   8</td><td style=\"text-align: right;\">   8</td><td style=\"text-align: right;\">   8</td><td style=\"text-align: right;\">   8</td><td style=\"text-align: right;\">          24</td><td>sigmoid          </td><td>sigmoid           </td><td style=\"text-align: right;\">                   -2.51525</td><td style=\"text-align: right;\">           0.553209 </td><td>mape                           </td><td>adagrad         </td></tr>\n",
              "</tbody>\n",
              "</table><br>Number of errored trials: 1<br><table>\n",
              "<thead>\n",
              "<tr><th>Trial name           </th><th style=\"text-align: right;\">  # failures</th><th>error file                                                                                                                                                                                                                 </th></tr>\n",
              "</thead>\n",
              "<tbody>\n",
              "<tr><td>meta_loss_98963_00000</td><td style=\"text-align: right;\">           1</td><td>/home/jacobfv123/ray_results/meta_loss_2021-11-01_12-24-01/meta_loss_98963_00000_0_L1=conv2d,L2=conv2d,L3=conv2d,L4=conv2d,L5=conv2d,L6=conv2d,L7=conv2d,N1=8,N2=8,N3=8,N4=8,N5=8,N6=8,N7=8,b_2021-11-01_12-24-02/error.txt</td></tr>\n",
              "</tbody>\n",
              "</table><br>"
            ],
            "text/plain": [
              "<IPython.core.display.HTML object>"
            ]
          },
          "metadata": {},
          "output_type": "display_data"
        },
        {
          "name": "stderr",
          "output_type": "stream",
          "text": [
            "\u001b[2m\u001b[36m(pid=1185)\u001b[0m 2021-11-01 12:24:17.581494: I tensorflow/stream_executor/cuda/cuda_gpu_executor.cc:937] successful NUMA node read from SysFS had negative value (-1), but there must be at least one NUMA node, so returning NUMA node zero\n",
            "\u001b[2m\u001b[36m(pid=1185)\u001b[0m 2021-11-01 12:24:17.592053: I tensorflow/stream_executor/cuda/cuda_gpu_executor.cc:937] successful NUMA node read from SysFS had negative value (-1), but there must be at least one NUMA node, so returning NUMA node zero\n",
            "\u001b[2m\u001b[36m(pid=1185)\u001b[0m 2021-11-01 12:24:17.592853: I tensorflow/stream_executor/cuda/cuda_gpu_executor.cc:937] successful NUMA node read from SysFS had negative value (-1), but there must be at least one NUMA node, so returning NUMA node zero\n",
            "\u001b[2m\u001b[36m(pid=1185)\u001b[0m 2021-11-01 12:24:17.594109: I tensorflow/core/platform/cpu_feature_guard.cc:142] This TensorFlow binary is optimized with oneAPI Deep Neural Network Library (oneDNN) to use the following CPU instructions in performance-critical operations:  AVX2 FMA\n",
            "\u001b[2m\u001b[36m(pid=1185)\u001b[0m To enable them in other operations, rebuild TensorFlow with the appropriate compiler flags.\n",
            "\u001b[2m\u001b[36m(pid=1185)\u001b[0m 2021-11-01 12:24:17.594570: I tensorflow/stream_executor/cuda/cuda_gpu_executor.cc:937] successful NUMA node read from SysFS had negative value (-1), but there must be at least one NUMA node, so returning NUMA node zero\n",
            "\u001b[2m\u001b[36m(pid=1185)\u001b[0m 2021-11-01 12:24:17.595438: I tensorflow/stream_executor/cuda/cuda_gpu_executor.cc:937] successful NUMA node read from SysFS had negative value (-1), but there must be at least one NUMA node, so returning NUMA node zero\n",
            "\u001b[2m\u001b[36m(pid=1185)\u001b[0m 2021-11-01 12:24:17.596336: I tensorflow/stream_executor/cuda/cuda_gpu_executor.cc:937] successful NUMA node read from SysFS had negative value (-1), but there must be at least one NUMA node, so returning NUMA node zero\n",
            "\u001b[2m\u001b[36m(pid=1185)\u001b[0m 2021-11-01 12:24:18.164144: I tensorflow/stream_executor/cuda/cuda_gpu_executor.cc:937] successful NUMA node read from SysFS had negative value (-1), but there must be at least one NUMA node, so returning NUMA node zero\n",
            "\u001b[2m\u001b[36m(pid=1185)\u001b[0m 2021-11-01 12:24:18.165161: I tensorflow/stream_executor/cuda/cuda_gpu_executor.cc:937] successful NUMA node read from SysFS had negative value (-1), but there must be at least one NUMA node, so returning NUMA node zero\n",
            "\u001b[2m\u001b[36m(pid=1185)\u001b[0m 2021-11-01 12:24:18.166119: I tensorflow/stream_executor/cuda/cuda_gpu_executor.cc:937] successful NUMA node read from SysFS had negative value (-1), but there must be at least one NUMA node, so returning NUMA node zero\n",
            "\u001b[2m\u001b[36m(pid=1185)\u001b[0m 2021-11-01 12:24:18,167\tERROR function_runner.py:266 -- Runner Thread raised error.\n",
            "\u001b[2m\u001b[36m(pid=1185)\u001b[0m Traceback (most recent call last):\n",
            "\u001b[2m\u001b[36m(pid=1185)\u001b[0m   File \"/opt/conda/lib/python3.7/site-packages/ray/tune/function_runner.py\", line 260, in run\n",
            "\u001b[2m\u001b[36m(pid=1185)\u001b[0m     self._entrypoint()\n",
            "\u001b[2m\u001b[36m(pid=1185)\u001b[0m   File \"/opt/conda/lib/python3.7/site-packages/ray/tune/function_runner.py\", line 329, in entrypoint\n",
            "\u001b[2m\u001b[36m(pid=1185)\u001b[0m     self._status_reporter.get_checkpoint())\n",
            "\u001b[2m\u001b[36m(pid=1185)\u001b[0m   File \"/opt/conda/lib/python3.7/site-packages/ray/util/tracing/tracing_helper.py\", line 449, in _resume_span\n",
            "\u001b[2m\u001b[36m(pid=1185)\u001b[0m     return method(self, *_args, **_kwargs)\n",
            "\u001b[2m\u001b[36m(pid=1185)\u001b[0m   File \"/opt/conda/lib/python3.7/site-packages/ray/tune/function_runner.py\", line 594, in _trainable_func\n",
            "\u001b[2m\u001b[36m(pid=1185)\u001b[0m     output = fn()\n",
            "\u001b[2m\u001b[36m(pid=1185)\u001b[0m   File \"/tmp/ipykernel_886/1119233880.py\", line 61, in meta_loss\n",
            "\u001b[2m\u001b[36m(pid=1185)\u001b[0m   File \"/opt/conda/lib/python3.7/site-packages/tensorflow/python/util/dispatch.py\", line 206, in wrapper\n",
            "\u001b[2m\u001b[36m(pid=1185)\u001b[0m     return target(*args, **kwargs)\n",
            "\u001b[2m\u001b[36m(pid=1185)\u001b[0m   File \"/opt/conda/lib/python3.7/site-packages/tensorflow/python/ops/array_ops.py\", line 4338, in one_hot\n",
            "\u001b[2m\u001b[36m(pid=1185)\u001b[0m     on_value = ops.convert_to_tensor(1, dtype, name=\"on_value\")\n",
            "\u001b[2m\u001b[36m(pid=1185)\u001b[0m   File \"/opt/conda/lib/python3.7/site-packages/tensorflow/python/profiler/trace.py\", line 163, in wrapped\n",
            "\u001b[2m\u001b[36m(pid=1185)\u001b[0m     return func(*args, **kwargs)\n",
            "\u001b[2m\u001b[36m(pid=1185)\u001b[0m   File \"/opt/conda/lib/python3.7/site-packages/tensorflow/python/framework/ops.py\", line 1566, in convert_to_tensor\n",
            "\u001b[2m\u001b[36m(pid=1185)\u001b[0m     ret = conversion_func(value, dtype=dtype, name=name, as_ref=as_ref)\n",
            "\u001b[2m\u001b[36m(pid=1185)\u001b[0m   File \"/opt/conda/lib/python3.7/site-packages/tensorflow/python/framework/tensor_conversion_registry.py\", line 52, in _default_conversion_function\n",
            "\u001b[2m\u001b[36m(pid=1185)\u001b[0m     return constant_op.constant(value, dtype, name=name)\n",
            "\u001b[2m\u001b[36m(pid=1185)\u001b[0m   File \"/opt/conda/lib/python3.7/site-packages/tensorflow/python/framework/constant_op.py\", line 272, in constant\n",
            "\u001b[2m\u001b[36m(pid=1185)\u001b[0m     allow_broadcast=True)\n",
            "\u001b[2m\u001b[36m(pid=1185)\u001b[0m   File \"/opt/conda/lib/python3.7/site-packages/tensorflow/python/framework/constant_op.py\", line 283, in _constant_impl\n",
            "\u001b[2m\u001b[36m(pid=1185)\u001b[0m     return _constant_eager_impl(ctx, value, dtype, shape, verify_shape)\n",
            "\u001b[2m\u001b[36m(pid=1185)\u001b[0m   File \"/opt/conda/lib/python3.7/site-packages/tensorflow/python/framework/constant_op.py\", line 308, in _constant_eager_impl\n",
            "\u001b[2m\u001b[36m(pid=1185)\u001b[0m     t = convert_to_eager_tensor(value, ctx, dtype)\n",
            "\u001b[2m\u001b[36m(pid=1185)\u001b[0m   File \"/opt/conda/lib/python3.7/site-packages/tensorflow/python/framework/constant_op.py\", line 105, in convert_to_eager_tensor\n",
            "\u001b[2m\u001b[36m(pid=1185)\u001b[0m     ctx.ensure_initialized()\n",
            "\u001b[2m\u001b[36m(pid=1185)\u001b[0m   File \"/opt/conda/lib/python3.7/site-packages/tensorflow/python/eager/context.py\", line 555, in ensure_initialized\n",
            "\u001b[2m\u001b[36m(pid=1185)\u001b[0m     context_handle = pywrap_tfe.TFE_NewContext(opts)\n",
            "\u001b[2m\u001b[36m(pid=1185)\u001b[0m MemoryError: std::bad_alloc\n",
            "\u001b[2m\u001b[36m(pid=1185)\u001b[0m Exception in thread Thread-2:\n",
            "\u001b[2m\u001b[36m(pid=1185)\u001b[0m Traceback (most recent call last):\n",
            "\u001b[2m\u001b[36m(pid=1185)\u001b[0m   File \"/opt/conda/lib/python3.7/threading.py\", line 926, in _bootstrap_inner\n",
            "\u001b[2m\u001b[36m(pid=1185)\u001b[0m     self.run()\n",
            "\u001b[2m\u001b[36m(pid=1185)\u001b[0m   File \"/opt/conda/lib/python3.7/site-packages/ray/tune/function_runner.py\", line 279, in run\n",
            "\u001b[2m\u001b[36m(pid=1185)\u001b[0m     raise e\n",
            "\u001b[2m\u001b[36m(pid=1185)\u001b[0m   File \"/opt/conda/lib/python3.7/site-packages/ray/tune/function_runner.py\", line 260, in run\n",
            "\u001b[2m\u001b[36m(pid=1185)\u001b[0m     self._entrypoint()\n",
            "\u001b[2m\u001b[36m(pid=1185)\u001b[0m   File \"/opt/conda/lib/python3.7/site-packages/ray/tune/function_runner.py\", line 329, in entrypoint\n",
            "\u001b[2m\u001b[36m(pid=1185)\u001b[0m     self._status_reporter.get_checkpoint())\n",
            "\u001b[2m\u001b[36m(pid=1185)\u001b[0m   File \"/opt/conda/lib/python3.7/site-packages/ray/util/tracing/tracing_helper.py\", line 449, in _resume_span\n",
            "\u001b[2m\u001b[36m(pid=1185)\u001b[0m     return method(self, *_args, **_kwargs)\n",
            "\u001b[2m\u001b[36m(pid=1185)\u001b[0m   File \"/opt/conda/lib/python3.7/site-packages/ray/tune/function_runner.py\", line 594, in _trainable_func\n",
            "\u001b[2m\u001b[36m(pid=1185)\u001b[0m     output = fn()\n",
            "\u001b[2m\u001b[36m(pid=1185)\u001b[0m   File \"/tmp/ipykernel_886/1119233880.py\", line 61, in meta_loss\n",
            "\u001b[2m\u001b[36m(pid=1185)\u001b[0m   File \"/opt/conda/lib/python3.7/site-packages/tensorflow/python/util/dispatch.py\", line 206, in wrapper\n",
            "\u001b[2m\u001b[36m(pid=1185)\u001b[0m     return target(*args, **kwargs)\n",
            "\u001b[2m\u001b[36m(pid=1185)\u001b[0m   File \"/opt/conda/lib/python3.7/site-packages/tensorflow/python/ops/array_ops.py\", line 4338, in one_hot\n",
            "\u001b[2m\u001b[36m(pid=1185)\u001b[0m     on_value = ops.convert_to_tensor(1, dtype, name=\"on_value\")\n",
            "\u001b[2m\u001b[36m(pid=1185)\u001b[0m   File \"/opt/conda/lib/python3.7/site-packages/tensorflow/python/profiler/trace.py\", line 163, in wrapped\n",
            "\u001b[2m\u001b[36m(pid=1185)\u001b[0m     return func(*args, **kwargs)\n",
            "\u001b[2m\u001b[36m(pid=1185)\u001b[0m   File \"/opt/conda/lib/python3.7/site-packages/tensorflow/python/framework/ops.py\", line 1566, in convert_to_tensor\n",
            "\u001b[2m\u001b[36m(pid=1185)\u001b[0m     ret = conversion_func(value, dtype=dtype, name=name, as_ref=as_ref)\n",
            "\u001b[2m\u001b[36m(pid=1185)\u001b[0m   File \"/opt/conda/lib/python3.7/site-packages/tensorflow/python/framework/tensor_conversion_registry.py\", line 52, in _default_conversion_function\n",
            "\u001b[2m\u001b[36m(pid=1185)\u001b[0m     return constant_op.constant(value, dtype, name=name)\n",
            "\u001b[2m\u001b[36m(pid=1185)\u001b[0m   File \"/opt/conda/lib/python3.7/site-packages/tensorflow/python/framework/constant_op.py\", line 272, in constant\n",
            "\u001b[2m\u001b[36m(pid=1185)\u001b[0m     allow_broadcast=True)\n",
            "\u001b[2m\u001b[36m(pid=1185)\u001b[0m   File \"/opt/conda/lib/python3.7/site-packages/tensorflow/python/framework/constant_op.py\", line 283, in _constant_impl\n",
            "\u001b[2m\u001b[36m(pid=1185)\u001b[0m     return _constant_eager_impl(ctx, value, dtype, shape, verify_shape)\n",
            "\u001b[2m\u001b[36m(pid=1185)\u001b[0m   File \"/opt/conda/lib/python3.7/site-packages/tensorflow/python/framework/constant_op.py\", line 308, in _constant_eager_impl\n",
            "\u001b[2m\u001b[36m(pid=1185)\u001b[0m     t = convert_to_eager_tensor(value, ctx, dtype)\n",
            "\u001b[2m\u001b[36m(pid=1185)\u001b[0m   File \"/opt/conda/lib/python3.7/site-packages/tensorflow/python/framework/constant_op.py\", line 105, in convert_to_eager_tensor\n",
            "\u001b[2m\u001b[36m(pid=1185)\u001b[0m     ctx.ensure_initialized()\n",
            "\u001b[2m\u001b[36m(pid=1185)\u001b[0m   File \"/opt/conda/lib/python3.7/site-packages/tensorflow/python/eager/context.py\", line 555, in ensure_initialized\n",
            "\u001b[2m\u001b[36m(pid=1185)\u001b[0m     context_handle = pywrap_tfe.TFE_NewContext(opts)\n",
            "\u001b[2m\u001b[36m(pid=1185)\u001b[0m MemoryError: std::bad_alloc\n",
            "\u001b[2m\u001b[36m(pid=1185)\u001b[0m \n",
            "2021-11-01 12:24:18,370\tERROR trial_runner.py:846 -- Trial meta_loss_98963_00001: Error processing event.\n",
            "Traceback (most recent call last):\n",
            "  File \"/opt/conda/lib/python3.7/site-packages/ray/tune/trial_runner.py\", line 812, in _process_trial\n",
            "    results = self.trial_executor.fetch_result(trial)\n",
            "  File \"/opt/conda/lib/python3.7/site-packages/ray/tune/ray_trial_executor.py\", line 767, in fetch_result\n",
            "    result = ray.get(trial_future[0], timeout=DEFAULT_GET_TIMEOUT)\n",
            "  File \"/opt/conda/lib/python3.7/site-packages/ray/_private/client_mode_hook.py\", line 89, in wrapper\n",
            "    return func(*args, **kwargs)\n",
            "  File \"/opt/conda/lib/python3.7/site-packages/ray/worker.py\", line 1621, in get\n",
            "    raise value.as_instanceof_cause()\n",
            "ray.exceptions.RayTaskError(TuneError): \u001b[36mray::ImplicitFunc.train_buffered()\u001b[39m (pid=1185, ip=10.138.0.10, repr=<types.ImplicitFunc object at 0x7fd6ffc6cad0>)\n",
            "  File \"/opt/conda/lib/python3.7/site-packages/ray/tune/trainable.py\", line 189, in train_buffered\n",
            "    result = self.train()\n",
            "  File \"/opt/conda/lib/python3.7/site-packages/ray/tune/trainable.py\", line 248, in train\n",
            "    result = self.step()\n",
            "  File \"/opt/conda/lib/python3.7/site-packages/ray/tune/function_runner.py\", line 379, in step\n",
            "    self._report_thread_runner_error(block=True)\n",
            "  File \"/opt/conda/lib/python3.7/site-packages/ray/tune/function_runner.py\", line 527, in _report_thread_runner_error\n",
            "    (\"Trial raised an exception. Traceback:\\n{}\".format(err_tb_str)\n",
            "ray.tune.error.TuneError: Trial raised an exception. Traceback:\n",
            "\u001b[36mray::ImplicitFunc.train_buffered()\u001b[39m (pid=1185, ip=10.138.0.10, repr=<types.ImplicitFunc object at 0x7fd6ffc6cad0>)\n",
            "  File \"/opt/conda/lib/python3.7/site-packages/ray/tune/function_runner.py\", line 260, in run\n",
            "    self._entrypoint()\n",
            "  File \"/opt/conda/lib/python3.7/site-packages/ray/tune/function_runner.py\", line 329, in entrypoint\n",
            "    self._status_reporter.get_checkpoint())\n",
            "  File \"/opt/conda/lib/python3.7/site-packages/ray/tune/function_runner.py\", line 594, in _trainable_func\n",
            "    output = fn()\n",
            "  File \"/tmp/ipykernel_886/1119233880.py\", line 61, in meta_loss\n",
            "  File \"/opt/conda/lib/python3.7/site-packages/tensorflow/python/util/dispatch.py\", line 206, in wrapper\n",
            "    return target(*args, **kwargs)\n",
            "  File \"/opt/conda/lib/python3.7/site-packages/tensorflow/python/ops/array_ops.py\", line 4338, in one_hot\n",
            "    on_value = ops.convert_to_tensor(1, dtype, name=\"on_value\")\n",
            "  File \"/opt/conda/lib/python3.7/site-packages/tensorflow/python/profiler/trace.py\", line 163, in wrapped\n",
            "    return func(*args, **kwargs)\n",
            "  File \"/opt/conda/lib/python3.7/site-packages/tensorflow/python/framework/ops.py\", line 1566, in convert_to_tensor\n",
            "    ret = conversion_func(value, dtype=dtype, name=name, as_ref=as_ref)\n",
            "  File \"/opt/conda/lib/python3.7/site-packages/tensorflow/python/framework/tensor_conversion_registry.py\", line 52, in _default_conversion_function\n",
            "    return constant_op.constant(value, dtype, name=name)\n",
            "  File \"/opt/conda/lib/python3.7/site-packages/tensorflow/python/framework/constant_op.py\", line 272, in constant\n",
            "    allow_broadcast=True)\n",
            "  File \"/opt/conda/lib/python3.7/site-packages/tensorflow/python/framework/constant_op.py\", line 283, in _constant_impl\n",
            "    return _constant_eager_impl(ctx, value, dtype, shape, verify_shape)\n",
            "  File \"/opt/conda/lib/python3.7/site-packages/tensorflow/python/framework/constant_op.py\", line 308, in _constant_eager_impl\n",
            "    t = convert_to_eager_tensor(value, ctx, dtype)\n",
            "  File \"/opt/conda/lib/python3.7/site-packages/tensorflow/python/framework/constant_op.py\", line 105, in convert_to_eager_tensor\n",
            "    ctx.ensure_initialized()\n",
            "  File \"/opt/conda/lib/python3.7/site-packages/tensorflow/python/eager/context.py\", line 555, in ensure_initialized\n",
            "    context_handle = pywrap_tfe.TFE_NewContext(opts)\n",
            "MemoryError: std::bad_alloc\n"
          ]
        },
        {
          "name": "stdout",
          "output_type": "stream",
          "text": [
            "Result for meta_loss_98963_00001:\n",
            "  {}\n",
            "  \n"
          ]
        },
        {
          "data": {
            "text/html": [
              "== Status ==<br>Memory usage on this node: 2.0/12.7 GiB<br>Using FIFO scheduling algorithm.<br>Resources requested: 1.0/2 CPUs, 1.0/1 GPUs, 0.0/7.21 GiB heap, 0.0/3.6 GiB objects (0.0/1.0 accelerator_type:K80)<br>Result logdir: /home/jacobfv123/ray_results/meta_loss_2021-11-01_12-24-01<br>Number of trials: 19/267302874351744 (2 ERROR, 16 PENDING, 1 RUNNING)<br><table>\n",
              "<thead>\n",
              "<tr><th>Trial name           </th><th>status  </th><th>loc  </th><th>L1          </th><th>L2          </th><th>L3    </th><th>L4    </th><th>L5    </th><th>L6    </th><th>L7    </th><th style=\"text-align: right;\">  N1</th><th style=\"text-align: right;\">  N2</th><th style=\"text-align: right;\">  N3</th><th style=\"text-align: right;\">  N4</th><th style=\"text-align: right;\">  N5</th><th style=\"text-align: right;\">  N6</th><th style=\"text-align: right;\">  N7</th><th style=\"text-align: right;\">  batch_size</th><th>conv_activation  </th><th>dense_activation  </th><th style=\"text-align: right;\">  initial_learning_rate_exp</th><th style=\"text-align: right;\">  learning_rate_rate</th><th>loss_name                      </th><th>optimizer_name  </th></tr>\n",
              "</thead>\n",
              "<tbody>\n",
              "<tr><td>meta_loss_98963_00002</td><td>RUNNING </td><td>     </td><td>maxpooling2d</td><td>conv2d      </td><td>conv2d</td><td>conv2d</td><td>conv2d</td><td>conv2d</td><td>conv2d</td><td style=\"text-align: right;\">   8</td><td style=\"text-align: right;\">   8</td><td style=\"text-align: right;\">   8</td><td style=\"text-align: right;\">   8</td><td style=\"text-align: right;\">   8</td><td style=\"text-align: right;\">   8</td><td style=\"text-align: right;\">   8</td><td style=\"text-align: right;\">         128</td><td>sigmoid          </td><td>sigmoid           </td><td style=\"text-align: right;\">                   -2.8581 </td><td style=\"text-align: right;\">           0.512218 </td><td>sparse_categorical_crossentropy</td><td>adamax          </td></tr>\n",
              "<tr><td>meta_loss_98963_00003</td><td>PENDING </td><td>     </td><td>flatten     </td><td>conv2d      </td><td>conv2d</td><td>conv2d</td><td>conv2d</td><td>conv2d</td><td>conv2d</td><td style=\"text-align: right;\">   8</td><td style=\"text-align: right;\">   8</td><td style=\"text-align: right;\">   8</td><td style=\"text-align: right;\">   8</td><td style=\"text-align: right;\">   8</td><td style=\"text-align: right;\">   8</td><td style=\"text-align: right;\">   8</td><td style=\"text-align: right;\">           4</td><td>sigmoid          </td><td>sigmoid           </td><td style=\"text-align: right;\">                   -1.27046</td><td style=\"text-align: right;\">           0.454703 </td><td>mape                           </td><td>sgd             </td></tr>\n",
              "<tr><td>meta_loss_98963_00004</td><td>PENDING </td><td>     </td><td>dropout     </td><td>conv2d      </td><td>conv2d</td><td>conv2d</td><td>conv2d</td><td>conv2d</td><td>conv2d</td><td style=\"text-align: right;\">   8</td><td style=\"text-align: right;\">   8</td><td style=\"text-align: right;\">   8</td><td style=\"text-align: right;\">   8</td><td style=\"text-align: right;\">   8</td><td style=\"text-align: right;\">   8</td><td style=\"text-align: right;\">   8</td><td style=\"text-align: right;\">          16</td><td>sigmoid          </td><td>sigmoid           </td><td style=\"text-align: right;\">                   -3.53965</td><td style=\"text-align: right;\">           0.861406 </td><td>categorical_crossentropy       </td><td>adadelta        </td></tr>\n",
              "<tr><td>meta_loss_98963_00005</td><td>PENDING </td><td>     </td><td>none        </td><td>conv2d      </td><td>conv2d</td><td>conv2d</td><td>conv2d</td><td>conv2d</td><td>conv2d</td><td style=\"text-align: right;\">   8</td><td style=\"text-align: right;\">   8</td><td style=\"text-align: right;\">   8</td><td style=\"text-align: right;\">   8</td><td style=\"text-align: right;\">   8</td><td style=\"text-align: right;\">   8</td><td style=\"text-align: right;\">   8</td><td style=\"text-align: right;\">           8</td><td>sigmoid          </td><td>sigmoid           </td><td style=\"text-align: right;\">                   -3.50222</td><td style=\"text-align: right;\">           0.955176 </td><td>mape                           </td><td>sgd             </td></tr>\n",
              "<tr><td>meta_loss_98963_00006</td><td>PENDING </td><td>     </td><td>conv2d      </td><td>dense       </td><td>conv2d</td><td>conv2d</td><td>conv2d</td><td>conv2d</td><td>conv2d</td><td style=\"text-align: right;\">   8</td><td style=\"text-align: right;\">   8</td><td style=\"text-align: right;\">   8</td><td style=\"text-align: right;\">   8</td><td style=\"text-align: right;\">   8</td><td style=\"text-align: right;\">   8</td><td style=\"text-align: right;\">   8</td><td style=\"text-align: right;\">         128</td><td>sigmoid          </td><td>sigmoid           </td><td style=\"text-align: right;\">                   -2.40886</td><td style=\"text-align: right;\">           0.878881 </td><td>mae                            </td><td>adadelta        </td></tr>\n",
              "<tr><td>meta_loss_98963_00007</td><td>PENDING </td><td>     </td><td>dense       </td><td>dense       </td><td>conv2d</td><td>conv2d</td><td>conv2d</td><td>conv2d</td><td>conv2d</td><td style=\"text-align: right;\">   8</td><td style=\"text-align: right;\">   8</td><td style=\"text-align: right;\">   8</td><td style=\"text-align: right;\">   8</td><td style=\"text-align: right;\">   8</td><td style=\"text-align: right;\">   8</td><td style=\"text-align: right;\">   8</td><td style=\"text-align: right;\">          24</td><td>sigmoid          </td><td>sigmoid           </td><td style=\"text-align: right;\">                   -1.66232</td><td style=\"text-align: right;\">           0.355708 </td><td>mae                            </td><td>adagrad         </td></tr>\n",
              "<tr><td>meta_loss_98963_00008</td><td>PENDING </td><td>     </td><td>maxpooling2d</td><td>dense       </td><td>conv2d</td><td>conv2d</td><td>conv2d</td><td>conv2d</td><td>conv2d</td><td style=\"text-align: right;\">   8</td><td style=\"text-align: right;\">   8</td><td style=\"text-align: right;\">   8</td><td style=\"text-align: right;\">   8</td><td style=\"text-align: right;\">   8</td><td style=\"text-align: right;\">   8</td><td style=\"text-align: right;\">   8</td><td style=\"text-align: right;\">          64</td><td>sigmoid          </td><td>sigmoid           </td><td style=\"text-align: right;\">                   -1.15489</td><td style=\"text-align: right;\">           0.736778 </td><td>mae                            </td><td>nadam           </td></tr>\n",
              "<tr><td>meta_loss_98963_00009</td><td>PENDING </td><td>     </td><td>flatten     </td><td>dense       </td><td>conv2d</td><td>conv2d</td><td>conv2d</td><td>conv2d</td><td>conv2d</td><td style=\"text-align: right;\">   8</td><td style=\"text-align: right;\">   8</td><td style=\"text-align: right;\">   8</td><td style=\"text-align: right;\">   8</td><td style=\"text-align: right;\">   8</td><td style=\"text-align: right;\">   8</td><td style=\"text-align: right;\">   8</td><td style=\"text-align: right;\">          48</td><td>sigmoid          </td><td>sigmoid           </td><td style=\"text-align: right;\">                   -2.96978</td><td style=\"text-align: right;\">           0.814146 </td><td>categorical_crossentropy       </td><td>adamax          </td></tr>\n",
              "<tr><td>meta_loss_98963_00010</td><td>PENDING </td><td>     </td><td>dropout     </td><td>dense       </td><td>conv2d</td><td>conv2d</td><td>conv2d</td><td>conv2d</td><td>conv2d</td><td style=\"text-align: right;\">   8</td><td style=\"text-align: right;\">   8</td><td style=\"text-align: right;\">   8</td><td style=\"text-align: right;\">   8</td><td style=\"text-align: right;\">   8</td><td style=\"text-align: right;\">   8</td><td style=\"text-align: right;\">   8</td><td style=\"text-align: right;\">          48</td><td>sigmoid          </td><td>sigmoid           </td><td style=\"text-align: right;\">                   -1.84345</td><td style=\"text-align: right;\">           0.335166 </td><td>sparse_categorical_crossentropy</td><td>adadelta        </td></tr>\n",
              "<tr><td>meta_loss_98963_00011</td><td>PENDING </td><td>     </td><td>none        </td><td>dense       </td><td>conv2d</td><td>conv2d</td><td>conv2d</td><td>conv2d</td><td>conv2d</td><td style=\"text-align: right;\">   8</td><td style=\"text-align: right;\">   8</td><td style=\"text-align: right;\">   8</td><td style=\"text-align: right;\">   8</td><td style=\"text-align: right;\">   8</td><td style=\"text-align: right;\">   8</td><td style=\"text-align: right;\">   8</td><td style=\"text-align: right;\">          24</td><td>sigmoid          </td><td>sigmoid           </td><td style=\"text-align: right;\">                   -3.12773</td><td style=\"text-align: right;\">           0.515024 </td><td>categorical_crossentropy       </td><td>adamax          </td></tr>\n",
              "<tr><td>meta_loss_98963_00012</td><td>PENDING </td><td>     </td><td>conv2d      </td><td>maxpooling2d</td><td>conv2d</td><td>conv2d</td><td>conv2d</td><td>conv2d</td><td>conv2d</td><td style=\"text-align: right;\">   8</td><td style=\"text-align: right;\">   8</td><td style=\"text-align: right;\">   8</td><td style=\"text-align: right;\">   8</td><td style=\"text-align: right;\">   8</td><td style=\"text-align: right;\">   8</td><td style=\"text-align: right;\">   8</td><td style=\"text-align: right;\">           8</td><td>sigmoid          </td><td>sigmoid           </td><td style=\"text-align: right;\">                   -2.44683</td><td style=\"text-align: right;\">           0.949793 </td><td>mse                            </td><td>adamax          </td></tr>\n",
              "<tr><td>meta_loss_98963_00013</td><td>PENDING </td><td>     </td><td>dense       </td><td>maxpooling2d</td><td>conv2d</td><td>conv2d</td><td>conv2d</td><td>conv2d</td><td>conv2d</td><td style=\"text-align: right;\">   8</td><td style=\"text-align: right;\">   8</td><td style=\"text-align: right;\">   8</td><td style=\"text-align: right;\">   8</td><td style=\"text-align: right;\">   8</td><td style=\"text-align: right;\">   8</td><td style=\"text-align: right;\">   8</td><td style=\"text-align: right;\">          48</td><td>sigmoid          </td><td>sigmoid           </td><td style=\"text-align: right;\">                   -2.7508 </td><td style=\"text-align: right;\">           0.0587266</td><td>categorical_crossentropy       </td><td>nadam           </td></tr>\n",
              "<tr><td>meta_loss_98963_00014</td><td>PENDING </td><td>     </td><td>maxpooling2d</td><td>maxpooling2d</td><td>conv2d</td><td>conv2d</td><td>conv2d</td><td>conv2d</td><td>conv2d</td><td style=\"text-align: right;\">   8</td><td style=\"text-align: right;\">   8</td><td style=\"text-align: right;\">   8</td><td style=\"text-align: right;\">   8</td><td style=\"text-align: right;\">   8</td><td style=\"text-align: right;\">   8</td><td style=\"text-align: right;\">   8</td><td style=\"text-align: right;\">          48</td><td>sigmoid          </td><td>sigmoid           </td><td style=\"text-align: right;\">                   -3.15043</td><td style=\"text-align: right;\">           0.594349 </td><td>mse                            </td><td>adagrad         </td></tr>\n",
              "<tr><td>meta_loss_98963_00015</td><td>PENDING </td><td>     </td><td>flatten     </td><td>maxpooling2d</td><td>conv2d</td><td>conv2d</td><td>conv2d</td><td>conv2d</td><td>conv2d</td><td style=\"text-align: right;\">   8</td><td style=\"text-align: right;\">   8</td><td style=\"text-align: right;\">   8</td><td style=\"text-align: right;\">   8</td><td style=\"text-align: right;\">   8</td><td style=\"text-align: right;\">   8</td><td style=\"text-align: right;\">   8</td><td style=\"text-align: right;\">           4</td><td>sigmoid          </td><td>sigmoid           </td><td style=\"text-align: right;\">                   -1.01626</td><td style=\"text-align: right;\">           0.938932 </td><td>mse                            </td><td>adagrad         </td></tr>\n",
              "<tr><td>meta_loss_98963_00016</td><td>PENDING </td><td>     </td><td>dropout     </td><td>maxpooling2d</td><td>conv2d</td><td>conv2d</td><td>conv2d</td><td>conv2d</td><td>conv2d</td><td style=\"text-align: right;\">   8</td><td style=\"text-align: right;\">   8</td><td style=\"text-align: right;\">   8</td><td style=\"text-align: right;\">   8</td><td style=\"text-align: right;\">   8</td><td style=\"text-align: right;\">   8</td><td style=\"text-align: right;\">   8</td><td style=\"text-align: right;\">           8</td><td>sigmoid          </td><td>sigmoid           </td><td style=\"text-align: right;\">                   -3.70958</td><td style=\"text-align: right;\">           0.0631872</td><td>mape                           </td><td>sgd             </td></tr>\n",
              "<tr><td>meta_loss_98963_00017</td><td>PENDING </td><td>     </td><td>none        </td><td>maxpooling2d</td><td>conv2d</td><td>conv2d</td><td>conv2d</td><td>conv2d</td><td>conv2d</td><td style=\"text-align: right;\">   8</td><td style=\"text-align: right;\">   8</td><td style=\"text-align: right;\">   8</td><td style=\"text-align: right;\">   8</td><td style=\"text-align: right;\">   8</td><td style=\"text-align: right;\">   8</td><td style=\"text-align: right;\">   8</td><td style=\"text-align: right;\">          16</td><td>sigmoid          </td><td>sigmoid           </td><td style=\"text-align: right;\">                   -3.41504</td><td style=\"text-align: right;\">           0.482399 </td><td>mae                            </td><td>nadam           </td></tr>\n",
              "<tr><td>meta_loss_98963_00018</td><td>PENDING </td><td>     </td><td>conv2d      </td><td>flatten     </td><td>conv2d</td><td>conv2d</td><td>conv2d</td><td>conv2d</td><td>conv2d</td><td style=\"text-align: right;\">   8</td><td style=\"text-align: right;\">   8</td><td style=\"text-align: right;\">   8</td><td style=\"text-align: right;\">   8</td><td style=\"text-align: right;\">   8</td><td style=\"text-align: right;\">   8</td><td style=\"text-align: right;\">   8</td><td style=\"text-align: right;\">          48</td><td>sigmoid          </td><td>sigmoid           </td><td style=\"text-align: right;\">                   -2.26361</td><td style=\"text-align: right;\">           0.83558  </td><td>mse                            </td><td>adagrad         </td></tr>\n",
              "<tr><td>meta_loss_98963_00000</td><td>ERROR   </td><td>     </td><td>conv2d      </td><td>conv2d      </td><td>conv2d</td><td>conv2d</td><td>conv2d</td><td>conv2d</td><td>conv2d</td><td style=\"text-align: right;\">   8</td><td style=\"text-align: right;\">   8</td><td style=\"text-align: right;\">   8</td><td style=\"text-align: right;\">   8</td><td style=\"text-align: right;\">   8</td><td style=\"text-align: right;\">   8</td><td style=\"text-align: right;\">   8</td><td style=\"text-align: right;\">          24</td><td>sigmoid          </td><td>sigmoid           </td><td style=\"text-align: right;\">                   -2.51525</td><td style=\"text-align: right;\">           0.553209 </td><td>mape                           </td><td>adagrad         </td></tr>\n",
              "<tr><td>meta_loss_98963_00001</td><td>ERROR   </td><td>     </td><td>dense       </td><td>conv2d      </td><td>conv2d</td><td>conv2d</td><td>conv2d</td><td>conv2d</td><td>conv2d</td><td style=\"text-align: right;\">   8</td><td style=\"text-align: right;\">   8</td><td style=\"text-align: right;\">   8</td><td style=\"text-align: right;\">   8</td><td style=\"text-align: right;\">   8</td><td style=\"text-align: right;\">   8</td><td style=\"text-align: right;\">   8</td><td style=\"text-align: right;\">          16</td><td>sigmoid          </td><td>sigmoid           </td><td style=\"text-align: right;\">                   -2.37358</td><td style=\"text-align: right;\">           0.314978 </td><td>sparse_categorical_crossentropy</td><td>adagrad         </td></tr>\n",
              "</tbody>\n",
              "</table><br>Number of errored trials: 2<br><table>\n",
              "<thead>\n",
              "<tr><th>Trial name           </th><th style=\"text-align: right;\">  # failures</th><th>error file                                                                                                                                                                                                                 </th></tr>\n",
              "</thead>\n",
              "<tbody>\n",
              "<tr><td>meta_loss_98963_00000</td><td style=\"text-align: right;\">           1</td><td>/home/jacobfv123/ray_results/meta_loss_2021-11-01_12-24-01/meta_loss_98963_00000_0_L1=conv2d,L2=conv2d,L3=conv2d,L4=conv2d,L5=conv2d,L6=conv2d,L7=conv2d,N1=8,N2=8,N3=8,N4=8,N5=8,N6=8,N7=8,b_2021-11-01_12-24-02/error.txt</td></tr>\n",
              "<tr><td>meta_loss_98963_00001</td><td style=\"text-align: right;\">           1</td><td>/home/jacobfv123/ray_results/meta_loss_2021-11-01_12-24-01/meta_loss_98963_00001_1_L1=dense,L2=conv2d,L3=conv2d,L4=conv2d,L5=conv2d,L6=conv2d,L7=conv2d,N1=8,N2=8,N3=8,N4=8,N5=8,N6=8,N7=8,ba_2021-11-01_12-24-03/error.txt</td></tr>\n",
              "</tbody>\n",
              "</table><br>"
            ],
            "text/plain": [
              "<IPython.core.display.HTML object>"
            ]
          },
          "metadata": {},
          "output_type": "display_data"
        },
        {
          "name": "stderr",
          "output_type": "stream",
          "text": [
            "\u001b[2m\u001b[36m(pid=1231)\u001b[0m 2021-11-01 12:24:24.314833: I tensorflow/stream_executor/cuda/cuda_gpu_executor.cc:937] successful NUMA node read from SysFS had negative value (-1), but there must be at least one NUMA node, so returning NUMA node zero\n",
            "\u001b[2m\u001b[36m(pid=1231)\u001b[0m 2021-11-01 12:24:24.325610: I tensorflow/stream_executor/cuda/cuda_gpu_executor.cc:937] successful NUMA node read from SysFS had negative value (-1), but there must be at least one NUMA node, so returning NUMA node zero\n",
            "\u001b[2m\u001b[36m(pid=1231)\u001b[0m 2021-11-01 12:24:24.326377: I tensorflow/stream_executor/cuda/cuda_gpu_executor.cc:937] successful NUMA node read from SysFS had negative value (-1), but there must be at least one NUMA node, so returning NUMA node zero\n",
            "\u001b[2m\u001b[36m(pid=1231)\u001b[0m 2021-11-01 12:24:24.328110: I tensorflow/core/platform/cpu_feature_guard.cc:142] This TensorFlow binary is optimized with oneAPI Deep Neural Network Library (oneDNN) to use the following CPU instructions in performance-critical operations:  AVX2 FMA\n",
            "\u001b[2m\u001b[36m(pid=1231)\u001b[0m To enable them in other operations, rebuild TensorFlow with the appropriate compiler flags.\n",
            "\u001b[2m\u001b[36m(pid=1231)\u001b[0m 2021-11-01 12:24:24.329209: I tensorflow/stream_executor/cuda/cuda_gpu_executor.cc:937] successful NUMA node read from SysFS had negative value (-1), but there must be at least one NUMA node, so returning NUMA node zero\n",
            "\u001b[2m\u001b[36m(pid=1231)\u001b[0m 2021-11-01 12:24:24.330326: I tensorflow/stream_executor/cuda/cuda_gpu_executor.cc:937] successful NUMA node read from SysFS had negative value (-1), but there must be at least one NUMA node, so returning NUMA node zero\n",
            "\u001b[2m\u001b[36m(pid=1231)\u001b[0m 2021-11-01 12:24:24.331181: I tensorflow/stream_executor/cuda/cuda_gpu_executor.cc:937] successful NUMA node read from SysFS had negative value (-1), but there must be at least one NUMA node, so returning NUMA node zero\n",
            "\u001b[2m\u001b[36m(pid=1231)\u001b[0m 2021-11-01 12:24:24.774456: I tensorflow/stream_executor/cuda/cuda_gpu_executor.cc:937] successful NUMA node read from SysFS had negative value (-1), but there must be at least one NUMA node, so returning NUMA node zero\n",
            "\u001b[2m\u001b[36m(pid=1231)\u001b[0m 2021-11-01 12:24:24.775204: I tensorflow/stream_executor/cuda/cuda_gpu_executor.cc:937] successful NUMA node read from SysFS had negative value (-1), but there must be at least one NUMA node, so returning NUMA node zero\n",
            "\u001b[2m\u001b[36m(pid=1231)\u001b[0m 2021-11-01 12:24:24.776030: I tensorflow/stream_executor/cuda/cuda_gpu_executor.cc:937] successful NUMA node read from SysFS had negative value (-1), but there must be at least one NUMA node, so returning NUMA node zero\n",
            "\u001b[2m\u001b[36m(pid=1231)\u001b[0m 2021-11-01 12:24:24,777\tERROR function_runner.py:266 -- Runner Thread raised error.\n",
            "\u001b[2m\u001b[36m(pid=1231)\u001b[0m Traceback (most recent call last):\n",
            "\u001b[2m\u001b[36m(pid=1231)\u001b[0m   File \"/opt/conda/lib/python3.7/site-packages/ray/tune/function_runner.py\", line 260, in run\n",
            "\u001b[2m\u001b[36m(pid=1231)\u001b[0m     self._entrypoint()\n",
            "\u001b[2m\u001b[36m(pid=1231)\u001b[0m   File \"/opt/conda/lib/python3.7/site-packages/ray/tune/function_runner.py\", line 329, in entrypoint\n",
            "\u001b[2m\u001b[36m(pid=1231)\u001b[0m     self._status_reporter.get_checkpoint())\n",
            "\u001b[2m\u001b[36m(pid=1231)\u001b[0m   File \"/opt/conda/lib/python3.7/site-packages/ray/util/tracing/tracing_helper.py\", line 449, in _resume_span\n",
            "\u001b[2m\u001b[36m(pid=1231)\u001b[0m     return method(self, *_args, **_kwargs)\n",
            "\u001b[2m\u001b[36m(pid=1231)\u001b[0m   File \"/opt/conda/lib/python3.7/site-packages/ray/tune/function_runner.py\", line 594, in _trainable_func\n",
            "\u001b[2m\u001b[36m(pid=1231)\u001b[0m     output = fn()\n",
            "\u001b[2m\u001b[36m(pid=1231)\u001b[0m   File \"/tmp/ipykernel_886/1119233880.py\", line 61, in meta_loss\n",
            "\u001b[2m\u001b[36m(pid=1231)\u001b[0m   File \"/opt/conda/lib/python3.7/site-packages/tensorflow/python/util/dispatch.py\", line 206, in wrapper\n",
            "\u001b[2m\u001b[36m(pid=1231)\u001b[0m     return target(*args, **kwargs)\n",
            "\u001b[2m\u001b[36m(pid=1231)\u001b[0m   File \"/opt/conda/lib/python3.7/site-packages/tensorflow/python/ops/array_ops.py\", line 4338, in one_hot\n",
            "\u001b[2m\u001b[36m(pid=1231)\u001b[0m     on_value = ops.convert_to_tensor(1, dtype, name=\"on_value\")\n",
            "\u001b[2m\u001b[36m(pid=1231)\u001b[0m   File \"/opt/conda/lib/python3.7/site-packages/tensorflow/python/profiler/trace.py\", line 163, in wrapped\n",
            "\u001b[2m\u001b[36m(pid=1231)\u001b[0m     return func(*args, **kwargs)\n",
            "\u001b[2m\u001b[36m(pid=1231)\u001b[0m   File \"/opt/conda/lib/python3.7/site-packages/tensorflow/python/framework/ops.py\", line 1566, in convert_to_tensor\n",
            "\u001b[2m\u001b[36m(pid=1231)\u001b[0m     ret = conversion_func(value, dtype=dtype, name=name, as_ref=as_ref)\n",
            "\u001b[2m\u001b[36m(pid=1231)\u001b[0m   File \"/opt/conda/lib/python3.7/site-packages/tensorflow/python/framework/tensor_conversion_registry.py\", line 52, in _default_conversion_function\n",
            "\u001b[2m\u001b[36m(pid=1231)\u001b[0m     return constant_op.constant(value, dtype, name=name)\n",
            "\u001b[2m\u001b[36m(pid=1231)\u001b[0m   File \"/opt/conda/lib/python3.7/site-packages/tensorflow/python/framework/constant_op.py\", line 272, in constant\n",
            "\u001b[2m\u001b[36m(pid=1231)\u001b[0m     allow_broadcast=True)\n",
            "\u001b[2m\u001b[36m(pid=1231)\u001b[0m   File \"/opt/conda/lib/python3.7/site-packages/tensorflow/python/framework/constant_op.py\", line 283, in _constant_impl\n",
            "\u001b[2m\u001b[36m(pid=1231)\u001b[0m     return _constant_eager_impl(ctx, value, dtype, shape, verify_shape)\n",
            "\u001b[2m\u001b[36m(pid=1231)\u001b[0m   File \"/opt/conda/lib/python3.7/site-packages/tensorflow/python/framework/constant_op.py\", line 308, in _constant_eager_impl\n",
            "\u001b[2m\u001b[36m(pid=1231)\u001b[0m     t = convert_to_eager_tensor(value, ctx, dtype)\n",
            "\u001b[2m\u001b[36m(pid=1231)\u001b[0m   File \"/opt/conda/lib/python3.7/site-packages/tensorflow/python/framework/constant_op.py\", line 105, in convert_to_eager_tensor\n",
            "\u001b[2m\u001b[36m(pid=1231)\u001b[0m     ctx.ensure_initialized()\n",
            "\u001b[2m\u001b[36m(pid=1231)\u001b[0m   File \"/opt/conda/lib/python3.7/site-packages/tensorflow/python/eager/context.py\", line 555, in ensure_initialized\n",
            "\u001b[2m\u001b[36m(pid=1231)\u001b[0m     context_handle = pywrap_tfe.TFE_NewContext(opts)\n",
            "\u001b[2m\u001b[36m(pid=1231)\u001b[0m MemoryError: std::bad_alloc\n",
            "\u001b[2m\u001b[36m(pid=1231)\u001b[0m Exception in thread Thread-2:\n",
            "\u001b[2m\u001b[36m(pid=1231)\u001b[0m Traceback (most recent call last):\n",
            "\u001b[2m\u001b[36m(pid=1231)\u001b[0m   File \"/opt/conda/lib/python3.7/threading.py\", line 926, in _bootstrap_inner\n",
            "\u001b[2m\u001b[36m(pid=1231)\u001b[0m     self.run()\n",
            "\u001b[2m\u001b[36m(pid=1231)\u001b[0m   File \"/opt/conda/lib/python3.7/site-packages/ray/tune/function_runner.py\", line 279, in run\n",
            "\u001b[2m\u001b[36m(pid=1231)\u001b[0m     raise e\n",
            "\u001b[2m\u001b[36m(pid=1231)\u001b[0m   File \"/opt/conda/lib/python3.7/site-packages/ray/tune/function_runner.py\", line 260, in run\n",
            "\u001b[2m\u001b[36m(pid=1231)\u001b[0m     self._entrypoint()\n",
            "\u001b[2m\u001b[36m(pid=1231)\u001b[0m   File \"/opt/conda/lib/python3.7/site-packages/ray/tune/function_runner.py\", line 329, in entrypoint\n",
            "\u001b[2m\u001b[36m(pid=1231)\u001b[0m     self._status_reporter.get_checkpoint())\n",
            "\u001b[2m\u001b[36m(pid=1231)\u001b[0m   File \"/opt/conda/lib/python3.7/site-packages/ray/util/tracing/tracing_helper.py\", line 449, in _resume_span\n",
            "\u001b[2m\u001b[36m(pid=1231)\u001b[0m     return method(self, *_args, **_kwargs)\n",
            "\u001b[2m\u001b[36m(pid=1231)\u001b[0m   File \"/opt/conda/lib/python3.7/site-packages/ray/tune/function_runner.py\", line 594, in _trainable_func\n",
            "\u001b[2m\u001b[36m(pid=1231)\u001b[0m     output = fn()\n",
            "\u001b[2m\u001b[36m(pid=1231)\u001b[0m   File \"/tmp/ipykernel_886/1119233880.py\", line 61, in meta_loss\n",
            "\u001b[2m\u001b[36m(pid=1231)\u001b[0m   File \"/opt/conda/lib/python3.7/site-packages/tensorflow/python/util/dispatch.py\", line 206, in wrapper\n",
            "\u001b[2m\u001b[36m(pid=1231)\u001b[0m     return target(*args, **kwargs)\n",
            "\u001b[2m\u001b[36m(pid=1231)\u001b[0m   File \"/opt/conda/lib/python3.7/site-packages/tensorflow/python/ops/array_ops.py\", line 4338, in one_hot\n",
            "\u001b[2m\u001b[36m(pid=1231)\u001b[0m     on_value = ops.convert_to_tensor(1, dtype, name=\"on_value\")\n",
            "\u001b[2m\u001b[36m(pid=1231)\u001b[0m   File \"/opt/conda/lib/python3.7/site-packages/tensorflow/python/profiler/trace.py\", line 163, in wrapped\n",
            "\u001b[2m\u001b[36m(pid=1231)\u001b[0m     return func(*args, **kwargs)\n",
            "\u001b[2m\u001b[36m(pid=1231)\u001b[0m   File \"/opt/conda/lib/python3.7/site-packages/tensorflow/python/framework/ops.py\", line 1566, in convert_to_tensor\n",
            "\u001b[2m\u001b[36m(pid=1231)\u001b[0m     ret = conversion_func(value, dtype=dtype, name=name, as_ref=as_ref)\n",
            "\u001b[2m\u001b[36m(pid=1231)\u001b[0m   File \"/opt/conda/lib/python3.7/site-packages/tensorflow/python/framework/tensor_conversion_registry.py\", line 52, in _default_conversion_function\n",
            "\u001b[2m\u001b[36m(pid=1231)\u001b[0m     return constant_op.constant(value, dtype, name=name)\n",
            "\u001b[2m\u001b[36m(pid=1231)\u001b[0m   File \"/opt/conda/lib/python3.7/site-packages/tensorflow/python/framework/constant_op.py\", line 272, in constant\n",
            "\u001b[2m\u001b[36m(pid=1231)\u001b[0m     allow_broadcast=True)\n",
            "\u001b[2m\u001b[36m(pid=1231)\u001b[0m   File \"/opt/conda/lib/python3.7/site-packages/tensorflow/python/framework/constant_op.py\", line 283, in _constant_impl\n",
            "\u001b[2m\u001b[36m(pid=1231)\u001b[0m     return _constant_eager_impl(ctx, value, dtype, shape, verify_shape)\n",
            "\u001b[2m\u001b[36m(pid=1231)\u001b[0m   File \"/opt/conda/lib/python3.7/site-packages/tensorflow/python/framework/constant_op.py\", line 308, in _constant_eager_impl\n",
            "\u001b[2m\u001b[36m(pid=1231)\u001b[0m     t = convert_to_eager_tensor(value, ctx, dtype)\n",
            "\u001b[2m\u001b[36m(pid=1231)\u001b[0m   File \"/opt/conda/lib/python3.7/site-packages/tensorflow/python/framework/constant_op.py\", line 105, in convert_to_eager_tensor\n",
            "\u001b[2m\u001b[36m(pid=1231)\u001b[0m     ctx.ensure_initialized()\n",
            "\u001b[2m\u001b[36m(pid=1231)\u001b[0m   File \"/opt/conda/lib/python3.7/site-packages/tensorflow/python/eager/context.py\", line 555, in ensure_initialized\n",
            "\u001b[2m\u001b[36m(pid=1231)\u001b[0m     context_handle = pywrap_tfe.TFE_NewContext(opts)\n",
            "\u001b[2m\u001b[36m(pid=1231)\u001b[0m MemoryError: std::bad_alloc\n",
            "\u001b[2m\u001b[36m(pid=1231)\u001b[0m \n",
            "2021-11-01 12:24:24,979\tERROR trial_runner.py:846 -- Trial meta_loss_98963_00002: Error processing event.\n",
            "Traceback (most recent call last):\n",
            "  File \"/opt/conda/lib/python3.7/site-packages/ray/tune/trial_runner.py\", line 812, in _process_trial\n",
            "    results = self.trial_executor.fetch_result(trial)\n",
            "  File \"/opt/conda/lib/python3.7/site-packages/ray/tune/ray_trial_executor.py\", line 767, in fetch_result\n",
            "    result = ray.get(trial_future[0], timeout=DEFAULT_GET_TIMEOUT)\n",
            "  File \"/opt/conda/lib/python3.7/site-packages/ray/_private/client_mode_hook.py\", line 89, in wrapper\n",
            "    return func(*args, **kwargs)\n",
            "  File \"/opt/conda/lib/python3.7/site-packages/ray/worker.py\", line 1621, in get\n",
            "    raise value.as_instanceof_cause()\n",
            "ray.exceptions.RayTaskError(TuneError): \u001b[36mray::ImplicitFunc.train_buffered()\u001b[39m (pid=1231, ip=10.138.0.10, repr=<types.ImplicitFunc object at 0x7fe9427c1d50>)\n",
            "  File \"/opt/conda/lib/python3.7/site-packages/ray/tune/trainable.py\", line 189, in train_buffered\n",
            "    result = self.train()\n",
            "  File \"/opt/conda/lib/python3.7/site-packages/ray/tune/trainable.py\", line 248, in train\n",
            "    result = self.step()\n",
            "  File \"/opt/conda/lib/python3.7/site-packages/ray/tune/function_runner.py\", line 379, in step\n",
            "    self._report_thread_runner_error(block=True)\n",
            "  File \"/opt/conda/lib/python3.7/site-packages/ray/tune/function_runner.py\", line 527, in _report_thread_runner_error\n",
            "    (\"Trial raised an exception. Traceback:\\n{}\".format(err_tb_str)\n",
            "ray.tune.error.TuneError: Trial raised an exception. Traceback:\n",
            "\u001b[36mray::ImplicitFunc.train_buffered()\u001b[39m (pid=1231, ip=10.138.0.10, repr=<types.ImplicitFunc object at 0x7fe9427c1d50>)\n",
            "  File \"/opt/conda/lib/python3.7/site-packages/ray/tune/function_runner.py\", line 260, in run\n",
            "    self._entrypoint()\n",
            "  File \"/opt/conda/lib/python3.7/site-packages/ray/tune/function_runner.py\", line 329, in entrypoint\n",
            "    self._status_reporter.get_checkpoint())\n",
            "  File \"/opt/conda/lib/python3.7/site-packages/ray/tune/function_runner.py\", line 594, in _trainable_func\n",
            "    output = fn()\n",
            "  File \"/tmp/ipykernel_886/1119233880.py\", line 61, in meta_loss\n",
            "  File \"/opt/conda/lib/python3.7/site-packages/tensorflow/python/util/dispatch.py\", line 206, in wrapper\n",
            "    return target(*args, **kwargs)\n",
            "  File \"/opt/conda/lib/python3.7/site-packages/tensorflow/python/ops/array_ops.py\", line 4338, in one_hot\n",
            "    on_value = ops.convert_to_tensor(1, dtype, name=\"on_value\")\n",
            "  File \"/opt/conda/lib/python3.7/site-packages/tensorflow/python/profiler/trace.py\", line 163, in wrapped\n",
            "    return func(*args, **kwargs)\n",
            "  File \"/opt/conda/lib/python3.7/site-packages/tensorflow/python/framework/ops.py\", line 1566, in convert_to_tensor\n",
            "    ret = conversion_func(value, dtype=dtype, name=name, as_ref=as_ref)\n",
            "  File \"/opt/conda/lib/python3.7/site-packages/tensorflow/python/framework/tensor_conversion_registry.py\", line 52, in _default_conversion_function\n",
            "    return constant_op.constant(value, dtype, name=name)\n",
            "  File \"/opt/conda/lib/python3.7/site-packages/tensorflow/python/framework/constant_op.py\", line 272, in constant\n",
            "    allow_broadcast=True)\n",
            "  File \"/opt/conda/lib/python3.7/site-packages/tensorflow/python/framework/constant_op.py\", line 283, in _constant_impl\n",
            "    return _constant_eager_impl(ctx, value, dtype, shape, verify_shape)\n",
            "  File \"/opt/conda/lib/python3.7/site-packages/tensorflow/python/framework/constant_op.py\", line 308, in _constant_eager_impl\n",
            "    t = convert_to_eager_tensor(value, ctx, dtype)\n",
            "  File \"/opt/conda/lib/python3.7/site-packages/tensorflow/python/framework/constant_op.py\", line 105, in convert_to_eager_tensor\n",
            "    ctx.ensure_initialized()\n",
            "  File \"/opt/conda/lib/python3.7/site-packages/tensorflow/python/eager/context.py\", line 555, in ensure_initialized\n",
            "    context_handle = pywrap_tfe.TFE_NewContext(opts)\n",
            "MemoryError: std::bad_alloc\n"
          ]
        },
        {
          "name": "stdout",
          "output_type": "stream",
          "text": [
            "Result for meta_loss_98963_00002:\n",
            "  {}\n",
            "  \n"
          ]
        },
        {
          "data": {
            "text/html": [
              "== Status ==<br>Memory usage on this node: 1.6/12.7 GiB<br>Using FIFO scheduling algorithm.<br>Resources requested: 1.0/2 CPUs, 1.0/1 GPUs, 0.0/7.21 GiB heap, 0.0/3.6 GiB objects (0.0/1.0 accelerator_type:K80)<br>Result logdir: /home/jacobfv123/ray_results/meta_loss_2021-11-01_12-24-01<br>Number of trials: 20/267302874351744 (3 ERROR, 16 PENDING, 1 RUNNING)<br><table>\n",
              "<thead>\n",
              "<tr><th>Trial name           </th><th>status  </th><th>loc  </th><th>L1          </th><th>L2          </th><th>L3    </th><th>L4    </th><th>L5    </th><th>L6    </th><th>L7    </th><th style=\"text-align: right;\">  N1</th><th style=\"text-align: right;\">  N2</th><th style=\"text-align: right;\">  N3</th><th style=\"text-align: right;\">  N4</th><th style=\"text-align: right;\">  N5</th><th style=\"text-align: right;\">  N6</th><th style=\"text-align: right;\">  N7</th><th style=\"text-align: right;\">  batch_size</th><th>conv_activation  </th><th>dense_activation  </th><th style=\"text-align: right;\">  initial_learning_rate_exp</th><th style=\"text-align: right;\">  learning_rate_rate</th><th>loss_name                      </th><th>optimizer_name  </th></tr>\n",
              "</thead>\n",
              "<tbody>\n",
              "<tr><td>meta_loss_98963_00003</td><td>RUNNING </td><td>     </td><td>flatten     </td><td>conv2d      </td><td>conv2d</td><td>conv2d</td><td>conv2d</td><td>conv2d</td><td>conv2d</td><td style=\"text-align: right;\">   8</td><td style=\"text-align: right;\">   8</td><td style=\"text-align: right;\">   8</td><td style=\"text-align: right;\">   8</td><td style=\"text-align: right;\">   8</td><td style=\"text-align: right;\">   8</td><td style=\"text-align: right;\">   8</td><td style=\"text-align: right;\">           4</td><td>sigmoid          </td><td>sigmoid           </td><td style=\"text-align: right;\">                   -1.27046</td><td style=\"text-align: right;\">           0.454703 </td><td>mape                           </td><td>sgd             </td></tr>\n",
              "<tr><td>meta_loss_98963_00004</td><td>PENDING </td><td>     </td><td>dropout     </td><td>conv2d      </td><td>conv2d</td><td>conv2d</td><td>conv2d</td><td>conv2d</td><td>conv2d</td><td style=\"text-align: right;\">   8</td><td style=\"text-align: right;\">   8</td><td style=\"text-align: right;\">   8</td><td style=\"text-align: right;\">   8</td><td style=\"text-align: right;\">   8</td><td style=\"text-align: right;\">   8</td><td style=\"text-align: right;\">   8</td><td style=\"text-align: right;\">          16</td><td>sigmoid          </td><td>sigmoid           </td><td style=\"text-align: right;\">                   -3.53965</td><td style=\"text-align: right;\">           0.861406 </td><td>categorical_crossentropy       </td><td>adadelta        </td></tr>\n",
              "<tr><td>meta_loss_98963_00005</td><td>PENDING </td><td>     </td><td>none        </td><td>conv2d      </td><td>conv2d</td><td>conv2d</td><td>conv2d</td><td>conv2d</td><td>conv2d</td><td style=\"text-align: right;\">   8</td><td style=\"text-align: right;\">   8</td><td style=\"text-align: right;\">   8</td><td style=\"text-align: right;\">   8</td><td style=\"text-align: right;\">   8</td><td style=\"text-align: right;\">   8</td><td style=\"text-align: right;\">   8</td><td style=\"text-align: right;\">           8</td><td>sigmoid          </td><td>sigmoid           </td><td style=\"text-align: right;\">                   -3.50222</td><td style=\"text-align: right;\">           0.955176 </td><td>mape                           </td><td>sgd             </td></tr>\n",
              "<tr><td>meta_loss_98963_00006</td><td>PENDING </td><td>     </td><td>conv2d      </td><td>dense       </td><td>conv2d</td><td>conv2d</td><td>conv2d</td><td>conv2d</td><td>conv2d</td><td style=\"text-align: right;\">   8</td><td style=\"text-align: right;\">   8</td><td style=\"text-align: right;\">   8</td><td style=\"text-align: right;\">   8</td><td style=\"text-align: right;\">   8</td><td style=\"text-align: right;\">   8</td><td style=\"text-align: right;\">   8</td><td style=\"text-align: right;\">         128</td><td>sigmoid          </td><td>sigmoid           </td><td style=\"text-align: right;\">                   -2.40886</td><td style=\"text-align: right;\">           0.878881 </td><td>mae                            </td><td>adadelta        </td></tr>\n",
              "<tr><td>meta_loss_98963_00007</td><td>PENDING </td><td>     </td><td>dense       </td><td>dense       </td><td>conv2d</td><td>conv2d</td><td>conv2d</td><td>conv2d</td><td>conv2d</td><td style=\"text-align: right;\">   8</td><td style=\"text-align: right;\">   8</td><td style=\"text-align: right;\">   8</td><td style=\"text-align: right;\">   8</td><td style=\"text-align: right;\">   8</td><td style=\"text-align: right;\">   8</td><td style=\"text-align: right;\">   8</td><td style=\"text-align: right;\">          24</td><td>sigmoid          </td><td>sigmoid           </td><td style=\"text-align: right;\">                   -1.66232</td><td style=\"text-align: right;\">           0.355708 </td><td>mae                            </td><td>adagrad         </td></tr>\n",
              "<tr><td>meta_loss_98963_00008</td><td>PENDING </td><td>     </td><td>maxpooling2d</td><td>dense       </td><td>conv2d</td><td>conv2d</td><td>conv2d</td><td>conv2d</td><td>conv2d</td><td style=\"text-align: right;\">   8</td><td style=\"text-align: right;\">   8</td><td style=\"text-align: right;\">   8</td><td style=\"text-align: right;\">   8</td><td style=\"text-align: right;\">   8</td><td style=\"text-align: right;\">   8</td><td style=\"text-align: right;\">   8</td><td style=\"text-align: right;\">          64</td><td>sigmoid          </td><td>sigmoid           </td><td style=\"text-align: right;\">                   -1.15489</td><td style=\"text-align: right;\">           0.736778 </td><td>mae                            </td><td>nadam           </td></tr>\n",
              "<tr><td>meta_loss_98963_00009</td><td>PENDING </td><td>     </td><td>flatten     </td><td>dense       </td><td>conv2d</td><td>conv2d</td><td>conv2d</td><td>conv2d</td><td>conv2d</td><td style=\"text-align: right;\">   8</td><td style=\"text-align: right;\">   8</td><td style=\"text-align: right;\">   8</td><td style=\"text-align: right;\">   8</td><td style=\"text-align: right;\">   8</td><td style=\"text-align: right;\">   8</td><td style=\"text-align: right;\">   8</td><td style=\"text-align: right;\">          48</td><td>sigmoid          </td><td>sigmoid           </td><td style=\"text-align: right;\">                   -2.96978</td><td style=\"text-align: right;\">           0.814146 </td><td>categorical_crossentropy       </td><td>adamax          </td></tr>\n",
              "<tr><td>meta_loss_98963_00010</td><td>PENDING </td><td>     </td><td>dropout     </td><td>dense       </td><td>conv2d</td><td>conv2d</td><td>conv2d</td><td>conv2d</td><td>conv2d</td><td style=\"text-align: right;\">   8</td><td style=\"text-align: right;\">   8</td><td style=\"text-align: right;\">   8</td><td style=\"text-align: right;\">   8</td><td style=\"text-align: right;\">   8</td><td style=\"text-align: right;\">   8</td><td style=\"text-align: right;\">   8</td><td style=\"text-align: right;\">          48</td><td>sigmoid          </td><td>sigmoid           </td><td style=\"text-align: right;\">                   -1.84345</td><td style=\"text-align: right;\">           0.335166 </td><td>sparse_categorical_crossentropy</td><td>adadelta        </td></tr>\n",
              "<tr><td>meta_loss_98963_00011</td><td>PENDING </td><td>     </td><td>none        </td><td>dense       </td><td>conv2d</td><td>conv2d</td><td>conv2d</td><td>conv2d</td><td>conv2d</td><td style=\"text-align: right;\">   8</td><td style=\"text-align: right;\">   8</td><td style=\"text-align: right;\">   8</td><td style=\"text-align: right;\">   8</td><td style=\"text-align: right;\">   8</td><td style=\"text-align: right;\">   8</td><td style=\"text-align: right;\">   8</td><td style=\"text-align: right;\">          24</td><td>sigmoid          </td><td>sigmoid           </td><td style=\"text-align: right;\">                   -3.12773</td><td style=\"text-align: right;\">           0.515024 </td><td>categorical_crossentropy       </td><td>adamax          </td></tr>\n",
              "<tr><td>meta_loss_98963_00012</td><td>PENDING </td><td>     </td><td>conv2d      </td><td>maxpooling2d</td><td>conv2d</td><td>conv2d</td><td>conv2d</td><td>conv2d</td><td>conv2d</td><td style=\"text-align: right;\">   8</td><td style=\"text-align: right;\">   8</td><td style=\"text-align: right;\">   8</td><td style=\"text-align: right;\">   8</td><td style=\"text-align: right;\">   8</td><td style=\"text-align: right;\">   8</td><td style=\"text-align: right;\">   8</td><td style=\"text-align: right;\">           8</td><td>sigmoid          </td><td>sigmoid           </td><td style=\"text-align: right;\">                   -2.44683</td><td style=\"text-align: right;\">           0.949793 </td><td>mse                            </td><td>adamax          </td></tr>\n",
              "<tr><td>meta_loss_98963_00013</td><td>PENDING </td><td>     </td><td>dense       </td><td>maxpooling2d</td><td>conv2d</td><td>conv2d</td><td>conv2d</td><td>conv2d</td><td>conv2d</td><td style=\"text-align: right;\">   8</td><td style=\"text-align: right;\">   8</td><td style=\"text-align: right;\">   8</td><td style=\"text-align: right;\">   8</td><td style=\"text-align: right;\">   8</td><td style=\"text-align: right;\">   8</td><td style=\"text-align: right;\">   8</td><td style=\"text-align: right;\">          48</td><td>sigmoid          </td><td>sigmoid           </td><td style=\"text-align: right;\">                   -2.7508 </td><td style=\"text-align: right;\">           0.0587266</td><td>categorical_crossentropy       </td><td>nadam           </td></tr>\n",
              "<tr><td>meta_loss_98963_00014</td><td>PENDING </td><td>     </td><td>maxpooling2d</td><td>maxpooling2d</td><td>conv2d</td><td>conv2d</td><td>conv2d</td><td>conv2d</td><td>conv2d</td><td style=\"text-align: right;\">   8</td><td style=\"text-align: right;\">   8</td><td style=\"text-align: right;\">   8</td><td style=\"text-align: right;\">   8</td><td style=\"text-align: right;\">   8</td><td style=\"text-align: right;\">   8</td><td style=\"text-align: right;\">   8</td><td style=\"text-align: right;\">          48</td><td>sigmoid          </td><td>sigmoid           </td><td style=\"text-align: right;\">                   -3.15043</td><td style=\"text-align: right;\">           0.594349 </td><td>mse                            </td><td>adagrad         </td></tr>\n",
              "<tr><td>meta_loss_98963_00015</td><td>PENDING </td><td>     </td><td>flatten     </td><td>maxpooling2d</td><td>conv2d</td><td>conv2d</td><td>conv2d</td><td>conv2d</td><td>conv2d</td><td style=\"text-align: right;\">   8</td><td style=\"text-align: right;\">   8</td><td style=\"text-align: right;\">   8</td><td style=\"text-align: right;\">   8</td><td style=\"text-align: right;\">   8</td><td style=\"text-align: right;\">   8</td><td style=\"text-align: right;\">   8</td><td style=\"text-align: right;\">           4</td><td>sigmoid          </td><td>sigmoid           </td><td style=\"text-align: right;\">                   -1.01626</td><td style=\"text-align: right;\">           0.938932 </td><td>mse                            </td><td>adagrad         </td></tr>\n",
              "<tr><td>meta_loss_98963_00016</td><td>PENDING </td><td>     </td><td>dropout     </td><td>maxpooling2d</td><td>conv2d</td><td>conv2d</td><td>conv2d</td><td>conv2d</td><td>conv2d</td><td style=\"text-align: right;\">   8</td><td style=\"text-align: right;\">   8</td><td style=\"text-align: right;\">   8</td><td style=\"text-align: right;\">   8</td><td style=\"text-align: right;\">   8</td><td style=\"text-align: right;\">   8</td><td style=\"text-align: right;\">   8</td><td style=\"text-align: right;\">           8</td><td>sigmoid          </td><td>sigmoid           </td><td style=\"text-align: right;\">                   -3.70958</td><td style=\"text-align: right;\">           0.0631872</td><td>mape                           </td><td>sgd             </td></tr>\n",
              "<tr><td>meta_loss_98963_00017</td><td>PENDING </td><td>     </td><td>none        </td><td>maxpooling2d</td><td>conv2d</td><td>conv2d</td><td>conv2d</td><td>conv2d</td><td>conv2d</td><td style=\"text-align: right;\">   8</td><td style=\"text-align: right;\">   8</td><td style=\"text-align: right;\">   8</td><td style=\"text-align: right;\">   8</td><td style=\"text-align: right;\">   8</td><td style=\"text-align: right;\">   8</td><td style=\"text-align: right;\">   8</td><td style=\"text-align: right;\">          16</td><td>sigmoid          </td><td>sigmoid           </td><td style=\"text-align: right;\">                   -3.41504</td><td style=\"text-align: right;\">           0.482399 </td><td>mae                            </td><td>nadam           </td></tr>\n",
              "<tr><td>meta_loss_98963_00018</td><td>PENDING </td><td>     </td><td>conv2d      </td><td>flatten     </td><td>conv2d</td><td>conv2d</td><td>conv2d</td><td>conv2d</td><td>conv2d</td><td style=\"text-align: right;\">   8</td><td style=\"text-align: right;\">   8</td><td style=\"text-align: right;\">   8</td><td style=\"text-align: right;\">   8</td><td style=\"text-align: right;\">   8</td><td style=\"text-align: right;\">   8</td><td style=\"text-align: right;\">   8</td><td style=\"text-align: right;\">          48</td><td>sigmoid          </td><td>sigmoid           </td><td style=\"text-align: right;\">                   -2.26361</td><td style=\"text-align: right;\">           0.83558  </td><td>mse                            </td><td>adagrad         </td></tr>\n",
              "<tr><td>meta_loss_98963_00019</td><td>PENDING </td><td>     </td><td>dense       </td><td>flatten     </td><td>conv2d</td><td>conv2d</td><td>conv2d</td><td>conv2d</td><td>conv2d</td><td style=\"text-align: right;\">   8</td><td style=\"text-align: right;\">   8</td><td style=\"text-align: right;\">   8</td><td style=\"text-align: right;\">   8</td><td style=\"text-align: right;\">   8</td><td style=\"text-align: right;\">   8</td><td style=\"text-align: right;\">   8</td><td style=\"text-align: right;\">           4</td><td>sigmoid          </td><td>sigmoid           </td><td style=\"text-align: right;\">                   -3.09267</td><td style=\"text-align: right;\">           0.103705 </td><td>sparse_categorical_crossentropy</td><td>adadelta        </td></tr>\n",
              "<tr><td>meta_loss_98963_00000</td><td>ERROR   </td><td>     </td><td>conv2d      </td><td>conv2d      </td><td>conv2d</td><td>conv2d</td><td>conv2d</td><td>conv2d</td><td>conv2d</td><td style=\"text-align: right;\">   8</td><td style=\"text-align: right;\">   8</td><td style=\"text-align: right;\">   8</td><td style=\"text-align: right;\">   8</td><td style=\"text-align: right;\">   8</td><td style=\"text-align: right;\">   8</td><td style=\"text-align: right;\">   8</td><td style=\"text-align: right;\">          24</td><td>sigmoid          </td><td>sigmoid           </td><td style=\"text-align: right;\">                   -2.51525</td><td style=\"text-align: right;\">           0.553209 </td><td>mape                           </td><td>adagrad         </td></tr>\n",
              "<tr><td>meta_loss_98963_00001</td><td>ERROR   </td><td>     </td><td>dense       </td><td>conv2d      </td><td>conv2d</td><td>conv2d</td><td>conv2d</td><td>conv2d</td><td>conv2d</td><td style=\"text-align: right;\">   8</td><td style=\"text-align: right;\">   8</td><td style=\"text-align: right;\">   8</td><td style=\"text-align: right;\">   8</td><td style=\"text-align: right;\">   8</td><td style=\"text-align: right;\">   8</td><td style=\"text-align: right;\">   8</td><td style=\"text-align: right;\">          16</td><td>sigmoid          </td><td>sigmoid           </td><td style=\"text-align: right;\">                   -2.37358</td><td style=\"text-align: right;\">           0.314978 </td><td>sparse_categorical_crossentropy</td><td>adagrad         </td></tr>\n",
              "<tr><td>meta_loss_98963_00002</td><td>ERROR   </td><td>     </td><td>maxpooling2d</td><td>conv2d      </td><td>conv2d</td><td>conv2d</td><td>conv2d</td><td>conv2d</td><td>conv2d</td><td style=\"text-align: right;\">   8</td><td style=\"text-align: right;\">   8</td><td style=\"text-align: right;\">   8</td><td style=\"text-align: right;\">   8</td><td style=\"text-align: right;\">   8</td><td style=\"text-align: right;\">   8</td><td style=\"text-align: right;\">   8</td><td style=\"text-align: right;\">         128</td><td>sigmoid          </td><td>sigmoid           </td><td style=\"text-align: right;\">                   -2.8581 </td><td style=\"text-align: right;\">           0.512218 </td><td>sparse_categorical_crossentropy</td><td>adamax          </td></tr>\n",
              "</tbody>\n",
              "</table><br>Number of errored trials: 3<br><table>\n",
              "<thead>\n",
              "<tr><th>Trial name           </th><th style=\"text-align: right;\">  # failures</th><th>error file                                                                                                                                                                                                                 </th></tr>\n",
              "</thead>\n",
              "<tbody>\n",
              "<tr><td>meta_loss_98963_00000</td><td style=\"text-align: right;\">           1</td><td>/home/jacobfv123/ray_results/meta_loss_2021-11-01_12-24-01/meta_loss_98963_00000_0_L1=conv2d,L2=conv2d,L3=conv2d,L4=conv2d,L5=conv2d,L6=conv2d,L7=conv2d,N1=8,N2=8,N3=8,N4=8,N5=8,N6=8,N7=8,b_2021-11-01_12-24-02/error.txt</td></tr>\n",
              "<tr><td>meta_loss_98963_00001</td><td style=\"text-align: right;\">           1</td><td>/home/jacobfv123/ray_results/meta_loss_2021-11-01_12-24-01/meta_loss_98963_00001_1_L1=dense,L2=conv2d,L3=conv2d,L4=conv2d,L5=conv2d,L6=conv2d,L7=conv2d,N1=8,N2=8,N3=8,N4=8,N5=8,N6=8,N7=8,ba_2021-11-01_12-24-03/error.txt</td></tr>\n",
              "<tr><td>meta_loss_98963_00002</td><td style=\"text-align: right;\">           1</td><td>/home/jacobfv123/ray_results/meta_loss_2021-11-01_12-24-01/meta_loss_98963_00002_2_L1=maxpooling2d,L2=conv2d,L3=conv2d,L4=conv2d,L5=conv2d,L6=conv2d,L7=conv2d,N1=8,N2=8,N3=8,N4=8,N5=8,N6=8,_2021-11-01_12-24-11/error.txt</td></tr>\n",
              "</tbody>\n",
              "</table><br>"
            ],
            "text/plain": [
              "<IPython.core.display.HTML object>"
            ]
          },
          "metadata": {},
          "output_type": "display_data"
        },
        {
          "name": "stderr",
          "output_type": "stream",
          "text": [
            "\u001b[2m\u001b[36m(pid=1270)\u001b[0m 2021-11-01 12:24:30.963152: I tensorflow/stream_executor/cuda/cuda_gpu_executor.cc:937] successful NUMA node read from SysFS had negative value (-1), but there must be at least one NUMA node, so returning NUMA node zero\n",
            "\u001b[2m\u001b[36m(pid=1270)\u001b[0m 2021-11-01 12:24:30.973430: I tensorflow/stream_executor/cuda/cuda_gpu_executor.cc:937] successful NUMA node read from SysFS had negative value (-1), but there must be at least one NUMA node, so returning NUMA node zero\n",
            "\u001b[2m\u001b[36m(pid=1270)\u001b[0m 2021-11-01 12:24:30.974169: I tensorflow/stream_executor/cuda/cuda_gpu_executor.cc:937] successful NUMA node read from SysFS had negative value (-1), but there must be at least one NUMA node, so returning NUMA node zero\n",
            "\u001b[2m\u001b[36m(pid=1270)\u001b[0m 2021-11-01 12:24:30.975364: I tensorflow/core/platform/cpu_feature_guard.cc:142] This TensorFlow binary is optimized with oneAPI Deep Neural Network Library (oneDNN) to use the following CPU instructions in performance-critical operations:  AVX2 FMA\n",
            "\u001b[2m\u001b[36m(pid=1270)\u001b[0m To enable them in other operations, rebuild TensorFlow with the appropriate compiler flags.\n",
            "\u001b[2m\u001b[36m(pid=1270)\u001b[0m 2021-11-01 12:24:30.975658: I tensorflow/stream_executor/cuda/cuda_gpu_executor.cc:937] successful NUMA node read from SysFS had negative value (-1), but there must be at least one NUMA node, so returning NUMA node zero\n",
            "\u001b[2m\u001b[36m(pid=1270)\u001b[0m 2021-11-01 12:24:30.976454: I tensorflow/stream_executor/cuda/cuda_gpu_executor.cc:937] successful NUMA node read from SysFS had negative value (-1), but there must be at least one NUMA node, so returning NUMA node zero\n",
            "\u001b[2m\u001b[36m(pid=1270)\u001b[0m 2021-11-01 12:24:30.977195: I tensorflow/stream_executor/cuda/cuda_gpu_executor.cc:937] successful NUMA node read from SysFS had negative value (-1), but there must be at least one NUMA node, so returning NUMA node zero\n",
            "\u001b[2m\u001b[36m(pid=1270)\u001b[0m 2021-11-01 12:24:31.412220: I tensorflow/stream_executor/cuda/cuda_gpu_executor.cc:937] successful NUMA node read from SysFS had negative value (-1), but there must be at least one NUMA node, so returning NUMA node zero\n",
            "\u001b[2m\u001b[36m(pid=1270)\u001b[0m 2021-11-01 12:24:31.413057: I tensorflow/stream_executor/cuda/cuda_gpu_executor.cc:937] successful NUMA node read from SysFS had negative value (-1), but there must be at least one NUMA node, so returning NUMA node zero\n",
            "\u001b[2m\u001b[36m(pid=1270)\u001b[0m 2021-11-01 12:24:31.413788: I tensorflow/stream_executor/cuda/cuda_gpu_executor.cc:937] successful NUMA node read from SysFS had negative value (-1), but there must be at least one NUMA node, so returning NUMA node zero\n",
            "\u001b[2m\u001b[36m(pid=1270)\u001b[0m 2021-11-01 12:24:31,415\tERROR function_runner.py:266 -- Runner Thread raised error.\n",
            "\u001b[2m\u001b[36m(pid=1270)\u001b[0m Traceback (most recent call last):\n",
            "\u001b[2m\u001b[36m(pid=1270)\u001b[0m   File \"/opt/conda/lib/python3.7/site-packages/ray/tune/function_runner.py\", line 260, in run\n",
            "\u001b[2m\u001b[36m(pid=1270)\u001b[0m     self._entrypoint()\n",
            "\u001b[2m\u001b[36m(pid=1270)\u001b[0m   File \"/opt/conda/lib/python3.7/site-packages/ray/tune/function_runner.py\", line 329, in entrypoint\n",
            "\u001b[2m\u001b[36m(pid=1270)\u001b[0m     self._status_reporter.get_checkpoint())\n",
            "\u001b[2m\u001b[36m(pid=1270)\u001b[0m   File \"/opt/conda/lib/python3.7/site-packages/ray/util/tracing/tracing_helper.py\", line 449, in _resume_span\n",
            "\u001b[2m\u001b[36m(pid=1270)\u001b[0m     return method(self, *_args, **_kwargs)\n",
            "\u001b[2m\u001b[36m(pid=1270)\u001b[0m   File \"/opt/conda/lib/python3.7/site-packages/ray/tune/function_runner.py\", line 594, in _trainable_func\n",
            "\u001b[2m\u001b[36m(pid=1270)\u001b[0m     output = fn()\n",
            "\u001b[2m\u001b[36m(pid=1270)\u001b[0m   File \"/tmp/ipykernel_886/1119233880.py\", line 61, in meta_loss\n",
            "\u001b[2m\u001b[36m(pid=1270)\u001b[0m   File \"/opt/conda/lib/python3.7/site-packages/tensorflow/python/util/dispatch.py\", line 206, in wrapper\n",
            "\u001b[2m\u001b[36m(pid=1270)\u001b[0m     return target(*args, **kwargs)\n",
            "\u001b[2m\u001b[36m(pid=1270)\u001b[0m   File \"/opt/conda/lib/python3.7/site-packages/tensorflow/python/ops/array_ops.py\", line 4338, in one_hot\n",
            "\u001b[2m\u001b[36m(pid=1270)\u001b[0m     on_value = ops.convert_to_tensor(1, dtype, name=\"on_value\")\n",
            "\u001b[2m\u001b[36m(pid=1270)\u001b[0m   File \"/opt/conda/lib/python3.7/site-packages/tensorflow/python/profiler/trace.py\", line 163, in wrapped\n",
            "\u001b[2m\u001b[36m(pid=1270)\u001b[0m     return func(*args, **kwargs)\n",
            "\u001b[2m\u001b[36m(pid=1270)\u001b[0m   File \"/opt/conda/lib/python3.7/site-packages/tensorflow/python/framework/ops.py\", line 1566, in convert_to_tensor\n",
            "\u001b[2m\u001b[36m(pid=1270)\u001b[0m     ret = conversion_func(value, dtype=dtype, name=name, as_ref=as_ref)\n",
            "\u001b[2m\u001b[36m(pid=1270)\u001b[0m   File \"/opt/conda/lib/python3.7/site-packages/tensorflow/python/framework/tensor_conversion_registry.py\", line 52, in _default_conversion_function\n",
            "\u001b[2m\u001b[36m(pid=1270)\u001b[0m     return constant_op.constant(value, dtype, name=name)\n",
            "\u001b[2m\u001b[36m(pid=1270)\u001b[0m   File \"/opt/conda/lib/python3.7/site-packages/tensorflow/python/framework/constant_op.py\", line 272, in constant\n",
            "\u001b[2m\u001b[36m(pid=1270)\u001b[0m     allow_broadcast=True)\n",
            "\u001b[2m\u001b[36m(pid=1270)\u001b[0m   File \"/opt/conda/lib/python3.7/site-packages/tensorflow/python/framework/constant_op.py\", line 283, in _constant_impl\n",
            "\u001b[2m\u001b[36m(pid=1270)\u001b[0m     return _constant_eager_impl(ctx, value, dtype, shape, verify_shape)\n",
            "\u001b[2m\u001b[36m(pid=1270)\u001b[0m   File \"/opt/conda/lib/python3.7/site-packages/tensorflow/python/framework/constant_op.py\", line 308, in _constant_eager_impl\n",
            "\u001b[2m\u001b[36m(pid=1270)\u001b[0m     t = convert_to_eager_tensor(value, ctx, dtype)\n",
            "\u001b[2m\u001b[36m(pid=1270)\u001b[0m   File \"/opt/conda/lib/python3.7/site-packages/tensorflow/python/framework/constant_op.py\", line 105, in convert_to_eager_tensor\n",
            "\u001b[2m\u001b[36m(pid=1270)\u001b[0m     ctx.ensure_initialized()\n",
            "\u001b[2m\u001b[36m(pid=1270)\u001b[0m   File \"/opt/conda/lib/python3.7/site-packages/tensorflow/python/eager/context.py\", line 555, in ensure_initialized\n",
            "\u001b[2m\u001b[36m(pid=1270)\u001b[0m     context_handle = pywrap_tfe.TFE_NewContext(opts)\n",
            "\u001b[2m\u001b[36m(pid=1270)\u001b[0m MemoryError: std::bad_alloc\n",
            "\u001b[2m\u001b[36m(pid=1270)\u001b[0m Exception in thread Thread-2:\n",
            "\u001b[2m\u001b[36m(pid=1270)\u001b[0m Traceback (most recent call last):\n",
            "\u001b[2m\u001b[36m(pid=1270)\u001b[0m   File \"/opt/conda/lib/python3.7/threading.py\", line 926, in _bootstrap_inner\n",
            "\u001b[2m\u001b[36m(pid=1270)\u001b[0m     self.run()\n",
            "\u001b[2m\u001b[36m(pid=1270)\u001b[0m   File \"/opt/conda/lib/python3.7/site-packages/ray/tune/function_runner.py\", line 279, in run\n",
            "\u001b[2m\u001b[36m(pid=1270)\u001b[0m     raise e\n",
            "\u001b[2m\u001b[36m(pid=1270)\u001b[0m   File \"/opt/conda/lib/python3.7/site-packages/ray/tune/function_runner.py\", line 260, in run\n",
            "\u001b[2m\u001b[36m(pid=1270)\u001b[0m     self._entrypoint()\n",
            "\u001b[2m\u001b[36m(pid=1270)\u001b[0m   File \"/opt/conda/lib/python3.7/site-packages/ray/tune/function_runner.py\", line 329, in entrypoint\n",
            "\u001b[2m\u001b[36m(pid=1270)\u001b[0m     self._status_reporter.get_checkpoint())\n",
            "\u001b[2m\u001b[36m(pid=1270)\u001b[0m   File \"/opt/conda/lib/python3.7/site-packages/ray/util/tracing/tracing_helper.py\", line 449, in _resume_span\n",
            "\u001b[2m\u001b[36m(pid=1270)\u001b[0m     return method(self, *_args, **_kwargs)\n",
            "\u001b[2m\u001b[36m(pid=1270)\u001b[0m   File \"/opt/conda/lib/python3.7/site-packages/ray/tune/function_runner.py\", line 594, in _trainable_func\n",
            "\u001b[2m\u001b[36m(pid=1270)\u001b[0m     output = fn()\n",
            "\u001b[2m\u001b[36m(pid=1270)\u001b[0m   File \"/tmp/ipykernel_886/1119233880.py\", line 61, in meta_loss\n",
            "\u001b[2m\u001b[36m(pid=1270)\u001b[0m   File \"/opt/conda/lib/python3.7/site-packages/tensorflow/python/util/dispatch.py\", line 206, in wrapper\n",
            "\u001b[2m\u001b[36m(pid=1270)\u001b[0m     return target(*args, **kwargs)\n",
            "\u001b[2m\u001b[36m(pid=1270)\u001b[0m   File \"/opt/conda/lib/python3.7/site-packages/tensorflow/python/ops/array_ops.py\", line 4338, in one_hot\n",
            "\u001b[2m\u001b[36m(pid=1270)\u001b[0m     on_value = ops.convert_to_tensor(1, dtype, name=\"on_value\")\n",
            "\u001b[2m\u001b[36m(pid=1270)\u001b[0m   File \"/opt/conda/lib/python3.7/site-packages/tensorflow/python/profiler/trace.py\", line 163, in wrapped\n",
            "\u001b[2m\u001b[36m(pid=1270)\u001b[0m     return func(*args, **kwargs)\n",
            "\u001b[2m\u001b[36m(pid=1270)\u001b[0m   File \"/opt/conda/lib/python3.7/site-packages/tensorflow/python/framework/ops.py\", line 1566, in convert_to_tensor\n",
            "\u001b[2m\u001b[36m(pid=1270)\u001b[0m     ret = conversion_func(value, dtype=dtype, name=name, as_ref=as_ref)\n",
            "\u001b[2m\u001b[36m(pid=1270)\u001b[0m   File \"/opt/conda/lib/python3.7/site-packages/tensorflow/python/framework/tensor_conversion_registry.py\", line 52, in _default_conversion_function\n",
            "\u001b[2m\u001b[36m(pid=1270)\u001b[0m     return constant_op.constant(value, dtype, name=name)\n",
            "\u001b[2m\u001b[36m(pid=1270)\u001b[0m   File \"/opt/conda/lib/python3.7/site-packages/tensorflow/python/framework/constant_op.py\", line 272, in constant\n",
            "\u001b[2m\u001b[36m(pid=1270)\u001b[0m     allow_broadcast=True)\n",
            "\u001b[2m\u001b[36m(pid=1270)\u001b[0m   File \"/opt/conda/lib/python3.7/site-packages/tensorflow/python/framework/constant_op.py\", line 283, in _constant_impl\n",
            "\u001b[2m\u001b[36m(pid=1270)\u001b[0m     return _constant_eager_impl(ctx, value, dtype, shape, verify_shape)\n",
            "\u001b[2m\u001b[36m(pid=1270)\u001b[0m   File \"/opt/conda/lib/python3.7/site-packages/tensorflow/python/framework/constant_op.py\", line 308, in _constant_eager_impl\n",
            "\u001b[2m\u001b[36m(pid=1270)\u001b[0m     t = convert_to_eager_tensor(value, ctx, dtype)\n",
            "\u001b[2m\u001b[36m(pid=1270)\u001b[0m   File \"/opt/conda/lib/python3.7/site-packages/tensorflow/python/framework/constant_op.py\", line 105, in convert_to_eager_tensor\n",
            "\u001b[2m\u001b[36m(pid=1270)\u001b[0m     ctx.ensure_initialized()\n",
            "\u001b[2m\u001b[36m(pid=1270)\u001b[0m   File \"/opt/conda/lib/python3.7/site-packages/tensorflow/python/eager/context.py\", line 555, in ensure_initialized\n",
            "\u001b[2m\u001b[36m(pid=1270)\u001b[0m     context_handle = pywrap_tfe.TFE_NewContext(opts)\n",
            "\u001b[2m\u001b[36m(pid=1270)\u001b[0m MemoryError: std::bad_alloc\n",
            "\u001b[2m\u001b[36m(pid=1270)\u001b[0m \n",
            "2021-11-01 12:24:31,618\tERROR trial_runner.py:846 -- Trial meta_loss_98963_00003: Error processing event.\n",
            "Traceback (most recent call last):\n",
            "  File \"/opt/conda/lib/python3.7/site-packages/ray/tune/trial_runner.py\", line 812, in _process_trial\n",
            "    results = self.trial_executor.fetch_result(trial)\n",
            "  File \"/opt/conda/lib/python3.7/site-packages/ray/tune/ray_trial_executor.py\", line 767, in fetch_result\n",
            "    result = ray.get(trial_future[0], timeout=DEFAULT_GET_TIMEOUT)\n",
            "  File \"/opt/conda/lib/python3.7/site-packages/ray/_private/client_mode_hook.py\", line 89, in wrapper\n",
            "    return func(*args, **kwargs)\n",
            "  File \"/opt/conda/lib/python3.7/site-packages/ray/worker.py\", line 1621, in get\n",
            "    raise value.as_instanceof_cause()\n",
            "ray.exceptions.RayTaskError(TuneError): \u001b[36mray::ImplicitFunc.train_buffered()\u001b[39m (pid=1270, ip=10.138.0.10, repr=<types.ImplicitFunc object at 0x7fc247370150>)\n",
            "  File \"/opt/conda/lib/python3.7/site-packages/ray/tune/trainable.py\", line 189, in train_buffered\n",
            "    result = self.train()\n",
            "  File \"/opt/conda/lib/python3.7/site-packages/ray/tune/trainable.py\", line 248, in train\n",
            "    result = self.step()\n",
            "  File \"/opt/conda/lib/python3.7/site-packages/ray/tune/function_runner.py\", line 379, in step\n",
            "    self._report_thread_runner_error(block=True)\n",
            "  File \"/opt/conda/lib/python3.7/site-packages/ray/tune/function_runner.py\", line 527, in _report_thread_runner_error\n",
            "    (\"Trial raised an exception. Traceback:\\n{}\".format(err_tb_str)\n",
            "ray.tune.error.TuneError: Trial raised an exception. Traceback:\n",
            "\u001b[36mray::ImplicitFunc.train_buffered()\u001b[39m (pid=1270, ip=10.138.0.10, repr=<types.ImplicitFunc object at 0x7fc247370150>)\n",
            "  File \"/opt/conda/lib/python3.7/site-packages/ray/tune/function_runner.py\", line 260, in run\n",
            "    self._entrypoint()\n",
            "  File \"/opt/conda/lib/python3.7/site-packages/ray/tune/function_runner.py\", line 329, in entrypoint\n",
            "    self._status_reporter.get_checkpoint())\n",
            "  File \"/opt/conda/lib/python3.7/site-packages/ray/tune/function_runner.py\", line 594, in _trainable_func\n",
            "    output = fn()\n",
            "  File \"/tmp/ipykernel_886/1119233880.py\", line 61, in meta_loss\n",
            "  File \"/opt/conda/lib/python3.7/site-packages/tensorflow/python/util/dispatch.py\", line 206, in wrapper\n",
            "    return target(*args, **kwargs)\n",
            "  File \"/opt/conda/lib/python3.7/site-packages/tensorflow/python/ops/array_ops.py\", line 4338, in one_hot\n",
            "    on_value = ops.convert_to_tensor(1, dtype, name=\"on_value\")\n",
            "  File \"/opt/conda/lib/python3.7/site-packages/tensorflow/python/profiler/trace.py\", line 163, in wrapped\n",
            "    return func(*args, **kwargs)\n",
            "  File \"/opt/conda/lib/python3.7/site-packages/tensorflow/python/framework/ops.py\", line 1566, in convert_to_tensor\n",
            "    ret = conversion_func(value, dtype=dtype, name=name, as_ref=as_ref)\n",
            "  File \"/opt/conda/lib/python3.7/site-packages/tensorflow/python/framework/tensor_conversion_registry.py\", line 52, in _default_conversion_function\n",
            "    return constant_op.constant(value, dtype, name=name)\n",
            "  File \"/opt/conda/lib/python3.7/site-packages/tensorflow/python/framework/constant_op.py\", line 272, in constant\n",
            "    allow_broadcast=True)\n",
            "  File \"/opt/conda/lib/python3.7/site-packages/tensorflow/python/framework/constant_op.py\", line 283, in _constant_impl\n",
            "    return _constant_eager_impl(ctx, value, dtype, shape, verify_shape)\n",
            "  File \"/opt/conda/lib/python3.7/site-packages/tensorflow/python/framework/constant_op.py\", line 308, in _constant_eager_impl\n",
            "    t = convert_to_eager_tensor(value, ctx, dtype)\n",
            "  File \"/opt/conda/lib/python3.7/site-packages/tensorflow/python/framework/constant_op.py\", line 105, in convert_to_eager_tensor\n",
            "    ctx.ensure_initialized()\n",
            "  File \"/opt/conda/lib/python3.7/site-packages/tensorflow/python/eager/context.py\", line 555, in ensure_initialized\n",
            "    context_handle = pywrap_tfe.TFE_NewContext(opts)\n",
            "MemoryError: std::bad_alloc\n"
          ]
        },
        {
          "name": "stdout",
          "output_type": "stream",
          "text": [
            "Result for meta_loss_98963_00003:\n",
            "  {}\n",
            "  \n"
          ]
        },
        {
          "data": {
            "text/html": [
              "== Status ==<br>Memory usage on this node: 1.5/12.7 GiB<br>Using FIFO scheduling algorithm.<br>Resources requested: 1.0/2 CPUs, 1.0/1 GPUs, 0.0/7.21 GiB heap, 0.0/3.6 GiB objects (0.0/1.0 accelerator_type:K80)<br>Result logdir: /home/jacobfv123/ray_results/meta_loss_2021-11-01_12-24-01<br>Number of trials: 21/267302874351744 (4 ERROR, 16 PENDING, 1 RUNNING)<br><table>\n",
              "<thead>\n",
              "<tr><th>Trial name           </th><th>status  </th><th>loc  </th><th>L1          </th><th>L2          </th><th>L3    </th><th>L4    </th><th>L5    </th><th>L6    </th><th>L7    </th><th style=\"text-align: right;\">  N1</th><th style=\"text-align: right;\">  N2</th><th style=\"text-align: right;\">  N3</th><th style=\"text-align: right;\">  N4</th><th style=\"text-align: right;\">  N5</th><th style=\"text-align: right;\">  N6</th><th style=\"text-align: right;\">  N7</th><th style=\"text-align: right;\">  batch_size</th><th>conv_activation  </th><th>dense_activation  </th><th style=\"text-align: right;\">  initial_learning_rate_exp</th><th style=\"text-align: right;\">  learning_rate_rate</th><th>loss_name                      </th><th>optimizer_name  </th></tr>\n",
              "</thead>\n",
              "<tbody>\n",
              "<tr><td>meta_loss_98963_00004</td><td>RUNNING </td><td>     </td><td>dropout     </td><td>conv2d      </td><td>conv2d</td><td>conv2d</td><td>conv2d</td><td>conv2d</td><td>conv2d</td><td style=\"text-align: right;\">   8</td><td style=\"text-align: right;\">   8</td><td style=\"text-align: right;\">   8</td><td style=\"text-align: right;\">   8</td><td style=\"text-align: right;\">   8</td><td style=\"text-align: right;\">   8</td><td style=\"text-align: right;\">   8</td><td style=\"text-align: right;\">          16</td><td>sigmoid          </td><td>sigmoid           </td><td style=\"text-align: right;\">                   -3.53965</td><td style=\"text-align: right;\">           0.861406 </td><td>categorical_crossentropy       </td><td>adadelta        </td></tr>\n",
              "<tr><td>meta_loss_98963_00005</td><td>PENDING </td><td>     </td><td>none        </td><td>conv2d      </td><td>conv2d</td><td>conv2d</td><td>conv2d</td><td>conv2d</td><td>conv2d</td><td style=\"text-align: right;\">   8</td><td style=\"text-align: right;\">   8</td><td style=\"text-align: right;\">   8</td><td style=\"text-align: right;\">   8</td><td style=\"text-align: right;\">   8</td><td style=\"text-align: right;\">   8</td><td style=\"text-align: right;\">   8</td><td style=\"text-align: right;\">           8</td><td>sigmoid          </td><td>sigmoid           </td><td style=\"text-align: right;\">                   -3.50222</td><td style=\"text-align: right;\">           0.955176 </td><td>mape                           </td><td>sgd             </td></tr>\n",
              "<tr><td>meta_loss_98963_00006</td><td>PENDING </td><td>     </td><td>conv2d      </td><td>dense       </td><td>conv2d</td><td>conv2d</td><td>conv2d</td><td>conv2d</td><td>conv2d</td><td style=\"text-align: right;\">   8</td><td style=\"text-align: right;\">   8</td><td style=\"text-align: right;\">   8</td><td style=\"text-align: right;\">   8</td><td style=\"text-align: right;\">   8</td><td style=\"text-align: right;\">   8</td><td style=\"text-align: right;\">   8</td><td style=\"text-align: right;\">         128</td><td>sigmoid          </td><td>sigmoid           </td><td style=\"text-align: right;\">                   -2.40886</td><td style=\"text-align: right;\">           0.878881 </td><td>mae                            </td><td>adadelta        </td></tr>\n",
              "<tr><td>meta_loss_98963_00007</td><td>PENDING </td><td>     </td><td>dense       </td><td>dense       </td><td>conv2d</td><td>conv2d</td><td>conv2d</td><td>conv2d</td><td>conv2d</td><td style=\"text-align: right;\">   8</td><td style=\"text-align: right;\">   8</td><td style=\"text-align: right;\">   8</td><td style=\"text-align: right;\">   8</td><td style=\"text-align: right;\">   8</td><td style=\"text-align: right;\">   8</td><td style=\"text-align: right;\">   8</td><td style=\"text-align: right;\">          24</td><td>sigmoid          </td><td>sigmoid           </td><td style=\"text-align: right;\">                   -1.66232</td><td style=\"text-align: right;\">           0.355708 </td><td>mae                            </td><td>adagrad         </td></tr>\n",
              "<tr><td>meta_loss_98963_00008</td><td>PENDING </td><td>     </td><td>maxpooling2d</td><td>dense       </td><td>conv2d</td><td>conv2d</td><td>conv2d</td><td>conv2d</td><td>conv2d</td><td style=\"text-align: right;\">   8</td><td style=\"text-align: right;\">   8</td><td style=\"text-align: right;\">   8</td><td style=\"text-align: right;\">   8</td><td style=\"text-align: right;\">   8</td><td style=\"text-align: right;\">   8</td><td style=\"text-align: right;\">   8</td><td style=\"text-align: right;\">          64</td><td>sigmoid          </td><td>sigmoid           </td><td style=\"text-align: right;\">                   -1.15489</td><td style=\"text-align: right;\">           0.736778 </td><td>mae                            </td><td>nadam           </td></tr>\n",
              "<tr><td>meta_loss_98963_00009</td><td>PENDING </td><td>     </td><td>flatten     </td><td>dense       </td><td>conv2d</td><td>conv2d</td><td>conv2d</td><td>conv2d</td><td>conv2d</td><td style=\"text-align: right;\">   8</td><td style=\"text-align: right;\">   8</td><td style=\"text-align: right;\">   8</td><td style=\"text-align: right;\">   8</td><td style=\"text-align: right;\">   8</td><td style=\"text-align: right;\">   8</td><td style=\"text-align: right;\">   8</td><td style=\"text-align: right;\">          48</td><td>sigmoid          </td><td>sigmoid           </td><td style=\"text-align: right;\">                   -2.96978</td><td style=\"text-align: right;\">           0.814146 </td><td>categorical_crossentropy       </td><td>adamax          </td></tr>\n",
              "<tr><td>meta_loss_98963_00010</td><td>PENDING </td><td>     </td><td>dropout     </td><td>dense       </td><td>conv2d</td><td>conv2d</td><td>conv2d</td><td>conv2d</td><td>conv2d</td><td style=\"text-align: right;\">   8</td><td style=\"text-align: right;\">   8</td><td style=\"text-align: right;\">   8</td><td style=\"text-align: right;\">   8</td><td style=\"text-align: right;\">   8</td><td style=\"text-align: right;\">   8</td><td style=\"text-align: right;\">   8</td><td style=\"text-align: right;\">          48</td><td>sigmoid          </td><td>sigmoid           </td><td style=\"text-align: right;\">                   -1.84345</td><td style=\"text-align: right;\">           0.335166 </td><td>sparse_categorical_crossentropy</td><td>adadelta        </td></tr>\n",
              "<tr><td>meta_loss_98963_00011</td><td>PENDING </td><td>     </td><td>none        </td><td>dense       </td><td>conv2d</td><td>conv2d</td><td>conv2d</td><td>conv2d</td><td>conv2d</td><td style=\"text-align: right;\">   8</td><td style=\"text-align: right;\">   8</td><td style=\"text-align: right;\">   8</td><td style=\"text-align: right;\">   8</td><td style=\"text-align: right;\">   8</td><td style=\"text-align: right;\">   8</td><td style=\"text-align: right;\">   8</td><td style=\"text-align: right;\">          24</td><td>sigmoid          </td><td>sigmoid           </td><td style=\"text-align: right;\">                   -3.12773</td><td style=\"text-align: right;\">           0.515024 </td><td>categorical_crossentropy       </td><td>adamax          </td></tr>\n",
              "<tr><td>meta_loss_98963_00012</td><td>PENDING </td><td>     </td><td>conv2d      </td><td>maxpooling2d</td><td>conv2d</td><td>conv2d</td><td>conv2d</td><td>conv2d</td><td>conv2d</td><td style=\"text-align: right;\">   8</td><td style=\"text-align: right;\">   8</td><td style=\"text-align: right;\">   8</td><td style=\"text-align: right;\">   8</td><td style=\"text-align: right;\">   8</td><td style=\"text-align: right;\">   8</td><td style=\"text-align: right;\">   8</td><td style=\"text-align: right;\">           8</td><td>sigmoid          </td><td>sigmoid           </td><td style=\"text-align: right;\">                   -2.44683</td><td style=\"text-align: right;\">           0.949793 </td><td>mse                            </td><td>adamax          </td></tr>\n",
              "<tr><td>meta_loss_98963_00013</td><td>PENDING </td><td>     </td><td>dense       </td><td>maxpooling2d</td><td>conv2d</td><td>conv2d</td><td>conv2d</td><td>conv2d</td><td>conv2d</td><td style=\"text-align: right;\">   8</td><td style=\"text-align: right;\">   8</td><td style=\"text-align: right;\">   8</td><td style=\"text-align: right;\">   8</td><td style=\"text-align: right;\">   8</td><td style=\"text-align: right;\">   8</td><td style=\"text-align: right;\">   8</td><td style=\"text-align: right;\">          48</td><td>sigmoid          </td><td>sigmoid           </td><td style=\"text-align: right;\">                   -2.7508 </td><td style=\"text-align: right;\">           0.0587266</td><td>categorical_crossentropy       </td><td>nadam           </td></tr>\n",
              "<tr><td>meta_loss_98963_00014</td><td>PENDING </td><td>     </td><td>maxpooling2d</td><td>maxpooling2d</td><td>conv2d</td><td>conv2d</td><td>conv2d</td><td>conv2d</td><td>conv2d</td><td style=\"text-align: right;\">   8</td><td style=\"text-align: right;\">   8</td><td style=\"text-align: right;\">   8</td><td style=\"text-align: right;\">   8</td><td style=\"text-align: right;\">   8</td><td style=\"text-align: right;\">   8</td><td style=\"text-align: right;\">   8</td><td style=\"text-align: right;\">          48</td><td>sigmoid          </td><td>sigmoid           </td><td style=\"text-align: right;\">                   -3.15043</td><td style=\"text-align: right;\">           0.594349 </td><td>mse                            </td><td>adagrad         </td></tr>\n",
              "<tr><td>meta_loss_98963_00015</td><td>PENDING </td><td>     </td><td>flatten     </td><td>maxpooling2d</td><td>conv2d</td><td>conv2d</td><td>conv2d</td><td>conv2d</td><td>conv2d</td><td style=\"text-align: right;\">   8</td><td style=\"text-align: right;\">   8</td><td style=\"text-align: right;\">   8</td><td style=\"text-align: right;\">   8</td><td style=\"text-align: right;\">   8</td><td style=\"text-align: right;\">   8</td><td style=\"text-align: right;\">   8</td><td style=\"text-align: right;\">           4</td><td>sigmoid          </td><td>sigmoid           </td><td style=\"text-align: right;\">                   -1.01626</td><td style=\"text-align: right;\">           0.938932 </td><td>mse                            </td><td>adagrad         </td></tr>\n",
              "<tr><td>meta_loss_98963_00016</td><td>PENDING </td><td>     </td><td>dropout     </td><td>maxpooling2d</td><td>conv2d</td><td>conv2d</td><td>conv2d</td><td>conv2d</td><td>conv2d</td><td style=\"text-align: right;\">   8</td><td style=\"text-align: right;\">   8</td><td style=\"text-align: right;\">   8</td><td style=\"text-align: right;\">   8</td><td style=\"text-align: right;\">   8</td><td style=\"text-align: right;\">   8</td><td style=\"text-align: right;\">   8</td><td style=\"text-align: right;\">           8</td><td>sigmoid          </td><td>sigmoid           </td><td style=\"text-align: right;\">                   -3.70958</td><td style=\"text-align: right;\">           0.0631872</td><td>mape                           </td><td>sgd             </td></tr>\n",
              "<tr><td>meta_loss_98963_00017</td><td>PENDING </td><td>     </td><td>none        </td><td>maxpooling2d</td><td>conv2d</td><td>conv2d</td><td>conv2d</td><td>conv2d</td><td>conv2d</td><td style=\"text-align: right;\">   8</td><td style=\"text-align: right;\">   8</td><td style=\"text-align: right;\">   8</td><td style=\"text-align: right;\">   8</td><td style=\"text-align: right;\">   8</td><td style=\"text-align: right;\">   8</td><td style=\"text-align: right;\">   8</td><td style=\"text-align: right;\">          16</td><td>sigmoid          </td><td>sigmoid           </td><td style=\"text-align: right;\">                   -3.41504</td><td style=\"text-align: right;\">           0.482399 </td><td>mae                            </td><td>nadam           </td></tr>\n",
              "<tr><td>meta_loss_98963_00018</td><td>PENDING </td><td>     </td><td>conv2d      </td><td>flatten     </td><td>conv2d</td><td>conv2d</td><td>conv2d</td><td>conv2d</td><td>conv2d</td><td style=\"text-align: right;\">   8</td><td style=\"text-align: right;\">   8</td><td style=\"text-align: right;\">   8</td><td style=\"text-align: right;\">   8</td><td style=\"text-align: right;\">   8</td><td style=\"text-align: right;\">   8</td><td style=\"text-align: right;\">   8</td><td style=\"text-align: right;\">          48</td><td>sigmoid          </td><td>sigmoid           </td><td style=\"text-align: right;\">                   -2.26361</td><td style=\"text-align: right;\">           0.83558  </td><td>mse                            </td><td>adagrad         </td></tr>\n",
              "<tr><td>meta_loss_98963_00019</td><td>PENDING </td><td>     </td><td>dense       </td><td>flatten     </td><td>conv2d</td><td>conv2d</td><td>conv2d</td><td>conv2d</td><td>conv2d</td><td style=\"text-align: right;\">   8</td><td style=\"text-align: right;\">   8</td><td style=\"text-align: right;\">   8</td><td style=\"text-align: right;\">   8</td><td style=\"text-align: right;\">   8</td><td style=\"text-align: right;\">   8</td><td style=\"text-align: right;\">   8</td><td style=\"text-align: right;\">           4</td><td>sigmoid          </td><td>sigmoid           </td><td style=\"text-align: right;\">                   -3.09267</td><td style=\"text-align: right;\">           0.103705 </td><td>sparse_categorical_crossentropy</td><td>adadelta        </td></tr>\n",
              "<tr><td>meta_loss_98963_00000</td><td>ERROR   </td><td>     </td><td>conv2d      </td><td>conv2d      </td><td>conv2d</td><td>conv2d</td><td>conv2d</td><td>conv2d</td><td>conv2d</td><td style=\"text-align: right;\">   8</td><td style=\"text-align: right;\">   8</td><td style=\"text-align: right;\">   8</td><td style=\"text-align: right;\">   8</td><td style=\"text-align: right;\">   8</td><td style=\"text-align: right;\">   8</td><td style=\"text-align: right;\">   8</td><td style=\"text-align: right;\">          24</td><td>sigmoid          </td><td>sigmoid           </td><td style=\"text-align: right;\">                   -2.51525</td><td style=\"text-align: right;\">           0.553209 </td><td>mape                           </td><td>adagrad         </td></tr>\n",
              "<tr><td>meta_loss_98963_00001</td><td>ERROR   </td><td>     </td><td>dense       </td><td>conv2d      </td><td>conv2d</td><td>conv2d</td><td>conv2d</td><td>conv2d</td><td>conv2d</td><td style=\"text-align: right;\">   8</td><td style=\"text-align: right;\">   8</td><td style=\"text-align: right;\">   8</td><td style=\"text-align: right;\">   8</td><td style=\"text-align: right;\">   8</td><td style=\"text-align: right;\">   8</td><td style=\"text-align: right;\">   8</td><td style=\"text-align: right;\">          16</td><td>sigmoid          </td><td>sigmoid           </td><td style=\"text-align: right;\">                   -2.37358</td><td style=\"text-align: right;\">           0.314978 </td><td>sparse_categorical_crossentropy</td><td>adagrad         </td></tr>\n",
              "<tr><td>meta_loss_98963_00002</td><td>ERROR   </td><td>     </td><td>maxpooling2d</td><td>conv2d      </td><td>conv2d</td><td>conv2d</td><td>conv2d</td><td>conv2d</td><td>conv2d</td><td style=\"text-align: right;\">   8</td><td style=\"text-align: right;\">   8</td><td style=\"text-align: right;\">   8</td><td style=\"text-align: right;\">   8</td><td style=\"text-align: right;\">   8</td><td style=\"text-align: right;\">   8</td><td style=\"text-align: right;\">   8</td><td style=\"text-align: right;\">         128</td><td>sigmoid          </td><td>sigmoid           </td><td style=\"text-align: right;\">                   -2.8581 </td><td style=\"text-align: right;\">           0.512218 </td><td>sparse_categorical_crossentropy</td><td>adamax          </td></tr>\n",
              "<tr><td>meta_loss_98963_00003</td><td>ERROR   </td><td>     </td><td>flatten     </td><td>conv2d      </td><td>conv2d</td><td>conv2d</td><td>conv2d</td><td>conv2d</td><td>conv2d</td><td style=\"text-align: right;\">   8</td><td style=\"text-align: right;\">   8</td><td style=\"text-align: right;\">   8</td><td style=\"text-align: right;\">   8</td><td style=\"text-align: right;\">   8</td><td style=\"text-align: right;\">   8</td><td style=\"text-align: right;\">   8</td><td style=\"text-align: right;\">           4</td><td>sigmoid          </td><td>sigmoid           </td><td style=\"text-align: right;\">                   -1.27046</td><td style=\"text-align: right;\">           0.454703 </td><td>mape                           </td><td>sgd             </td></tr>\n",
              "</tbody>\n",
              "</table><br>... 1 more trials not shown (1 PENDING)<br>Number of errored trials: 4<br><table>\n",
              "<thead>\n",
              "<tr><th>Trial name           </th><th style=\"text-align: right;\">  # failures</th><th>error file                                                                                                                                                                                                                 </th></tr>\n",
              "</thead>\n",
              "<tbody>\n",
              "<tr><td>meta_loss_98963_00000</td><td style=\"text-align: right;\">           1</td><td>/home/jacobfv123/ray_results/meta_loss_2021-11-01_12-24-01/meta_loss_98963_00000_0_L1=conv2d,L2=conv2d,L3=conv2d,L4=conv2d,L5=conv2d,L6=conv2d,L7=conv2d,N1=8,N2=8,N3=8,N4=8,N5=8,N6=8,N7=8,b_2021-11-01_12-24-02/error.txt</td></tr>\n",
              "<tr><td>meta_loss_98963_00001</td><td style=\"text-align: right;\">           1</td><td>/home/jacobfv123/ray_results/meta_loss_2021-11-01_12-24-01/meta_loss_98963_00001_1_L1=dense,L2=conv2d,L3=conv2d,L4=conv2d,L5=conv2d,L6=conv2d,L7=conv2d,N1=8,N2=8,N3=8,N4=8,N5=8,N6=8,N7=8,ba_2021-11-01_12-24-03/error.txt</td></tr>\n",
              "<tr><td>meta_loss_98963_00002</td><td style=\"text-align: right;\">           1</td><td>/home/jacobfv123/ray_results/meta_loss_2021-11-01_12-24-01/meta_loss_98963_00002_2_L1=maxpooling2d,L2=conv2d,L3=conv2d,L4=conv2d,L5=conv2d,L6=conv2d,L7=conv2d,N1=8,N2=8,N3=8,N4=8,N5=8,N6=8,_2021-11-01_12-24-11/error.txt</td></tr>\n",
              "<tr><td>meta_loss_98963_00003</td><td style=\"text-align: right;\">           1</td><td>/home/jacobfv123/ray_results/meta_loss_2021-11-01_12-24-01/meta_loss_98963_00003_3_L1=flatten,L2=conv2d,L3=conv2d,L4=conv2d,L5=conv2d,L6=conv2d,L7=conv2d,N1=8,N2=8,N3=8,N4=8,N5=8,N6=8,N7=8,_2021-11-01_12-24-18/error.txt</td></tr>\n",
              "</tbody>\n",
              "</table><br>"
            ],
            "text/plain": [
              "<IPython.core.display.HTML object>"
            ]
          },
          "metadata": {},
          "output_type": "display_data"
        },
        {
          "data": {
            "text/html": [
              "== Status ==<br>Memory usage on this node: 2.0/12.7 GiB<br>Using FIFO scheduling algorithm.<br>Resources requested: 1.0/2 CPUs, 1.0/1 GPUs, 0.0/7.21 GiB heap, 0.0/3.6 GiB objects (0.0/1.0 accelerator_type:K80)<br>Result logdir: /home/jacobfv123/ray_results/meta_loss_2021-11-01_12-24-01<br>Number of trials: 21/267302874351744 (4 ERROR, 16 PENDING, 1 RUNNING)<br><table>\n",
              "<thead>\n",
              "<tr><th>Trial name           </th><th>status  </th><th>loc  </th><th>L1          </th><th>L2          </th><th>L3    </th><th>L4    </th><th>L5    </th><th>L6    </th><th>L7    </th><th style=\"text-align: right;\">  N1</th><th style=\"text-align: right;\">  N2</th><th style=\"text-align: right;\">  N3</th><th style=\"text-align: right;\">  N4</th><th style=\"text-align: right;\">  N5</th><th style=\"text-align: right;\">  N6</th><th style=\"text-align: right;\">  N7</th><th style=\"text-align: right;\">  batch_size</th><th>conv_activation  </th><th>dense_activation  </th><th style=\"text-align: right;\">  initial_learning_rate_exp</th><th style=\"text-align: right;\">  learning_rate_rate</th><th>loss_name                      </th><th>optimizer_name  </th></tr>\n",
              "</thead>\n",
              "<tbody>\n",
              "<tr><td>meta_loss_98963_00004</td><td>RUNNING </td><td>     </td><td>dropout     </td><td>conv2d      </td><td>conv2d</td><td>conv2d</td><td>conv2d</td><td>conv2d</td><td>conv2d</td><td style=\"text-align: right;\">   8</td><td style=\"text-align: right;\">   8</td><td style=\"text-align: right;\">   8</td><td style=\"text-align: right;\">   8</td><td style=\"text-align: right;\">   8</td><td style=\"text-align: right;\">   8</td><td style=\"text-align: right;\">   8</td><td style=\"text-align: right;\">          16</td><td>sigmoid          </td><td>sigmoid           </td><td style=\"text-align: right;\">                   -3.53965</td><td style=\"text-align: right;\">           0.861406 </td><td>categorical_crossentropy       </td><td>adadelta        </td></tr>\n",
              "<tr><td>meta_loss_98963_00005</td><td>PENDING </td><td>     </td><td>none        </td><td>conv2d      </td><td>conv2d</td><td>conv2d</td><td>conv2d</td><td>conv2d</td><td>conv2d</td><td style=\"text-align: right;\">   8</td><td style=\"text-align: right;\">   8</td><td style=\"text-align: right;\">   8</td><td style=\"text-align: right;\">   8</td><td style=\"text-align: right;\">   8</td><td style=\"text-align: right;\">   8</td><td style=\"text-align: right;\">   8</td><td style=\"text-align: right;\">           8</td><td>sigmoid          </td><td>sigmoid           </td><td style=\"text-align: right;\">                   -3.50222</td><td style=\"text-align: right;\">           0.955176 </td><td>mape                           </td><td>sgd             </td></tr>\n",
              "<tr><td>meta_loss_98963_00006</td><td>PENDING </td><td>     </td><td>conv2d      </td><td>dense       </td><td>conv2d</td><td>conv2d</td><td>conv2d</td><td>conv2d</td><td>conv2d</td><td style=\"text-align: right;\">   8</td><td style=\"text-align: right;\">   8</td><td style=\"text-align: right;\">   8</td><td style=\"text-align: right;\">   8</td><td style=\"text-align: right;\">   8</td><td style=\"text-align: right;\">   8</td><td style=\"text-align: right;\">   8</td><td style=\"text-align: right;\">         128</td><td>sigmoid          </td><td>sigmoid           </td><td style=\"text-align: right;\">                   -2.40886</td><td style=\"text-align: right;\">           0.878881 </td><td>mae                            </td><td>adadelta        </td></tr>\n",
              "<tr><td>meta_loss_98963_00007</td><td>PENDING </td><td>     </td><td>dense       </td><td>dense       </td><td>conv2d</td><td>conv2d</td><td>conv2d</td><td>conv2d</td><td>conv2d</td><td style=\"text-align: right;\">   8</td><td style=\"text-align: right;\">   8</td><td style=\"text-align: right;\">   8</td><td style=\"text-align: right;\">   8</td><td style=\"text-align: right;\">   8</td><td style=\"text-align: right;\">   8</td><td style=\"text-align: right;\">   8</td><td style=\"text-align: right;\">          24</td><td>sigmoid          </td><td>sigmoid           </td><td style=\"text-align: right;\">                   -1.66232</td><td style=\"text-align: right;\">           0.355708 </td><td>mae                            </td><td>adagrad         </td></tr>\n",
              "<tr><td>meta_loss_98963_00008</td><td>PENDING </td><td>     </td><td>maxpooling2d</td><td>dense       </td><td>conv2d</td><td>conv2d</td><td>conv2d</td><td>conv2d</td><td>conv2d</td><td style=\"text-align: right;\">   8</td><td style=\"text-align: right;\">   8</td><td style=\"text-align: right;\">   8</td><td style=\"text-align: right;\">   8</td><td style=\"text-align: right;\">   8</td><td style=\"text-align: right;\">   8</td><td style=\"text-align: right;\">   8</td><td style=\"text-align: right;\">          64</td><td>sigmoid          </td><td>sigmoid           </td><td style=\"text-align: right;\">                   -1.15489</td><td style=\"text-align: right;\">           0.736778 </td><td>mae                            </td><td>nadam           </td></tr>\n",
              "<tr><td>meta_loss_98963_00009</td><td>PENDING </td><td>     </td><td>flatten     </td><td>dense       </td><td>conv2d</td><td>conv2d</td><td>conv2d</td><td>conv2d</td><td>conv2d</td><td style=\"text-align: right;\">   8</td><td style=\"text-align: right;\">   8</td><td style=\"text-align: right;\">   8</td><td style=\"text-align: right;\">   8</td><td style=\"text-align: right;\">   8</td><td style=\"text-align: right;\">   8</td><td style=\"text-align: right;\">   8</td><td style=\"text-align: right;\">          48</td><td>sigmoid          </td><td>sigmoid           </td><td style=\"text-align: right;\">                   -2.96978</td><td style=\"text-align: right;\">           0.814146 </td><td>categorical_crossentropy       </td><td>adamax          </td></tr>\n",
              "<tr><td>meta_loss_98963_00010</td><td>PENDING </td><td>     </td><td>dropout     </td><td>dense       </td><td>conv2d</td><td>conv2d</td><td>conv2d</td><td>conv2d</td><td>conv2d</td><td style=\"text-align: right;\">   8</td><td style=\"text-align: right;\">   8</td><td style=\"text-align: right;\">   8</td><td style=\"text-align: right;\">   8</td><td style=\"text-align: right;\">   8</td><td style=\"text-align: right;\">   8</td><td style=\"text-align: right;\">   8</td><td style=\"text-align: right;\">          48</td><td>sigmoid          </td><td>sigmoid           </td><td style=\"text-align: right;\">                   -1.84345</td><td style=\"text-align: right;\">           0.335166 </td><td>sparse_categorical_crossentropy</td><td>adadelta        </td></tr>\n",
              "<tr><td>meta_loss_98963_00011</td><td>PENDING </td><td>     </td><td>none        </td><td>dense       </td><td>conv2d</td><td>conv2d</td><td>conv2d</td><td>conv2d</td><td>conv2d</td><td style=\"text-align: right;\">   8</td><td style=\"text-align: right;\">   8</td><td style=\"text-align: right;\">   8</td><td style=\"text-align: right;\">   8</td><td style=\"text-align: right;\">   8</td><td style=\"text-align: right;\">   8</td><td style=\"text-align: right;\">   8</td><td style=\"text-align: right;\">          24</td><td>sigmoid          </td><td>sigmoid           </td><td style=\"text-align: right;\">                   -3.12773</td><td style=\"text-align: right;\">           0.515024 </td><td>categorical_crossentropy       </td><td>adamax          </td></tr>\n",
              "<tr><td>meta_loss_98963_00012</td><td>PENDING </td><td>     </td><td>conv2d      </td><td>maxpooling2d</td><td>conv2d</td><td>conv2d</td><td>conv2d</td><td>conv2d</td><td>conv2d</td><td style=\"text-align: right;\">   8</td><td style=\"text-align: right;\">   8</td><td style=\"text-align: right;\">   8</td><td style=\"text-align: right;\">   8</td><td style=\"text-align: right;\">   8</td><td style=\"text-align: right;\">   8</td><td style=\"text-align: right;\">   8</td><td style=\"text-align: right;\">           8</td><td>sigmoid          </td><td>sigmoid           </td><td style=\"text-align: right;\">                   -2.44683</td><td style=\"text-align: right;\">           0.949793 </td><td>mse                            </td><td>adamax          </td></tr>\n",
              "<tr><td>meta_loss_98963_00013</td><td>PENDING </td><td>     </td><td>dense       </td><td>maxpooling2d</td><td>conv2d</td><td>conv2d</td><td>conv2d</td><td>conv2d</td><td>conv2d</td><td style=\"text-align: right;\">   8</td><td style=\"text-align: right;\">   8</td><td style=\"text-align: right;\">   8</td><td style=\"text-align: right;\">   8</td><td style=\"text-align: right;\">   8</td><td style=\"text-align: right;\">   8</td><td style=\"text-align: right;\">   8</td><td style=\"text-align: right;\">          48</td><td>sigmoid          </td><td>sigmoid           </td><td style=\"text-align: right;\">                   -2.7508 </td><td style=\"text-align: right;\">           0.0587266</td><td>categorical_crossentropy       </td><td>nadam           </td></tr>\n",
              "<tr><td>meta_loss_98963_00014</td><td>PENDING </td><td>     </td><td>maxpooling2d</td><td>maxpooling2d</td><td>conv2d</td><td>conv2d</td><td>conv2d</td><td>conv2d</td><td>conv2d</td><td style=\"text-align: right;\">   8</td><td style=\"text-align: right;\">   8</td><td style=\"text-align: right;\">   8</td><td style=\"text-align: right;\">   8</td><td style=\"text-align: right;\">   8</td><td style=\"text-align: right;\">   8</td><td style=\"text-align: right;\">   8</td><td style=\"text-align: right;\">          48</td><td>sigmoid          </td><td>sigmoid           </td><td style=\"text-align: right;\">                   -3.15043</td><td style=\"text-align: right;\">           0.594349 </td><td>mse                            </td><td>adagrad         </td></tr>\n",
              "<tr><td>meta_loss_98963_00015</td><td>PENDING </td><td>     </td><td>flatten     </td><td>maxpooling2d</td><td>conv2d</td><td>conv2d</td><td>conv2d</td><td>conv2d</td><td>conv2d</td><td style=\"text-align: right;\">   8</td><td style=\"text-align: right;\">   8</td><td style=\"text-align: right;\">   8</td><td style=\"text-align: right;\">   8</td><td style=\"text-align: right;\">   8</td><td style=\"text-align: right;\">   8</td><td style=\"text-align: right;\">   8</td><td style=\"text-align: right;\">           4</td><td>sigmoid          </td><td>sigmoid           </td><td style=\"text-align: right;\">                   -1.01626</td><td style=\"text-align: right;\">           0.938932 </td><td>mse                            </td><td>adagrad         </td></tr>\n",
              "<tr><td>meta_loss_98963_00016</td><td>PENDING </td><td>     </td><td>dropout     </td><td>maxpooling2d</td><td>conv2d</td><td>conv2d</td><td>conv2d</td><td>conv2d</td><td>conv2d</td><td style=\"text-align: right;\">   8</td><td style=\"text-align: right;\">   8</td><td style=\"text-align: right;\">   8</td><td style=\"text-align: right;\">   8</td><td style=\"text-align: right;\">   8</td><td style=\"text-align: right;\">   8</td><td style=\"text-align: right;\">   8</td><td style=\"text-align: right;\">           8</td><td>sigmoid          </td><td>sigmoid           </td><td style=\"text-align: right;\">                   -3.70958</td><td style=\"text-align: right;\">           0.0631872</td><td>mape                           </td><td>sgd             </td></tr>\n",
              "<tr><td>meta_loss_98963_00017</td><td>PENDING </td><td>     </td><td>none        </td><td>maxpooling2d</td><td>conv2d</td><td>conv2d</td><td>conv2d</td><td>conv2d</td><td>conv2d</td><td style=\"text-align: right;\">   8</td><td style=\"text-align: right;\">   8</td><td style=\"text-align: right;\">   8</td><td style=\"text-align: right;\">   8</td><td style=\"text-align: right;\">   8</td><td style=\"text-align: right;\">   8</td><td style=\"text-align: right;\">   8</td><td style=\"text-align: right;\">          16</td><td>sigmoid          </td><td>sigmoid           </td><td style=\"text-align: right;\">                   -3.41504</td><td style=\"text-align: right;\">           0.482399 </td><td>mae                            </td><td>nadam           </td></tr>\n",
              "<tr><td>meta_loss_98963_00018</td><td>PENDING </td><td>     </td><td>conv2d      </td><td>flatten     </td><td>conv2d</td><td>conv2d</td><td>conv2d</td><td>conv2d</td><td>conv2d</td><td style=\"text-align: right;\">   8</td><td style=\"text-align: right;\">   8</td><td style=\"text-align: right;\">   8</td><td style=\"text-align: right;\">   8</td><td style=\"text-align: right;\">   8</td><td style=\"text-align: right;\">   8</td><td style=\"text-align: right;\">   8</td><td style=\"text-align: right;\">          48</td><td>sigmoid          </td><td>sigmoid           </td><td style=\"text-align: right;\">                   -2.26361</td><td style=\"text-align: right;\">           0.83558  </td><td>mse                            </td><td>adagrad         </td></tr>\n",
              "<tr><td>meta_loss_98963_00019</td><td>PENDING </td><td>     </td><td>dense       </td><td>flatten     </td><td>conv2d</td><td>conv2d</td><td>conv2d</td><td>conv2d</td><td>conv2d</td><td style=\"text-align: right;\">   8</td><td style=\"text-align: right;\">   8</td><td style=\"text-align: right;\">   8</td><td style=\"text-align: right;\">   8</td><td style=\"text-align: right;\">   8</td><td style=\"text-align: right;\">   8</td><td style=\"text-align: right;\">   8</td><td style=\"text-align: right;\">           4</td><td>sigmoid          </td><td>sigmoid           </td><td style=\"text-align: right;\">                   -3.09267</td><td style=\"text-align: right;\">           0.103705 </td><td>sparse_categorical_crossentropy</td><td>adadelta        </td></tr>\n",
              "<tr><td>meta_loss_98963_00000</td><td>ERROR   </td><td>     </td><td>conv2d      </td><td>conv2d      </td><td>conv2d</td><td>conv2d</td><td>conv2d</td><td>conv2d</td><td>conv2d</td><td style=\"text-align: right;\">   8</td><td style=\"text-align: right;\">   8</td><td style=\"text-align: right;\">   8</td><td style=\"text-align: right;\">   8</td><td style=\"text-align: right;\">   8</td><td style=\"text-align: right;\">   8</td><td style=\"text-align: right;\">   8</td><td style=\"text-align: right;\">          24</td><td>sigmoid          </td><td>sigmoid           </td><td style=\"text-align: right;\">                   -2.51525</td><td style=\"text-align: right;\">           0.553209 </td><td>mape                           </td><td>adagrad         </td></tr>\n",
              "<tr><td>meta_loss_98963_00001</td><td>ERROR   </td><td>     </td><td>dense       </td><td>conv2d      </td><td>conv2d</td><td>conv2d</td><td>conv2d</td><td>conv2d</td><td>conv2d</td><td style=\"text-align: right;\">   8</td><td style=\"text-align: right;\">   8</td><td style=\"text-align: right;\">   8</td><td style=\"text-align: right;\">   8</td><td style=\"text-align: right;\">   8</td><td style=\"text-align: right;\">   8</td><td style=\"text-align: right;\">   8</td><td style=\"text-align: right;\">          16</td><td>sigmoid          </td><td>sigmoid           </td><td style=\"text-align: right;\">                   -2.37358</td><td style=\"text-align: right;\">           0.314978 </td><td>sparse_categorical_crossentropy</td><td>adagrad         </td></tr>\n",
              "<tr><td>meta_loss_98963_00002</td><td>ERROR   </td><td>     </td><td>maxpooling2d</td><td>conv2d      </td><td>conv2d</td><td>conv2d</td><td>conv2d</td><td>conv2d</td><td>conv2d</td><td style=\"text-align: right;\">   8</td><td style=\"text-align: right;\">   8</td><td style=\"text-align: right;\">   8</td><td style=\"text-align: right;\">   8</td><td style=\"text-align: right;\">   8</td><td style=\"text-align: right;\">   8</td><td style=\"text-align: right;\">   8</td><td style=\"text-align: right;\">         128</td><td>sigmoid          </td><td>sigmoid           </td><td style=\"text-align: right;\">                   -2.8581 </td><td style=\"text-align: right;\">           0.512218 </td><td>sparse_categorical_crossentropy</td><td>adamax          </td></tr>\n",
              "<tr><td>meta_loss_98963_00003</td><td>ERROR   </td><td>     </td><td>flatten     </td><td>conv2d      </td><td>conv2d</td><td>conv2d</td><td>conv2d</td><td>conv2d</td><td>conv2d</td><td style=\"text-align: right;\">   8</td><td style=\"text-align: right;\">   8</td><td style=\"text-align: right;\">   8</td><td style=\"text-align: right;\">   8</td><td style=\"text-align: right;\">   8</td><td style=\"text-align: right;\">   8</td><td style=\"text-align: right;\">   8</td><td style=\"text-align: right;\">           4</td><td>sigmoid          </td><td>sigmoid           </td><td style=\"text-align: right;\">                   -1.27046</td><td style=\"text-align: right;\">           0.454703 </td><td>mape                           </td><td>sgd             </td></tr>\n",
              "</tbody>\n",
              "</table><br>... 1 more trials not shown (1 PENDING)<br>Number of errored trials: 4<br><table>\n",
              "<thead>\n",
              "<tr><th>Trial name           </th><th style=\"text-align: right;\">  # failures</th><th>error file                                                                                                                                                                                                                 </th></tr>\n",
              "</thead>\n",
              "<tbody>\n",
              "<tr><td>meta_loss_98963_00000</td><td style=\"text-align: right;\">           1</td><td>/home/jacobfv123/ray_results/meta_loss_2021-11-01_12-24-01/meta_loss_98963_00000_0_L1=conv2d,L2=conv2d,L3=conv2d,L4=conv2d,L5=conv2d,L6=conv2d,L7=conv2d,N1=8,N2=8,N3=8,N4=8,N5=8,N6=8,N7=8,b_2021-11-01_12-24-02/error.txt</td></tr>\n",
              "<tr><td>meta_loss_98963_00001</td><td style=\"text-align: right;\">           1</td><td>/home/jacobfv123/ray_results/meta_loss_2021-11-01_12-24-01/meta_loss_98963_00001_1_L1=dense,L2=conv2d,L3=conv2d,L4=conv2d,L5=conv2d,L6=conv2d,L7=conv2d,N1=8,N2=8,N3=8,N4=8,N5=8,N6=8,N7=8,ba_2021-11-01_12-24-03/error.txt</td></tr>\n",
              "<tr><td>meta_loss_98963_00002</td><td style=\"text-align: right;\">           1</td><td>/home/jacobfv123/ray_results/meta_loss_2021-11-01_12-24-01/meta_loss_98963_00002_2_L1=maxpooling2d,L2=conv2d,L3=conv2d,L4=conv2d,L5=conv2d,L6=conv2d,L7=conv2d,N1=8,N2=8,N3=8,N4=8,N5=8,N6=8,_2021-11-01_12-24-11/error.txt</td></tr>\n",
              "<tr><td>meta_loss_98963_00003</td><td style=\"text-align: right;\">           1</td><td>/home/jacobfv123/ray_results/meta_loss_2021-11-01_12-24-01/meta_loss_98963_00003_3_L1=flatten,L2=conv2d,L3=conv2d,L4=conv2d,L5=conv2d,L6=conv2d,L7=conv2d,N1=8,N2=8,N3=8,N4=8,N5=8,N6=8,N7=8,_2021-11-01_12-24-18/error.txt</td></tr>\n",
              "</tbody>\n",
              "</table><br>"
            ],
            "text/plain": [
              "<IPython.core.display.HTML object>"
            ]
          },
          "metadata": {},
          "output_type": "display_data"
        },
        {
          "name": "stderr",
          "output_type": "stream",
          "text": [
            "\u001b[2m\u001b[36m(pid=1308)\u001b[0m 2021-11-01 12:24:37.617787: I tensorflow/stream_executor/cuda/cuda_gpu_executor.cc:937] successful NUMA node read from SysFS had negative value (-1), but there must be at least one NUMA node, so returning NUMA node zero\n",
            "\u001b[2m\u001b[36m(pid=1308)\u001b[0m 2021-11-01 12:24:37.629614: I tensorflow/stream_executor/cuda/cuda_gpu_executor.cc:937] successful NUMA node read from SysFS had negative value (-1), but there must be at least one NUMA node, so returning NUMA node zero\n",
            "\u001b[2m\u001b[36m(pid=1308)\u001b[0m 2021-11-01 12:24:37.630415: I tensorflow/stream_executor/cuda/cuda_gpu_executor.cc:937] successful NUMA node read from SysFS had negative value (-1), but there must be at least one NUMA node, so returning NUMA node zero\n",
            "\u001b[2m\u001b[36m(pid=1308)\u001b[0m 2021-11-01 12:24:37.631673: I tensorflow/core/platform/cpu_feature_guard.cc:142] This TensorFlow binary is optimized with oneAPI Deep Neural Network Library (oneDNN) to use the following CPU instructions in performance-critical operations:  AVX2 FMA\n",
            "\u001b[2m\u001b[36m(pid=1308)\u001b[0m To enable them in other operations, rebuild TensorFlow with the appropriate compiler flags.\n",
            "\u001b[2m\u001b[36m(pid=1308)\u001b[0m 2021-11-01 12:24:37.632031: I tensorflow/stream_executor/cuda/cuda_gpu_executor.cc:937] successful NUMA node read from SysFS had negative value (-1), but there must be at least one NUMA node, so returning NUMA node zero\n",
            "\u001b[2m\u001b[36m(pid=1308)\u001b[0m 2021-11-01 12:24:37.632958: I tensorflow/stream_executor/cuda/cuda_gpu_executor.cc:937] successful NUMA node read from SysFS had negative value (-1), but there must be at least one NUMA node, so returning NUMA node zero\n",
            "\u001b[2m\u001b[36m(pid=1308)\u001b[0m 2021-11-01 12:24:37.633716: I tensorflow/stream_executor/cuda/cuda_gpu_executor.cc:937] successful NUMA node read from SysFS had negative value (-1), but there must be at least one NUMA node, so returning NUMA node zero\n",
            "\u001b[2m\u001b[36m(pid=1308)\u001b[0m 2021-11-01 12:24:38.062656: I tensorflow/stream_executor/cuda/cuda_gpu_executor.cc:937] successful NUMA node read from SysFS had negative value (-1), but there must be at least one NUMA node, so returning NUMA node zero\n",
            "\u001b[2m\u001b[36m(pid=1308)\u001b[0m 2021-11-01 12:24:38.063476: I tensorflow/stream_executor/cuda/cuda_gpu_executor.cc:937] successful NUMA node read from SysFS had negative value (-1), but there must be at least one NUMA node, so returning NUMA node zero\n",
            "\u001b[2m\u001b[36m(pid=1308)\u001b[0m 2021-11-01 12:24:38.064327: I tensorflow/stream_executor/cuda/cuda_gpu_executor.cc:937] successful NUMA node read from SysFS had negative value (-1), but there must be at least one NUMA node, so returning NUMA node zero\n",
            "\u001b[2m\u001b[36m(pid=1308)\u001b[0m 2021-11-01 12:24:38,065\tERROR function_runner.py:266 -- Runner Thread raised error.\n",
            "\u001b[2m\u001b[36m(pid=1308)\u001b[0m Traceback (most recent call last):\n",
            "\u001b[2m\u001b[36m(pid=1308)\u001b[0m   File \"/opt/conda/lib/python3.7/site-packages/ray/tune/function_runner.py\", line 260, in run\n",
            "\u001b[2m\u001b[36m(pid=1308)\u001b[0m     self._entrypoint()\n",
            "\u001b[2m\u001b[36m(pid=1308)\u001b[0m   File \"/opt/conda/lib/python3.7/site-packages/ray/tune/function_runner.py\", line 329, in entrypoint\n",
            "\u001b[2m\u001b[36m(pid=1308)\u001b[0m     self._status_reporter.get_checkpoint())\n",
            "\u001b[2m\u001b[36m(pid=1308)\u001b[0m   File \"/opt/conda/lib/python3.7/site-packages/ray/util/tracing/tracing_helper.py\", line 449, in _resume_span\n",
            "\u001b[2m\u001b[36m(pid=1308)\u001b[0m     return method(self, *_args, **_kwargs)\n",
            "\u001b[2m\u001b[36m(pid=1308)\u001b[0m   File \"/opt/conda/lib/python3.7/site-packages/ray/tune/function_runner.py\", line 594, in _trainable_func\n",
            "\u001b[2m\u001b[36m(pid=1308)\u001b[0m     output = fn()\n",
            "\u001b[2m\u001b[36m(pid=1308)\u001b[0m   File \"/tmp/ipykernel_886/1119233880.py\", line 61, in meta_loss\n",
            "\u001b[2m\u001b[36m(pid=1308)\u001b[0m   File \"/opt/conda/lib/python3.7/site-packages/tensorflow/python/util/dispatch.py\", line 206, in wrapper\n",
            "\u001b[2m\u001b[36m(pid=1308)\u001b[0m     return target(*args, **kwargs)\n",
            "\u001b[2m\u001b[36m(pid=1308)\u001b[0m   File \"/opt/conda/lib/python3.7/site-packages/tensorflow/python/ops/array_ops.py\", line 4338, in one_hot\n",
            "\u001b[2m\u001b[36m(pid=1308)\u001b[0m     on_value = ops.convert_to_tensor(1, dtype, name=\"on_value\")\n",
            "\u001b[2m\u001b[36m(pid=1308)\u001b[0m   File \"/opt/conda/lib/python3.7/site-packages/tensorflow/python/profiler/trace.py\", line 163, in wrapped\n",
            "\u001b[2m\u001b[36m(pid=1308)\u001b[0m     return func(*args, **kwargs)\n",
            "\u001b[2m\u001b[36m(pid=1308)\u001b[0m   File \"/opt/conda/lib/python3.7/site-packages/tensorflow/python/framework/ops.py\", line 1566, in convert_to_tensor\n",
            "\u001b[2m\u001b[36m(pid=1308)\u001b[0m     ret = conversion_func(value, dtype=dtype, name=name, as_ref=as_ref)\n",
            "\u001b[2m\u001b[36m(pid=1308)\u001b[0m   File \"/opt/conda/lib/python3.7/site-packages/tensorflow/python/framework/tensor_conversion_registry.py\", line 52, in _default_conversion_function\n",
            "\u001b[2m\u001b[36m(pid=1308)\u001b[0m     return constant_op.constant(value, dtype, name=name)\n",
            "\u001b[2m\u001b[36m(pid=1308)\u001b[0m   File \"/opt/conda/lib/python3.7/site-packages/tensorflow/python/framework/constant_op.py\", line 272, in constant\n",
            "\u001b[2m\u001b[36m(pid=1308)\u001b[0m     allow_broadcast=True)\n",
            "\u001b[2m\u001b[36m(pid=1308)\u001b[0m   File \"/opt/conda/lib/python3.7/site-packages/tensorflow/python/framework/constant_op.py\", line 283, in _constant_impl\n",
            "\u001b[2m\u001b[36m(pid=1308)\u001b[0m     return _constant_eager_impl(ctx, value, dtype, shape, verify_shape)\n",
            "\u001b[2m\u001b[36m(pid=1308)\u001b[0m   File \"/opt/conda/lib/python3.7/site-packages/tensorflow/python/framework/constant_op.py\", line 308, in _constant_eager_impl\n",
            "\u001b[2m\u001b[36m(pid=1308)\u001b[0m     t = convert_to_eager_tensor(value, ctx, dtype)\n",
            "\u001b[2m\u001b[36m(pid=1308)\u001b[0m   File \"/opt/conda/lib/python3.7/site-packages/tensorflow/python/framework/constant_op.py\", line 105, in convert_to_eager_tensor\n",
            "\u001b[2m\u001b[36m(pid=1308)\u001b[0m     ctx.ensure_initialized()\n",
            "\u001b[2m\u001b[36m(pid=1308)\u001b[0m   File \"/opt/conda/lib/python3.7/site-packages/tensorflow/python/eager/context.py\", line 555, in ensure_initialized\n",
            "\u001b[2m\u001b[36m(pid=1308)\u001b[0m     context_handle = pywrap_tfe.TFE_NewContext(opts)\n",
            "\u001b[2m\u001b[36m(pid=1308)\u001b[0m MemoryError: std::bad_alloc\n",
            "\u001b[2m\u001b[36m(pid=1308)\u001b[0m Exception in thread Thread-2:\n",
            "\u001b[2m\u001b[36m(pid=1308)\u001b[0m Traceback (most recent call last):\n",
            "\u001b[2m\u001b[36m(pid=1308)\u001b[0m   File \"/opt/conda/lib/python3.7/threading.py\", line 926, in _bootstrap_inner\n",
            "\u001b[2m\u001b[36m(pid=1308)\u001b[0m     self.run()\n",
            "\u001b[2m\u001b[36m(pid=1308)\u001b[0m   File \"/opt/conda/lib/python3.7/site-packages/ray/tune/function_runner.py\", line 279, in run\n",
            "\u001b[2m\u001b[36m(pid=1308)\u001b[0m     raise e\n",
            "\u001b[2m\u001b[36m(pid=1308)\u001b[0m   File \"/opt/conda/lib/python3.7/site-packages/ray/tune/function_runner.py\", line 260, in run\n",
            "\u001b[2m\u001b[36m(pid=1308)\u001b[0m     self._entrypoint()\n",
            "\u001b[2m\u001b[36m(pid=1308)\u001b[0m   File \"/opt/conda/lib/python3.7/site-packages/ray/tune/function_runner.py\", line 329, in entrypoint\n",
            "\u001b[2m\u001b[36m(pid=1308)\u001b[0m     self._status_reporter.get_checkpoint())\n",
            "\u001b[2m\u001b[36m(pid=1308)\u001b[0m   File \"/opt/conda/lib/python3.7/site-packages/ray/util/tracing/tracing_helper.py\", line 449, in _resume_span\n",
            "\u001b[2m\u001b[36m(pid=1308)\u001b[0m     return method(self, *_args, **_kwargs)\n",
            "\u001b[2m\u001b[36m(pid=1308)\u001b[0m   File \"/opt/conda/lib/python3.7/site-packages/ray/tune/function_runner.py\", line 594, in _trainable_func\n",
            "\u001b[2m\u001b[36m(pid=1308)\u001b[0m     output = fn()\n",
            "\u001b[2m\u001b[36m(pid=1308)\u001b[0m   File \"/tmp/ipykernel_886/1119233880.py\", line 61, in meta_loss\n",
            "\u001b[2m\u001b[36m(pid=1308)\u001b[0m   File \"/opt/conda/lib/python3.7/site-packages/tensorflow/python/util/dispatch.py\", line 206, in wrapper\n",
            "\u001b[2m\u001b[36m(pid=1308)\u001b[0m     return target(*args, **kwargs)\n",
            "\u001b[2m\u001b[36m(pid=1308)\u001b[0m   File \"/opt/conda/lib/python3.7/site-packages/tensorflow/python/ops/array_ops.py\", line 4338, in one_hot\n",
            "\u001b[2m\u001b[36m(pid=1308)\u001b[0m     on_value = ops.convert_to_tensor(1, dtype, name=\"on_value\")\n",
            "\u001b[2m\u001b[36m(pid=1308)\u001b[0m   File \"/opt/conda/lib/python3.7/site-packages/tensorflow/python/profiler/trace.py\", line 163, in wrapped\n",
            "\u001b[2m\u001b[36m(pid=1308)\u001b[0m     return func(*args, **kwargs)\n",
            "\u001b[2m\u001b[36m(pid=1308)\u001b[0m   File \"/opt/conda/lib/python3.7/site-packages/tensorflow/python/framework/ops.py\", line 1566, in convert_to_tensor\n",
            "\u001b[2m\u001b[36m(pid=1308)\u001b[0m     ret = conversion_func(value, dtype=dtype, name=name, as_ref=as_ref)\n",
            "\u001b[2m\u001b[36m(pid=1308)\u001b[0m   File \"/opt/conda/lib/python3.7/site-packages/tensorflow/python/framework/tensor_conversion_registry.py\", line 52, in _default_conversion_function\n",
            "\u001b[2m\u001b[36m(pid=1308)\u001b[0m     return constant_op.constant(value, dtype, name=name)\n",
            "\u001b[2m\u001b[36m(pid=1308)\u001b[0m   File \"/opt/conda/lib/python3.7/site-packages/tensorflow/python/framework/constant_op.py\", line 272, in constant\n",
            "\u001b[2m\u001b[36m(pid=1308)\u001b[0m     allow_broadcast=True)\n",
            "\u001b[2m\u001b[36m(pid=1308)\u001b[0m   File \"/opt/conda/lib/python3.7/site-packages/tensorflow/python/framework/constant_op.py\", line 283, in _constant_impl\n",
            "\u001b[2m\u001b[36m(pid=1308)\u001b[0m     return _constant_eager_impl(ctx, value, dtype, shape, verify_shape)\n",
            "\u001b[2m\u001b[36m(pid=1308)\u001b[0m   File \"/opt/conda/lib/python3.7/site-packages/tensorflow/python/framework/constant_op.py\", line 308, in _constant_eager_impl\n",
            "\u001b[2m\u001b[36m(pid=1308)\u001b[0m     t = convert_to_eager_tensor(value, ctx, dtype)\n",
            "\u001b[2m\u001b[36m(pid=1308)\u001b[0m   File \"/opt/conda/lib/python3.7/site-packages/tensorflow/python/framework/constant_op.py\", line 105, in convert_to_eager_tensor\n",
            "\u001b[2m\u001b[36m(pid=1308)\u001b[0m     ctx.ensure_initialized()\n",
            "\u001b[2m\u001b[36m(pid=1308)\u001b[0m   File \"/opt/conda/lib/python3.7/site-packages/tensorflow/python/eager/context.py\", line 555, in ensure_initialized\n",
            "\u001b[2m\u001b[36m(pid=1308)\u001b[0m     context_handle = pywrap_tfe.TFE_NewContext(opts)\n",
            "\u001b[2m\u001b[36m(pid=1308)\u001b[0m MemoryError: std::bad_alloc\n",
            "\u001b[2m\u001b[36m(pid=1308)\u001b[0m \n",
            "2021-11-01 12:24:38,268\tERROR trial_runner.py:846 -- Trial meta_loss_98963_00004: Error processing event.\n",
            "Traceback (most recent call last):\n",
            "  File \"/opt/conda/lib/python3.7/site-packages/ray/tune/trial_runner.py\", line 812, in _process_trial\n",
            "    results = self.trial_executor.fetch_result(trial)\n",
            "  File \"/opt/conda/lib/python3.7/site-packages/ray/tune/ray_trial_executor.py\", line 767, in fetch_result\n",
            "    result = ray.get(trial_future[0], timeout=DEFAULT_GET_TIMEOUT)\n",
            "  File \"/opt/conda/lib/python3.7/site-packages/ray/_private/client_mode_hook.py\", line 89, in wrapper\n",
            "    return func(*args, **kwargs)\n",
            "  File \"/opt/conda/lib/python3.7/site-packages/ray/worker.py\", line 1621, in get\n",
            "    raise value.as_instanceof_cause()\n",
            "ray.exceptions.RayTaskError(TuneError): \u001b[36mray::ImplicitFunc.train_buffered()\u001b[39m (pid=1308, ip=10.138.0.10, repr=<types.ImplicitFunc object at 0x7f9ad1b6e110>)\n",
            "  File \"/opt/conda/lib/python3.7/site-packages/ray/tune/trainable.py\", line 189, in train_buffered\n",
            "    result = self.train()\n",
            "  File \"/opt/conda/lib/python3.7/site-packages/ray/tune/trainable.py\", line 248, in train\n",
            "    result = self.step()\n",
            "  File \"/opt/conda/lib/python3.7/site-packages/ray/tune/function_runner.py\", line 379, in step\n",
            "    self._report_thread_runner_error(block=True)\n",
            "  File \"/opt/conda/lib/python3.7/site-packages/ray/tune/function_runner.py\", line 527, in _report_thread_runner_error\n",
            "    (\"Trial raised an exception. Traceback:\\n{}\".format(err_tb_str)\n",
            "ray.tune.error.TuneError: Trial raised an exception. Traceback:\n",
            "\u001b[36mray::ImplicitFunc.train_buffered()\u001b[39m (pid=1308, ip=10.138.0.10, repr=<types.ImplicitFunc object at 0x7f9ad1b6e110>)\n",
            "  File \"/opt/conda/lib/python3.7/site-packages/ray/tune/function_runner.py\", line 260, in run\n",
            "    self._entrypoint()\n",
            "  File \"/opt/conda/lib/python3.7/site-packages/ray/tune/function_runner.py\", line 329, in entrypoint\n",
            "    self._status_reporter.get_checkpoint())\n",
            "  File \"/opt/conda/lib/python3.7/site-packages/ray/tune/function_runner.py\", line 594, in _trainable_func\n",
            "    output = fn()\n",
            "  File \"/tmp/ipykernel_886/1119233880.py\", line 61, in meta_loss\n",
            "  File \"/opt/conda/lib/python3.7/site-packages/tensorflow/python/util/dispatch.py\", line 206, in wrapper\n",
            "    return target(*args, **kwargs)\n",
            "  File \"/opt/conda/lib/python3.7/site-packages/tensorflow/python/ops/array_ops.py\", line 4338, in one_hot\n",
            "    on_value = ops.convert_to_tensor(1, dtype, name=\"on_value\")\n",
            "  File \"/opt/conda/lib/python3.7/site-packages/tensorflow/python/profiler/trace.py\", line 163, in wrapped\n",
            "    return func(*args, **kwargs)\n",
            "  File \"/opt/conda/lib/python3.7/site-packages/tensorflow/python/framework/ops.py\", line 1566, in convert_to_tensor\n",
            "    ret = conversion_func(value, dtype=dtype, name=name, as_ref=as_ref)\n",
            "  File \"/opt/conda/lib/python3.7/site-packages/tensorflow/python/framework/tensor_conversion_registry.py\", line 52, in _default_conversion_function\n",
            "    return constant_op.constant(value, dtype, name=name)\n",
            "  File \"/opt/conda/lib/python3.7/site-packages/tensorflow/python/framework/constant_op.py\", line 272, in constant\n",
            "    allow_broadcast=True)\n",
            "  File \"/opt/conda/lib/python3.7/site-packages/tensorflow/python/framework/constant_op.py\", line 283, in _constant_impl\n",
            "    return _constant_eager_impl(ctx, value, dtype, shape, verify_shape)\n",
            "  File \"/opt/conda/lib/python3.7/site-packages/tensorflow/python/framework/constant_op.py\", line 308, in _constant_eager_impl\n",
            "    t = convert_to_eager_tensor(value, ctx, dtype)\n",
            "  File \"/opt/conda/lib/python3.7/site-packages/tensorflow/python/framework/constant_op.py\", line 105, in convert_to_eager_tensor\n",
            "    ctx.ensure_initialized()\n",
            "  File \"/opt/conda/lib/python3.7/site-packages/tensorflow/python/eager/context.py\", line 555, in ensure_initialized\n",
            "    context_handle = pywrap_tfe.TFE_NewContext(opts)\n",
            "MemoryError: std::bad_alloc\n"
          ]
        },
        {
          "name": "stdout",
          "output_type": "stream",
          "text": [
            "Result for meta_loss_98963_00004:\n",
            "  {}\n",
            "  \n"
          ]
        },
        {
          "name": "stderr",
          "output_type": "stream",
          "text": [
            "2021-11-01 12:24:40,402\tWARNING worker.py:1227 -- The autoscaler failed with the following error:\n",
            "Terminated with signal 15\n",
            "  File \"/opt/conda/lib/python3.7/site-packages/ray/autoscaler/_private/monitor.py\", line 430, in <module>\n",
            "    monitor.run()\n",
            "  File \"/opt/conda/lib/python3.7/site-packages/ray/autoscaler/_private/monitor.py\", line 331, in run\n",
            "    self._run()\n",
            "  File \"/opt/conda/lib/python3.7/site-packages/ray/autoscaler/_private/monitor.py\", line 248, in _run\n",
            "    time.sleep(AUTOSCALER_UPDATE_INTERVAL_S)\n",
            "\n",
            "2021-11-01 12:24:40,508\tERROR worker.py:1229 -- listen_error_messages_raylet: Connection closed by server.\n",
            "2021-11-01 12:24:40,511\tERROR import_thread.py:88 -- ImportThread: Connection closed by server.\n",
            "2021-11-01 12:24:40,517\tERROR worker.py:475 -- print_logs: Connection closed by server.\n",
            "2021-11-01 12:24:40,545\tERROR ray_trial_executor.py:600 -- Trial meta_loss_98963_00006: Unexpected error starting runner.\n",
            "Traceback (most recent call last):\n",
            "  File \"/opt/conda/lib/python3.7/site-packages/redis/connection.py\", line 559, in connect\n",
            "    sock = self._connect()\n",
            "  File \"/opt/conda/lib/python3.7/site-packages/redis/connection.py\", line 615, in _connect\n",
            "    raise err\n",
            "  File \"/opt/conda/lib/python3.7/site-packages/redis/connection.py\", line 603, in _connect\n",
            "    sock.connect(socket_address)\n",
            "ConnectionRefusedError: [Errno 111] Connection refused\n",
            "\n",
            "During handling of the above exception, another exception occurred:\n",
            "\n",
            "Traceback (most recent call last):\n",
            "  File \"/opt/conda/lib/python3.7/site-packages/ray/tune/ray_trial_executor.py\", line 590, in start_trial\n",
            "    return self._start_trial(trial, checkpoint, train=train)\n",
            "  File \"/opt/conda/lib/python3.7/site-packages/ray/tune/ray_trial_executor.py\", line 465, in _start_trial\n",
            "    runner = self._setup_remote_runner(trial)\n",
            "  File \"/opt/conda/lib/python3.7/site-packages/ray/tune/ray_trial_executor.py\", line 307, in _setup_remote_runner\n",
            "    trainable_cls = trial.get_trainable_cls()\n",
            "  File \"/opt/conda/lib/python3.7/site-packages/ray/tune/trial.py\", line 646, in get_trainable_cls\n",
            "    return get_trainable_cls(self.trainable_name)\n",
            "  File \"/opt/conda/lib/python3.7/site-packages/ray/tune/registry.py\", line 31, in get_trainable_cls\n",
            "    validate_trainable(trainable_name)\n",
            "  File \"/opt/conda/lib/python3.7/site-packages/ray/tune/registry.py\", line 36, in validate_trainable\n",
            "    if not has_trainable(trainable_name):\n",
            "  File \"/opt/conda/lib/python3.7/site-packages/ray/tune/registry.py\", line 27, in has_trainable\n",
            "    return _global_registry.contains(TRAINABLE_CLASS, trainable_name)\n",
            "  File \"/opt/conda/lib/python3.7/site-packages/ray/tune/registry.py\", line 151, in contains\n",
            "    value = _internal_kv_get(_make_key(category, key))\n",
            "  File \"/opt/conda/lib/python3.7/site-packages/ray/_private/client_mode_hook.py\", line 89, in wrapper\n",
            "    return func(*args, **kwargs)\n",
            "  File \"/opt/conda/lib/python3.7/site-packages/ray/experimental/internal_kv.py\", line 57, in _internal_kv_get\n",
            "    return ray.worker.global_worker.redis_client.hget(key, \"value\")\n",
            "  File \"/opt/conda/lib/python3.7/site-packages/redis/client.py\", line 3010, in hget\n",
            "    return self.execute_command('HGET', name, key)\n",
            "  File \"/opt/conda/lib/python3.7/site-packages/redis/client.py\", line 898, in execute_command\n",
            "    conn = self.connection or pool.get_connection(command_name, **options)\n",
            "  File \"/opt/conda/lib/python3.7/site-packages/redis/connection.py\", line 1192, in get_connection\n",
            "    connection.connect()\n",
            "  File \"/opt/conda/lib/python3.7/site-packages/redis/connection.py\", line 563, in connect\n",
            "    raise ConnectionError(self._error_message(e))\n",
            "redis.exceptions.ConnectionError: Error 111 connecting to 10.138.0.10:6379. Connection refused.\n",
            "2021-11-01 12:24:42,551\tWARNING util.py:166 -- The `start_trial` operation took 2.006 s, which may be a performance bottleneck.\n"
          ]
        },
        {
          "data": {
            "text/html": [
              "== Status ==<br>Memory usage on this node: 1.2/12.7 GiB<br>Using FIFO scheduling algorithm.<br>Resources requested: 1.0/2 CPUs, 1.0/1 GPUs, 0.0/7.21 GiB heap, 0.0/3.6 GiB objects (0.0/1.0 accelerator_type:K80)<br>Result logdir: /home/jacobfv123/ray_results/meta_loss_2021-11-01_12-24-01<br>Number of trials: 22/267302874351744 (6 ERROR, 15 PENDING, 1 RUNNING)<br><table>\n",
              "<thead>\n",
              "<tr><th>Trial name           </th><th>status  </th><th>loc  </th><th>L1          </th><th>L2          </th><th>L3    </th><th>L4    </th><th>L5    </th><th>L6    </th><th>L7    </th><th style=\"text-align: right;\">  N1</th><th style=\"text-align: right;\">  N2</th><th style=\"text-align: right;\">  N3</th><th style=\"text-align: right;\">  N4</th><th style=\"text-align: right;\">  N5</th><th style=\"text-align: right;\">  N6</th><th style=\"text-align: right;\">  N7</th><th style=\"text-align: right;\">  batch_size</th><th>conv_activation  </th><th>dense_activation  </th><th style=\"text-align: right;\">  initial_learning_rate_exp</th><th style=\"text-align: right;\">  learning_rate_rate</th><th>loss_name                      </th><th>optimizer_name  </th></tr>\n",
              "</thead>\n",
              "<tbody>\n",
              "<tr><td>meta_loss_98963_00005</td><td>RUNNING </td><td>     </td><td>none        </td><td>conv2d      </td><td>conv2d</td><td>conv2d</td><td>conv2d</td><td>conv2d</td><td>conv2d</td><td style=\"text-align: right;\">   8</td><td style=\"text-align: right;\">   8</td><td style=\"text-align: right;\">   8</td><td style=\"text-align: right;\">   8</td><td style=\"text-align: right;\">   8</td><td style=\"text-align: right;\">   8</td><td style=\"text-align: right;\">   8</td><td style=\"text-align: right;\">           8</td><td>sigmoid          </td><td>sigmoid           </td><td style=\"text-align: right;\">                   -3.50222</td><td style=\"text-align: right;\">           0.955176 </td><td>mape                           </td><td>sgd             </td></tr>\n",
              "<tr><td>meta_loss_98963_00007</td><td>PENDING </td><td>     </td><td>dense       </td><td>dense       </td><td>conv2d</td><td>conv2d</td><td>conv2d</td><td>conv2d</td><td>conv2d</td><td style=\"text-align: right;\">   8</td><td style=\"text-align: right;\">   8</td><td style=\"text-align: right;\">   8</td><td style=\"text-align: right;\">   8</td><td style=\"text-align: right;\">   8</td><td style=\"text-align: right;\">   8</td><td style=\"text-align: right;\">   8</td><td style=\"text-align: right;\">          24</td><td>sigmoid          </td><td>sigmoid           </td><td style=\"text-align: right;\">                   -1.66232</td><td style=\"text-align: right;\">           0.355708 </td><td>mae                            </td><td>adagrad         </td></tr>\n",
              "<tr><td>meta_loss_98963_00008</td><td>PENDING </td><td>     </td><td>maxpooling2d</td><td>dense       </td><td>conv2d</td><td>conv2d</td><td>conv2d</td><td>conv2d</td><td>conv2d</td><td style=\"text-align: right;\">   8</td><td style=\"text-align: right;\">   8</td><td style=\"text-align: right;\">   8</td><td style=\"text-align: right;\">   8</td><td style=\"text-align: right;\">   8</td><td style=\"text-align: right;\">   8</td><td style=\"text-align: right;\">   8</td><td style=\"text-align: right;\">          64</td><td>sigmoid          </td><td>sigmoid           </td><td style=\"text-align: right;\">                   -1.15489</td><td style=\"text-align: right;\">           0.736778 </td><td>mae                            </td><td>nadam           </td></tr>\n",
              "<tr><td>meta_loss_98963_00009</td><td>PENDING </td><td>     </td><td>flatten     </td><td>dense       </td><td>conv2d</td><td>conv2d</td><td>conv2d</td><td>conv2d</td><td>conv2d</td><td style=\"text-align: right;\">   8</td><td style=\"text-align: right;\">   8</td><td style=\"text-align: right;\">   8</td><td style=\"text-align: right;\">   8</td><td style=\"text-align: right;\">   8</td><td style=\"text-align: right;\">   8</td><td style=\"text-align: right;\">   8</td><td style=\"text-align: right;\">          48</td><td>sigmoid          </td><td>sigmoid           </td><td style=\"text-align: right;\">                   -2.96978</td><td style=\"text-align: right;\">           0.814146 </td><td>categorical_crossentropy       </td><td>adamax          </td></tr>\n",
              "<tr><td>meta_loss_98963_00010</td><td>PENDING </td><td>     </td><td>dropout     </td><td>dense       </td><td>conv2d</td><td>conv2d</td><td>conv2d</td><td>conv2d</td><td>conv2d</td><td style=\"text-align: right;\">   8</td><td style=\"text-align: right;\">   8</td><td style=\"text-align: right;\">   8</td><td style=\"text-align: right;\">   8</td><td style=\"text-align: right;\">   8</td><td style=\"text-align: right;\">   8</td><td style=\"text-align: right;\">   8</td><td style=\"text-align: right;\">          48</td><td>sigmoid          </td><td>sigmoid           </td><td style=\"text-align: right;\">                   -1.84345</td><td style=\"text-align: right;\">           0.335166 </td><td>sparse_categorical_crossentropy</td><td>adadelta        </td></tr>\n",
              "<tr><td>meta_loss_98963_00011</td><td>PENDING </td><td>     </td><td>none        </td><td>dense       </td><td>conv2d</td><td>conv2d</td><td>conv2d</td><td>conv2d</td><td>conv2d</td><td style=\"text-align: right;\">   8</td><td style=\"text-align: right;\">   8</td><td style=\"text-align: right;\">   8</td><td style=\"text-align: right;\">   8</td><td style=\"text-align: right;\">   8</td><td style=\"text-align: right;\">   8</td><td style=\"text-align: right;\">   8</td><td style=\"text-align: right;\">          24</td><td>sigmoid          </td><td>sigmoid           </td><td style=\"text-align: right;\">                   -3.12773</td><td style=\"text-align: right;\">           0.515024 </td><td>categorical_crossentropy       </td><td>adamax          </td></tr>\n",
              "<tr><td>meta_loss_98963_00012</td><td>PENDING </td><td>     </td><td>conv2d      </td><td>maxpooling2d</td><td>conv2d</td><td>conv2d</td><td>conv2d</td><td>conv2d</td><td>conv2d</td><td style=\"text-align: right;\">   8</td><td style=\"text-align: right;\">   8</td><td style=\"text-align: right;\">   8</td><td style=\"text-align: right;\">   8</td><td style=\"text-align: right;\">   8</td><td style=\"text-align: right;\">   8</td><td style=\"text-align: right;\">   8</td><td style=\"text-align: right;\">           8</td><td>sigmoid          </td><td>sigmoid           </td><td style=\"text-align: right;\">                   -2.44683</td><td style=\"text-align: right;\">           0.949793 </td><td>mse                            </td><td>adamax          </td></tr>\n",
              "<tr><td>meta_loss_98963_00013</td><td>PENDING </td><td>     </td><td>dense       </td><td>maxpooling2d</td><td>conv2d</td><td>conv2d</td><td>conv2d</td><td>conv2d</td><td>conv2d</td><td style=\"text-align: right;\">   8</td><td style=\"text-align: right;\">   8</td><td style=\"text-align: right;\">   8</td><td style=\"text-align: right;\">   8</td><td style=\"text-align: right;\">   8</td><td style=\"text-align: right;\">   8</td><td style=\"text-align: right;\">   8</td><td style=\"text-align: right;\">          48</td><td>sigmoid          </td><td>sigmoid           </td><td style=\"text-align: right;\">                   -2.7508 </td><td style=\"text-align: right;\">           0.0587266</td><td>categorical_crossentropy       </td><td>nadam           </td></tr>\n",
              "<tr><td>meta_loss_98963_00014</td><td>PENDING </td><td>     </td><td>maxpooling2d</td><td>maxpooling2d</td><td>conv2d</td><td>conv2d</td><td>conv2d</td><td>conv2d</td><td>conv2d</td><td style=\"text-align: right;\">   8</td><td style=\"text-align: right;\">   8</td><td style=\"text-align: right;\">   8</td><td style=\"text-align: right;\">   8</td><td style=\"text-align: right;\">   8</td><td style=\"text-align: right;\">   8</td><td style=\"text-align: right;\">   8</td><td style=\"text-align: right;\">          48</td><td>sigmoid          </td><td>sigmoid           </td><td style=\"text-align: right;\">                   -3.15043</td><td style=\"text-align: right;\">           0.594349 </td><td>mse                            </td><td>adagrad         </td></tr>\n",
              "<tr><td>meta_loss_98963_00015</td><td>PENDING </td><td>     </td><td>flatten     </td><td>maxpooling2d</td><td>conv2d</td><td>conv2d</td><td>conv2d</td><td>conv2d</td><td>conv2d</td><td style=\"text-align: right;\">   8</td><td style=\"text-align: right;\">   8</td><td style=\"text-align: right;\">   8</td><td style=\"text-align: right;\">   8</td><td style=\"text-align: right;\">   8</td><td style=\"text-align: right;\">   8</td><td style=\"text-align: right;\">   8</td><td style=\"text-align: right;\">           4</td><td>sigmoid          </td><td>sigmoid           </td><td style=\"text-align: right;\">                   -1.01626</td><td style=\"text-align: right;\">           0.938932 </td><td>mse                            </td><td>adagrad         </td></tr>\n",
              "<tr><td>meta_loss_98963_00016</td><td>PENDING </td><td>     </td><td>dropout     </td><td>maxpooling2d</td><td>conv2d</td><td>conv2d</td><td>conv2d</td><td>conv2d</td><td>conv2d</td><td style=\"text-align: right;\">   8</td><td style=\"text-align: right;\">   8</td><td style=\"text-align: right;\">   8</td><td style=\"text-align: right;\">   8</td><td style=\"text-align: right;\">   8</td><td style=\"text-align: right;\">   8</td><td style=\"text-align: right;\">   8</td><td style=\"text-align: right;\">           8</td><td>sigmoid          </td><td>sigmoid           </td><td style=\"text-align: right;\">                   -3.70958</td><td style=\"text-align: right;\">           0.0631872</td><td>mape                           </td><td>sgd             </td></tr>\n",
              "<tr><td>meta_loss_98963_00017</td><td>PENDING </td><td>     </td><td>none        </td><td>maxpooling2d</td><td>conv2d</td><td>conv2d</td><td>conv2d</td><td>conv2d</td><td>conv2d</td><td style=\"text-align: right;\">   8</td><td style=\"text-align: right;\">   8</td><td style=\"text-align: right;\">   8</td><td style=\"text-align: right;\">   8</td><td style=\"text-align: right;\">   8</td><td style=\"text-align: right;\">   8</td><td style=\"text-align: right;\">   8</td><td style=\"text-align: right;\">          16</td><td>sigmoid          </td><td>sigmoid           </td><td style=\"text-align: right;\">                   -3.41504</td><td style=\"text-align: right;\">           0.482399 </td><td>mae                            </td><td>nadam           </td></tr>\n",
              "<tr><td>meta_loss_98963_00018</td><td>PENDING </td><td>     </td><td>conv2d      </td><td>flatten     </td><td>conv2d</td><td>conv2d</td><td>conv2d</td><td>conv2d</td><td>conv2d</td><td style=\"text-align: right;\">   8</td><td style=\"text-align: right;\">   8</td><td style=\"text-align: right;\">   8</td><td style=\"text-align: right;\">   8</td><td style=\"text-align: right;\">   8</td><td style=\"text-align: right;\">   8</td><td style=\"text-align: right;\">   8</td><td style=\"text-align: right;\">          48</td><td>sigmoid          </td><td>sigmoid           </td><td style=\"text-align: right;\">                   -2.26361</td><td style=\"text-align: right;\">           0.83558  </td><td>mse                            </td><td>adagrad         </td></tr>\n",
              "<tr><td>meta_loss_98963_00019</td><td>PENDING </td><td>     </td><td>dense       </td><td>flatten     </td><td>conv2d</td><td>conv2d</td><td>conv2d</td><td>conv2d</td><td>conv2d</td><td style=\"text-align: right;\">   8</td><td style=\"text-align: right;\">   8</td><td style=\"text-align: right;\">   8</td><td style=\"text-align: right;\">   8</td><td style=\"text-align: right;\">   8</td><td style=\"text-align: right;\">   8</td><td style=\"text-align: right;\">   8</td><td style=\"text-align: right;\">           4</td><td>sigmoid          </td><td>sigmoid           </td><td style=\"text-align: right;\">                   -3.09267</td><td style=\"text-align: right;\">           0.103705 </td><td>sparse_categorical_crossentropy</td><td>adadelta        </td></tr>\n",
              "<tr><td>meta_loss_98963_00000</td><td>ERROR   </td><td>     </td><td>conv2d      </td><td>conv2d      </td><td>conv2d</td><td>conv2d</td><td>conv2d</td><td>conv2d</td><td>conv2d</td><td style=\"text-align: right;\">   8</td><td style=\"text-align: right;\">   8</td><td style=\"text-align: right;\">   8</td><td style=\"text-align: right;\">   8</td><td style=\"text-align: right;\">   8</td><td style=\"text-align: right;\">   8</td><td style=\"text-align: right;\">   8</td><td style=\"text-align: right;\">          24</td><td>sigmoid          </td><td>sigmoid           </td><td style=\"text-align: right;\">                   -2.51525</td><td style=\"text-align: right;\">           0.553209 </td><td>mape                           </td><td>adagrad         </td></tr>\n",
              "<tr><td>meta_loss_98963_00001</td><td>ERROR   </td><td>     </td><td>dense       </td><td>conv2d      </td><td>conv2d</td><td>conv2d</td><td>conv2d</td><td>conv2d</td><td>conv2d</td><td style=\"text-align: right;\">   8</td><td style=\"text-align: right;\">   8</td><td style=\"text-align: right;\">   8</td><td style=\"text-align: right;\">   8</td><td style=\"text-align: right;\">   8</td><td style=\"text-align: right;\">   8</td><td style=\"text-align: right;\">   8</td><td style=\"text-align: right;\">          16</td><td>sigmoid          </td><td>sigmoid           </td><td style=\"text-align: right;\">                   -2.37358</td><td style=\"text-align: right;\">           0.314978 </td><td>sparse_categorical_crossentropy</td><td>adagrad         </td></tr>\n",
              "<tr><td>meta_loss_98963_00002</td><td>ERROR   </td><td>     </td><td>maxpooling2d</td><td>conv2d      </td><td>conv2d</td><td>conv2d</td><td>conv2d</td><td>conv2d</td><td>conv2d</td><td style=\"text-align: right;\">   8</td><td style=\"text-align: right;\">   8</td><td style=\"text-align: right;\">   8</td><td style=\"text-align: right;\">   8</td><td style=\"text-align: right;\">   8</td><td style=\"text-align: right;\">   8</td><td style=\"text-align: right;\">   8</td><td style=\"text-align: right;\">         128</td><td>sigmoid          </td><td>sigmoid           </td><td style=\"text-align: right;\">                   -2.8581 </td><td style=\"text-align: right;\">           0.512218 </td><td>sparse_categorical_crossentropy</td><td>adamax          </td></tr>\n",
              "<tr><td>meta_loss_98963_00003</td><td>ERROR   </td><td>     </td><td>flatten     </td><td>conv2d      </td><td>conv2d</td><td>conv2d</td><td>conv2d</td><td>conv2d</td><td>conv2d</td><td style=\"text-align: right;\">   8</td><td style=\"text-align: right;\">   8</td><td style=\"text-align: right;\">   8</td><td style=\"text-align: right;\">   8</td><td style=\"text-align: right;\">   8</td><td style=\"text-align: right;\">   8</td><td style=\"text-align: right;\">   8</td><td style=\"text-align: right;\">           4</td><td>sigmoid          </td><td>sigmoid           </td><td style=\"text-align: right;\">                   -1.27046</td><td style=\"text-align: right;\">           0.454703 </td><td>mape                           </td><td>sgd             </td></tr>\n",
              "<tr><td>meta_loss_98963_00004</td><td>ERROR   </td><td>     </td><td>dropout     </td><td>conv2d      </td><td>conv2d</td><td>conv2d</td><td>conv2d</td><td>conv2d</td><td>conv2d</td><td style=\"text-align: right;\">   8</td><td style=\"text-align: right;\">   8</td><td style=\"text-align: right;\">   8</td><td style=\"text-align: right;\">   8</td><td style=\"text-align: right;\">   8</td><td style=\"text-align: right;\">   8</td><td style=\"text-align: right;\">   8</td><td style=\"text-align: right;\">          16</td><td>sigmoid          </td><td>sigmoid           </td><td style=\"text-align: right;\">                   -3.53965</td><td style=\"text-align: right;\">           0.861406 </td><td>categorical_crossentropy       </td><td>adadelta        </td></tr>\n",
              "<tr><td>meta_loss_98963_00006</td><td>ERROR   </td><td>     </td><td>conv2d      </td><td>dense       </td><td>conv2d</td><td>conv2d</td><td>conv2d</td><td>conv2d</td><td>conv2d</td><td style=\"text-align: right;\">   8</td><td style=\"text-align: right;\">   8</td><td style=\"text-align: right;\">   8</td><td style=\"text-align: right;\">   8</td><td style=\"text-align: right;\">   8</td><td style=\"text-align: right;\">   8</td><td style=\"text-align: right;\">   8</td><td style=\"text-align: right;\">         128</td><td>sigmoid          </td><td>sigmoid           </td><td style=\"text-align: right;\">                   -2.40886</td><td style=\"text-align: right;\">           0.878881 </td><td>mae                            </td><td>adadelta        </td></tr>\n",
              "</tbody>\n",
              "</table><br>... 2 more trials not shown (2 PENDING)<br>Number of errored trials: 6<br><table>\n",
              "<thead>\n",
              "<tr><th>Trial name           </th><th style=\"text-align: right;\">  # failures</th><th>error file                                                                                                                                                                                                                 </th></tr>\n",
              "</thead>\n",
              "<tbody>\n",
              "<tr><td>meta_loss_98963_00000</td><td style=\"text-align: right;\">           1</td><td>/home/jacobfv123/ray_results/meta_loss_2021-11-01_12-24-01/meta_loss_98963_00000_0_L1=conv2d,L2=conv2d,L3=conv2d,L4=conv2d,L5=conv2d,L6=conv2d,L7=conv2d,N1=8,N2=8,N3=8,N4=8,N5=8,N6=8,N7=8,b_2021-11-01_12-24-02/error.txt</td></tr>\n",
              "<tr><td>meta_loss_98963_00001</td><td style=\"text-align: right;\">           1</td><td>/home/jacobfv123/ray_results/meta_loss_2021-11-01_12-24-01/meta_loss_98963_00001_1_L1=dense,L2=conv2d,L3=conv2d,L4=conv2d,L5=conv2d,L6=conv2d,L7=conv2d,N1=8,N2=8,N3=8,N4=8,N5=8,N6=8,N7=8,ba_2021-11-01_12-24-03/error.txt</td></tr>\n",
              "<tr><td>meta_loss_98963_00002</td><td style=\"text-align: right;\">           1</td><td>/home/jacobfv123/ray_results/meta_loss_2021-11-01_12-24-01/meta_loss_98963_00002_2_L1=maxpooling2d,L2=conv2d,L3=conv2d,L4=conv2d,L5=conv2d,L6=conv2d,L7=conv2d,N1=8,N2=8,N3=8,N4=8,N5=8,N6=8,_2021-11-01_12-24-11/error.txt</td></tr>\n",
              "<tr><td>meta_loss_98963_00003</td><td style=\"text-align: right;\">           1</td><td>/home/jacobfv123/ray_results/meta_loss_2021-11-01_12-24-01/meta_loss_98963_00003_3_L1=flatten,L2=conv2d,L3=conv2d,L4=conv2d,L5=conv2d,L6=conv2d,L7=conv2d,N1=8,N2=8,N3=8,N4=8,N5=8,N6=8,N7=8,_2021-11-01_12-24-18/error.txt</td></tr>\n",
              "<tr><td>meta_loss_98963_00004</td><td style=\"text-align: right;\">           1</td><td>/home/jacobfv123/ray_results/meta_loss_2021-11-01_12-24-01/meta_loss_98963_00004_4_L1=dropout,L2=conv2d,L3=conv2d,L4=conv2d,L5=conv2d,L6=conv2d,L7=conv2d,N1=8,N2=8,N3=8,N4=8,N5=8,N6=8,N7=8,_2021-11-01_12-24-25/error.txt</td></tr>\n",
              "<tr><td>meta_loss_98963_00006</td><td style=\"text-align: right;\">           1</td><td>/home/jacobfv123/ray_results/meta_loss_2021-11-01_12-24-01/meta_loss_98963_00006_6_L1=conv2d,L2=dense,L3=conv2d,L4=conv2d,L5=conv2d,L6=conv2d,L7=conv2d,N1=8,N2=8,N3=8,N4=8,N5=8,N6=8,N7=8,ba_2021-11-01_12-24-38/error.txt</td></tr>\n",
              "</tbody>\n",
              "</table><br>"
            ],
            "text/plain": [
              "<IPython.core.display.HTML object>"
            ]
          },
          "metadata": {},
          "output_type": "display_data"
        }
      ],
      "source": [
        "analysis = tune.run(\n",
        "    meta_loss,\n",
        "    resources_per_trial={'gpu': 1},\n",
        "    config={\n",
        "        'N1': tune.grid_search([8, 10, 12, 16, 20, 32, 64, 96, 128, 192, 256]),\n",
        "        'N2': tune.grid_search([8, 10, 12, 16, 20, 32, 64, 96, 128, 192, 256]),\n",
        "        'N3': tune.grid_search([8, 10, 12, 16, 20, 32, 64, 96, 128, 192, 256]),\n",
        "        'N4': tune.grid_search([8, 10, 12, 16, 20, 32, 64, 96, 128, 192, 256]),\n",
        "        'N5': tune.grid_search([8, 10, 12, 16, 20, 32, 64, 96, 128, 192, 256]),\n",
        "        'N6': tune.grid_search([8, 10, 12, 16, 20, 32, 64, 96, 128, 192, 256]),\n",
        "        'N7': tune.grid_search([8, 10, 12, 16, 20, 32, 64, 96, 128, 192, 256]),\n",
        "        'L1': tune.grid_search(['conv2d', 'dense', 'maxpooling2d', 'flatten', 'dropout', 'none']),\n",
        "        'L2': tune.grid_search(['conv2d', 'dense', 'maxpooling2d', 'flatten', 'dropout', 'none']),\n",
        "        'L3': tune.grid_search(['conv2d', 'dense', 'maxpooling2d', 'flatten', 'dropout', 'none']),\n",
        "        'L4': tune.grid_search(['conv2d', 'dense', 'maxpooling2d', 'flatten', 'dropout', 'none']),\n",
        "        'L5': tune.grid_search(['conv2d', 'dense', 'maxpooling2d', 'flatten', 'dropout', 'none']),\n",
        "        'L6': tune.grid_search(['conv2d', 'dense', 'maxpooling2d', 'flatten', 'dropout', 'none']),\n",
        "        'L7': tune.grid_search(['conv2d', 'dense', 'maxpooling2d', 'flatten', 'dropout', 'none']),\n",
        "        'dense_activation': tune.grid_search(['sigmoid', 'relu', 'tanh', 'elu', 'selu', 'softplus', 'softsign']),\n",
        "        'conv_activation': tune.grid_search(['sigmoid', 'relu', 'tanh', 'elu', 'selu', 'softplus', 'softsign']),\n",
        "        'initial_learning_rate_exp': tune.uniform(-4.0, -1.0),\n",
        "        'learning_rate_rate': tune.uniform(0.0, 1.0),\n",
        "        'optimizer_name': tune.choice(['adam', 'sgd', 'rmsprop', 'adagrad', 'adadelta', 'adamax', 'nadam']),\n",
        "        'batch_size': tune.choice([4, 8, 16, 24, 32, 48, 64, 128]),\n",
        "        'loss_name': tune.choice(['mse', 'mae', 'mape', 'categorical_crossentropy', 'sparse_categorical_crossentropy']),\n",
        "    })\n",
        "\n",
        "print(\"Best config: \", analysis.get_best_config(\n",
        "    metric=\"val_loss\", mode=\"min\"))\n",
        "\n",
        "# Get a dataframe for analyzing trial results.\n",
        "df = analysis.results_df"
      ]
    },
    {
      "cell_type": "markdown",
      "metadata": {
        "id": "IqsA4JkJWfK2",
        "jp-MarkdownHeadingCollapsed": true,
        "tags": []
      },
      "source": [
        "Obviously, I got carried away. There are way too many tunable parameters to expect convergence. Let's try a smaller search space with only `units` changing\n",
        "\n",
        "### Iteration 2"
      ]
    },
    {
      "cell_type": "code",
      "execution_count": null,
      "metadata": {
        "id": "iKa8EbnUWfK2"
      },
      "outputs": [],
      "source": [
        "def meta_loss(config):\n",
        "\n",
        "    import numpy as np\n",
        "    import matplotlib.pyplot as plt\n",
        "    import seaborn as sns\n",
        "    import IPython.display as display\n",
        "\n",
        "    import tensorflow as tf\n",
        "    import tensorflow.keras as keras\n",
        "    import tensorflow.keras.layers as tfkl\n",
        "    import tensorflow.keras.datasets as datasets\n",
        "    \n",
        "    # load dataset\n",
        "    (X_train, Y_train), (X_test, Y_test) = datasets.mnist.load_data()\n",
        "    X_train, X_test = X_train / 255., X_test / 255.\n",
        "    \n",
        "    units = config['units']  # number of units in the middle layer (if applicable)\n",
        "    conv_activation = config['conv_activation']  # 'relu', 'elu', 'softplus'\n",
        "    dense_activation = config['dense_activation']  # 'relu', 'elu', 'softplus'\n",
        "    initial_learning_rate = 10 ** config['initial_learning_rate_exp']  # -4.0 to -1.0\n",
        "    learning_rate_rate = 10 ** config['learning_rate_rate']  # 0.0 to 1.0\n",
        "    optimizer_name = config['optimizer_name']  # 'adam', 'sgd', 'rmsprop', 'adagrad', 'adadelta', 'adamax', or 'nadam'\n",
        "    batch_size = config['batch_size']  # 4 to 1024, integers only\n",
        "\n",
        "    # activation functions\n",
        "    activations = {\n",
        "        'relu': tf.nn.relu,\n",
        "        'elu': tf.nn.elu,\n",
        "        'softplus': tf.nn.softplus,\n",
        "    }\n",
        "    conv_activation = activations[conv_activation]\n",
        "    dense_activation = activations[dense_activation]\n",
        "    \n",
        "    # optimizer and learning rate\n",
        "    optimziers = {\n",
        "        'SGD': keras.optimizers.SGD,\n",
        "        'RMSprop': keras.optimizers.RMSprop,\n",
        "        'Adagrad': keras.optimizers.Adagrad,\n",
        "        'Adadelta': keras.optimizers.Adadelta,\n",
        "        'Adam': keras.optimizers.Adam,\n",
        "        'Adamax': keras.optimizers.Adamax,\n",
        "        'Nadam': keras.optimizers.Nadam,\n",
        "    }\n",
        "    optimizer = optimziers[optimizer_name](initial_learning_rate)\n",
        "\n",
        "    learning_rate_scheduler = keras.callbacks.LearningRateScheduler(\n",
        "        lambda epoch, _: initial_learning_rate * (learning_rate_rate ** epoch))\n",
        "\n",
        "    # build model\n",
        "    model = keras.Sequential([\n",
        "        tfkl.Input(shape=(28, 28)),\n",
        "        tfkl.Reshape(target_shape=(28, 28, 1)),  # give each pixel a 1 dimensional channel\n",
        "        tfkl.Conv2D(filters=8, kernel_size=(3,3), activation='relu'),\n",
        "        tfkl.Conv2D(filters=(units+8)//2, kernel_size=(3,3), activation='relu'),\n",
        "        tfkl.GlobalMaxPooling2D(),  # this layer will take the highest value features over all pixels for each of the 16 filters\n",
        "        tfkl.Dense(units, activation=dense_activation),\n",
        "        tfkl.Dense((units+10)//2, activation=dense_activation),\n",
        "        tfkl.Dense(10),\n",
        "    ])\n",
        "    model.compile(\n",
        "        loss=keras.losses.SparseCategoricalCrossentropy(from_logits=True), \n",
        "        optimizer=optimizer)\n",
        "\n",
        "    # train model\n",
        "    history = model.fit(\n",
        "        x=X_train,\n",
        "        y=Y_train,\n",
        "        batch_size=batch_size,\n",
        "        epochs=10,\n",
        "        verbose=2,\n",
        "        callbacks=[learning_rate_scheduler],\n",
        "        validation_data=(X_test, Y_test),\n",
        "        validation_batch_size=64,\n",
        "    )\n",
        "\n",
        "    # report validation loss\n",
        "    final_val_loss = history.history['val_loss'][-1]\n",
        "    tune.report(validation_loss=final_val_loss)"
      ]
    },
    {
      "cell_type": "code",
      "execution_count": null,
      "metadata": {
        "id": "FyTRGDfXWfK3"
      },
      "outputs": [],
      "source": [
        "large_config={\n",
        "    'units': tune.grid_search([8, 12, 16, 32, 64, 128, 256]),\n",
        "    'dense_activation': tune.grid_search([ 'relu', 'elu', 'softplus']),\n",
        "    'conv_activation': tune.grid_search([ 'relu', 'elu', 'softplus']),\n",
        "    'initial_learning_rate_exp': tune.uniform(-4.0, -1.0),\n",
        "    'learning_rate_rate': tune.uniform(0.0, 1.0),\n",
        "    'optimizer_name': tune.choice(['adam', 'sgd', 'rmsprop', 'adagrad', 'adadelta', 'adamax', 'nadam']),\n",
        "    'batch_size': tune.choice([4, 8, 16, 24, 32, 48, 64, 128]),\n",
        "    'loss_name': tune.choice(['mse', 'mae', 'mape', 'categorical_crossentropy', 'sparse_categorical_crossentropy']),\n",
        "}\n",
        "\n",
        "small_config={\n",
        "    'units': tune.grid_search([8, 16, 32]),\n",
        "    'dense_activation': tune.grid_search([ 'relu', ]),\n",
        "    'conv_activation': tune.grid_search([ 'relu', ]),\n",
        "    'initial_learning_rate_exp': -2.0,\n",
        "    'learning_rate_rate': 0.9,\n",
        "    'optimizer_name': tune.choice(['Adam', 'SGD']),\n",
        "    'batch_size': tune.choice([16, 32]),\n",
        "}"
      ]
    },
    {
      "cell_type": "code",
      "execution_count": null,
      "metadata": {
        "collapsed": true,
        "id": "0GW_UdfIWfK3",
        "jupyter": {
          "outputs_hidden": true
        },
        "outputId": "56b4f407-040a-4215-fa0f-50ffde8b195c",
        "tags": []
      },
      "outputs": [
        {
          "name": "stderr",
          "output_type": "stream",
          "text": [
            "2021-11-01 12:29:39.483154: I tensorflow/stream_executor/cuda/cuda_gpu_executor.cc:937] successful NUMA node read from SysFS had negative value (-1), but there must be at least one NUMA node, so returning NUMA node zero\n",
            "2021-11-01 12:29:39.494402: I tensorflow/stream_executor/cuda/cuda_gpu_executor.cc:937] successful NUMA node read from SysFS had negative value (-1), but there must be at least one NUMA node, so returning NUMA node zero\n",
            "2021-11-01 12:29:39.495286: I tensorflow/stream_executor/cuda/cuda_gpu_executor.cc:937] successful NUMA node read from SysFS had negative value (-1), but there must be at least one NUMA node, so returning NUMA node zero\n",
            "2021-11-01 12:29:39.496558: I tensorflow/core/platform/cpu_feature_guard.cc:142] This TensorFlow binary is optimized with oneAPI Deep Neural Network Library (oneDNN) to use the following CPU instructions in performance-critical operations:  AVX2 FMA\n",
            "To enable them in other operations, rebuild TensorFlow with the appropriate compiler flags.\n",
            "2021-11-01 12:29:39.496951: I tensorflow/stream_executor/cuda/cuda_gpu_executor.cc:937] successful NUMA node read from SysFS had negative value (-1), but there must be at least one NUMA node, so returning NUMA node zero\n",
            "2021-11-01 12:29:39.497758: I tensorflow/stream_executor/cuda/cuda_gpu_executor.cc:937] successful NUMA node read from SysFS had negative value (-1), but there must be at least one NUMA node, so returning NUMA node zero\n",
            "2021-11-01 12:29:39.498647: I tensorflow/stream_executor/cuda/cuda_gpu_executor.cc:937] successful NUMA node read from SysFS had negative value (-1), but there must be at least one NUMA node, so returning NUMA node zero\n",
            "2021-11-01 12:29:39.914087: I tensorflow/stream_executor/cuda/cuda_gpu_executor.cc:937] successful NUMA node read from SysFS had negative value (-1), but there must be at least one NUMA node, so returning NUMA node zero\n",
            "2021-11-01 12:29:39.914874: I tensorflow/stream_executor/cuda/cuda_gpu_executor.cc:937] successful NUMA node read from SysFS had negative value (-1), but there must be at least one NUMA node, so returning NUMA node zero\n",
            "2021-11-01 12:29:39.915628: I tensorflow/stream_executor/cuda/cuda_gpu_executor.cc:937] successful NUMA node read from SysFS had negative value (-1), but there must be at least one NUMA node, so returning NUMA node zero\n"
          ]
        },
        {
          "ename": "MemoryError",
          "evalue": "std::bad_alloc",
          "output_type": "error",
          "traceback": [
            "\u001b[0;31m---------------------------------------------------------------------------\u001b[0m",
            "\u001b[0;31mMemoryError\u001b[0m                               Traceback (most recent call last)",
            "\u001b[0;32m/tmp/ipykernel_1785/850133443.py\u001b[0m in \u001b[0;36m<module>\u001b[0;34m\u001b[0m\n\u001b[1;32m      6\u001b[0m     \u001b[0;34m'learning_rate_rate'\u001b[0m\u001b[0;34m:\u001b[0m \u001b[0;36m0.9\u001b[0m\u001b[0;34m,\u001b[0m\u001b[0;34m\u001b[0m\u001b[0;34m\u001b[0m\u001b[0m\n\u001b[1;32m      7\u001b[0m     \u001b[0;34m'optimizer_name'\u001b[0m\u001b[0;34m:\u001b[0m \u001b[0;34m'SGD'\u001b[0m\u001b[0;34m,\u001b[0m\u001b[0;34m\u001b[0m\u001b[0;34m\u001b[0m\u001b[0m\n\u001b[0;32m----> 8\u001b[0;31m     \u001b[0;34m'batch_size'\u001b[0m\u001b[0;34m:\u001b[0m \u001b[0;36m32\u001b[0m\u001b[0;34m\u001b[0m\u001b[0;34m\u001b[0m\u001b[0m\n\u001b[0m\u001b[1;32m      9\u001b[0m })\n",
            "\u001b[0;32m/tmp/ipykernel_1785/823405744.py\u001b[0m in \u001b[0;36mmeta_loss\u001b[0;34m(config)\u001b[0m\n\u001b[1;32m     56\u001b[0m         \u001b[0mtfkl\u001b[0m\u001b[0;34m.\u001b[0m\u001b[0mDense\u001b[0m\u001b[0;34m(\u001b[0m\u001b[0munits\u001b[0m\u001b[0;34m,\u001b[0m \u001b[0mactivation\u001b[0m\u001b[0;34m=\u001b[0m\u001b[0mdense_activation\u001b[0m\u001b[0;34m)\u001b[0m\u001b[0;34m,\u001b[0m\u001b[0;34m\u001b[0m\u001b[0;34m\u001b[0m\u001b[0m\n\u001b[1;32m     57\u001b[0m         \u001b[0mtfkl\u001b[0m\u001b[0;34m.\u001b[0m\u001b[0mDense\u001b[0m\u001b[0;34m(\u001b[0m\u001b[0;34m(\u001b[0m\u001b[0munits\u001b[0m\u001b[0;34m+\u001b[0m\u001b[0;36m10\u001b[0m\u001b[0;34m)\u001b[0m\u001b[0;34m//\u001b[0m\u001b[0;36m2\u001b[0m\u001b[0;34m,\u001b[0m \u001b[0mactivation\u001b[0m\u001b[0;34m=\u001b[0m\u001b[0mdense_activation\u001b[0m\u001b[0;34m)\u001b[0m\u001b[0;34m,\u001b[0m\u001b[0;34m\u001b[0m\u001b[0;34m\u001b[0m\u001b[0m\n\u001b[0;32m---> 58\u001b[0;31m         \u001b[0mtfkl\u001b[0m\u001b[0;34m.\u001b[0m\u001b[0mDense\u001b[0m\u001b[0;34m(\u001b[0m\u001b[0;36m10\u001b[0m\u001b[0;34m)\u001b[0m\u001b[0;34m,\u001b[0m\u001b[0;34m\u001b[0m\u001b[0;34m\u001b[0m\u001b[0m\n\u001b[0m\u001b[1;32m     59\u001b[0m     ])\n\u001b[1;32m     60\u001b[0m     model.compile(\n",
            "\u001b[0;32m/opt/conda/lib/python3.7/site-packages/tensorflow/python/training/tracking/base.py\u001b[0m in \u001b[0;36m_method_wrapper\u001b[0;34m(self, *args, **kwargs)\u001b[0m\n\u001b[1;32m    528\u001b[0m     \u001b[0mself\u001b[0m\u001b[0;34m.\u001b[0m\u001b[0m_self_setattr_tracking\u001b[0m \u001b[0;34m=\u001b[0m \u001b[0;32mFalse\u001b[0m  \u001b[0;31m# pylint: disable=protected-access\u001b[0m\u001b[0;34m\u001b[0m\u001b[0;34m\u001b[0m\u001b[0m\n\u001b[1;32m    529\u001b[0m     \u001b[0;32mtry\u001b[0m\u001b[0;34m:\u001b[0m\u001b[0;34m\u001b[0m\u001b[0;34m\u001b[0m\u001b[0m\n\u001b[0;32m--> 530\u001b[0;31m       \u001b[0mresult\u001b[0m \u001b[0;34m=\u001b[0m \u001b[0mmethod\u001b[0m\u001b[0;34m(\u001b[0m\u001b[0mself\u001b[0m\u001b[0;34m,\u001b[0m \u001b[0;34m*\u001b[0m\u001b[0margs\u001b[0m\u001b[0;34m,\u001b[0m \u001b[0;34m**\u001b[0m\u001b[0mkwargs\u001b[0m\u001b[0;34m)\u001b[0m\u001b[0;34m\u001b[0m\u001b[0;34m\u001b[0m\u001b[0m\n\u001b[0m\u001b[1;32m    531\u001b[0m     \u001b[0;32mfinally\u001b[0m\u001b[0;34m:\u001b[0m\u001b[0;34m\u001b[0m\u001b[0;34m\u001b[0m\u001b[0m\n\u001b[1;32m    532\u001b[0m       \u001b[0mself\u001b[0m\u001b[0;34m.\u001b[0m\u001b[0m_self_setattr_tracking\u001b[0m \u001b[0;34m=\u001b[0m \u001b[0mprevious_value\u001b[0m  \u001b[0;31m# pylint: disable=protected-access\u001b[0m\u001b[0;34m\u001b[0m\u001b[0;34m\u001b[0m\u001b[0m\n",
            "\u001b[0;32m/opt/conda/lib/python3.7/site-packages/keras/engine/sequential.py\u001b[0m in \u001b[0;36m__init__\u001b[0;34m(self, layers, name)\u001b[0m\n\u001b[1;32m    106\u001b[0m     \u001b[0;31m# Skip the init in FunctionalModel since model doesn't have input/output yet\u001b[0m\u001b[0;34m\u001b[0m\u001b[0;34m\u001b[0m\u001b[0;34m\u001b[0m\u001b[0m\n\u001b[1;32m    107\u001b[0m     super(functional.Functional, self).__init__(  # pylint: disable=bad-super-call\n\u001b[0;32m--> 108\u001b[0;31m         name=name, autocast=False)\n\u001b[0m\u001b[1;32m    109\u001b[0m     \u001b[0mbase_layer\u001b[0m\u001b[0;34m.\u001b[0m\u001b[0mkeras_api_gauge\u001b[0m\u001b[0;34m.\u001b[0m\u001b[0mget_cell\u001b[0m\u001b[0;34m(\u001b[0m\u001b[0;34m'Sequential'\u001b[0m\u001b[0;34m)\u001b[0m\u001b[0;34m.\u001b[0m\u001b[0mset\u001b[0m\u001b[0;34m(\u001b[0m\u001b[0;32mTrue\u001b[0m\u001b[0;34m)\u001b[0m\u001b[0;34m\u001b[0m\u001b[0;34m\u001b[0m\u001b[0m\n\u001b[1;32m    110\u001b[0m     \u001b[0mself\u001b[0m\u001b[0;34m.\u001b[0m\u001b[0msupports_masking\u001b[0m \u001b[0;34m=\u001b[0m \u001b[0;32mTrue\u001b[0m\u001b[0;34m\u001b[0m\u001b[0;34m\u001b[0m\u001b[0m\n",
            "\u001b[0;32m/opt/conda/lib/python3.7/site-packages/tensorflow/python/training/tracking/base.py\u001b[0m in \u001b[0;36m_method_wrapper\u001b[0;34m(self, *args, **kwargs)\u001b[0m\n\u001b[1;32m    528\u001b[0m     \u001b[0mself\u001b[0m\u001b[0;34m.\u001b[0m\u001b[0m_self_setattr_tracking\u001b[0m \u001b[0;34m=\u001b[0m \u001b[0;32mFalse\u001b[0m  \u001b[0;31m# pylint: disable=protected-access\u001b[0m\u001b[0;34m\u001b[0m\u001b[0;34m\u001b[0m\u001b[0m\n\u001b[1;32m    529\u001b[0m     \u001b[0;32mtry\u001b[0m\u001b[0;34m:\u001b[0m\u001b[0;34m\u001b[0m\u001b[0;34m\u001b[0m\u001b[0m\n\u001b[0;32m--> 530\u001b[0;31m       \u001b[0mresult\u001b[0m \u001b[0;34m=\u001b[0m \u001b[0mmethod\u001b[0m\u001b[0;34m(\u001b[0m\u001b[0mself\u001b[0m\u001b[0;34m,\u001b[0m \u001b[0;34m*\u001b[0m\u001b[0margs\u001b[0m\u001b[0;34m,\u001b[0m \u001b[0;34m**\u001b[0m\u001b[0mkwargs\u001b[0m\u001b[0;34m)\u001b[0m\u001b[0;34m\u001b[0m\u001b[0;34m\u001b[0m\u001b[0m\n\u001b[0m\u001b[1;32m    531\u001b[0m     \u001b[0;32mfinally\u001b[0m\u001b[0;34m:\u001b[0m\u001b[0;34m\u001b[0m\u001b[0;34m\u001b[0m\u001b[0m\n\u001b[1;32m    532\u001b[0m       \u001b[0mself\u001b[0m\u001b[0;34m.\u001b[0m\u001b[0m_self_setattr_tracking\u001b[0m \u001b[0;34m=\u001b[0m \u001b[0mprevious_value\u001b[0m  \u001b[0;31m# pylint: disable=protected-access\u001b[0m\u001b[0;34m\u001b[0m\u001b[0;34m\u001b[0m\u001b[0m\n",
            "\u001b[0;32m/opt/conda/lib/python3.7/site-packages/keras/engine/training.py\u001b[0m in \u001b[0;36m__init__\u001b[0;34m(self, *args, **kwargs)\u001b[0m\n\u001b[1;32m    287\u001b[0m     \u001b[0mself\u001b[0m\u001b[0;34m.\u001b[0m\u001b[0m_steps_per_execution\u001b[0m \u001b[0;34m=\u001b[0m \u001b[0;32mNone\u001b[0m\u001b[0;34m\u001b[0m\u001b[0;34m\u001b[0m\u001b[0m\n\u001b[1;32m    288\u001b[0m \u001b[0;34m\u001b[0m\u001b[0m\n\u001b[0;32m--> 289\u001b[0;31m     \u001b[0mself\u001b[0m\u001b[0;34m.\u001b[0m\u001b[0m_init_batch_counters\u001b[0m\u001b[0;34m(\u001b[0m\u001b[0;34m)\u001b[0m\u001b[0;34m\u001b[0m\u001b[0;34m\u001b[0m\u001b[0m\n\u001b[0m\u001b[1;32m    290\u001b[0m     \u001b[0mself\u001b[0m\u001b[0;34m.\u001b[0m\u001b[0m_base_model_initialized\u001b[0m \u001b[0;34m=\u001b[0m \u001b[0;32mTrue\u001b[0m\u001b[0;34m\u001b[0m\u001b[0;34m\u001b[0m\u001b[0m\n\u001b[1;32m    291\u001b[0m \u001b[0;34m\u001b[0m\u001b[0m\n",
            "\u001b[0;32m/opt/conda/lib/python3.7/site-packages/tensorflow/python/training/tracking/base.py\u001b[0m in \u001b[0;36m_method_wrapper\u001b[0;34m(self, *args, **kwargs)\u001b[0m\n\u001b[1;32m    528\u001b[0m     \u001b[0mself\u001b[0m\u001b[0;34m.\u001b[0m\u001b[0m_self_setattr_tracking\u001b[0m \u001b[0;34m=\u001b[0m \u001b[0;32mFalse\u001b[0m  \u001b[0;31m# pylint: disable=protected-access\u001b[0m\u001b[0;34m\u001b[0m\u001b[0;34m\u001b[0m\u001b[0m\n\u001b[1;32m    529\u001b[0m     \u001b[0;32mtry\u001b[0m\u001b[0;34m:\u001b[0m\u001b[0;34m\u001b[0m\u001b[0;34m\u001b[0m\u001b[0m\n\u001b[0;32m--> 530\u001b[0;31m       \u001b[0mresult\u001b[0m \u001b[0;34m=\u001b[0m \u001b[0mmethod\u001b[0m\u001b[0;34m(\u001b[0m\u001b[0mself\u001b[0m\u001b[0;34m,\u001b[0m \u001b[0;34m*\u001b[0m\u001b[0margs\u001b[0m\u001b[0;34m,\u001b[0m \u001b[0;34m**\u001b[0m\u001b[0mkwargs\u001b[0m\u001b[0;34m)\u001b[0m\u001b[0;34m\u001b[0m\u001b[0;34m\u001b[0m\u001b[0m\n\u001b[0m\u001b[1;32m    531\u001b[0m     \u001b[0;32mfinally\u001b[0m\u001b[0;34m:\u001b[0m\u001b[0;34m\u001b[0m\u001b[0;34m\u001b[0m\u001b[0m\n\u001b[1;32m    532\u001b[0m       \u001b[0mself\u001b[0m\u001b[0;34m.\u001b[0m\u001b[0m_self_setattr_tracking\u001b[0m \u001b[0;34m=\u001b[0m \u001b[0mprevious_value\u001b[0m  \u001b[0;31m# pylint: disable=protected-access\u001b[0m\u001b[0;34m\u001b[0m\u001b[0;34m\u001b[0m\u001b[0m\n",
            "\u001b[0;32m/opt/conda/lib/python3.7/site-packages/keras/engine/training.py\u001b[0m in \u001b[0;36m_init_batch_counters\u001b[0;34m(self)\u001b[0m\n\u001b[1;32m    295\u001b[0m     \u001b[0;31m# `evaluate`, and `predict`.\u001b[0m\u001b[0;34m\u001b[0m\u001b[0;34m\u001b[0m\u001b[0;34m\u001b[0m\u001b[0m\n\u001b[1;32m    296\u001b[0m     \u001b[0magg\u001b[0m \u001b[0;34m=\u001b[0m \u001b[0mtf\u001b[0m\u001b[0;34m.\u001b[0m\u001b[0mVariableAggregation\u001b[0m\u001b[0;34m.\u001b[0m\u001b[0mONLY_FIRST_REPLICA\u001b[0m\u001b[0;34m\u001b[0m\u001b[0;34m\u001b[0m\u001b[0m\n\u001b[0;32m--> 297\u001b[0;31m     \u001b[0mself\u001b[0m\u001b[0;34m.\u001b[0m\u001b[0m_train_counter\u001b[0m \u001b[0;34m=\u001b[0m \u001b[0mtf\u001b[0m\u001b[0;34m.\u001b[0m\u001b[0mVariable\u001b[0m\u001b[0;34m(\u001b[0m\u001b[0;36m0\u001b[0m\u001b[0;34m,\u001b[0m \u001b[0mdtype\u001b[0m\u001b[0;34m=\u001b[0m\u001b[0;34m'int64'\u001b[0m\u001b[0;34m,\u001b[0m \u001b[0maggregation\u001b[0m\u001b[0;34m=\u001b[0m\u001b[0magg\u001b[0m\u001b[0;34m)\u001b[0m\u001b[0;34m\u001b[0m\u001b[0;34m\u001b[0m\u001b[0m\n\u001b[0m\u001b[1;32m    298\u001b[0m     \u001b[0mself\u001b[0m\u001b[0;34m.\u001b[0m\u001b[0m_test_counter\u001b[0m \u001b[0;34m=\u001b[0m \u001b[0mtf\u001b[0m\u001b[0;34m.\u001b[0m\u001b[0mVariable\u001b[0m\u001b[0;34m(\u001b[0m\u001b[0;36m0\u001b[0m\u001b[0;34m,\u001b[0m \u001b[0mdtype\u001b[0m\u001b[0;34m=\u001b[0m\u001b[0;34m'int64'\u001b[0m\u001b[0;34m,\u001b[0m \u001b[0maggregation\u001b[0m\u001b[0;34m=\u001b[0m\u001b[0magg\u001b[0m\u001b[0;34m)\u001b[0m\u001b[0;34m\u001b[0m\u001b[0;34m\u001b[0m\u001b[0m\n\u001b[1;32m    299\u001b[0m     self._predict_counter = tf.Variable(\n",
            "\u001b[0;32m/opt/conda/lib/python3.7/site-packages/tensorflow/python/ops/variables.py\u001b[0m in \u001b[0;36m__call__\u001b[0;34m(cls, *args, **kwargs)\u001b[0m\n\u001b[1;32m    266\u001b[0m       \u001b[0;32mreturn\u001b[0m \u001b[0mcls\u001b[0m\u001b[0;34m.\u001b[0m\u001b[0m_variable_v1_call\u001b[0m\u001b[0;34m(\u001b[0m\u001b[0;34m*\u001b[0m\u001b[0margs\u001b[0m\u001b[0;34m,\u001b[0m \u001b[0;34m**\u001b[0m\u001b[0mkwargs\u001b[0m\u001b[0;34m)\u001b[0m\u001b[0;34m\u001b[0m\u001b[0;34m\u001b[0m\u001b[0m\n\u001b[1;32m    267\u001b[0m     \u001b[0;32melif\u001b[0m \u001b[0mcls\u001b[0m \u001b[0;32mis\u001b[0m \u001b[0mVariable\u001b[0m\u001b[0;34m:\u001b[0m\u001b[0;34m\u001b[0m\u001b[0;34m\u001b[0m\u001b[0m\n\u001b[0;32m--> 268\u001b[0;31m       \u001b[0;32mreturn\u001b[0m \u001b[0mcls\u001b[0m\u001b[0;34m.\u001b[0m\u001b[0m_variable_v2_call\u001b[0m\u001b[0;34m(\u001b[0m\u001b[0;34m*\u001b[0m\u001b[0margs\u001b[0m\u001b[0;34m,\u001b[0m \u001b[0;34m**\u001b[0m\u001b[0mkwargs\u001b[0m\u001b[0;34m)\u001b[0m\u001b[0;34m\u001b[0m\u001b[0;34m\u001b[0m\u001b[0m\n\u001b[0m\u001b[1;32m    269\u001b[0m     \u001b[0;32melse\u001b[0m\u001b[0;34m:\u001b[0m\u001b[0;34m\u001b[0m\u001b[0;34m\u001b[0m\u001b[0m\n\u001b[1;32m    270\u001b[0m       \u001b[0;32mreturn\u001b[0m \u001b[0msuper\u001b[0m\u001b[0;34m(\u001b[0m\u001b[0mVariableMetaclass\u001b[0m\u001b[0;34m,\u001b[0m \u001b[0mcls\u001b[0m\u001b[0;34m)\u001b[0m\u001b[0;34m.\u001b[0m\u001b[0m__call__\u001b[0m\u001b[0;34m(\u001b[0m\u001b[0;34m*\u001b[0m\u001b[0margs\u001b[0m\u001b[0;34m,\u001b[0m \u001b[0;34m**\u001b[0m\u001b[0mkwargs\u001b[0m\u001b[0;34m)\u001b[0m\u001b[0;34m\u001b[0m\u001b[0;34m\u001b[0m\u001b[0m\n",
            "\u001b[0;32m/opt/conda/lib/python3.7/site-packages/tensorflow/python/ops/variables.py\u001b[0m in \u001b[0;36m_variable_v2_call\u001b[0;34m(cls, initial_value, trainable, validate_shape, caching_device, name, variable_def, dtype, import_scope, constraint, synchronization, aggregation, shape)\u001b[0m\n\u001b[1;32m    260\u001b[0m         \u001b[0msynchronization\u001b[0m\u001b[0;34m=\u001b[0m\u001b[0msynchronization\u001b[0m\u001b[0;34m,\u001b[0m\u001b[0;34m\u001b[0m\u001b[0;34m\u001b[0m\u001b[0m\n\u001b[1;32m    261\u001b[0m         \u001b[0maggregation\u001b[0m\u001b[0;34m=\u001b[0m\u001b[0maggregation\u001b[0m\u001b[0;34m,\u001b[0m\u001b[0;34m\u001b[0m\u001b[0;34m\u001b[0m\u001b[0m\n\u001b[0;32m--> 262\u001b[0;31m         shape=shape)\n\u001b[0m\u001b[1;32m    263\u001b[0m \u001b[0;34m\u001b[0m\u001b[0m\n\u001b[1;32m    264\u001b[0m   \u001b[0;32mdef\u001b[0m \u001b[0m__call__\u001b[0m\u001b[0;34m(\u001b[0m\u001b[0mcls\u001b[0m\u001b[0;34m,\u001b[0m \u001b[0;34m*\u001b[0m\u001b[0margs\u001b[0m\u001b[0;34m,\u001b[0m \u001b[0;34m**\u001b[0m\u001b[0mkwargs\u001b[0m\u001b[0;34m)\u001b[0m\u001b[0;34m:\u001b[0m\u001b[0;34m\u001b[0m\u001b[0;34m\u001b[0m\u001b[0m\n",
            "\u001b[0;32m/opt/conda/lib/python3.7/site-packages/tensorflow/python/ops/variables.py\u001b[0m in \u001b[0;36m<lambda>\u001b[0;34m(**kws)\u001b[0m\n\u001b[1;32m    241\u001b[0m                         shape=None):\n\u001b[1;32m    242\u001b[0m     \u001b[0;34m\"\"\"Call on Variable class. Useful to force the signature.\"\"\"\u001b[0m\u001b[0;34m\u001b[0m\u001b[0;34m\u001b[0m\u001b[0m\n\u001b[0;32m--> 243\u001b[0;31m     \u001b[0mprevious_getter\u001b[0m \u001b[0;34m=\u001b[0m \u001b[0;32mlambda\u001b[0m \u001b[0;34m**\u001b[0m\u001b[0mkws\u001b[0m\u001b[0;34m:\u001b[0m \u001b[0mdefault_variable_creator_v2\u001b[0m\u001b[0;34m(\u001b[0m\u001b[0;32mNone\u001b[0m\u001b[0;34m,\u001b[0m \u001b[0;34m**\u001b[0m\u001b[0mkws\u001b[0m\u001b[0;34m)\u001b[0m\u001b[0;34m\u001b[0m\u001b[0;34m\u001b[0m\u001b[0m\n\u001b[0m\u001b[1;32m    244\u001b[0m     \u001b[0;32mfor\u001b[0m \u001b[0m_\u001b[0m\u001b[0;34m,\u001b[0m \u001b[0mgetter\u001b[0m \u001b[0;32min\u001b[0m \u001b[0mops\u001b[0m\u001b[0;34m.\u001b[0m\u001b[0mget_default_graph\u001b[0m\u001b[0;34m(\u001b[0m\u001b[0;34m)\u001b[0m\u001b[0;34m.\u001b[0m\u001b[0m_variable_creator_stack\u001b[0m\u001b[0;34m:\u001b[0m  \u001b[0;31m# pylint: disable=protected-access\u001b[0m\u001b[0;34m\u001b[0m\u001b[0;34m\u001b[0m\u001b[0m\n\u001b[1;32m    245\u001b[0m       \u001b[0mprevious_getter\u001b[0m \u001b[0;34m=\u001b[0m \u001b[0m_make_getter\u001b[0m\u001b[0;34m(\u001b[0m\u001b[0mgetter\u001b[0m\u001b[0;34m,\u001b[0m \u001b[0mprevious_getter\u001b[0m\u001b[0;34m)\u001b[0m\u001b[0;34m\u001b[0m\u001b[0;34m\u001b[0m\u001b[0m\n",
            "\u001b[0;32m/opt/conda/lib/python3.7/site-packages/tensorflow/python/ops/variable_scope.py\u001b[0m in \u001b[0;36mdefault_variable_creator_v2\u001b[0;34m(next_creator, **kwargs)\u001b[0m\n\u001b[1;32m   2673\u001b[0m       \u001b[0msynchronization\u001b[0m\u001b[0;34m=\u001b[0m\u001b[0msynchronization\u001b[0m\u001b[0;34m,\u001b[0m\u001b[0;34m\u001b[0m\u001b[0;34m\u001b[0m\u001b[0m\n\u001b[1;32m   2674\u001b[0m       \u001b[0maggregation\u001b[0m\u001b[0;34m=\u001b[0m\u001b[0maggregation\u001b[0m\u001b[0;34m,\u001b[0m\u001b[0;34m\u001b[0m\u001b[0;34m\u001b[0m\u001b[0m\n\u001b[0;32m-> 2675\u001b[0;31m       shape=shape)\n\u001b[0m\u001b[1;32m   2676\u001b[0m \u001b[0;34m\u001b[0m\u001b[0m\n\u001b[1;32m   2677\u001b[0m \u001b[0;34m\u001b[0m\u001b[0m\n",
            "\u001b[0;32m/opt/conda/lib/python3.7/site-packages/tensorflow/python/ops/variables.py\u001b[0m in \u001b[0;36m__call__\u001b[0;34m(cls, *args, **kwargs)\u001b[0m\n\u001b[1;32m    268\u001b[0m       \u001b[0;32mreturn\u001b[0m \u001b[0mcls\u001b[0m\u001b[0;34m.\u001b[0m\u001b[0m_variable_v2_call\u001b[0m\u001b[0;34m(\u001b[0m\u001b[0;34m*\u001b[0m\u001b[0margs\u001b[0m\u001b[0;34m,\u001b[0m \u001b[0;34m**\u001b[0m\u001b[0mkwargs\u001b[0m\u001b[0;34m)\u001b[0m\u001b[0;34m\u001b[0m\u001b[0;34m\u001b[0m\u001b[0m\n\u001b[1;32m    269\u001b[0m     \u001b[0;32melse\u001b[0m\u001b[0;34m:\u001b[0m\u001b[0;34m\u001b[0m\u001b[0;34m\u001b[0m\u001b[0m\n\u001b[0;32m--> 270\u001b[0;31m       \u001b[0;32mreturn\u001b[0m \u001b[0msuper\u001b[0m\u001b[0;34m(\u001b[0m\u001b[0mVariableMetaclass\u001b[0m\u001b[0;34m,\u001b[0m \u001b[0mcls\u001b[0m\u001b[0;34m)\u001b[0m\u001b[0;34m.\u001b[0m\u001b[0m__call__\u001b[0m\u001b[0;34m(\u001b[0m\u001b[0;34m*\u001b[0m\u001b[0margs\u001b[0m\u001b[0;34m,\u001b[0m \u001b[0;34m**\u001b[0m\u001b[0mkwargs\u001b[0m\u001b[0;34m)\u001b[0m\u001b[0;34m\u001b[0m\u001b[0;34m\u001b[0m\u001b[0m\n\u001b[0m\u001b[1;32m    271\u001b[0m \u001b[0;34m\u001b[0m\u001b[0m\n\u001b[1;32m    272\u001b[0m \u001b[0;34m\u001b[0m\u001b[0m\n",
            "\u001b[0;32m/opt/conda/lib/python3.7/site-packages/tensorflow/python/ops/resource_variable_ops.py\u001b[0m in \u001b[0;36m__init__\u001b[0;34m(self, initial_value, trainable, collections, validate_shape, caching_device, name, dtype, variable_def, import_scope, constraint, distribute_strategy, synchronization, aggregation, shape)\u001b[0m\n\u001b[1;32m   1611\u001b[0m           \u001b[0maggregation\u001b[0m\u001b[0;34m=\u001b[0m\u001b[0maggregation\u001b[0m\u001b[0;34m,\u001b[0m\u001b[0;34m\u001b[0m\u001b[0;34m\u001b[0m\u001b[0m\n\u001b[1;32m   1612\u001b[0m           \u001b[0mshape\u001b[0m\u001b[0;34m=\u001b[0m\u001b[0mshape\u001b[0m\u001b[0;34m,\u001b[0m\u001b[0;34m\u001b[0m\u001b[0;34m\u001b[0m\u001b[0m\n\u001b[0;32m-> 1613\u001b[0;31m           distribute_strategy=distribute_strategy)\n\u001b[0m\u001b[1;32m   1614\u001b[0m \u001b[0;34m\u001b[0m\u001b[0m\n\u001b[1;32m   1615\u001b[0m   def _init_from_args(self,\n",
            "\u001b[0;32m/opt/conda/lib/python3.7/site-packages/tensorflow/python/ops/resource_variable_ops.py\u001b[0m in \u001b[0;36m_init_from_args\u001b[0;34m(self, initial_value, trainable, collections, caching_device, name, dtype, constraint, synchronization, aggregation, distribute_strategy, shape)\u001b[0m\n\u001b[1;32m   1745\u001b[0m             initial_value = ops.convert_to_tensor(initial_value,\n\u001b[1;32m   1746\u001b[0m                                                   \u001b[0mname\u001b[0m\u001b[0;34m=\u001b[0m\u001b[0;34m\"initial_value\"\u001b[0m\u001b[0;34m,\u001b[0m\u001b[0;34m\u001b[0m\u001b[0;34m\u001b[0m\u001b[0m\n\u001b[0;32m-> 1747\u001b[0;31m                                                   dtype=dtype)\n\u001b[0m\u001b[1;32m   1748\u001b[0m           \u001b[0;32mif\u001b[0m \u001b[0mshape\u001b[0m \u001b[0;32mis\u001b[0m \u001b[0;32mnot\u001b[0m \u001b[0;32mNone\u001b[0m\u001b[0;34m:\u001b[0m\u001b[0;34m\u001b[0m\u001b[0;34m\u001b[0m\u001b[0m\n\u001b[1;32m   1749\u001b[0m             \u001b[0;32mif\u001b[0m \u001b[0;32mnot\u001b[0m \u001b[0minitial_value\u001b[0m\u001b[0;34m.\u001b[0m\u001b[0mshape\u001b[0m\u001b[0;34m.\u001b[0m\u001b[0mis_compatible_with\u001b[0m\u001b[0;34m(\u001b[0m\u001b[0mshape\u001b[0m\u001b[0;34m)\u001b[0m\u001b[0;34m:\u001b[0m\u001b[0;34m\u001b[0m\u001b[0;34m\u001b[0m\u001b[0m\n",
            "\u001b[0;32m/opt/conda/lib/python3.7/site-packages/tensorflow/python/profiler/trace.py\u001b[0m in \u001b[0;36mwrapped\u001b[0;34m(*args, **kwargs)\u001b[0m\n\u001b[1;32m    161\u001b[0m         \u001b[0;32mwith\u001b[0m \u001b[0mTrace\u001b[0m\u001b[0;34m(\u001b[0m\u001b[0mtrace_name\u001b[0m\u001b[0;34m,\u001b[0m \u001b[0;34m**\u001b[0m\u001b[0mtrace_kwargs\u001b[0m\u001b[0;34m)\u001b[0m\u001b[0;34m:\u001b[0m\u001b[0;34m\u001b[0m\u001b[0;34m\u001b[0m\u001b[0m\n\u001b[1;32m    162\u001b[0m           \u001b[0;32mreturn\u001b[0m \u001b[0mfunc\u001b[0m\u001b[0;34m(\u001b[0m\u001b[0;34m*\u001b[0m\u001b[0margs\u001b[0m\u001b[0;34m,\u001b[0m \u001b[0;34m**\u001b[0m\u001b[0mkwargs\u001b[0m\u001b[0;34m)\u001b[0m\u001b[0;34m\u001b[0m\u001b[0;34m\u001b[0m\u001b[0m\n\u001b[0;32m--> 163\u001b[0;31m       \u001b[0;32mreturn\u001b[0m \u001b[0mfunc\u001b[0m\u001b[0;34m(\u001b[0m\u001b[0;34m*\u001b[0m\u001b[0margs\u001b[0m\u001b[0;34m,\u001b[0m \u001b[0;34m**\u001b[0m\u001b[0mkwargs\u001b[0m\u001b[0;34m)\u001b[0m\u001b[0;34m\u001b[0m\u001b[0;34m\u001b[0m\u001b[0m\n\u001b[0m\u001b[1;32m    164\u001b[0m \u001b[0;34m\u001b[0m\u001b[0m\n\u001b[1;32m    165\u001b[0m     \u001b[0;32mreturn\u001b[0m \u001b[0mwrapped\u001b[0m\u001b[0;34m\u001b[0m\u001b[0;34m\u001b[0m\u001b[0m\n",
            "\u001b[0;32m/opt/conda/lib/python3.7/site-packages/tensorflow/python/framework/ops.py\u001b[0m in \u001b[0;36mconvert_to_tensor\u001b[0;34m(value, dtype, name, as_ref, preferred_dtype, dtype_hint, ctx, accepted_result_types)\u001b[0m\n\u001b[1;32m   1564\u001b[0m \u001b[0;34m\u001b[0m\u001b[0m\n\u001b[1;32m   1565\u001b[0m     \u001b[0;32mif\u001b[0m \u001b[0mret\u001b[0m \u001b[0;32mis\u001b[0m \u001b[0;32mNone\u001b[0m\u001b[0;34m:\u001b[0m\u001b[0;34m\u001b[0m\u001b[0;34m\u001b[0m\u001b[0m\n\u001b[0;32m-> 1566\u001b[0;31m       \u001b[0mret\u001b[0m \u001b[0;34m=\u001b[0m \u001b[0mconversion_func\u001b[0m\u001b[0;34m(\u001b[0m\u001b[0mvalue\u001b[0m\u001b[0;34m,\u001b[0m \u001b[0mdtype\u001b[0m\u001b[0;34m=\u001b[0m\u001b[0mdtype\u001b[0m\u001b[0;34m,\u001b[0m \u001b[0mname\u001b[0m\u001b[0;34m=\u001b[0m\u001b[0mname\u001b[0m\u001b[0;34m,\u001b[0m \u001b[0mas_ref\u001b[0m\u001b[0;34m=\u001b[0m\u001b[0mas_ref\u001b[0m\u001b[0;34m)\u001b[0m\u001b[0;34m\u001b[0m\u001b[0;34m\u001b[0m\u001b[0m\n\u001b[0m\u001b[1;32m   1567\u001b[0m \u001b[0;34m\u001b[0m\u001b[0m\n\u001b[1;32m   1568\u001b[0m     \u001b[0;32mif\u001b[0m \u001b[0mret\u001b[0m \u001b[0;32mis\u001b[0m \u001b[0mNotImplemented\u001b[0m\u001b[0;34m:\u001b[0m\u001b[0;34m\u001b[0m\u001b[0;34m\u001b[0m\u001b[0m\n",
            "\u001b[0;32m/opt/conda/lib/python3.7/site-packages/tensorflow/python/framework/tensor_conversion_registry.py\u001b[0m in \u001b[0;36m_default_conversion_function\u001b[0;34m(***failed resolving arguments***)\u001b[0m\n\u001b[1;32m     50\u001b[0m \u001b[0;32mdef\u001b[0m \u001b[0m_default_conversion_function\u001b[0m\u001b[0;34m(\u001b[0m\u001b[0mvalue\u001b[0m\u001b[0;34m,\u001b[0m \u001b[0mdtype\u001b[0m\u001b[0;34m,\u001b[0m \u001b[0mname\u001b[0m\u001b[0;34m,\u001b[0m \u001b[0mas_ref\u001b[0m\u001b[0;34m)\u001b[0m\u001b[0;34m:\u001b[0m\u001b[0;34m\u001b[0m\u001b[0;34m\u001b[0m\u001b[0m\n\u001b[1;32m     51\u001b[0m   \u001b[0;32mdel\u001b[0m \u001b[0mas_ref\u001b[0m  \u001b[0;31m# Unused.\u001b[0m\u001b[0;34m\u001b[0m\u001b[0;34m\u001b[0m\u001b[0m\n\u001b[0;32m---> 52\u001b[0;31m   \u001b[0;32mreturn\u001b[0m \u001b[0mconstant_op\u001b[0m\u001b[0;34m.\u001b[0m\u001b[0mconstant\u001b[0m\u001b[0;34m(\u001b[0m\u001b[0mvalue\u001b[0m\u001b[0;34m,\u001b[0m \u001b[0mdtype\u001b[0m\u001b[0;34m,\u001b[0m \u001b[0mname\u001b[0m\u001b[0;34m=\u001b[0m\u001b[0mname\u001b[0m\u001b[0;34m)\u001b[0m\u001b[0;34m\u001b[0m\u001b[0;34m\u001b[0m\u001b[0m\n\u001b[0m\u001b[1;32m     53\u001b[0m \u001b[0;34m\u001b[0m\u001b[0m\n\u001b[1;32m     54\u001b[0m \u001b[0;34m\u001b[0m\u001b[0m\n",
            "\u001b[0;32m/opt/conda/lib/python3.7/site-packages/tensorflow/python/framework/constant_op.py\u001b[0m in \u001b[0;36mconstant\u001b[0;34m(value, dtype, shape, name)\u001b[0m\n\u001b[1;32m    270\u001b[0m   \"\"\"\n\u001b[1;32m    271\u001b[0m   return _constant_impl(value, dtype, shape, name, verify_shape=False,\n\u001b[0;32m--> 272\u001b[0;31m                         allow_broadcast=True)\n\u001b[0m\u001b[1;32m    273\u001b[0m \u001b[0;34m\u001b[0m\u001b[0m\n\u001b[1;32m    274\u001b[0m \u001b[0;34m\u001b[0m\u001b[0m\n",
            "\u001b[0;32m/opt/conda/lib/python3.7/site-packages/tensorflow/python/framework/constant_op.py\u001b[0m in \u001b[0;36m_constant_impl\u001b[0;34m(value, dtype, shape, name, verify_shape, allow_broadcast)\u001b[0m\n\u001b[1;32m    281\u001b[0m       \u001b[0;32mwith\u001b[0m \u001b[0mtrace\u001b[0m\u001b[0;34m.\u001b[0m\u001b[0mTrace\u001b[0m\u001b[0;34m(\u001b[0m\u001b[0;34m\"tf.constant\"\u001b[0m\u001b[0;34m)\u001b[0m\u001b[0;34m:\u001b[0m\u001b[0;34m\u001b[0m\u001b[0;34m\u001b[0m\u001b[0m\n\u001b[1;32m    282\u001b[0m         \u001b[0;32mreturn\u001b[0m \u001b[0m_constant_eager_impl\u001b[0m\u001b[0;34m(\u001b[0m\u001b[0mctx\u001b[0m\u001b[0;34m,\u001b[0m \u001b[0mvalue\u001b[0m\u001b[0;34m,\u001b[0m \u001b[0mdtype\u001b[0m\u001b[0;34m,\u001b[0m \u001b[0mshape\u001b[0m\u001b[0;34m,\u001b[0m \u001b[0mverify_shape\u001b[0m\u001b[0;34m)\u001b[0m\u001b[0;34m\u001b[0m\u001b[0;34m\u001b[0m\u001b[0m\n\u001b[0;32m--> 283\u001b[0;31m     \u001b[0;32mreturn\u001b[0m \u001b[0m_constant_eager_impl\u001b[0m\u001b[0;34m(\u001b[0m\u001b[0mctx\u001b[0m\u001b[0;34m,\u001b[0m \u001b[0mvalue\u001b[0m\u001b[0;34m,\u001b[0m \u001b[0mdtype\u001b[0m\u001b[0;34m,\u001b[0m \u001b[0mshape\u001b[0m\u001b[0;34m,\u001b[0m \u001b[0mverify_shape\u001b[0m\u001b[0;34m)\u001b[0m\u001b[0;34m\u001b[0m\u001b[0;34m\u001b[0m\u001b[0m\n\u001b[0m\u001b[1;32m    284\u001b[0m \u001b[0;34m\u001b[0m\u001b[0m\n\u001b[1;32m    285\u001b[0m   \u001b[0mg\u001b[0m \u001b[0;34m=\u001b[0m \u001b[0mops\u001b[0m\u001b[0;34m.\u001b[0m\u001b[0mget_default_graph\u001b[0m\u001b[0;34m(\u001b[0m\u001b[0;34m)\u001b[0m\u001b[0;34m\u001b[0m\u001b[0;34m\u001b[0m\u001b[0m\n",
            "\u001b[0;32m/opt/conda/lib/python3.7/site-packages/tensorflow/python/framework/constant_op.py\u001b[0m in \u001b[0;36m_constant_eager_impl\u001b[0;34m(ctx, value, dtype, shape, verify_shape)\u001b[0m\n\u001b[1;32m    306\u001b[0m \u001b[0;32mdef\u001b[0m \u001b[0m_constant_eager_impl\u001b[0m\u001b[0;34m(\u001b[0m\u001b[0mctx\u001b[0m\u001b[0;34m,\u001b[0m \u001b[0mvalue\u001b[0m\u001b[0;34m,\u001b[0m \u001b[0mdtype\u001b[0m\u001b[0;34m,\u001b[0m \u001b[0mshape\u001b[0m\u001b[0;34m,\u001b[0m \u001b[0mverify_shape\u001b[0m\u001b[0;34m)\u001b[0m\u001b[0;34m:\u001b[0m\u001b[0;34m\u001b[0m\u001b[0;34m\u001b[0m\u001b[0m\n\u001b[1;32m    307\u001b[0m   \u001b[0;34m\"\"\"Creates a constant on the current device.\"\"\"\u001b[0m\u001b[0;34m\u001b[0m\u001b[0;34m\u001b[0m\u001b[0m\n\u001b[0;32m--> 308\u001b[0;31m   \u001b[0mt\u001b[0m \u001b[0;34m=\u001b[0m \u001b[0mconvert_to_eager_tensor\u001b[0m\u001b[0;34m(\u001b[0m\u001b[0mvalue\u001b[0m\u001b[0;34m,\u001b[0m \u001b[0mctx\u001b[0m\u001b[0;34m,\u001b[0m \u001b[0mdtype\u001b[0m\u001b[0;34m)\u001b[0m\u001b[0;34m\u001b[0m\u001b[0;34m\u001b[0m\u001b[0m\n\u001b[0m\u001b[1;32m    309\u001b[0m   \u001b[0;32mif\u001b[0m \u001b[0mshape\u001b[0m \u001b[0;32mis\u001b[0m \u001b[0;32mNone\u001b[0m\u001b[0;34m:\u001b[0m\u001b[0;34m\u001b[0m\u001b[0;34m\u001b[0m\u001b[0m\n\u001b[1;32m    310\u001b[0m     \u001b[0;32mreturn\u001b[0m \u001b[0mt\u001b[0m\u001b[0;34m\u001b[0m\u001b[0;34m\u001b[0m\u001b[0m\n",
            "\u001b[0;32m/opt/conda/lib/python3.7/site-packages/tensorflow/python/framework/constant_op.py\u001b[0m in \u001b[0;36mconvert_to_eager_tensor\u001b[0;34m(value, ctx, dtype)\u001b[0m\n\u001b[1;32m    103\u001b[0m     \u001b[0;32mexcept\u001b[0m \u001b[0mAttributeError\u001b[0m\u001b[0;34m:\u001b[0m\u001b[0;34m\u001b[0m\u001b[0;34m\u001b[0m\u001b[0m\n\u001b[1;32m    104\u001b[0m       \u001b[0mdtype\u001b[0m \u001b[0;34m=\u001b[0m \u001b[0mdtypes\u001b[0m\u001b[0;34m.\u001b[0m\u001b[0mas_dtype\u001b[0m\u001b[0;34m(\u001b[0m\u001b[0mdtype\u001b[0m\u001b[0;34m)\u001b[0m\u001b[0;34m.\u001b[0m\u001b[0mas_datatype_enum\u001b[0m\u001b[0;34m\u001b[0m\u001b[0;34m\u001b[0m\u001b[0m\n\u001b[0;32m--> 105\u001b[0;31m   \u001b[0mctx\u001b[0m\u001b[0;34m.\u001b[0m\u001b[0mensure_initialized\u001b[0m\u001b[0;34m(\u001b[0m\u001b[0;34m)\u001b[0m\u001b[0;34m\u001b[0m\u001b[0;34m\u001b[0m\u001b[0m\n\u001b[0m\u001b[1;32m    106\u001b[0m   \u001b[0;32mreturn\u001b[0m \u001b[0mops\u001b[0m\u001b[0;34m.\u001b[0m\u001b[0mEagerTensor\u001b[0m\u001b[0;34m(\u001b[0m\u001b[0mvalue\u001b[0m\u001b[0;34m,\u001b[0m \u001b[0mctx\u001b[0m\u001b[0;34m.\u001b[0m\u001b[0mdevice_name\u001b[0m\u001b[0;34m,\u001b[0m \u001b[0mdtype\u001b[0m\u001b[0;34m)\u001b[0m\u001b[0;34m\u001b[0m\u001b[0;34m\u001b[0m\u001b[0m\n\u001b[1;32m    107\u001b[0m \u001b[0;34m\u001b[0m\u001b[0m\n",
            "\u001b[0;32m/opt/conda/lib/python3.7/site-packages/tensorflow/python/eager/context.py\u001b[0m in \u001b[0;36mensure_initialized\u001b[0;34m(self)\u001b[0m\n\u001b[1;32m    553\u001b[0m         pywrap_tfe.TFE_ContextOptionsSetRunEagerOpAsFunction(\n\u001b[1;32m    554\u001b[0m             opts, self._run_eager_op_as_function)\n\u001b[0;32m--> 555\u001b[0;31m         \u001b[0mcontext_handle\u001b[0m \u001b[0;34m=\u001b[0m \u001b[0mpywrap_tfe\u001b[0m\u001b[0;34m.\u001b[0m\u001b[0mTFE_NewContext\u001b[0m\u001b[0;34m(\u001b[0m\u001b[0mopts\u001b[0m\u001b[0;34m)\u001b[0m\u001b[0;34m\u001b[0m\u001b[0;34m\u001b[0m\u001b[0m\n\u001b[0m\u001b[1;32m    556\u001b[0m       \u001b[0;32mfinally\u001b[0m\u001b[0;34m:\u001b[0m\u001b[0;34m\u001b[0m\u001b[0;34m\u001b[0m\u001b[0m\n\u001b[1;32m    557\u001b[0m         \u001b[0mpywrap_tfe\u001b[0m\u001b[0;34m.\u001b[0m\u001b[0mTFE_DeleteContextOptions\u001b[0m\u001b[0;34m(\u001b[0m\u001b[0mopts\u001b[0m\u001b[0;34m)\u001b[0m\u001b[0;34m\u001b[0m\u001b[0;34m\u001b[0m\u001b[0m\n",
            "\u001b[0;31mMemoryError\u001b[0m: std::bad_alloc"
          ]
        }
      ],
      "source": [
        "meta_loss({\n",
        "    'units': 8,\n",
        "    'dense_activation': 'relu',\n",
        "    'conv_activation': 'relu',\n",
        "    'initial_learning_rate_exp': -2.0,\n",
        "    'learning_rate_rate': 0.9,\n",
        "    'optimizer_name': 'SGD',\n",
        "    'batch_size': 32\n",
        "})"
      ]
    },
    {
      "cell_type": "code",
      "execution_count": null,
      "metadata": {
        "colab": {
          "base_uri": "https://localhost:8080/",
          "height": 1000
        },
        "collapsed": true,
        "id": "O8k1GPEHWfK3",
        "jupyter": {
          "outputs_hidden": true
        },
        "outputId": "1a07af6d-20c3-4346-b98e-59030e41b6e1",
        "tags": []
      },
      "outputs": [
        {
          "name": "stderr",
          "output_type": "stream",
          "text": [
            "2021-11-01 12:30:23,241\tWARNING function_runner.py:559 -- Function checkpointing is disabled. This may result in unexpected behavior when using checkpointing features or certain schedulers. To enable, set the train function arguments to be `func(config, checkpoint_dir=None)`.\n"
          ]
        },
        {
          "data": {
            "text/html": [
              "== Status ==<br>Memory usage on this node: 1.2/12.7 GiB<br>Using FIFO scheduling algorithm.<br>Resources requested: 0/2 CPUs, 0/1 GPUs, 0.0/7.2 GiB heap, 0.0/3.6 GiB objects (0.0/1.0 accelerator_type:K80)<br>Result logdir: /home/jacobfv123/ray_results/meta_loss_2021-11-01_12-30-23<br>Number of trials: 3/3 (3 PENDING)<br><table>\n",
              "<thead>\n",
              "<tr><th>Trial name           </th><th>status  </th><th>loc  </th><th style=\"text-align: right;\">  batch_size</th><th>conv_activation  </th><th>dense_activation  </th><th>optimizer_name  </th><th style=\"text-align: right;\">  units</th></tr>\n",
              "</thead>\n",
              "<tbody>\n",
              "<tr><td>meta_loss_7c005_00000</td><td>PENDING </td><td>     </td><td style=\"text-align: right;\">          32</td><td>relu             </td><td>relu              </td><td>SGD             </td><td style=\"text-align: right;\">      8</td></tr>\n",
              "<tr><td>meta_loss_7c005_00001</td><td>PENDING </td><td>     </td><td style=\"text-align: right;\">          16</td><td>relu             </td><td>relu              </td><td>Adam            </td><td style=\"text-align: right;\">     16</td></tr>\n",
              "<tr><td>meta_loss_7c005_00002</td><td>PENDING </td><td>     </td><td style=\"text-align: right;\">          32</td><td>relu             </td><td>relu              </td><td>SGD             </td><td style=\"text-align: right;\">     32</td></tr>\n",
              "</tbody>\n",
              "</table><br><br>"
            ],
            "text/plain": [
              "<IPython.core.display.HTML object>"
            ]
          },
          "metadata": {},
          "output_type": "display_data"
        },
        {
          "data": {
            "text/html": [
              "== Status ==<br>Memory usage on this node: 1.9/12.7 GiB<br>Using FIFO scheduling algorithm.<br>Resources requested: 2.0/2 CPUs, 0/1 GPUs, 0.0/7.2 GiB heap, 0.0/3.6 GiB objects (0.0/1.0 accelerator_type:K80)<br>Result logdir: /home/jacobfv123/ray_results/meta_loss_2021-11-01_12-30-23<br>Number of trials: 3/3 (2 PENDING, 1 RUNNING)<br><table>\n",
              "<thead>\n",
              "<tr><th>Trial name           </th><th>status  </th><th>loc  </th><th style=\"text-align: right;\">  batch_size</th><th>conv_activation  </th><th>dense_activation  </th><th>optimizer_name  </th><th style=\"text-align: right;\">  units</th></tr>\n",
              "</thead>\n",
              "<tbody>\n",
              "<tr><td>meta_loss_7c005_00000</td><td>RUNNING </td><td>     </td><td style=\"text-align: right;\">          32</td><td>relu             </td><td>relu              </td><td>SGD             </td><td style=\"text-align: right;\">      8</td></tr>\n",
              "<tr><td>meta_loss_7c005_00001</td><td>PENDING </td><td>     </td><td style=\"text-align: right;\">          16</td><td>relu             </td><td>relu              </td><td>Adam            </td><td style=\"text-align: right;\">     16</td></tr>\n",
              "<tr><td>meta_loss_7c005_00002</td><td>PENDING </td><td>     </td><td style=\"text-align: right;\">          32</td><td>relu             </td><td>relu              </td><td>SGD             </td><td style=\"text-align: right;\">     32</td></tr>\n",
              "</tbody>\n",
              "</table><br><br>"
            ],
            "text/plain": [
              "<IPython.core.display.HTML object>"
            ]
          },
          "metadata": {},
          "output_type": "display_data"
        },
        {
          "name": "stderr",
          "output_type": "stream",
          "text": [
            "\u001b[2m\u001b[36m(pid=1939)\u001b[0m 2021-11-01 12:30:29.807450: E tensorflow/stream_executor/cuda/cuda_driver.cc:271] failed call to cuInit: CUDA_ERROR_NO_DEVICE: no CUDA-capable device is detected\n",
            "\u001b[2m\u001b[36m(pid=1939)\u001b[0m 2021-11-01 12:30:29.807537: I tensorflow/stream_executor/cuda/cuda_diagnostics.cc:169] retrieving CUDA diagnostic information for host: deeplearning-7-vm\n",
            "\u001b[2m\u001b[36m(pid=1939)\u001b[0m 2021-11-01 12:30:29.807554: I tensorflow/stream_executor/cuda/cuda_diagnostics.cc:176] hostname: deeplearning-7-vm\n",
            "\u001b[2m\u001b[36m(pid=1939)\u001b[0m 2021-11-01 12:30:29.807744: I tensorflow/stream_executor/cuda/cuda_diagnostics.cc:200] libcuda reported version is: 460.73.1\n",
            "\u001b[2m\u001b[36m(pid=1939)\u001b[0m 2021-11-01 12:30:29.807788: I tensorflow/stream_executor/cuda/cuda_diagnostics.cc:204] kernel reported version is: 460.73.1\n",
            "\u001b[2m\u001b[36m(pid=1939)\u001b[0m 2021-11-01 12:30:29.807800: I tensorflow/stream_executor/cuda/cuda_diagnostics.cc:310] kernel version seems to match DSO: 460.73.1\n",
            "\u001b[2m\u001b[36m(pid=1939)\u001b[0m 2021-11-01 12:30:29.808361: I tensorflow/core/platform/cpu_feature_guard.cc:142] This TensorFlow binary is optimized with oneAPI Deep Neural Network Library (oneDNN) to use the following CPU instructions in performance-critical operations:  AVX2 FMA\n",
            "\u001b[2m\u001b[36m(pid=1939)\u001b[0m To enable them in other operations, rebuild TensorFlow with the appropriate compiler flags.\n",
            "2021-11-01 12:30:30,147\tERROR trial_runner.py:846 -- Trial meta_loss_7c005_00000: Error processing event.\n",
            "Traceback (most recent call last):\n",
            "  File \"/opt/conda/lib/python3.7/site-packages/ray/tune/trial_runner.py\", line 812, in _process_trial\n",
            "    results = self.trial_executor.fetch_result(trial)\n",
            "  File \"/opt/conda/lib/python3.7/site-packages/ray/tune/ray_trial_executor.py\", line 767, in fetch_result\n",
            "    result = ray.get(trial_future[0], timeout=DEFAULT_GET_TIMEOUT)\n",
            "  File \"/opt/conda/lib/python3.7/site-packages/ray/_private/client_mode_hook.py\", line 89, in wrapper\n",
            "    return func(*args, **kwargs)\n",
            "  File \"/opt/conda/lib/python3.7/site-packages/ray/worker.py\", line 1623, in get\n",
            "    raise value\n",
            "ray.exceptions.RayActorError: The actor died unexpectedly before finishing this task.\n",
            "2021-11-01 12:30:30,152\tWARNING worker.py:1227 -- A worker died or was killed while executing a task by an unexpected system error. To troubleshoot the problem, check the logs for the dead worker. RayTask ID: ffffffffffffffff8bb23fe5668d6d46702920b803000000 Worker ID: ae85aa106aa3d6af84167e08626e369bf854be3ac9d9b62787c6181d Node ID: de2fbc5360fb324acfae8b140ae1c049d7b7834725943bf2cdb2e73e Worker IP address: 10.138.0.10 Worker port: 10005 Worker PID: 1939\n",
            "\u001b[2m\u001b[36m(pid=1939)\u001b[0m *** SIGSEGV received at time=1635769830 on cpu 0 ***\n",
            "\u001b[2m\u001b[36m(pid=1939)\u001b[0m PC: @     0x56017b7d2a8e  (unknown)  PyErr_SetObject\n",
            "\u001b[2m\u001b[36m(pid=1939)\u001b[0m     @     0x7efca180d730  (unknown)  (unknown)\n",
            "\u001b[2m\u001b[36m(pid=1939)\u001b[0m     @     0x56017ba1f0e0  (unknown)  (unknown)\n",
            "\u001b[2m\u001b[36m(pid=1939)\u001b[0m [2021-11-01 12:30:30,119 E 1939 1964] logging.cc:315: *** SIGSEGV received at time=1635769830 on cpu 0 ***\n",
            "\u001b[2m\u001b[36m(pid=1939)\u001b[0m [2021-11-01 12:30:30,120 E 1939 1964] logging.cc:315: PC: @     0x56017b7d2a8e  (unknown)  PyErr_SetObject\n",
            "\u001b[2m\u001b[36m(pid=1939)\u001b[0m [2021-11-01 12:30:30,122 E 1939 1964] logging.cc:315:     @     0x7efca180d730  (unknown)  (unknown)\n",
            "\u001b[2m\u001b[36m(pid=1939)\u001b[0m [2021-11-01 12:30:30,125 E 1939 1964] logging.cc:315:     @     0x56017ba1f0e0  (unknown)  (unknown)\n"
          ]
        },
        {
          "name": "stdout",
          "output_type": "stream",
          "text": [
            "Result for meta_loss_7c005_00000:\n",
            "  {}\n",
            "  \n"
          ]
        },
        {
          "data": {
            "text/html": [
              "== Status ==<br>Memory usage on this node: 1.5/12.7 GiB<br>Using FIFO scheduling algorithm.<br>Resources requested: 2.0/2 CPUs, 0/1 GPUs, 0.0/7.2 GiB heap, 0.0/3.6 GiB objects (0.0/1.0 accelerator_type:K80)<br>Result logdir: /home/jacobfv123/ray_results/meta_loss_2021-11-01_12-30-23<br>Number of trials: 3/3 (1 ERROR, 1 PENDING, 1 RUNNING)<br><table>\n",
              "<thead>\n",
              "<tr><th>Trial name           </th><th>status  </th><th>loc  </th><th style=\"text-align: right;\">  batch_size</th><th>conv_activation  </th><th>dense_activation  </th><th>optimizer_name  </th><th style=\"text-align: right;\">  units</th></tr>\n",
              "</thead>\n",
              "<tbody>\n",
              "<tr><td>meta_loss_7c005_00001</td><td>RUNNING </td><td>     </td><td style=\"text-align: right;\">          16</td><td>relu             </td><td>relu              </td><td>Adam            </td><td style=\"text-align: right;\">     16</td></tr>\n",
              "<tr><td>meta_loss_7c005_00002</td><td>PENDING </td><td>     </td><td style=\"text-align: right;\">          32</td><td>relu             </td><td>relu              </td><td>SGD             </td><td style=\"text-align: right;\">     32</td></tr>\n",
              "<tr><td>meta_loss_7c005_00000</td><td>ERROR   </td><td>     </td><td style=\"text-align: right;\">          32</td><td>relu             </td><td>relu              </td><td>SGD             </td><td style=\"text-align: right;\">      8</td></tr>\n",
              "</tbody>\n",
              "</table><br>Number of errored trials: 1<br><table>\n",
              "<thead>\n",
              "<tr><th>Trial name           </th><th style=\"text-align: right;\">  # failures</th><th>error file                                                                                                                                                                                          </th></tr>\n",
              "</thead>\n",
              "<tbody>\n",
              "<tr><td>meta_loss_7c005_00000</td><td style=\"text-align: right;\">           1</td><td>/home/jacobfv123/ray_results/meta_loss_2021-11-01_12-30-23/meta_loss_7c005_00000_0_batch_size=32,conv_activation=relu,dense_activation=relu,optimizer_name=SGD,units=8_2021-11-01_12-30-23/error.txt</td></tr>\n",
              "</tbody>\n",
              "</table><br>"
            ],
            "text/plain": [
              "<IPython.core.display.HTML object>"
            ]
          },
          "metadata": {},
          "output_type": "display_data"
        },
        {
          "name": "stderr",
          "output_type": "stream",
          "text": [
            "\u001b[2m\u001b[36m(pid=1977)\u001b[0m 2021-11-01 12:30:36.149869: E tensorflow/stream_executor/cuda/cuda_driver.cc:271] failed call to cuInit: CUDA_ERROR_NO_DEVICE: no CUDA-capable device is detected\n",
            "\u001b[2m\u001b[36m(pid=1977)\u001b[0m 2021-11-01 12:30:36.149961: I tensorflow/stream_executor/cuda/cuda_diagnostics.cc:169] retrieving CUDA diagnostic information for host: deeplearning-7-vm\n",
            "\u001b[2m\u001b[36m(pid=1977)\u001b[0m 2021-11-01 12:30:36.149977: I tensorflow/stream_executor/cuda/cuda_diagnostics.cc:176] hostname: deeplearning-7-vm\n",
            "\u001b[2m\u001b[36m(pid=1977)\u001b[0m 2021-11-01 12:30:36.150150: I tensorflow/stream_executor/cuda/cuda_diagnostics.cc:200] libcuda reported version is: 460.73.1\n",
            "\u001b[2m\u001b[36m(pid=1977)\u001b[0m 2021-11-01 12:30:36.150192: I tensorflow/stream_executor/cuda/cuda_diagnostics.cc:204] kernel reported version is: 460.73.1\n",
            "\u001b[2m\u001b[36m(pid=1977)\u001b[0m 2021-11-01 12:30:36.150204: I tensorflow/stream_executor/cuda/cuda_diagnostics.cc:310] kernel version seems to match DSO: 460.73.1\n",
            "\u001b[2m\u001b[36m(pid=1977)\u001b[0m 2021-11-01 12:30:36.150687: I tensorflow/core/platform/cpu_feature_guard.cc:142] This TensorFlow binary is optimized with oneAPI Deep Neural Network Library (oneDNN) to use the following CPU instructions in performance-critical operations:  AVX2 FMA\n",
            "\u001b[2m\u001b[36m(pid=1977)\u001b[0m To enable them in other operations, rebuild TensorFlow with the appropriate compiler flags.\n",
            "\u001b[2m\u001b[36m(pid=1977)\u001b[0m *** SIGSEGV received at time=1635769836 on cpu 1 ***\n",
            "\u001b[2m\u001b[36m(pid=1977)\u001b[0m PC: @     0x5573b8b2ba8e  (unknown)  PyErr_SetObject\n",
            "\u001b[2m\u001b[36m(pid=1977)\u001b[0m     @     0x7f4d76ff4730  (unknown)  (unknown)\n",
            "\u001b[2m\u001b[36m(pid=1977)\u001b[0m     @     0x5573b8d780e0  (unknown)  (unknown)\n",
            "\u001b[2m\u001b[36m(pid=1977)\u001b[0m [2021-11-01 12:30:36,443 E 1977 2002] logging.cc:315: *** SIGSEGV received at time=1635769836 on cpu 1 ***\n",
            "\u001b[2m\u001b[36m(pid=1977)\u001b[0m [2021-11-01 12:30:36,443 E 1977 2002] logging.cc:315: PC: @     0x5573b8b2ba8e  (unknown)  PyErr_SetObject\n",
            "\u001b[2m\u001b[36m(pid=1977)\u001b[0m [2021-11-01 12:30:36,446 E 1977 2002] logging.cc:315:     @     0x7f4d76ff4730  (unknown)  (unknown)\n",
            "\u001b[2m\u001b[36m(pid=1977)\u001b[0m [2021-11-01 12:30:36,450 E 1977 2002] logging.cc:315:     @     0x5573b8d780e0  (unknown)  (unknown)\n",
            "2021-11-01 12:30:36,476\tERROR trial_runner.py:846 -- Trial meta_loss_7c005_00001: Error processing event.\n",
            "Traceback (most recent call last):\n",
            "  File \"/opt/conda/lib/python3.7/site-packages/ray/tune/trial_runner.py\", line 812, in _process_trial\n",
            "    results = self.trial_executor.fetch_result(trial)\n",
            "  File \"/opt/conda/lib/python3.7/site-packages/ray/tune/ray_trial_executor.py\", line 767, in fetch_result\n",
            "    result = ray.get(trial_future[0], timeout=DEFAULT_GET_TIMEOUT)\n",
            "  File \"/opt/conda/lib/python3.7/site-packages/ray/_private/client_mode_hook.py\", line 89, in wrapper\n",
            "    return func(*args, **kwargs)\n",
            "  File \"/opt/conda/lib/python3.7/site-packages/ray/worker.py\", line 1623, in get\n",
            "    raise value\n",
            "ray.exceptions.RayActorError: The actor died unexpectedly before finishing this task.\n",
            "2021-11-01 12:30:36,477\tWARNING worker.py:1227 -- A worker died or was killed while executing a task by an unexpected system error. To troubleshoot the problem, check the logs for the dead worker. RayTask ID: ffffffffffffffffd685dca337370d9be30994e603000000 Worker ID: dc32c63cf446d421627c3e8460cfa6fb17cc6aac0f09d251fa6193a7 Node ID: de2fbc5360fb324acfae8b140ae1c049d7b7834725943bf2cdb2e73e Worker IP address: 10.138.0.10 Worker port: 10006 Worker PID: 1977\n"
          ]
        },
        {
          "name": "stdout",
          "output_type": "stream",
          "text": [
            "Result for meta_loss_7c005_00001:\n",
            "  {}\n",
            "  \n"
          ]
        },
        {
          "data": {
            "text/html": [
              "== Status ==<br>Memory usage on this node: 1.5/12.7 GiB<br>Using FIFO scheduling algorithm.<br>Resources requested: 2.0/2 CPUs, 0/1 GPUs, 0.0/7.2 GiB heap, 0.0/3.6 GiB objects (0.0/1.0 accelerator_type:K80)<br>Result logdir: /home/jacobfv123/ray_results/meta_loss_2021-11-01_12-30-23<br>Number of trials: 3/3 (2 ERROR, 1 RUNNING)<br><table>\n",
              "<thead>\n",
              "<tr><th>Trial name           </th><th>status  </th><th>loc  </th><th style=\"text-align: right;\">  batch_size</th><th>conv_activation  </th><th>dense_activation  </th><th>optimizer_name  </th><th style=\"text-align: right;\">  units</th></tr>\n",
              "</thead>\n",
              "<tbody>\n",
              "<tr><td>meta_loss_7c005_00002</td><td>RUNNING </td><td>     </td><td style=\"text-align: right;\">          32</td><td>relu             </td><td>relu              </td><td>SGD             </td><td style=\"text-align: right;\">     32</td></tr>\n",
              "<tr><td>meta_loss_7c005_00000</td><td>ERROR   </td><td>     </td><td style=\"text-align: right;\">          32</td><td>relu             </td><td>relu              </td><td>SGD             </td><td style=\"text-align: right;\">      8</td></tr>\n",
              "<tr><td>meta_loss_7c005_00001</td><td>ERROR   </td><td>     </td><td style=\"text-align: right;\">          16</td><td>relu             </td><td>relu              </td><td>Adam            </td><td style=\"text-align: right;\">     16</td></tr>\n",
              "</tbody>\n",
              "</table><br>Number of errored trials: 2<br><table>\n",
              "<thead>\n",
              "<tr><th>Trial name           </th><th style=\"text-align: right;\">  # failures</th><th>error file                                                                                                                                                                                            </th></tr>\n",
              "</thead>\n",
              "<tbody>\n",
              "<tr><td>meta_loss_7c005_00000</td><td style=\"text-align: right;\">           1</td><td>/home/jacobfv123/ray_results/meta_loss_2021-11-01_12-30-23/meta_loss_7c005_00000_0_batch_size=32,conv_activation=relu,dense_activation=relu,optimizer_name=SGD,units=8_2021-11-01_12-30-23/error.txt  </td></tr>\n",
              "<tr><td>meta_loss_7c005_00001</td><td style=\"text-align: right;\">           1</td><td>/home/jacobfv123/ray_results/meta_loss_2021-11-01_12-30-23/meta_loss_7c005_00001_1_batch_size=16,conv_activation=relu,dense_activation=relu,optimizer_name=Adam,units=16_2021-11-01_12-30-24/error.txt</td></tr>\n",
              "</tbody>\n",
              "</table><br>"
            ],
            "text/plain": [
              "<IPython.core.display.HTML object>"
            ]
          },
          "metadata": {},
          "output_type": "display_data"
        },
        {
          "name": "stderr",
          "output_type": "stream",
          "text": [
            "\u001b[2m\u001b[36m(pid=2015)\u001b[0m 2021-11-01 12:30:42.757520: E tensorflow/stream_executor/cuda/cuda_driver.cc:271] failed call to cuInit: CUDA_ERROR_NO_DEVICE: no CUDA-capable device is detected\n",
            "\u001b[2m\u001b[36m(pid=2015)\u001b[0m 2021-11-01 12:30:42.757606: I tensorflow/stream_executor/cuda/cuda_diagnostics.cc:169] retrieving CUDA diagnostic information for host: deeplearning-7-vm\n",
            "\u001b[2m\u001b[36m(pid=2015)\u001b[0m 2021-11-01 12:30:42.757630: I tensorflow/stream_executor/cuda/cuda_diagnostics.cc:176] hostname: deeplearning-7-vm\n",
            "\u001b[2m\u001b[36m(pid=2015)\u001b[0m 2021-11-01 12:30:42.757796: I tensorflow/stream_executor/cuda/cuda_diagnostics.cc:200] libcuda reported version is: 460.73.1\n",
            "\u001b[2m\u001b[36m(pid=2015)\u001b[0m 2021-11-01 12:30:42.757837: I tensorflow/stream_executor/cuda/cuda_diagnostics.cc:204] kernel reported version is: 460.73.1\n",
            "\u001b[2m\u001b[36m(pid=2015)\u001b[0m 2021-11-01 12:30:42.757848: I tensorflow/stream_executor/cuda/cuda_diagnostics.cc:310] kernel version seems to match DSO: 460.73.1\n",
            "\u001b[2m\u001b[36m(pid=2015)\u001b[0m 2021-11-01 12:30:42.758400: I tensorflow/core/platform/cpu_feature_guard.cc:142] This TensorFlow binary is optimized with oneAPI Deep Neural Network Library (oneDNN) to use the following CPU instructions in performance-critical operations:  AVX2 FMA\n",
            "\u001b[2m\u001b[36m(pid=2015)\u001b[0m To enable them in other operations, rebuild TensorFlow with the appropriate compiler flags.\n",
            "2021-11-01 12:30:43,077\tERROR trial_runner.py:846 -- Trial meta_loss_7c005_00002: Error processing event.\n",
            "Traceback (most recent call last):\n",
            "  File \"/opt/conda/lib/python3.7/site-packages/ray/tune/trial_runner.py\", line 812, in _process_trial\n",
            "    results = self.trial_executor.fetch_result(trial)\n",
            "  File \"/opt/conda/lib/python3.7/site-packages/ray/tune/ray_trial_executor.py\", line 767, in fetch_result\n",
            "    result = ray.get(trial_future[0], timeout=DEFAULT_GET_TIMEOUT)\n",
            "  File \"/opt/conda/lib/python3.7/site-packages/ray/_private/client_mode_hook.py\", line 89, in wrapper\n",
            "    return func(*args, **kwargs)\n",
            "  File \"/opt/conda/lib/python3.7/site-packages/ray/worker.py\", line 1623, in get\n",
            "    raise value\n",
            "ray.exceptions.RayActorError: The actor died unexpectedly before finishing this task.\n",
            "2021-11-01 12:30:43,085\tWARNING worker.py:1227 -- A worker died or was killed while executing a task by an unexpected system error. To troubleshoot the problem, check the logs for the dead worker. RayTask ID: ffffffffffffffffe5361df5652c1dd93637d63803000000 Worker ID: e61b3c45187b164f348cd5f9432119b19d3c99d4f0b87f5075a51879 Node ID: de2fbc5360fb324acfae8b140ae1c049d7b7834725943bf2cdb2e73e Worker IP address: 10.138.0.10 Worker port: 10007 Worker PID: 2015\n"
          ]
        },
        {
          "name": "stdout",
          "output_type": "stream",
          "text": [
            "Result for meta_loss_7c005_00002:\n",
            "  {}\n",
            "  \n"
          ]
        },
        {
          "data": {
            "text/html": [
              "== Status ==<br>Memory usage on this node: 1.2/12.7 GiB<br>Using FIFO scheduling algorithm.<br>Resources requested: 0/2 CPUs, 0/1 GPUs, 0.0/7.2 GiB heap, 0.0/3.6 GiB objects (0.0/1.0 accelerator_type:K80)<br>Result logdir: /home/jacobfv123/ray_results/meta_loss_2021-11-01_12-30-23<br>Number of trials: 3/3 (3 ERROR)<br><table>\n",
              "<thead>\n",
              "<tr><th>Trial name           </th><th>status  </th><th>loc  </th><th style=\"text-align: right;\">  batch_size</th><th>conv_activation  </th><th>dense_activation  </th><th>optimizer_name  </th><th style=\"text-align: right;\">  units</th></tr>\n",
              "</thead>\n",
              "<tbody>\n",
              "<tr><td>meta_loss_7c005_00000</td><td>ERROR   </td><td>     </td><td style=\"text-align: right;\">          32</td><td>relu             </td><td>relu              </td><td>SGD             </td><td style=\"text-align: right;\">      8</td></tr>\n",
              "<tr><td>meta_loss_7c005_00001</td><td>ERROR   </td><td>     </td><td style=\"text-align: right;\">          16</td><td>relu             </td><td>relu              </td><td>Adam            </td><td style=\"text-align: right;\">     16</td></tr>\n",
              "<tr><td>meta_loss_7c005_00002</td><td>ERROR   </td><td>     </td><td style=\"text-align: right;\">          32</td><td>relu             </td><td>relu              </td><td>SGD             </td><td style=\"text-align: right;\">     32</td></tr>\n",
              "</tbody>\n",
              "</table><br>Number of errored trials: 3<br><table>\n",
              "<thead>\n",
              "<tr><th>Trial name           </th><th style=\"text-align: right;\">  # failures</th><th>error file                                                                                                                                                                                            </th></tr>\n",
              "</thead>\n",
              "<tbody>\n",
              "<tr><td>meta_loss_7c005_00000</td><td style=\"text-align: right;\">           1</td><td>/home/jacobfv123/ray_results/meta_loss_2021-11-01_12-30-23/meta_loss_7c005_00000_0_batch_size=32,conv_activation=relu,dense_activation=relu,optimizer_name=SGD,units=8_2021-11-01_12-30-23/error.txt  </td></tr>\n",
              "<tr><td>meta_loss_7c005_00001</td><td style=\"text-align: right;\">           1</td><td>/home/jacobfv123/ray_results/meta_loss_2021-11-01_12-30-23/meta_loss_7c005_00001_1_batch_size=16,conv_activation=relu,dense_activation=relu,optimizer_name=Adam,units=16_2021-11-01_12-30-24/error.txt</td></tr>\n",
              "<tr><td>meta_loss_7c005_00002</td><td style=\"text-align: right;\">           1</td><td>/home/jacobfv123/ray_results/meta_loss_2021-11-01_12-30-23/meta_loss_7c005_00002_2_batch_size=32,conv_activation=relu,dense_activation=relu,optimizer_name=SGD,units=32_2021-11-01_12-30-30/error.txt </td></tr>\n",
              "</tbody>\n",
              "</table><br>"
            ],
            "text/plain": [
              "<IPython.core.display.HTML object>"
            ]
          },
          "metadata": {},
          "output_type": "display_data"
        },
        {
          "name": "stderr",
          "output_type": "stream",
          "text": [
            "\u001b[2m\u001b[36m(pid=2015)\u001b[0m *** SIGSEGV received at time=1635769843 on cpu 0 ***\n",
            "\u001b[2m\u001b[36m(pid=2015)\u001b[0m PC: @     0x55d94c62aa8e  (unknown)  PyErr_SetObject\n",
            "\u001b[2m\u001b[36m(pid=2015)\u001b[0m     @     0x7f72b39e2730  (unknown)  (unknown)\n",
            "\u001b[2m\u001b[36m(pid=2015)\u001b[0m     @     0x55d94c8770e0  (unknown)  (unknown)\n",
            "\u001b[2m\u001b[36m(pid=2015)\u001b[0m [2021-11-01 12:30:43,049 E 2015 2040] logging.cc:315: *** SIGSEGV received at time=1635769843 on cpu 0 ***\n",
            "\u001b[2m\u001b[36m(pid=2015)\u001b[0m [2021-11-01 12:30:43,049 E 2015 2040] logging.cc:315: PC: @     0x55d94c62aa8e  (unknown)  PyErr_SetObject\n",
            "\u001b[2m\u001b[36m(pid=2015)\u001b[0m [2021-11-01 12:30:43,052 E 2015 2040] logging.cc:315:     @     0x7f72b39e2730  (unknown)  (unknown)\n",
            "\u001b[2m\u001b[36m(pid=2015)\u001b[0m [2021-11-01 12:30:43,055 E 2015 2040] logging.cc:315:     @     0x55d94c8770e0  (unknown)  (unknown)\n"
          ]
        },
        {
          "ename": "TuneError",
          "evalue": "('Trials did not complete', [meta_loss_7c005_00000, meta_loss_7c005_00001, meta_loss_7c005_00002])",
          "output_type": "error",
          "traceback": [
            "\u001b[0;31m---------------------------------------------------------------------------\u001b[0m",
            "\u001b[0;31mTuneError\u001b[0m                                 Traceback (most recent call last)",
            "\u001b[0;32m/tmp/ipykernel_1868/3609324667.py\u001b[0m in \u001b[0;36m<module>\u001b[0;34m\u001b[0m\n\u001b[1;32m      2\u001b[0m     \u001b[0mmeta_loss\u001b[0m\u001b[0;34m,\u001b[0m\u001b[0;34m\u001b[0m\u001b[0;34m\u001b[0m\u001b[0m\n\u001b[1;32m      3\u001b[0m     \u001b[0mresources_per_trial\u001b[0m\u001b[0;34m=\u001b[0m\u001b[0;34m{\u001b[0m\u001b[0;34m'gpu'\u001b[0m\u001b[0;34m:\u001b[0m \u001b[0;36m0\u001b[0m\u001b[0;34m,\u001b[0m \u001b[0;34m'cpu'\u001b[0m\u001b[0;34m:\u001b[0m \u001b[0;36m2\u001b[0m\u001b[0;34m}\u001b[0m\u001b[0;34m,\u001b[0m\u001b[0;34m\u001b[0m\u001b[0;34m\u001b[0m\u001b[0m\n\u001b[0;32m----> 4\u001b[0;31m     config=small_config)\n\u001b[0m\u001b[1;32m      5\u001b[0m \u001b[0;34m\u001b[0m\u001b[0m\n\u001b[1;32m      6\u001b[0m print(\"Best config: \", analysis.get_best_config(\n",
            "\u001b[0;32m/opt/conda/lib/python3.7/site-packages/ray/tune/tune.py\u001b[0m in \u001b[0;36mrun\u001b[0;34m(run_or_experiment, name, metric, mode, stop, time_budget_s, config, resources_per_trial, num_samples, local_dir, search_alg, scheduler, keep_checkpoints_num, checkpoint_score_attr, checkpoint_freq, checkpoint_at_end, verbose, progress_reporter, log_to_file, trial_name_creator, trial_dirname_creator, sync_config, export_formats, max_failures, fail_fast, restore, server_port, resume, queue_trials, reuse_actors, trial_executor, raise_on_failed_trial, callbacks, max_concurrent_trials, loggers, ray_auto_init, run_errored_only, global_checkpoint_period, with_server, upload_dir, sync_to_cloud, sync_to_driver, sync_on_checkpoint, _remote)\u001b[0m\n\u001b[1;32m    609\u001b[0m     \u001b[0;32mif\u001b[0m \u001b[0mincomplete_trials\u001b[0m\u001b[0;34m:\u001b[0m\u001b[0;34m\u001b[0m\u001b[0;34m\u001b[0m\u001b[0m\n\u001b[1;32m    610\u001b[0m         \u001b[0;32mif\u001b[0m \u001b[0mraise_on_failed_trial\u001b[0m \u001b[0;32mand\u001b[0m \u001b[0;32mnot\u001b[0m \u001b[0mstate\u001b[0m\u001b[0;34m[\u001b[0m\u001b[0msignal\u001b[0m\u001b[0;34m.\u001b[0m\u001b[0mSIGINT\u001b[0m\u001b[0;34m]\u001b[0m\u001b[0;34m:\u001b[0m\u001b[0;34m\u001b[0m\u001b[0;34m\u001b[0m\u001b[0m\n\u001b[0;32m--> 611\u001b[0;31m             \u001b[0;32mraise\u001b[0m \u001b[0mTuneError\u001b[0m\u001b[0;34m(\u001b[0m\u001b[0;34m\"Trials did not complete\"\u001b[0m\u001b[0;34m,\u001b[0m \u001b[0mincomplete_trials\u001b[0m\u001b[0;34m)\u001b[0m\u001b[0;34m\u001b[0m\u001b[0;34m\u001b[0m\u001b[0m\n\u001b[0m\u001b[1;32m    612\u001b[0m         \u001b[0;32melse\u001b[0m\u001b[0;34m:\u001b[0m\u001b[0;34m\u001b[0m\u001b[0;34m\u001b[0m\u001b[0m\n\u001b[1;32m    613\u001b[0m             \u001b[0mlogger\u001b[0m\u001b[0;34m.\u001b[0m\u001b[0merror\u001b[0m\u001b[0;34m(\u001b[0m\u001b[0;34m\"Trials did not complete: %s\"\u001b[0m\u001b[0;34m,\u001b[0m \u001b[0mincomplete_trials\u001b[0m\u001b[0;34m)\u001b[0m\u001b[0;34m\u001b[0m\u001b[0;34m\u001b[0m\u001b[0m\n",
            "\u001b[0;31mTuneError\u001b[0m: ('Trials did not complete', [meta_loss_7c005_00000, meta_loss_7c005_00001, meta_loss_7c005_00002])"
          ]
        }
      ],
      "source": [
        "analysis = tune.run(\n",
        "    meta_loss,\n",
        "    resources_per_trial={'gpu': 0, 'cpu': 2},\n",
        "    config=small_config)\n",
        "\n",
        "print(\"Best config: \", analysis.get_best_config(\n",
        "    metric=\"val_loss\", mode=\"min\"))\n",
        "\n",
        "# Get a dataframe for analyzing trial results.\n",
        "df = analysis.results_df"
      ]
    },
    {
      "cell_type": "markdown",
      "metadata": {
        "id": "4nnZU-daWfK3",
        "jp-MarkdownHeadingCollapsed": true,
        "tags": []
      },
      "source": [
        "There were several outer loop iterations behind those code blocks above. It seems like the behavior of `meta_loss` changes during a tuning session causing bugs to be raised. I found a [keras native example](https://docs.ray.io/en/latest/tune/examples/tune_mnist_keras.html) while debugging this issue and read the ray tune documentation. The above keras example did not actually work, so I probed into the training pipeline and found that the `model.fit` function raises tensorflow errors during ray worker execution time. To combat this, I wrote my own training loop using `tf.GradientTape` and further scaled down the hyperparameter space:\n",
        "\n",
        "### Iteration 3"
      ]
    },
    {
      "cell_type": "code",
      "execution_count": null,
      "metadata": {
        "collapsed": true,
        "id": "VbAabFTwWfK4",
        "jupyter": {
          "outputs_hidden": true
        },
        "outputId": "cfd739f0-69a2-4d90-f2b9-f612799733ac",
        "tags": []
      },
      "outputs": [
        {
          "data": {
            "text/html": [
              "== Status ==<br>Memory usage on this node: 1.2/12.7 GiB<br>Using FIFO scheduling algorithm.<br>Resources requested: 0/1 CPUs, 0/1 GPUs, 0.0/7.2 GiB heap, 0.0/3.6 GiB objects (0.0/1.0 accelerator_type:K80)<br>Result logdir: /home/jacobfv123/ray_results/trainable_2021-11-01_13-40-26<br>Number of trials: 1/1 (1 PENDING)<br><table>\n",
              "<thead>\n",
              "<tr><th>Trial name           </th><th>status  </th><th>loc  </th><th style=\"text-align: right;\">  hidden_units</th></tr>\n",
              "</thead>\n",
              "<tbody>\n",
              "<tr><td>trainable_45a03_00000</td><td>PENDING </td><td>     </td><td style=\"text-align: right;\">            16</td></tr>\n",
              "</tbody>\n",
              "</table><br><br>"
            ],
            "text/plain": [
              "<IPython.core.display.HTML object>"
            ]
          },
          "metadata": {},
          "output_type": "display_data"
        },
        {
          "data": {
            "text/html": [
              "== Status ==<br>Memory usage on this node: 1.5/12.7 GiB<br>Using FIFO scheduling algorithm.<br>Resources requested: 1.0/1 CPUs, 1.0/1 GPUs, 0.0/7.2 GiB heap, 0.0/3.6 GiB objects (0.0/1.0 accelerator_type:K80)<br>Result logdir: /home/jacobfv123/ray_results/trainable_2021-11-01_13-40-26<br>Number of trials: 1/1 (1 RUNNING)<br><table>\n",
              "<thead>\n",
              "<tr><th>Trial name           </th><th>status  </th><th>loc  </th><th style=\"text-align: right;\">  hidden_units</th></tr>\n",
              "</thead>\n",
              "<tbody>\n",
              "<tr><td>trainable_45a03_00000</td><td>RUNNING </td><td>     </td><td style=\"text-align: right;\">            16</td></tr>\n",
              "</tbody>\n",
              "</table><br><br>"
            ],
            "text/plain": [
              "<IPython.core.display.HTML object>"
            ]
          },
          "metadata": {},
          "output_type": "display_data"
        },
        {
          "name": "stderr",
          "output_type": "stream",
          "text": [
            "\u001b[2m\u001b[36m(pid=7034)\u001b[0m 2021-11-01 13:40:34.073976: I tensorflow/stream_executor/cuda/cuda_gpu_executor.cc:937] successful NUMA node read from SysFS had negative value (-1), but there must be at least one NUMA node, so returning NUMA node zero\n",
            "\u001b[2m\u001b[36m(pid=7034)\u001b[0m 2021-11-01 13:40:34.085830: I tensorflow/stream_executor/cuda/cuda_gpu_executor.cc:937] successful NUMA node read from SysFS had negative value (-1), but there must be at least one NUMA node, so returning NUMA node zero\n",
            "\u001b[2m\u001b[36m(pid=7034)\u001b[0m 2021-11-01 13:40:34.086687: I tensorflow/stream_executor/cuda/cuda_gpu_executor.cc:937] successful NUMA node read from SysFS had negative value (-1), but there must be at least one NUMA node, so returning NUMA node zero\n",
            "\u001b[2m\u001b[36m(pid=7034)\u001b[0m 2021-11-01 13:40:34.087968: I tensorflow/core/platform/cpu_feature_guard.cc:142] This TensorFlow binary is optimized with oneAPI Deep Neural Network Library (oneDNN) to use the following CPU instructions in performance-critical operations:  AVX2 FMA\n",
            "\u001b[2m\u001b[36m(pid=7034)\u001b[0m To enable them in other operations, rebuild TensorFlow with the appropriate compiler flags.\n",
            "\u001b[2m\u001b[36m(pid=7034)\u001b[0m 2021-11-01 13:40:34.088281: I tensorflow/stream_executor/cuda/cuda_gpu_executor.cc:937] successful NUMA node read from SysFS had negative value (-1), but there must be at least one NUMA node, so returning NUMA node zero\n",
            "\u001b[2m\u001b[36m(pid=7034)\u001b[0m 2021-11-01 13:40:34.089149: I tensorflow/stream_executor/cuda/cuda_gpu_executor.cc:937] successful NUMA node read from SysFS had negative value (-1), but there must be at least one NUMA node, so returning NUMA node zero\n",
            "\u001b[2m\u001b[36m(pid=7034)\u001b[0m 2021-11-01 13:40:34.089986: I tensorflow/stream_executor/cuda/cuda_gpu_executor.cc:937] successful NUMA node read from SysFS had negative value (-1), but there must be at least one NUMA node, so returning NUMA node zero\n",
            "\u001b[2m\u001b[36m(pid=7034)\u001b[0m 2021-11-01 13:40:34.541694: I tensorflow/stream_executor/cuda/cuda_gpu_executor.cc:937] successful NUMA node read from SysFS had negative value (-1), but there must be at least one NUMA node, so returning NUMA node zero\n",
            "\u001b[2m\u001b[36m(pid=7034)\u001b[0m 2021-11-01 13:40:34.542547: I tensorflow/stream_executor/cuda/cuda_gpu_executor.cc:937] successful NUMA node read from SysFS had negative value (-1), but there must be at least one NUMA node, so returning NUMA node zero\n",
            "\u001b[2m\u001b[36m(pid=7034)\u001b[0m 2021-11-01 13:40:34.543459: I tensorflow/stream_executor/cuda/cuda_gpu_executor.cc:937] successful NUMA node read from SysFS had negative value (-1), but there must be at least one NUMA node, so returning NUMA node zero\n",
            "\u001b[2m\u001b[36m(pid=7034)\u001b[0m 2021-11-01 13:40:34,544\tERROR function_runner.py:266 -- Runner Thread raised error.\n",
            "\u001b[2m\u001b[36m(pid=7034)\u001b[0m Traceback (most recent call last):\n",
            "\u001b[2m\u001b[36m(pid=7034)\u001b[0m   File \"/opt/conda/lib/python3.7/site-packages/ray/tune/function_runner.py\", line 260, in run\n",
            "\u001b[2m\u001b[36m(pid=7034)\u001b[0m     self._entrypoint()\n",
            "\u001b[2m\u001b[36m(pid=7034)\u001b[0m   File \"/opt/conda/lib/python3.7/site-packages/ray/tune/function_runner.py\", line 329, in entrypoint\n",
            "\u001b[2m\u001b[36m(pid=7034)\u001b[0m     self._status_reporter.get_checkpoint())\n",
            "\u001b[2m\u001b[36m(pid=7034)\u001b[0m   File \"/opt/conda/lib/python3.7/site-packages/ray/util/tracing/tracing_helper.py\", line 449, in _resume_span\n",
            "\u001b[2m\u001b[36m(pid=7034)\u001b[0m     return method(self, *_args, **_kwargs)\n",
            "\u001b[2m\u001b[36m(pid=7034)\u001b[0m   File \"/opt/conda/lib/python3.7/site-packages/ray/tune/function_runner.py\", line 594, in _trainable_func\n",
            "\u001b[2m\u001b[36m(pid=7034)\u001b[0m     output = fn()\n",
            "\u001b[2m\u001b[36m(pid=7034)\u001b[0m   File \"/tmp/ipykernel_6823/3481960557.py\", line 13, in trainable\n",
            "\u001b[2m\u001b[36m(pid=7034)\u001b[0m   File \"/opt/conda/lib/python3.7/site-packages/tensorflow/python/training/tracking/base.py\", line 530, in _method_wrapper\n",
            "\u001b[2m\u001b[36m(pid=7034)\u001b[0m     result = method(self, *args, **kwargs)\n",
            "\u001b[2m\u001b[36m(pid=7034)\u001b[0m   File \"/opt/conda/lib/python3.7/site-packages/keras/engine/sequential.py\", line 108, in __init__\n",
            "\u001b[2m\u001b[36m(pid=7034)\u001b[0m     name=name, autocast=False)\n",
            "\u001b[2m\u001b[36m(pid=7034)\u001b[0m   File \"/opt/conda/lib/python3.7/site-packages/tensorflow/python/training/tracking/base.py\", line 530, in _method_wrapper\n",
            "\u001b[2m\u001b[36m(pid=7034)\u001b[0m     result = method(self, *args, **kwargs)\n",
            "\u001b[2m\u001b[36m(pid=7034)\u001b[0m   File \"/opt/conda/lib/python3.7/site-packages/keras/engine/training.py\", line 289, in __init__\n",
            "\u001b[2m\u001b[36m(pid=7034)\u001b[0m     self._init_batch_counters()\n",
            "\u001b[2m\u001b[36m(pid=7034)\u001b[0m   File \"/opt/conda/lib/python3.7/site-packages/tensorflow/python/training/tracking/base.py\", line 530, in _method_wrapper\n",
            "\u001b[2m\u001b[36m(pid=7034)\u001b[0m     result = method(self, *args, **kwargs)\n",
            "\u001b[2m\u001b[36m(pid=7034)\u001b[0m   File \"/opt/conda/lib/python3.7/site-packages/keras/engine/training.py\", line 297, in _init_batch_counters\n",
            "\u001b[2m\u001b[36m(pid=7034)\u001b[0m     self._train_counter = tf.Variable(0, dtype='int64', aggregation=agg)\n",
            "\u001b[2m\u001b[36m(pid=7034)\u001b[0m   File \"/opt/conda/lib/python3.7/site-packages/tensorflow/python/ops/variables.py\", line 268, in __call__\n",
            "\u001b[2m\u001b[36m(pid=7034)\u001b[0m     return cls._variable_v2_call(*args, **kwargs)\n",
            "\u001b[2m\u001b[36m(pid=7034)\u001b[0m   File \"/opt/conda/lib/python3.7/site-packages/tensorflow/python/ops/variables.py\", line 262, in _variable_v2_call\n",
            "\u001b[2m\u001b[36m(pid=7034)\u001b[0m     shape=shape)\n",
            "\u001b[2m\u001b[36m(pid=7034)\u001b[0m   File \"/opt/conda/lib/python3.7/site-packages/tensorflow/python/ops/variables.py\", line 243, in <lambda>\n",
            "\u001b[2m\u001b[36m(pid=7034)\u001b[0m     previous_getter = lambda **kws: default_variable_creator_v2(None, **kws)\n",
            "\u001b[2m\u001b[36m(pid=7034)\u001b[0m   File \"/opt/conda/lib/python3.7/site-packages/tensorflow/python/ops/variable_scope.py\", line 2675, in default_variable_creator_v2\n",
            "\u001b[2m\u001b[36m(pid=7034)\u001b[0m     shape=shape)\n",
            "\u001b[2m\u001b[36m(pid=7034)\u001b[0m   File \"/opt/conda/lib/python3.7/site-packages/tensorflow/python/ops/variables.py\", line 270, in __call__\n",
            "\u001b[2m\u001b[36m(pid=7034)\u001b[0m     return super(VariableMetaclass, cls).__call__(*args, **kwargs)\n",
            "\u001b[2m\u001b[36m(pid=7034)\u001b[0m   File \"/opt/conda/lib/python3.7/site-packages/tensorflow/python/ops/resource_variable_ops.py\", line 1613, in __init__\n",
            "\u001b[2m\u001b[36m(pid=7034)\u001b[0m     distribute_strategy=distribute_strategy)\n",
            "\u001b[2m\u001b[36m(pid=7034)\u001b[0m   File \"/opt/conda/lib/python3.7/site-packages/tensorflow/python/ops/resource_variable_ops.py\", line 1747, in _init_from_args\n",
            "\u001b[2m\u001b[36m(pid=7034)\u001b[0m     dtype=dtype)\n",
            "\u001b[2m\u001b[36m(pid=7034)\u001b[0m   File \"/opt/conda/lib/python3.7/site-packages/tensorflow/python/profiler/trace.py\", line 163, in wrapped\n",
            "\u001b[2m\u001b[36m(pid=7034)\u001b[0m     return func(*args, **kwargs)\n",
            "\u001b[2m\u001b[36m(pid=7034)\u001b[0m   File \"/opt/conda/lib/python3.7/site-packages/tensorflow/python/framework/ops.py\", line 1566, in convert_to_tensor\n",
            "\u001b[2m\u001b[36m(pid=7034)\u001b[0m     ret = conversion_func(value, dtype=dtype, name=name, as_ref=as_ref)\n",
            "\u001b[2m\u001b[36m(pid=7034)\u001b[0m   File \"/opt/conda/lib/python3.7/site-packages/tensorflow/python/framework/tensor_conversion_registry.py\", line 52, in _default_conversion_function\n",
            "\u001b[2m\u001b[36m(pid=7034)\u001b[0m     return constant_op.constant(value, dtype, name=name)\n",
            "\u001b[2m\u001b[36m(pid=7034)\u001b[0m   File \"/opt/conda/lib/python3.7/site-packages/tensorflow/python/framework/constant_op.py\", line 272, in constant\n",
            "\u001b[2m\u001b[36m(pid=7034)\u001b[0m     allow_broadcast=True)\n",
            "\u001b[2m\u001b[36m(pid=7034)\u001b[0m   File \"/opt/conda/lib/python3.7/site-packages/tensorflow/python/framework/constant_op.py\", line 283, in _constant_impl\n",
            "\u001b[2m\u001b[36m(pid=7034)\u001b[0m     return _constant_eager_impl(ctx, value, dtype, shape, verify_shape)\n",
            "\u001b[2m\u001b[36m(pid=7034)\u001b[0m   File \"/opt/conda/lib/python3.7/site-packages/tensorflow/python/framework/constant_op.py\", line 308, in _constant_eager_impl\n",
            "\u001b[2m\u001b[36m(pid=7034)\u001b[0m     t = convert_to_eager_tensor(value, ctx, dtype)\n",
            "\u001b[2m\u001b[36m(pid=7034)\u001b[0m   File \"/opt/conda/lib/python3.7/site-packages/tensorflow/python/framework/constant_op.py\", line 105, in convert_to_eager_tensor\n",
            "\u001b[2m\u001b[36m(pid=7034)\u001b[0m     ctx.ensure_initialized()\n",
            "\u001b[2m\u001b[36m(pid=7034)\u001b[0m   File \"/opt/conda/lib/python3.7/site-packages/tensorflow/python/eager/context.py\", line 555, in ensure_initialized\n",
            "\u001b[2m\u001b[36m(pid=7034)\u001b[0m     context_handle = pywrap_tfe.TFE_NewContext(opts)\n",
            "\u001b[2m\u001b[36m(pid=7034)\u001b[0m MemoryError: std::bad_alloc\n",
            "\u001b[2m\u001b[36m(pid=7034)\u001b[0m Exception in thread Thread-2:\n",
            "\u001b[2m\u001b[36m(pid=7034)\u001b[0m Traceback (most recent call last):\n",
            "\u001b[2m\u001b[36m(pid=7034)\u001b[0m   File \"/opt/conda/lib/python3.7/threading.py\", line 926, in _bootstrap_inner\n",
            "\u001b[2m\u001b[36m(pid=7034)\u001b[0m     self.run()\n",
            "\u001b[2m\u001b[36m(pid=7034)\u001b[0m   File \"/opt/conda/lib/python3.7/site-packages/ray/tune/function_runner.py\", line 279, in run\n",
            "\u001b[2m\u001b[36m(pid=7034)\u001b[0m     raise e\n",
            "\u001b[2m\u001b[36m(pid=7034)\u001b[0m   File \"/opt/conda/lib/python3.7/site-packages/ray/tune/function_runner.py\", line 260, in run\n",
            "\u001b[2m\u001b[36m(pid=7034)\u001b[0m     self._entrypoint()\n",
            "\u001b[2m\u001b[36m(pid=7034)\u001b[0m   File \"/opt/conda/lib/python3.7/site-packages/ray/tune/function_runner.py\", line 329, in entrypoint\n",
            "\u001b[2m\u001b[36m(pid=7034)\u001b[0m     self._status_reporter.get_checkpoint())\n",
            "\u001b[2m\u001b[36m(pid=7034)\u001b[0m   File \"/opt/conda/lib/python3.7/site-packages/ray/util/tracing/tracing_helper.py\", line 449, in _resume_span\n",
            "\u001b[2m\u001b[36m(pid=7034)\u001b[0m     return method(self, *_args, **_kwargs)\n",
            "\u001b[2m\u001b[36m(pid=7034)\u001b[0m   File \"/opt/conda/lib/python3.7/site-packages/ray/tune/function_runner.py\", line 594, in _trainable_func\n",
            "\u001b[2m\u001b[36m(pid=7034)\u001b[0m     output = fn()\n",
            "\u001b[2m\u001b[36m(pid=7034)\u001b[0m   File \"/tmp/ipykernel_6823/3481960557.py\", line 13, in trainable\n",
            "\u001b[2m\u001b[36m(pid=7034)\u001b[0m   File \"/opt/conda/lib/python3.7/site-packages/tensorflow/python/training/tracking/base.py\", line 530, in _method_wrapper\n",
            "\u001b[2m\u001b[36m(pid=7034)\u001b[0m     result = method(self, *args, **kwargs)\n",
            "\u001b[2m\u001b[36m(pid=7034)\u001b[0m   File \"/opt/conda/lib/python3.7/site-packages/keras/engine/sequential.py\", line 108, in __init__\n",
            "\u001b[2m\u001b[36m(pid=7034)\u001b[0m     name=name, autocast=False)\n",
            "\u001b[2m\u001b[36m(pid=7034)\u001b[0m   File \"/opt/conda/lib/python3.7/site-packages/tensorflow/python/training/tracking/base.py\", line 530, in _method_wrapper\n",
            "\u001b[2m\u001b[36m(pid=7034)\u001b[0m     result = method(self, *args, **kwargs)\n",
            "\u001b[2m\u001b[36m(pid=7034)\u001b[0m   File \"/opt/conda/lib/python3.7/site-packages/keras/engine/training.py\", line 289, in __init__\n",
            "\u001b[2m\u001b[36m(pid=7034)\u001b[0m     self._init_batch_counters()\n",
            "\u001b[2m\u001b[36m(pid=7034)\u001b[0m   File \"/opt/conda/lib/python3.7/site-packages/tensorflow/python/training/tracking/base.py\", line 530, in _method_wrapper\n",
            "\u001b[2m\u001b[36m(pid=7034)\u001b[0m     result = method(self, *args, **kwargs)\n",
            "\u001b[2m\u001b[36m(pid=7034)\u001b[0m   File \"/opt/conda/lib/python3.7/site-packages/keras/engine/training.py\", line 297, in _init_batch_counters\n",
            "\u001b[2m\u001b[36m(pid=7034)\u001b[0m     self._train_counter = tf.Variable(0, dtype='int64', aggregation=agg)\n",
            "\u001b[2m\u001b[36m(pid=7034)\u001b[0m   File \"/opt/conda/lib/python3.7/site-packages/tensorflow/python/ops/variables.py\", line 268, in __call__\n",
            "\u001b[2m\u001b[36m(pid=7034)\u001b[0m     return cls._variable_v2_call(*args, **kwargs)\n",
            "\u001b[2m\u001b[36m(pid=7034)\u001b[0m   File \"/opt/conda/lib/python3.7/site-packages/tensorflow/python/ops/variables.py\", line 262, in _variable_v2_call\n",
            "\u001b[2m\u001b[36m(pid=7034)\u001b[0m     shape=shape)\n",
            "\u001b[2m\u001b[36m(pid=7034)\u001b[0m   File \"/opt/conda/lib/python3.7/site-packages/tensorflow/python/ops/variables.py\", line 243, in <lambda>\n",
            "\u001b[2m\u001b[36m(pid=7034)\u001b[0m     previous_getter = lambda **kws: default_variable_creator_v2(None, **kws)\n",
            "\u001b[2m\u001b[36m(pid=7034)\u001b[0m   File \"/opt/conda/lib/python3.7/site-packages/tensorflow/python/ops/variable_scope.py\", line 2675, in default_variable_creator_v2\n",
            "\u001b[2m\u001b[36m(pid=7034)\u001b[0m     shape=shape)\n",
            "\u001b[2m\u001b[36m(pid=7034)\u001b[0m   File \"/opt/conda/lib/python3.7/site-packages/tensorflow/python/ops/variables.py\", line 270, in __call__\n",
            "\u001b[2m\u001b[36m(pid=7034)\u001b[0m     return super(VariableMetaclass, cls).__call__(*args, **kwargs)\n",
            "\u001b[2m\u001b[36m(pid=7034)\u001b[0m   File \"/opt/conda/lib/python3.7/site-packages/tensorflow/python/ops/resource_variable_ops.py\", line 1613, in __init__\n",
            "\u001b[2m\u001b[36m(pid=7034)\u001b[0m     distribute_strategy=distribute_strategy)\n",
            "\u001b[2m\u001b[36m(pid=7034)\u001b[0m   File \"/opt/conda/lib/python3.7/site-packages/tensorflow/python/ops/resource_variable_ops.py\", line 1747, in _init_from_args\n",
            "\u001b[2m\u001b[36m(pid=7034)\u001b[0m     dtype=dtype)\n",
            "\u001b[2m\u001b[36m(pid=7034)\u001b[0m   File \"/opt/conda/lib/python3.7/site-packages/tensorflow/python/profiler/trace.py\", line 163, in wrapped\n",
            "\u001b[2m\u001b[36m(pid=7034)\u001b[0m     return func(*args, **kwargs)\n",
            "\u001b[2m\u001b[36m(pid=7034)\u001b[0m   File \"/opt/conda/lib/python3.7/site-packages/tensorflow/python/framework/ops.py\", line 1566, in convert_to_tensor\n",
            "\u001b[2m\u001b[36m(pid=7034)\u001b[0m     ret = conversion_func(value, dtype=dtype, name=name, as_ref=as_ref)\n",
            "\u001b[2m\u001b[36m(pid=7034)\u001b[0m   File \"/opt/conda/lib/python3.7/site-packages/tensorflow/python/framework/tensor_conversion_registry.py\", line 52, in _default_conversion_function\n",
            "\u001b[2m\u001b[36m(pid=7034)\u001b[0m     return constant_op.constant(value, dtype, name=name)\n",
            "\u001b[2m\u001b[36m(pid=7034)\u001b[0m   File \"/opt/conda/lib/python3.7/site-packages/tensorflow/python/framework/constant_op.py\", line 272, in constant\n",
            "\u001b[2m\u001b[36m(pid=7034)\u001b[0m     allow_broadcast=True)\n",
            "\u001b[2m\u001b[36m(pid=7034)\u001b[0m   File \"/opt/conda/lib/python3.7/site-packages/tensorflow/python/framework/constant_op.py\", line 283, in _constant_impl\n",
            "\u001b[2m\u001b[36m(pid=7034)\u001b[0m     return _constant_eager_impl(ctx, value, dtype, shape, verify_shape)\n",
            "\u001b[2m\u001b[36m(pid=7034)\u001b[0m   File \"/opt/conda/lib/python3.7/site-packages/tensorflow/python/framework/constant_op.py\", line 308, in _constant_eager_impl\n",
            "\u001b[2m\u001b[36m(pid=7034)\u001b[0m     t = convert_to_eager_tensor(value, ctx, dtype)\n",
            "\u001b[2m\u001b[36m(pid=7034)\u001b[0m   File \"/opt/conda/lib/python3.7/site-packages/tensorflow/python/framework/constant_op.py\", line 105, in convert_to_eager_tensor\n",
            "\u001b[2m\u001b[36m(pid=7034)\u001b[0m     ctx.ensure_initialized()\n",
            "\u001b[2m\u001b[36m(pid=7034)\u001b[0m   File \"/opt/conda/lib/python3.7/site-packages/tensorflow/python/eager/context.py\", line 555, in ensure_initialized\n",
            "\u001b[2m\u001b[36m(pid=7034)\u001b[0m     context_handle = pywrap_tfe.TFE_NewContext(opts)\n",
            "\u001b[2m\u001b[36m(pid=7034)\u001b[0m MemoryError: std::bad_alloc\n",
            "\u001b[2m\u001b[36m(pid=7034)\u001b[0m \n",
            "2021-11-01 13:40:34,747\tERROR trial_runner.py:846 -- Trial trainable_45a03_00000: Error processing event.\n",
            "Traceback (most recent call last):\n",
            "  File \"/opt/conda/lib/python3.7/site-packages/ray/tune/trial_runner.py\", line 812, in _process_trial\n",
            "    results = self.trial_executor.fetch_result(trial)\n",
            "  File \"/opt/conda/lib/python3.7/site-packages/ray/tune/ray_trial_executor.py\", line 767, in fetch_result\n",
            "    result = ray.get(trial_future[0], timeout=DEFAULT_GET_TIMEOUT)\n",
            "  File \"/opt/conda/lib/python3.7/site-packages/ray/_private/client_mode_hook.py\", line 89, in wrapper\n",
            "    return func(*args, **kwargs)\n",
            "  File \"/opt/conda/lib/python3.7/site-packages/ray/worker.py\", line 1621, in get\n",
            "    raise value.as_instanceof_cause()\n",
            "ray.exceptions.RayTaskError(TuneError): \u001b[36mray::ImplicitFunc.train_buffered()\u001b[39m (pid=7034, ip=10.138.0.10, repr=<types.ImplicitFunc object at 0x7f9637a4b150>)\n",
            "  File \"/opt/conda/lib/python3.7/site-packages/ray/tune/trainable.py\", line 189, in train_buffered\n",
            "    result = self.train()\n",
            "  File \"/opt/conda/lib/python3.7/site-packages/ray/tune/trainable.py\", line 248, in train\n",
            "    result = self.step()\n",
            "  File \"/opt/conda/lib/python3.7/site-packages/ray/tune/function_runner.py\", line 379, in step\n",
            "    self._report_thread_runner_error(block=True)\n",
            "  File \"/opt/conda/lib/python3.7/site-packages/ray/tune/function_runner.py\", line 527, in _report_thread_runner_error\n",
            "    (\"Trial raised an exception. Traceback:\\n{}\".format(err_tb_str)\n",
            "ray.tune.error.TuneError: Trial raised an exception. Traceback:\n",
            "\u001b[36mray::ImplicitFunc.train_buffered()\u001b[39m (pid=7034, ip=10.138.0.10, repr=<types.ImplicitFunc object at 0x7f9637a4b150>)\n",
            "  File \"/opt/conda/lib/python3.7/site-packages/ray/tune/function_runner.py\", line 260, in run\n",
            "    self._entrypoint()\n",
            "  File \"/opt/conda/lib/python3.7/site-packages/ray/tune/function_runner.py\", line 329, in entrypoint\n",
            "    self._status_reporter.get_checkpoint())\n",
            "  File \"/opt/conda/lib/python3.7/site-packages/ray/tune/function_runner.py\", line 594, in _trainable_func\n",
            "    output = fn()\n",
            "  File \"/tmp/ipykernel_6823/3481960557.py\", line 13, in trainable\n",
            "  File \"/opt/conda/lib/python3.7/site-packages/tensorflow/python/training/tracking/base.py\", line 530, in _method_wrapper\n",
            "    result = method(self, *args, **kwargs)\n",
            "  File \"/opt/conda/lib/python3.7/site-packages/keras/engine/sequential.py\", line 108, in __init__\n",
            "    name=name, autocast=False)\n",
            "  File \"/opt/conda/lib/python3.7/site-packages/tensorflow/python/training/tracking/base.py\", line 530, in _method_wrapper\n",
            "    result = method(self, *args, **kwargs)\n",
            "  File \"/opt/conda/lib/python3.7/site-packages/keras/engine/training.py\", line 289, in __init__\n",
            "    self._init_batch_counters()\n",
            "  File \"/opt/conda/lib/python3.7/site-packages/tensorflow/python/training/tracking/base.py\", line 530, in _method_wrapper\n",
            "    result = method(self, *args, **kwargs)\n",
            "  File \"/opt/conda/lib/python3.7/site-packages/keras/engine/training.py\", line 297, in _init_batch_counters\n",
            "    self._train_counter = tf.Variable(0, dtype='int64', aggregation=agg)\n",
            "  File \"/opt/conda/lib/python3.7/site-packages/tensorflow/python/ops/variables.py\", line 268, in __call__\n",
            "    return cls._variable_v2_call(*args, **kwargs)\n",
            "  File \"/opt/conda/lib/python3.7/site-packages/tensorflow/python/ops/variables.py\", line 262, in _variable_v2_call\n",
            "    shape=shape)\n",
            "  File \"/opt/conda/lib/python3.7/site-packages/tensorflow/python/ops/variables.py\", line 243, in <lambda>\n",
            "    previous_getter = lambda **kws: default_variable_creator_v2(None, **kws)\n",
            "  File \"/opt/conda/lib/python3.7/site-packages/tensorflow/python/ops/variable_scope.py\", line 2675, in default_variable_creator_v2\n",
            "    shape=shape)\n",
            "  File \"/opt/conda/lib/python3.7/site-packages/tensorflow/python/ops/variables.py\", line 270, in __call__\n",
            "    return super(VariableMetaclass, cls).__call__(*args, **kwargs)\n",
            "  File \"/opt/conda/lib/python3.7/site-packages/tensorflow/python/ops/resource_variable_ops.py\", line 1613, in __init__\n",
            "    distribute_strategy=distribute_strategy)\n",
            "  File \"/opt/conda/lib/python3.7/site-packages/tensorflow/python/ops/resource_variable_ops.py\", line 1747, in _init_from_args\n",
            "    dtype=dtype)\n",
            "  File \"/opt/conda/lib/python3.7/site-packages/tensorflow/python/profiler/trace.py\", line 163, in wrapped\n",
            "    return func(*args, **kwargs)\n",
            "  File \"/opt/conda/lib/python3.7/site-packages/tensorflow/python/framework/ops.py\", line 1566, in convert_to_tensor\n",
            "    ret = conversion_func(value, dtype=dtype, name=name, as_ref=as_ref)\n",
            "  File \"/opt/conda/lib/python3.7/site-packages/tensorflow/python/framework/tensor_conversion_registry.py\", line 52, in _default_conversion_function\n",
            "    return constant_op.constant(value, dtype, name=name)\n",
            "  File \"/opt/conda/lib/python3.7/site-packages/tensorflow/python/framework/constant_op.py\", line 272, in constant\n",
            "    allow_broadcast=True)\n",
            "  File \"/opt/conda/lib/python3.7/site-packages/tensorflow/python/framework/constant_op.py\", line 283, in _constant_impl\n",
            "    return _constant_eager_impl(ctx, value, dtype, shape, verify_shape)\n",
            "  File \"/opt/conda/lib/python3.7/site-packages/tensorflow/python/framework/constant_op.py\", line 308, in _constant_eager_impl\n",
            "    t = convert_to_eager_tensor(value, ctx, dtype)\n",
            "  File \"/opt/conda/lib/python3.7/site-packages/tensorflow/python/framework/constant_op.py\", line 105, in convert_to_eager_tensor\n",
            "    ctx.ensure_initialized()\n",
            "  File \"/opt/conda/lib/python3.7/site-packages/tensorflow/python/eager/context.py\", line 555, in ensure_initialized\n",
            "    context_handle = pywrap_tfe.TFE_NewContext(opts)\n",
            "MemoryError: std::bad_alloc\n"
          ]
        },
        {
          "name": "stdout",
          "output_type": "stream",
          "text": [
            "Result for trainable_45a03_00000:\n",
            "  {}\n",
            "  \n"
          ]
        },
        {
          "data": {
            "text/html": [
              "== Status ==<br>Memory usage on this node: 1.8/12.7 GiB<br>Using FIFO scheduling algorithm.<br>Resources requested: 0/1 CPUs, 0/1 GPUs, 0.0/7.2 GiB heap, 0.0/3.6 GiB objects (0.0/1.0 accelerator_type:K80)<br>Result logdir: /home/jacobfv123/ray_results/trainable_2021-11-01_13-40-26<br>Number of trials: 1/1 (1 ERROR)<br><table>\n",
              "<thead>\n",
              "<tr><th>Trial name           </th><th>status  </th><th>loc  </th><th style=\"text-align: right;\">  hidden_units</th></tr>\n",
              "</thead>\n",
              "<tbody>\n",
              "<tr><td>trainable_45a03_00000</td><td>ERROR   </td><td>     </td><td style=\"text-align: right;\">            16</td></tr>\n",
              "</tbody>\n",
              "</table><br>Number of errored trials: 1<br><table>\n",
              "<thead>\n",
              "<tr><th>Trial name           </th><th style=\"text-align: right;\">  # failures</th><th>error file                                                                                                                      </th></tr>\n",
              "</thead>\n",
              "<tbody>\n",
              "<tr><td>trainable_45a03_00000</td><td style=\"text-align: right;\">           1</td><td>/home/jacobfv123/ray_results/trainable_2021-11-01_13-40-26/trainable_45a03_00000_0_hidden_units=16_2021-11-01_13-40-27/error.txt</td></tr>\n",
              "</tbody>\n",
              "</table><br>"
            ],
            "text/plain": [
              "<IPython.core.display.HTML object>"
            ]
          },
          "metadata": {},
          "output_type": "display_data"
        },
        {
          "ename": "TuneError",
          "evalue": "('Trials did not complete', [trainable_45a03_00000])",
          "output_type": "error",
          "traceback": [
            "\u001b[0;31m---------------------------------------------------------------------------\u001b[0m",
            "\u001b[0;31mTuneError\u001b[0m                                 Traceback (most recent call last)",
            "\u001b[0;32m/tmp/ipykernel_6823/3481960557.py\u001b[0m in \u001b[0;36m<module>\u001b[0;34m\u001b[0m\n\u001b[1;32m     65\u001b[0m         \u001b[0;34m'hidden_units'\u001b[0m\u001b[0;34m:\u001b[0m \u001b[0mtune\u001b[0m\u001b[0;34m.\u001b[0m\u001b[0mchoice\u001b[0m\u001b[0;34m(\u001b[0m\u001b[0;34m[\u001b[0m\u001b[0;36m16\u001b[0m\u001b[0;34m,\u001b[0m \u001b[0;36m32\u001b[0m\u001b[0;34m,\u001b[0m \u001b[0;36m64\u001b[0m\u001b[0;34m]\u001b[0m\u001b[0;34m)\u001b[0m\u001b[0;34m\u001b[0m\u001b[0;34m\u001b[0m\u001b[0m\n\u001b[1;32m     66\u001b[0m     },\n\u001b[0;32m---> 67\u001b[0;31m     \u001b[0mresources_per_trial\u001b[0m\u001b[0;34m=\u001b[0m\u001b[0;34m{\u001b[0m\u001b[0;34m'gpu'\u001b[0m\u001b[0;34m:\u001b[0m \u001b[0;36m1\u001b[0m\u001b[0;34m}\u001b[0m\u001b[0;34m\u001b[0m\u001b[0;34m\u001b[0m\u001b[0m\n\u001b[0m\u001b[1;32m     68\u001b[0m )\n\u001b[1;32m     69\u001b[0m \u001b[0;34m\u001b[0m\u001b[0m\n",
            "\u001b[0;32m/opt/conda/lib/python3.7/site-packages/ray/tune/tune.py\u001b[0m in \u001b[0;36mrun\u001b[0;34m(run_or_experiment, name, metric, mode, stop, time_budget_s, config, resources_per_trial, num_samples, local_dir, search_alg, scheduler, keep_checkpoints_num, checkpoint_score_attr, checkpoint_freq, checkpoint_at_end, verbose, progress_reporter, log_to_file, trial_name_creator, trial_dirname_creator, sync_config, export_formats, max_failures, fail_fast, restore, server_port, resume, queue_trials, reuse_actors, trial_executor, raise_on_failed_trial, callbacks, max_concurrent_trials, loggers, ray_auto_init, run_errored_only, global_checkpoint_period, with_server, upload_dir, sync_to_cloud, sync_to_driver, sync_on_checkpoint, _remote)\u001b[0m\n\u001b[1;32m    609\u001b[0m     \u001b[0;32mif\u001b[0m \u001b[0mincomplete_trials\u001b[0m\u001b[0;34m:\u001b[0m\u001b[0;34m\u001b[0m\u001b[0;34m\u001b[0m\u001b[0m\n\u001b[1;32m    610\u001b[0m         \u001b[0;32mif\u001b[0m \u001b[0mraise_on_failed_trial\u001b[0m \u001b[0;32mand\u001b[0m \u001b[0;32mnot\u001b[0m \u001b[0mstate\u001b[0m\u001b[0;34m[\u001b[0m\u001b[0msignal\u001b[0m\u001b[0;34m.\u001b[0m\u001b[0mSIGINT\u001b[0m\u001b[0;34m]\u001b[0m\u001b[0;34m:\u001b[0m\u001b[0;34m\u001b[0m\u001b[0;34m\u001b[0m\u001b[0m\n\u001b[0;32m--> 611\u001b[0;31m             \u001b[0;32mraise\u001b[0m \u001b[0mTuneError\u001b[0m\u001b[0;34m(\u001b[0m\u001b[0;34m\"Trials did not complete\"\u001b[0m\u001b[0;34m,\u001b[0m \u001b[0mincomplete_trials\u001b[0m\u001b[0;34m)\u001b[0m\u001b[0;34m\u001b[0m\u001b[0;34m\u001b[0m\u001b[0m\n\u001b[0m\u001b[1;32m    612\u001b[0m         \u001b[0;32melse\u001b[0m\u001b[0;34m:\u001b[0m\u001b[0;34m\u001b[0m\u001b[0;34m\u001b[0m\u001b[0m\n\u001b[1;32m    613\u001b[0m             \u001b[0mlogger\u001b[0m\u001b[0;34m.\u001b[0m\u001b[0merror\u001b[0m\u001b[0;34m(\u001b[0m\u001b[0;34m\"Trials did not complete: %s\"\u001b[0m\u001b[0;34m,\u001b[0m \u001b[0mincomplete_trials\u001b[0m\u001b[0;34m)\u001b[0m\u001b[0;34m\u001b[0m\u001b[0;34m\u001b[0m\u001b[0m\n",
            "\u001b[0;31mTuneError\u001b[0m: ('Trials did not complete', [trainable_45a03_00000])"
          ]
        }
      ],
      "source": [
        "def trainable(config):\n",
        "\n",
        "    import tensorflow as tf\n",
        "    keras = tf.keras\n",
        "    tfkl = keras.layers\n",
        "    \n",
        "    (X_train, Y_train), (X_test, Y_test) = keras.datasets.mnist.load_data()\n",
        "    \n",
        "    model = keras.Sequential([\n",
        "        tfkl.Flatten(input_shape=(28, 28)),\n",
        "        tfkl.Dense(config['hidden_units'], activation=\"relu\"),\n",
        "        tfkl.Dropout(0.2),\n",
        "        tfkl.Dense(10, activation=\"softmax\")\n",
        "    ])\n",
        "    \n",
        "    epochs = 1\n",
        "    train_batch_size=config['train_batch_size']\n",
        "    loss_fn = keras.losses.SparseCategoricalCrossentropy(from_logits=False)\n",
        "    optimizer=tf.keras.optimizers.SGD(0.005)\n",
        "    \n",
        "    # for some reason keras' model.fit functions raises have errors so I wrote my own training loop\n",
        "    for epoch in range(epochs):\n",
        "        minibatches = 2 # X_train.shape[0]//train_batch_size\n",
        "        for step in range(minibatches):\n",
        "            Xmb_train = X_train[step*train_batch_size:(step+1)*train_batch_size]\n",
        "            Ymb_train = Y_train[step*train_batch_size:(step+1)*train_batch_size]\n",
        "            \n",
        "            with tf.GradientTape() as tape:\n",
        "                probits = model(Xmb_train, training=True)\n",
        "                loss_value = loss_fn(Ymb_train, probits)\n",
        "            \n",
        "            grads = tape.gradient(loss_value, model.trainable_weights)\n",
        "            optimizer.apply_gradients(zip(grads, model.trainable_weights))\n",
        "            \n",
        "    \n",
        "    \"\"\"\n",
        "    # evalutate model\n",
        "    for step in range(X_train.shape[0]//batch_size):\n",
        "        Xmb_train = X_train[step*batch_size:(step+1)*batch_size]\n",
        "        Ymb_train = Y_train[step*batch_size:(step+1)*batch_size]\n",
        "\n",
        "        with tf.GradientTape() as tape:\n",
        "            probits = model(Xmb_test)\n",
        "            loss_value = loss_fn(Ymb_test, probits)\"\"\"\n",
        "    \"\"\"\n",
        "    history = model.fit(\n",
        "        X_train,\n",
        "        Y_train,\n",
        "        batch_size=config['train_batch_size'],\n",
        "        epochs=10,\n",
        "        verbose=0,\n",
        "        validation_data=(X_test, Y_test),\n",
        "        validation_batch_size=64,\n",
        "    )\"\"\"\n",
        "\n",
        "    # report validation loss\n",
        "    probits = model(X_test[:16], training=False)\n",
        "    final_val_loss = loss_fn(Y_test[:16], probits)\n",
        "    tune.report(val_loss=final_val_loss)\n",
        "\n",
        "analysis = tune.run(\n",
        "    trainable,\n",
        "    config={\n",
        "        'train_batch_size': 16,\n",
        "        'hidden_units': tune.choice([16, 32, 64])\n",
        "    },\n",
        "    resources_per_trial={'gpu': 1}\n",
        ")\n",
        "\n",
        "print(\"best config: \", analysis.get_best_config(metric=\"val_loss\", mode=\"max\"))"
      ]
    },
    {
      "cell_type": "markdown",
      "metadata": {
        "id": "-5w4alIeZLda"
      },
      "source": [
        "### Iteration 4\n",
        "\n",
        "At this point, I began to suspect serious issues with the way I am using `ray.tune`. I hope you found a solution. Maybe I have by now as well, since ray tune is such as flexible and useful tool. Along my search, I encountered a more narrow library `keras-tuner` that does what I want. Check out the [guide](https://www.tensorflow.org/tutorials/keras/keras_tuner) for information on getting started. In my case, deploying `keras-tuner` was as simple as:"
      ]
    },
    {
      "cell_type": "code",
      "execution_count": null,
      "metadata": {
        "id": "lIqO6pwFZLda"
      },
      "outputs": [],
      "source": [
        "!pip install -q -U keras-tuner\n",
        "import keras_tuner as kt"
      ]
    },
    {
      "cell_type": "code",
      "execution_count": null,
      "metadata": {
        "id": "d4atAnGqZLdb"
      },
      "outputs": [],
      "source": [
        "import tensorflow as tf\n",
        "keras = tf.keras\n",
        "tfkl = keras.layers\n",
        "\n",
        "(X_train, Y_train), (X_test, Y_test) = keras.datasets.mnist.load_data()\n",
        "\n",
        "def model_builder(hp):\n",
        "    \n",
        "    hp_units = hp.Int('units', min_value=32, max_value=512, step=32)\n",
        "    hp_units2 = hp.Int('units2', min_value=32, max_value=512, step=32)\n",
        "    hp_conv_activation = hp.Choice('conv_activation', values=['relu', 'elu', 'tanh'])\n",
        "    hp_dense_activation = hp.Choice('dense_activation', values=['relu', 'elu', 'tanh'])\n",
        "    hp_num_conv_layers = hp.Int('num_conv_layers', min_value=0, max_value=3, step=1)\n",
        "    hp_num_dense_layers = hp.Int('num_dense_layers', min_value=0, max_value=2, step=1)\n",
        "    hp_dropout_factor = hp.Choice('dropout_factor', values=[0.0, 0.05, 0.1, 0.15, 0.2])\n",
        "    hp_optimizer = hp.Choice('optimizer', values=['SGD', 'Adam', 'Adadelta'])\n",
        "    #hp_learning_rate = hp.choice('learning_rate', values=[0.0005, 0.001, 0.002, 0.005, 0.01])\n",
        "    \n",
        "    model = keras.Sequential([\n",
        "        tfkl.Input(shape=(28, 28)),\n",
        "        tfkl.Reshape(target_shape=(28, 28, 1)),  # give each pixel a 1 dimensional channel\n",
        "        ] + [\n",
        "        tfkl.Conv2D(filters=(3*1+1*hp_units)//4, kernel_size=(3,3), activation=hp_conv_activation),\n",
        "        tfkl.Conv2D(filters=(2*1+2*hp_units)//4, kernel_size=(3,3), activation=hp_conv_activation),\n",
        "        tfkl.Conv2D(filters=(1*1+3*hp_units)//4, kernel_size=(3,3), activation=hp_conv_activation),\n",
        "        ][:hp_num_conv_layers] + [\n",
        "        tfkl.Flatten(input_shape=(28, 28)),\n",
        "        ] + [\n",
        "        tfkl.Dense(hp_units, activation=hp_dense_activation),\n",
        "        tfkl.Dense(hp_units2, activation=hp_dense_activation),\n",
        "        ][:hp_num_dense_layers] + [\n",
        "        tfkl.Dropout(hp_dropout_factor),\n",
        "        tfkl.Dense(10, activation=\"softmax\")\n",
        "    ])\n",
        "    \n",
        "    model.compile(loss='sparse_categorical_crossentropy', \n",
        "                  optimizer=hp_optimizer, metrics=['accuracy'])\n",
        "    return model"
      ]
    },
    {
      "cell_type": "markdown",
      "metadata": {
        "id": "33h-JesVZLdb"
      },
      "source": [
        "The following code is directly copied from https://www.tensorflow.org/tutorials/keras/keras_tuner"
      ]
    },
    {
      "cell_type": "code",
      "execution_count": null,
      "metadata": {
        "colab": {
          "base_uri": "https://localhost:8080/"
        },
        "id": "X49fr3-bZLdc",
        "outputId": "37905ac0-e711-4ebb-afef-1c1bf06aa108"
      },
      "outputs": [
        {
          "name": "stdout",
          "output_type": "stream",
          "text": [
            "Trial 30 Complete [00h 00m 59s]\n",
            "val_accuracy: 0.09950000047683716\n",
            "\n",
            "Best val_accuracy So Far: 0.9877499938011169\n",
            "Total elapsed time: 00h 21m 51s\n",
            "INFO:tensorflow:Oracle triggered exit\n",
            "Hyperparameter search is complete. Best hyperparameters: {'units': 480, 'units2': 160, 'conv_activation': 'tanh', 'dense_activation': 'relu', 'num_conv_layers': 1, 'num_dense_layers': 2, 'dropout_factor': 0.05, 'optimizer': 'SGD', 'tuner/epochs': 10, 'tuner/initial_epoch': 4, 'tuner/bracket': 2, 'tuner/round': 2, 'tuner/trial_id': '91393a31d51f30707bd93361fb509e4c'}\n"
          ]
        }
      ],
      "source": [
        "tuner = kt.Hyperband(model_builder,\n",
        "                     objective='val_accuracy',\n",
        "                     max_epochs=10,\n",
        "                     factor=3,\n",
        "                     directory='my_dir',\n",
        "                     project_name='intro_to_kt')\n",
        "stop_early = tf.keras.callbacks.EarlyStopping(monitor='val_loss', patience=5)\n",
        "tuner.search(X_train, Y_train, epochs=50, validation_split=0.2, callbacks=[stop_early])\n",
        "\n",
        "# Get the optimal hyperparameters\n",
        "best_hps=tuner.get_best_hyperparameters(num_trials=1)[0]\n",
        "\n",
        "print('Hyperparameter search is complete. Best hyperparameters:', best_hps.values)"
      ]
    },
    {
      "cell_type": "markdown",
      "metadata": {
        "id": "txwkRsKOhhnR"
      },
      "source": [
        "I was surprised that the tuner chose `tanh` and the humble `SGD` optimizer. That's convenient since SGD is the fastest of the tested optimizers. Let's now test these hyperparameters to see if we can reach the `0.9877` validation accuracy that keras-tuner boasts:"
      ]
    },
    {
      "cell_type": "code",
      "execution_count": null,
      "metadata": {
        "colab": {
          "base_uri": "https://localhost:8080/"
        },
        "id": "0DBiwFBZhhKj",
        "outputId": "0b76033b-85cd-4182-f6ce-c3f3ed4f313d"
      },
      "outputs": [
        {
          "name": "stdout",
          "output_type": "stream",
          "text": [
            "Epoch 1/10\n",
            "1875/1875 - 8s - loss: 0.1581 - accuracy: 0.9518 - val_loss: 0.0658 - val_accuracy: 0.9798\n",
            "Epoch 2/10\n",
            "1875/1875 - 8s - loss: 0.0452 - accuracy: 0.9865 - val_loss: 0.0565 - val_accuracy: 0.9824\n",
            "Epoch 3/10\n",
            "1875/1875 - 8s - loss: 0.0214 - accuracy: 0.9938 - val_loss: 0.0425 - val_accuracy: 0.9863\n",
            "Epoch 4/10\n",
            "1875/1875 - 8s - loss: 0.0112 - accuracy: 0.9974 - val_loss: 0.0413 - val_accuracy: 0.9861\n",
            "Epoch 5/10\n",
            "1875/1875 - 8s - loss: 0.0048 - accuracy: 0.9994 - val_loss: 0.0438 - val_accuracy: 0.9871\n",
            "Epoch 6/10\n",
            "1875/1875 - 8s - loss: 0.0028 - accuracy: 0.9997 - val_loss: 0.0450 - val_accuracy: 0.9869\n",
            "Epoch 7/10\n",
            "1875/1875 - 8s - loss: 0.0017 - accuracy: 0.9999 - val_loss: 0.0400 - val_accuracy: 0.9879\n",
            "Epoch 8/10\n",
            "1875/1875 - 8s - loss: 0.0013 - accuracy: 0.9999 - val_loss: 0.0401 - val_accuracy: 0.9884\n",
            "Epoch 9/10\n",
            "1875/1875 - 8s - loss: 0.0011 - accuracy: 0.9999 - val_loss: 0.0406 - val_accuracy: 0.9876\n",
            "Epoch 10/10\n",
            "1875/1875 - 8s - loss: 0.0010 - accuracy: 0.9999 - val_loss: 0.0395 - val_accuracy: 0.9877\n"
          ]
        }
      ],
      "source": [
        "model = tuner.hypermodel.build(best_hps)\n",
        "history = model.fit(\n",
        "    x=X_train,\n",
        "    y=Y_train,\n",
        "    epochs=10,\n",
        "    verbose=2,\n",
        "    validation_data=(X_test, Y_test),\n",
        "    validation_batch_size=64,\n",
        ")"
      ]
    },
    {
      "cell_type": "code",
      "execution_count": null,
      "metadata": {
        "colab": {
          "base_uri": "https://localhost:8080/",
          "height": 545
        },
        "id": "oORKOHqmitQx",
        "outputId": "0f63b066-a653-454f-bd1f-c432a9d3ceb9"
      },
      "outputs": [
        {
          "data": {
            "image/png": "[encoded data removed]",
            "text/plain": [
              "<Figure size 432x288 with 1 Axes>"
            ]
          },
          "metadata": {
            "needs_background": "light"
          },
          "output_type": "display_data"
        },
        {
          "data": {
            "image/png": "[encoded data removed]",
            "text/plain": [
              "<Figure size 432x288 with 1 Axes>"
            ]
          },
          "metadata": {
            "needs_background": "light"
          },
          "output_type": "display_data"
        }
      ],
      "source": [
        "import pandas as pd\n",
        "import matplotlib.pyplot as plt\n",
        "import seaborn as sns\n",
        "\n",
        "data = pd.DataFrame(history.history)\n",
        "\n",
        "sns.lineplot(data=data.filter(['loss', 'val_loss']))\n",
        "plt.title(\"loss\")\n",
        "plt.show()\n",
        "sns.lineplot(data=data.filter(['accuracy', 'val_accuracy']))\n",
        "plt.title(\"accuracy\")\n",
        "plt.show()"
      ]
    },
    {
      "cell_type": "markdown",
      "metadata": {
        "id": "XcpTXGY0ZLdd"
      },
      "source": [
        "Very nice performance! Almost 3 9's of validation accuracy. Let's play one more game with our model before concluding.\n",
        "\n",
        "## Fine-tuning and Transfer Learning\n",
        "\n",
        "For [transfer learning](https://arxiv.org/abs/1911.02685), the idea is: pretrain in domain X, then train and test in domain Y. Transfer learning attempts to catch students who are only studying for the exam but not actually learning the content. A 'good' image model shouldn't have trouble retraining for `cifar10`. A narrow but useful application of transfer learning is fine-tuning a subset of the parameters to a new objective without major architectural changes. We're going to try fine-tuning our `model` for `cifar10` and see how representative its internal activations are of arbitrary images. This is an easy transfer to attempt since \n",
        "- both are image classification problems and \n",
        "- data is shaped the similarly in both datasets.\n",
        "\n",
        "We'll do this by freezing the parameters of all the layers except the final one and then retraining on a new dataset. Along the way, we'll evaluate (but not run gradient descent) on the model's loss in its origonal `mnist` classification task. Then we'll try to train a model that can classify images from either domain, and finally throw the inner optimizer into a hyperparameter tunning loop.\n",
        "\n",
        "Let's start by making our own training loop"
      ]
    },
    {
      "cell_type": "code",
      "execution_count": null,
      "metadata": {
        "id": "vmAXuxX5oxym"
      },
      "outputs": [],
      "source": [
        "mnist_train, mnist_test = keras.datasets.mnist.load_data()\n",
        "cifar10_train, cifar10_test = keras.datasets.cifar10.load_data()\n",
        "\n",
        "# resize the cifar10 images to be (28,28)\n",
        "cifar10_train = cifar10_train[0][:, 2:-2, 2:-2].mean(-1), cifar10_train[1]\n",
        "cifar10_test = cifar10_test[0][:, 2:-2, 2:-2].mean(-1), cifar10_test[1]\n",
        "\n",
        "class CustomEvaluation(keras.callbacks.Callback):\n",
        "\n",
        "    def __init__(self, data, ds_name, verbose=0):\n",
        "        self.X, self.Y = data\n",
        "        self.ds_name = ds_name\n",
        "        self.loss_key = f'{self.ds_name}_loss'\n",
        "        self.acc_key = f'{self.ds_name}_acc'\n",
        "        self.verbose = verbose\n",
        "\n",
        "    def on_epoch_end(self, epoch, logs=None):\n",
        "        if not logs:\n",
        "            logs = dict()\n",
        "\n",
        "        loss, acc = self.model.evaluate(self.X, self.Y, verbose = 0)\n",
        "        logs[self.loss_key] = loss\n",
        "        logs[self.acc_key] = acc\n",
        "\n",
        "        if self.verbose > 0:\n",
        "            print(f'%s: %0.5f - %s: %0.5f' % \n",
        "                  (self.loss_key, loss, self.acc_key, acc))\n",
        "\n",
        "mnist_eval_cb = CustomEvaluation(mnist_test, 'mnist', verbose=1)\n",
        "cifar10_eval_cb = CustomEvaluation(cifar10_test, 'cifar10', verbose=1)\n",
        "\n",
        "# only let the last layer learn\n",
        "for layer in model.layers[:-1]:\n",
        "    layer.trainable = False"
      ]
    },
    {
      "cell_type": "code",
      "execution_count": null,
      "metadata": {
        "colab": {
          "base_uri": "https://localhost:8080/"
        },
        "id": "ibaRknyCZLdd",
        "outputId": "5084467a-8118-4b77-c118-d492ae9d1a3b"
      },
      "outputs": [
        {
          "name": "stdout",
          "output_type": "stream",
          "text": [
            "Epoch 1/10\n",
            "1563/1563 - 7s - loss: 2.7380 - accuracy: 0.0981\n",
            "mnist_loss: 2.35357 - mnist_acc: 0.15990\n",
            "cifar10_loss: 2.30254 - cifar10_acc: 0.10020\n",
            "Epoch 2/10\n",
            "1563/1563 - 6s - loss: 2.3028 - accuracy: 0.0961\n",
            "mnist_loss: 2.30807 - mnist_acc: 0.17150\n",
            "cifar10_loss: 2.30258 - cifar10_acc: 0.10000\n",
            "Epoch 3/10\n",
            "1563/1563 - 6s - loss: 2.3028 - accuracy: 0.0984\n",
            "mnist_loss: 2.31940 - mnist_acc: 0.15170\n",
            "cifar10_loss: 2.30258 - cifar10_acc: 0.10010\n",
            "Epoch 4/10\n",
            "1563/1563 - 6s - loss: 2.3027 - accuracy: 0.0986\n",
            "mnist_loss: 2.32376 - mnist_acc: 0.14780\n",
            "cifar10_loss: 2.30258 - cifar10_acc: 0.10010\n",
            "Epoch 5/10\n",
            "1563/1563 - 6s - loss: 2.3027 - accuracy: 0.0970\n",
            "mnist_loss: 2.32900 - mnist_acc: 0.14830\n",
            "cifar10_loss: 2.30258 - cifar10_acc: 0.10010\n",
            "Epoch 6/10\n",
            "1563/1563 - 6s - loss: 2.3027 - accuracy: 0.0981\n",
            "mnist_loss: 2.32387 - mnist_acc: 0.15160\n",
            "cifar10_loss: 2.30258 - cifar10_acc: 0.10010\n",
            "Epoch 7/10\n",
            "1563/1563 - 6s - loss: 2.3027 - accuracy: 0.0966\n",
            "mnist_loss: 2.32490 - mnist_acc: 0.15050\n",
            "cifar10_loss: 2.30257 - cifar10_acc: 0.10010\n",
            "Epoch 8/10\n",
            "1563/1563 - 6s - loss: 2.3027 - accuracy: 0.0976\n",
            "mnist_loss: 2.33507 - mnist_acc: 0.14700\n",
            "cifar10_loss: 2.30259 - cifar10_acc: 0.10000\n",
            "Epoch 9/10\n",
            "1563/1563 - 6s - loss: 2.3027 - accuracy: 0.0984\n",
            "mnist_loss: 2.33530 - mnist_acc: 0.14980\n",
            "cifar10_loss: 2.30258 - cifar10_acc: 0.10000\n",
            "Epoch 10/10\n",
            "1563/1563 - 6s - loss: 2.3027 - accuracy: 0.0981\n",
            "mnist_loss: 2.31990 - mnist_acc: 0.15250\n",
            "cifar10_loss: 2.30257 - cifar10_acc: 0.10010\n"
          ]
        }
      ],
      "source": [
        "history = model.fit(\n",
        "    x=cifar10_train[0],\n",
        "    y=cifar10_train[1],\n",
        "    epochs=10,\n",
        "    verbose=2,\n",
        "    callbacks=[mnist_eval_cb, cifar10_eval_cb]\n",
        ")"
      ]
    },
    {
      "cell_type": "code",
      "execution_count": null,
      "metadata": {
        "colab": {
          "base_uri": "https://localhost:8080/",
          "height": 545
        },
        "id": "MuOUn9XSZLdd",
        "outputId": "edcdac6b-4a5e-41c5-cd7c-3a98c9b9e33e"
      },
      "outputs": [
        {
          "data": {
            "image/png": "[encoded data removed]",
            "text/plain": [
              "<Figure size 432x288 with 1 Axes>"
            ]
          },
          "metadata": {
            "needs_background": "light"
          },
          "output_type": "display_data"
        },
        {
          "data": {
            "image/png": "[encoded data removed]",
            "text/plain": [
              "<Figure size 432x288 with 1 Axes>"
            ]
          },
          "metadata": {
            "needs_background": "light"
          },
          "output_type": "display_data"
        }
      ],
      "source": [
        "data = pd.DataFrame(history.history)\n",
        "\n",
        "sns.lineplot(data=data.filter(['loss', 'cifar10_loss', 'mnist_acc']))\n",
        "plt.title(\"loss\")\n",
        "plt.show()\n",
        "sns.lineplot(data=data.filter(['accuracy', 'cifar10_acc', 'mnist_loss']))\n",
        "plt.title(\"accuracy\")\n",
        "plt.show()"
      ]
    },
    {
      "cell_type": "markdown",
      "metadata": {
        "id": "t1ck56xj2DWj"
      },
      "source": [
        "This is not good. Amazingly, by forcing only the last layer to adapt to a new task, the model performed *worse* than random (1/10 = 0.1 > 0.09...)! I'm going to help the model out by thawing out the rest of the layers. Let's see if that helps:"
      ]
    },
    {
      "cell_type": "code",
      "execution_count": null,
      "metadata": {
        "colab": {
          "base_uri": "https://localhost:8080/",
          "height": 1000
        },
        "id": "NAB1q9MY0gmb",
        "outputId": "7f2a7914-1819-484e-f174-07f424124162"
      },
      "outputs": [
        {
          "name": "stdout",
          "output_type": "stream",
          "text": [
            "Epoch 1/10\n",
            "1563/1563 - 6s - loss: 2.3027 - accuracy: 0.0990\n",
            "mnist_loss: 2.31927 - mnist_acc: 0.15290\n",
            "cifar10_loss: 2.30257 - cifar10_acc: 0.10010\n",
            "Epoch 2/10\n",
            "1563/1563 - 6s - loss: 2.3027 - accuracy: 0.0978\n",
            "mnist_loss: 2.31963 - mnist_acc: 0.15480\n",
            "cifar10_loss: 2.30257 - cifar10_acc: 0.10000\n",
            "Epoch 3/10\n",
            "1563/1563 - 6s - loss: 2.3027 - accuracy: 0.0977\n",
            "mnist_loss: 2.31968 - mnist_acc: 0.15230\n",
            "cifar10_loss: 2.30256 - cifar10_acc: 0.09990\n",
            "Epoch 4/10\n",
            "1563/1563 - 6s - loss: 2.3027 - accuracy: 0.0981\n",
            "mnist_loss: 2.32013 - mnist_acc: 0.15150\n",
            "cifar10_loss: 2.30258 - cifar10_acc: 0.10010\n",
            "Epoch 5/10\n",
            "1563/1563 - 6s - loss: 2.3040 - accuracy: 0.0983\n",
            "mnist_loss: 2.29998 - mnist_acc: 0.16470\n",
            "cifar10_loss: 2.30258 - cifar10_acc: 0.10010\n",
            "Epoch 6/10\n",
            "1563/1563 - 6s - loss: 2.3027 - accuracy: 0.0964\n",
            "mnist_loss: 2.30030 - mnist_acc: 0.16330\n",
            "cifar10_loss: 2.30258 - cifar10_acc: 0.10010\n",
            "Epoch 7/10\n",
            "1563/1563 - 6s - loss: 2.3027 - accuracy: 0.0985\n",
            "mnist_loss: 2.30038 - mnist_acc: 0.16020\n",
            "cifar10_loss: 2.30257 - cifar10_acc: 0.09990\n",
            "Epoch 8/10\n",
            "1563/1563 - 6s - loss: 2.3027 - accuracy: 0.0992\n",
            "mnist_loss: 2.29983 - mnist_acc: 0.16680\n",
            "cifar10_loss: 2.30257 - cifar10_acc: 0.10000\n",
            "Epoch 9/10\n",
            "1563/1563 - 6s - loss: 2.3027 - accuracy: 0.0976\n",
            "mnist_loss: 2.29999 - mnist_acc: 0.16140\n",
            "cifar10_loss: 2.30257 - cifar10_acc: 0.10000\n",
            "Epoch 10/10\n",
            "1563/1563 - 6s - loss: 2.3027 - accuracy: 0.0999\n",
            "mnist_loss: 2.29976 - mnist_acc: 0.16130\n",
            "cifar10_loss: 2.30258 - cifar10_acc: 0.10010\n"
          ]
        },
        {
          "data": {
            "image/png": "[encoded data removed]",
            "text/plain": [
              "<Figure size 432x288 with 1 Axes>"
            ]
          },
          "metadata": {
            "needs_background": "light"
          },
          "output_type": "display_data"
        },
        {
          "data": {
            "image/png": "[encoded data removed]",
            "text/plain": [
              "<Figure size 432x288 with 1 Axes>"
            ]
          },
          "metadata": {
            "needs_background": "light"
          },
          "output_type": "display_data"
        }
      ],
      "source": [
        "for layer in model.layers:\n",
        "    layer.trainable=True\n",
        "\n",
        "history = model.fit(\n",
        "    x=cifar10_train[0],\n",
        "    y=cifar10_train[1],\n",
        "    epochs=10,\n",
        "    verbose=2,\n",
        "    callbacks=[mnist_eval_cb, cifar10_eval_cb]\n",
        ")\n",
        "\n",
        "data = pd.DataFrame(history.history)\n",
        "\n",
        "sns.lineplot(data=data.filter(['loss', 'cifar10_loss', 'mnist_acc']))\n",
        "plt.title(\"loss\")\n",
        "plt.show()\n",
        "sns.lineplot(data=data.filter(['accuracy', 'cifar10_acc', 'mnist_loss']))\n",
        "plt.title(\"accuracy\")\n",
        "plt.show()"
      ]
    },
    {
      "cell_type": "markdown",
      "metadata": {
        "id": "JiUjL6Ls431Q"
      },
      "source": [
        "Sadly it does not. I think the problem is that I removed the RGB channels when I averaged over the last axis. I will modify the model to accept 3 channels instead of 1 and then tile the mnist dataset on a new last axis."
      ]
    },
    {
      "cell_type": "code",
      "execution_count": null,
      "metadata": {
        "colab": {
          "base_uri": "https://localhost:8080/"
        },
        "id": "yHfFAUzp5b4p",
        "outputId": "e7ac3f1c-d991-44e0-9cd1-6ce93e9179d8"
      },
      "outputs": [
        {
          "name": "stdout",
          "output_type": "stream",
          "text": [
            "(60000, 28, 28, 3) (60000,)\n",
            "(10000, 28, 28, 3) (10000,)\n",
            "(50000, 28, 28, 3) (50000, 1)\n",
            "(10000, 28, 28, 3) (10000, 1)\n"
          ]
        }
      ],
      "source": [
        "mnist_train, mnist_test = keras.datasets.mnist.load_data()\n",
        "cifar10_train, cifar10_test = keras.datasets.cifar10.load_data()\n",
        "\n",
        "# resize the cifar10 images to be (28,28)\n",
        "cifar10_train = cifar10_train[0][:, 2:-2, 2:-2], cifar10_train[1]\n",
        "cifar10_test = cifar10_test[0][:, 2:-2, 2:-2], cifar10_test[1]\n",
        "\n",
        "# insert and repeat 3 channels on greyscale mnist\n",
        "mnist_train = tf.repeat(mnist_train[0][..., None], 3, axis=-1), mnist_train[1]\n",
        "mnist_test = tf.repeat(mnist_test[0][..., None], 3, axis=-1), mnist_test[1]\n",
        "mnist_train[0].shape, mnist_test[0].shape\n",
        "\n",
        "# sanity check: make sure everything is shaped compatibly\n",
        "for ds in [mnist_train, mnist_test, cifar10_train, cifar10_test]:\n",
        "    print(ds[0].shape, ds[1].shape)"
      ]
    },
    {
      "cell_type": "code",
      "execution_count": null,
      "metadata": {
        "colab": {
          "base_uri": "https://localhost:8080/",
          "height": 897
        },
        "id": "lx-N4fOd6Ivl",
        "outputId": "462ea247-8ecd-435f-b75c-a4aee9530f6a"
      },
      "outputs": [
        {
          "name": "stdout",
          "output_type": "stream",
          "text": [
            "Epoch 1/10\n",
            "1875/1875 - 8s - loss: 0.1521 - accuracy: 0.9533 - val_loss: 0.0689 - val_accuracy: 0.9784\n",
            "Epoch 2/10\n",
            "1875/1875 - 8s - loss: 0.0467 - accuracy: 0.9856 - val_loss: 0.0649 - val_accuracy: 0.9802\n",
            "Epoch 3/10\n",
            "1875/1875 - 8s - loss: 0.0236 - accuracy: 0.9930 - val_loss: 0.0500 - val_accuracy: 0.9837\n",
            "Epoch 4/10\n",
            "1875/1875 - 8s - loss: 0.0131 - accuracy: 0.9962 - val_loss: 0.0496 - val_accuracy: 0.9843\n",
            "Epoch 5/10\n",
            "1875/1875 - 8s - loss: 0.0067 - accuracy: 0.9985 - val_loss: 0.0420 - val_accuracy: 0.9880\n",
            "Epoch 6/10\n",
            "1875/1875 - 8s - loss: 0.0035 - accuracy: 0.9995 - val_loss: 0.0434 - val_accuracy: 0.9874\n",
            "Epoch 7/10\n",
            "1875/1875 - 8s - loss: 0.0019 - accuracy: 1.0000 - val_loss: 0.0425 - val_accuracy: 0.9880\n",
            "Epoch 8/10\n",
            "1875/1875 - 8s - loss: 0.0012 - accuracy: 1.0000 - val_loss: 0.0429 - val_accuracy: 0.9886\n",
            "Epoch 9/10\n",
            "1875/1875 - 8s - loss: 0.0012 - accuracy: 0.9999 - val_loss: 0.0447 - val_accuracy: 0.9880\n",
            "Epoch 10/10\n",
            "1875/1875 - 8s - loss: 8.9660e-04 - accuracy: 0.9999 - val_loss: 0.0444 - val_accuracy: 0.9882\n"
          ]
        },
        {
          "data": {
            "image/png": "[encoded data removed]",
            "text/plain": [
              "<Figure size 432x288 with 1 Axes>"
            ]
          },
          "metadata": {
            "needs_background": "light"
          },
          "output_type": "display_data"
        },
        {
          "data": {
            "image/png": "[encoded data removed]",
            "text/plain": [
              "<Figure size 432x288 with 1 Axes>"
            ]
          },
          "metadata": {
            "needs_background": "light"
          },
          "output_type": "display_data"
        }
      ],
      "source": [
        "def model_builder(hp):\n",
        "    \n",
        "    hp_units = hp.Int('units', min_value=32, max_value=512, step=32)\n",
        "    hp_units2 = hp.Int('units2', min_value=32, max_value=512, step=32)\n",
        "    hp_conv_activation = hp.Choice('conv_activation', values=['relu', 'elu', 'tanh'])\n",
        "    hp_dense_activation = hp.Choice('dense_activation', values=['relu', 'elu', 'tanh'])\n",
        "    hp_num_conv_layers = hp.Int('num_conv_layers', min_value=0, max_value=3, step=1)\n",
        "    hp_num_dense_layers = hp.Int('num_dense_layers', min_value=0, max_value=2, step=1)\n",
        "    hp_dropout_factor = hp.Choice('dropout_factor', values=[0.0, 0.05, 0.1, 0.15, 0.2])\n",
        "    hp_optimizer = hp.Choice('optimizer', values=['SGD', 'Adam', 'Adadelta'])\n",
        "    \n",
        "    model = keras.Sequential([\n",
        "        tfkl.Input(shape=(28, 28, 3)),\n",
        "        ] + [\n",
        "        tfkl.Conv2D(filters=(3*1+1*hp_units)//4, kernel_size=(3,3), activation=hp_conv_activation),\n",
        "        tfkl.Conv2D(filters=(2*1+2*hp_units)//4, kernel_size=(3,3), activation=hp_conv_activation),\n",
        "        tfkl.Conv2D(filters=(1*1+3*hp_units)//4, kernel_size=(3,3), activation=hp_conv_activation),\n",
        "        ][:hp_num_conv_layers] + [\n",
        "        tfkl.Flatten(),\n",
        "        ] + [\n",
        "        tfkl.Dense(hp_units, activation=hp_dense_activation),\n",
        "        tfkl.Dense(hp_units2, activation=hp_dense_activation),\n",
        "        ][:hp_num_dense_layers] + [\n",
        "        tfkl.Dropout(hp_dropout_factor),\n",
        "        tfkl.Dense(10, activation=\"softmax\")\n",
        "    ])\n",
        "    \n",
        "    model.compile(loss='sparse_categorical_crossentropy', \n",
        "                  optimizer=hp_optimizer, metrics=['accuracy'])\n",
        "    return model\n",
        "\n",
        "model = model_builder(best_hps)\n",
        "history = model.fit(\n",
        "    x=mnist_train[0],\n",
        "    y=mnist_train[1],\n",
        "    epochs=10,\n",
        "    verbose=2,\n",
        "    validation_data=mnist_test,\n",
        "    validation_batch_size=64,\n",
        ")\n",
        "\n",
        "data = pd.DataFrame(history.history)\n",
        "\n",
        "sns.lineplot(data=data.filter(['loss', 'val_loss']))\n",
        "plt.title(\"loss\")\n",
        "plt.show()\n",
        "sns.lineplot(data=data.filter(['accuracy', 'val_accuracy']))\n",
        "plt.title(\"accuracy\")\n",
        "plt.show()"
      ]
    },
    {
      "cell_type": "markdown",
      "metadata": {
        "id": "2_UYnm4o_CDK"
      },
      "source": [
        "Ok. The `mnist` classifier is back on its feet but now it can see in color. The model summary looks the same except the number of parameters for layer 1 have increased:\n",
        "```\n",
        "> model.summary()\n",
        "\n",
        "Model: \"sequential_2\"\n",
        "_________________________________________________________________\n",
        "Layer (type)                 Output Shape              Param #   \n",
        "=================================================================\n",
        "conv2d_6 (Conv2D)            (None, 26, 26, 120)       3360      \n",
        "_________________________________________________________________\n",
        "flatten_2 (Flatten)          (None, 81120)             0         \n",
        "_________________________________________________________________\n",
        "dense_6 (Dense)              (None, 480)               38938080  \n",
        "_________________________________________________________________\n",
        "dense_7 (Dense)              (None, 160)               76960     \n",
        "_________________________________________________________________\n",
        "dropout_2 (Dropout)          (None, 160)               0         \n",
        "_________________________________________________________________\n",
        "dense_8 (Dense)              (None, 10)                1610      \n",
        "=================================================================\n",
        "Total params: 39,020,010\n",
        "Trainable params: 39,020,010\n",
        "Non-trainable params: 0\n",
        "_________________________________________________________________\n",
        "```\n",
        "Let's try fine tuning again, and this time, we'll learn the *first* and *last* layer (but not any intermediate layers):"
      ]
    },
    {
      "cell_type": "code",
      "execution_count": null,
      "metadata": {
        "colab": {
          "base_uri": "https://localhost:8080/",
          "height": 1000
        },
        "id": "bS8HMaO8_W-q",
        "outputId": "4a5ba986-de46-41c0-9ef9-ba006606b693"
      },
      "outputs": [
        {
          "name": "stdout",
          "output_type": "stream",
          "text": [
            "Epoch 1/10\n",
            "1563/1563 - 7s - loss: 2.7930 - accuracy: 0.0993\n",
            "mnist_loss: 2.23506 - mnist_acc: 0.27090\n",
            "cifar10_loss: 2.30257 - cifar10_acc: 0.10010\n",
            "Epoch 2/10\n",
            "1563/1563 - 6s - loss: 2.3028 - accuracy: 0.0971\n",
            "mnist_loss: 2.23064 - mnist_acc: 0.25680\n",
            "cifar10_loss: 2.30257 - cifar10_acc: 0.10010\n",
            "Epoch 3/10\n",
            "1563/1563 - 6s - loss: 2.3030 - accuracy: 0.0968\n",
            "mnist_loss: 2.22431 - mnist_acc: 0.29550\n",
            "cifar10_loss: 2.30257 - cifar10_acc: 0.09990\n",
            "Epoch 4/10\n",
            "1563/1563 - 6s - loss: 2.3027 - accuracy: 0.0972\n",
            "mnist_loss: 2.25326 - mnist_acc: 0.24510\n",
            "cifar10_loss: 2.30258 - cifar10_acc: 0.10000\n",
            "Epoch 5/10\n",
            "1563/1563 - 6s - loss: 2.3027 - accuracy: 0.0971\n",
            "mnist_loss: 2.26340 - mnist_acc: 0.24070\n",
            "cifar10_loss: 2.30257 - cifar10_acc: 0.09990\n",
            "Epoch 6/10\n",
            "1563/1563 - 6s - loss: 2.3031 - accuracy: 0.0971\n",
            "mnist_loss: 2.23891 - mnist_acc: 0.24970\n",
            "cifar10_loss: 2.30259 - cifar10_acc: 0.09990\n",
            "Epoch 7/10\n",
            "1563/1563 - 6s - loss: 2.3027 - accuracy: 0.0973\n",
            "mnist_loss: 2.26161 - mnist_acc: 0.22930\n",
            "cifar10_loss: 2.30258 - cifar10_acc: 0.10010\n",
            "Epoch 8/10\n",
            "1563/1563 - 6s - loss: 2.3027 - accuracy: 0.0987\n",
            "mnist_loss: 2.25460 - mnist_acc: 0.22980\n",
            "cifar10_loss: 2.30259 - cifar10_acc: 0.10010\n",
            "Epoch 9/10\n",
            "1563/1563 - 6s - loss: 2.3027 - accuracy: 0.0972\n",
            "mnist_loss: 2.24977 - mnist_acc: 0.23900\n",
            "cifar10_loss: 2.30258 - cifar10_acc: 0.10010\n",
            "Epoch 10/10\n",
            "1563/1563 - 6s - loss: 2.3027 - accuracy: 0.0981\n",
            "mnist_loss: 2.24748 - mnist_acc: 0.24250\n",
            "cifar10_loss: 2.30258 - cifar10_acc: 0.10010\n"
          ]
        },
        {
          "data": {
            "image/png": "[encoded data removed]",
            "text/plain": [
              "<Figure size 432x288 with 1 Axes>"
            ]
          },
          "metadata": {
            "needs_background": "light"
          },
          "output_type": "display_data"
        },
        {
          "data": {
            "image/png": "[encoded data removed]",
            "text/plain": [
              "<Figure size 432x288 with 1 Axes>"
            ]
          },
          "metadata": {
            "needs_background": "light"
          },
          "output_type": "display_data"
        }
      ],
      "source": [
        "mnist_eval_cb = CustomEvaluation(mnist_test, 'mnist', verbose=1)\n",
        "cifar10_eval_cb = CustomEvaluation(cifar10_test, 'cifar10', verbose=1)\n",
        "\n",
        "# only let the first and last layer learn\n",
        "for layer in model.layers:\n",
        "    layer.trainable = False\n",
        "model.layers[0].trainable = True\n",
        "model.layers[-1].trainable = True\n",
        "\n",
        "history = model.fit(\n",
        "    x=cifar10_train[0],\n",
        "    y=cifar10_train[1],\n",
        "    epochs=10,\n",
        "    verbose=2,\n",
        "    callbacks=[mnist_eval_cb, cifar10_eval_cb]\n",
        ")\n",
        "\n",
        "data = pd.DataFrame(history.history)\n",
        "\n",
        "sns.lineplot(data=data.filter(['loss', 'cifar10_loss', 'mnist_acc']))\n",
        "plt.title(\"loss\")\n",
        "plt.show()\n",
        "sns.lineplot(data=data.filter(['accuracy', 'cifar10_acc', 'mnist_loss']))\n",
        "plt.title(\"accuracy\")\n",
        "plt.show()"
      ]
    },
    {
      "cell_type": "markdown",
      "metadata": {
        "id": "4gFBLciF_osl"
      },
      "source": [
        "It still looks like we'll have to train the whole model. You know the drill:"
      ]
    },
    {
      "cell_type": "code",
      "execution_count": null,
      "metadata": {
        "colab": {
          "base_uri": "https://localhost:8080/",
          "height": 1000
        },
        "id": "ab_kPiOtBOlK",
        "outputId": "ad0d1a46-1286-4359-b7c8-ed6ae55ba03a"
      },
      "outputs": [
        {
          "name": "stdout",
          "output_type": "stream",
          "text": [
            "Epoch 1/10\n",
            "1563/1563 - 6s - loss: 2.3027 - accuracy: 0.0981\n",
            "mnist_loss: 2.25516 - mnist_acc: 0.23380\n",
            "cifar10_loss: 2.30260 - cifar10_acc: 0.10020\n",
            "Epoch 2/10\n",
            "1563/1563 - 6s - loss: 2.3027 - accuracy: 0.0970\n",
            "mnist_loss: 2.26369 - mnist_acc: 0.22390\n",
            "cifar10_loss: 2.30261 - cifar10_acc: 0.10000\n",
            "Epoch 3/10\n",
            "1563/1563 - 6s - loss: 2.3027 - accuracy: 0.0944\n",
            "mnist_loss: 2.24401 - mnist_acc: 0.24480\n",
            "cifar10_loss: 2.30258 - cifar10_acc: 0.10010\n",
            "Epoch 4/10\n",
            "1563/1563 - 6s - loss: 2.3027 - accuracy: 0.0980\n",
            "mnist_loss: 2.27201 - mnist_acc: 0.21970\n",
            "cifar10_loss: 2.30258 - cifar10_acc: 0.09990\n",
            "Epoch 5/10\n",
            "1563/1563 - 6s - loss: 2.3027 - accuracy: 0.0979\n",
            "mnist_loss: 2.27206 - mnist_acc: 0.22140\n",
            "cifar10_loss: 2.30258 - cifar10_acc: 0.10010\n",
            "Epoch 6/10\n",
            "1563/1563 - 6s - loss: 2.3027 - accuracy: 0.0987\n",
            "mnist_loss: 2.27167 - mnist_acc: 0.22160\n",
            "cifar10_loss: 2.30259 - cifar10_acc: 0.10010\n",
            "Epoch 7/10\n",
            "1563/1563 - 6s - loss: 2.3027 - accuracy: 0.0978\n",
            "mnist_loss: 2.27237 - mnist_acc: 0.22290\n",
            "cifar10_loss: 2.30258 - cifar10_acc: 0.09990\n",
            "Epoch 8/10\n",
            "1563/1563 - 6s - loss: 2.3027 - accuracy: 0.0984\n",
            "mnist_loss: 2.27085 - mnist_acc: 0.22390\n",
            "cifar10_loss: 2.30259 - cifar10_acc: 0.10010\n",
            "Epoch 9/10\n",
            "1563/1563 - 6s - loss: 2.3027 - accuracy: 0.0977\n",
            "mnist_loss: 2.27129 - mnist_acc: 0.22430\n",
            "cifar10_loss: 2.30258 - cifar10_acc: 0.10010\n",
            "Epoch 10/10\n",
            "1563/1563 - 6s - loss: 2.3027 - accuracy: 0.0987\n",
            "mnist_loss: 2.27180 - mnist_acc: 0.22000\n",
            "cifar10_loss: 2.30259 - cifar10_acc: 0.10010\n"
          ]
        },
        {
          "data": {
            "image/png": "[encoded data removed]",
            "text/plain": [
              "<Figure size 432x288 with 1 Axes>"
            ]
          },
          "metadata": {
            "needs_background": "light"
          },
          "output_type": "display_data"
        },
        {
          "data": {
            "image/png": "[encoded data removed]",
            "text/plain": [
              "<Figure size 432x288 with 1 Axes>"
            ]
          },
          "metadata": {
            "needs_background": "light"
          },
          "output_type": "display_data"
        }
      ],
      "source": [
        "# unfreeze everything\n",
        "for layer in model.layers:\n",
        "    layer.trainable = True\n",
        "\n",
        "history = model.fit(\n",
        "    x=cifar10_train[0],\n",
        "    y=cifar10_train[1],\n",
        "    epochs=10,\n",
        "    verbose=2,\n",
        "    callbacks=[mnist_eval_cb, cifar10_eval_cb]\n",
        ")\n",
        "\n",
        "data = pd.DataFrame(history.history)\n",
        "\n",
        "sns.lineplot(data=data.filter(['loss', 'cifar10_loss', 'mnist_acc']))\n",
        "plt.title(\"loss\")\n",
        "plt.show()\n",
        "sns.lineplot(data=data.filter(['accuracy', 'cifar10_acc', 'mnist_loss']))\n",
        "plt.title(\"accuracy\")\n",
        "plt.show()"
      ]
    },
    {
      "cell_type": "markdown",
      "metadata": {
        "id": "lS1mLc4-CVQ0"
      },
      "source": [
        "Still no improvement. Let's see if the hyperparameter tuner can help:"
      ]
    },
    {
      "cell_type": "code",
      "execution_count": null,
      "metadata": {
        "colab": {
          "base_uri": "https://localhost:8080/"
        },
        "id": "8xHoZ73jCfv5",
        "outputId": "49430d2a-2735-482d-c409-5dadb3f11e9c"
      },
      "outputs": [
        {
          "name": "stdout",
          "output_type": "stream",
          "text": [
            "Trial 30 Complete [00h 01m 42s]\n",
            "val_accuracy: 0.49459999799728394\n",
            "\n",
            "Best val_accuracy So Far: 0.5548999905586243\n",
            "Total elapsed time: 00h 19m 53s\n",
            "INFO:tensorflow:Oracle triggered exit\n",
            "Hyperparameter search is complete. Best hyperparameters: {'units': 480, 'units2': 480, 'conv_activation': 'tanh', 'dense_activation': 'tanh', 'num_conv_layers': 3, 'num_dense_layers': 1, 'dropout_factor': 0.0, 'optimizer': 'Adadelta', 'tuner/epochs': 10, 'tuner/initial_epoch': 4, 'tuner/bracket': 2, 'tuner/round': 2, 'tuner/trial_id': '7c00f5b4ad4a41a7e4469bf866adfe6d'}\n"
          ]
        }
      ],
      "source": [
        "tuner = kt.Hyperband(model_builder,\n",
        "                     objective='val_accuracy',\n",
        "                     max_epochs=10,\n",
        "                     factor=3,\n",
        "                     directory='cifar10',\n",
        "                     project_name='intro_to_kt')\n",
        "stop_early = tf.keras.callbacks.EarlyStopping(monitor='val_loss', patience=5)\n",
        "tuner.search(cifar10_train[0], cifar10_train[1], epochs=50, \n",
        "             validation_split=0.2, callbacks=[stop_early])\n",
        "\n",
        "# Get the optimal hyperparameters\n",
        "best_hps=tuner.get_best_hyperparameters(num_trials=1)[0]\n",
        "\n",
        "print('Hyperparameter search is complete. Best hyperparameters:', best_hps.values)"
      ]
    },
    {
      "cell_type": "markdown",
      "metadata": {
        "id": "0QQepqcIC3hB"
      },
      "source": [
        "Still no improvement. Let's introduce some more *translation-invariance* priors. Math first, then code.\n",
        "\n",
        "Translation invariance refers to the fact that object representations may ideally be factored into separate part-object and object-scene representations where the former do not change as the object moves around the scene. (Side note: neuroscience commonly refers to the *dorsal* and *ventral* visual pathways as 'what and where' streams) A robust classifier should classify objects regardless of how they are framed within an image. To reach that lofty goal, machine learning researchers and engineers instill various translation invariant priors into their models. 2D convolution is an excellent example of a translation invariant operation. Others include:\n",
        "- 1x1 convolution (i.e.: a dense layer with weights shared applied on every pixel)\n",
        "- MaxPooling\n",
        "- MeanPooling\n",
        "- GlobalMaxPooling\n",
        "- Attention\n",
        "- Normalization\n",
        "\n",
        "Networks like VGG, ResNet, and ViT also make extensive use of skip connections, highways, or residual connections. Basically those terms mean we're going to break out of the 'sequential' mode of thinking and build acyclic connection toplogies instead. There's too much to explain here but I have included seveal reference in the bottom of this notebook about the aforementioned topics. For now, we'll give our hyperparameter tuner the chance to explore all those priors.\n",
        "\n",
        "### The Hyper Resisudal Attention Network"
      ]
    },
    {
      "cell_type": "code",
      "execution_count": 1,
      "metadata": {
        "id": "XVH-rlC4dR7U"
      },
      "outputs": [],
      "source": [
        "import numpy as np\n",
        "import pandas as pd\n",
        "import matplotlib.pyplot as plt\n",
        "import seaborn as sns\n",
        "import IPython.display as display\n",
        "\n",
        "import tensorflow as tf\n",
        "import tensorflow.keras as keras\n",
        "import tensorflow.keras.layers as tfkl\n",
        "import tensorflow.keras.datasets as datasets\n",
        "\n",
        "!pip install -q einops\n",
        "import einops\n",
        "\n",
        "!pip install -q -U keras-tuner\n",
        "import keras_tuner as kt"
      ]
    },
    {
      "cell_type": "code",
      "execution_count": 2,
      "metadata": {
        "colab": {
          "base_uri": "https://localhost:8080/"
        },
        "id": "N0YsmUDA-9mo",
        "outputId": "8a0e32bc-3aec-4fec-93e6-57e6499faeb1"
      },
      "outputs": [
        {
          "name": "stdout",
          "output_type": "stream",
          "text": [
            "(60000, 28, 28, 3) (60000,)\n",
            "(10000, 28, 28, 3) (10000,)\n",
            "(50000, 32, 32, 3) (50000,)\n",
            "(10000, 32, 32, 3) (10000,)\n"
          ]
        }
      ],
      "source": [
        "# load data\n",
        "mnist_train, mnist_test = datasets.mnist.load_data()\n",
        "cifar10_train, cifar10_test = datasets.cifar10.load_data()\n",
        "\n",
        "mnist_train = mnist_train[0].astype('float32')/255., mnist_train[1]\n",
        "mnist_test = mnist_test[0].astype('float32')/255., mnist_test[1]\n",
        "cifar10_train = cifar10_train[0].astype('float32')/255., cifar10_train[1]\n",
        "cifar10_test = cifar10_test[0].astype('float32')/255., cifar10_test[1]\n",
        "\n",
        "# insert and repeat 3 channels on greyscale mnist\n",
        "mnist_train = tf.repeat(mnist_train[0][..., None], 3, axis=-1), mnist_train[1]\n",
        "mnist_test = tf.repeat(mnist_test[0][..., None], 3, axis=-1), mnist_test[1]\n",
        "\n",
        "# remove empty channel axis on cifar10\n",
        "cifar10_train = cifar10_train[0], cifar10_train[1][..., 0]\n",
        "cifar10_test = cifar10_test[0], cifar10_test[1][..., 0]\n",
        "\n",
        "# sanity check: make sure datasets are shaped similarly with different H's and W's\n",
        "for ds in [mnist_train, mnist_test, cifar10_train, cifar10_test]:\n",
        "    print(ds[0].shape, ds[1].shape)"
      ]
    },
    {
      "cell_type": "code",
      "execution_count": 16,
      "metadata": {
        "colab": {
          "base_uri": "https://localhost:8080/",
          "height": 706
        },
        "id": "DwdKE6trE_Ew",
        "outputId": "08ac7bba-468b-4021-e922-66378f26783f"
      },
      "outputs": [
        {
          "name": "stdout",
          "output_type": "stream",
          "text": [
            "1 (None, 40960)\n",
            "2 (None, 40960)\n",
            "Epoch 1/3\n",
            "704/704 [==============================] - 5s 7ms/step - loss: 6.7000 - accuracy: 0.1003 - top-5-accuracy: 0.6132 - top-2-accuracy: 0.2427 - val_loss: 6.4022 - val_accuracy: 0.0970 - val_top-5-accuracy: 0.6470 - val_top-2-accuracy: 0.3164\n",
            "Epoch 2/3\n",
            "704/704 [==============================] - 5s 7ms/step - loss: 6.7141 - accuracy: 0.0977 - top-5-accuracy: 0.5434 - top-2-accuracy: 0.2246 - val_loss: 6.7187 - val_accuracy: 0.1058 - val_top-5-accuracy: 0.5118 - val_top-2-accuracy: 0.2096\n",
            "Epoch 3/3\n",
            "704/704 [==============================] - 5s 7ms/step - loss: 5.8834 - accuracy: 0.0994 - top-5-accuracy: 0.4992 - top-2-accuracy: 0.1989 - val_loss: 5.2743 - val_accuracy: 0.1058 - val_top-5-accuracy: 0.5124 - val_top-2-accuracy: 0.2096\n"
          ]
        },
        {
          "data": {
            "image/png": "[encoded data removed]",
            "text/plain": [
              "<Figure size 432x288 with 1 Axes>"
            ]
          },
          "metadata": {
            "needs_background": "light"
          },
          "output_type": "display_data"
        },
        {
          "data": {
            "image/png": "[encoded data removed]",
            "text/plain": [
              "<Figure size 432x288 with 1 Axes>"
            ]
          },
          "metadata": {
            "needs_background": "light"
          },
          "output_type": "display_data"
        }
      ],
      "source": [
        "def hyper_resisudal_attention_model_builder(hp):\n",
        "    \n",
        "    ### declare hyperparameters ###\n",
        "\n",
        "    # input conv layer\n",
        "    hp_augment = hp.Choice('augment', values=[True, False])\n",
        "    hp_conv_act_input = hp.Choice('conv_act_input', values=['relu', 'tanh', 'linear', 'sigmoid'])\n",
        "\n",
        "    # residual depth\n",
        "    hp_res_units = hp.Int('res_units', min_value=8, max_value=128, step=8)\n",
        "    hp_not_residual = hp.Choice('not_residual', values=[True, False])\n",
        "\n",
        "    # residual conv hparams\n",
        "    hp_conv_block_size = hp.Choice('conv_block_size', values=[0, 1, 2, 3, 4])\n",
        "    hp_num_conv_blocks = hp.Choice('num_conv_blocks', values=[0, 1, 2, 3])\n",
        "\n",
        "    # first layer\n",
        "    hp_conv_type0 = hp.Choice('conv_type0', values=['conv_1x1', 'conv_3x3', 'conv_5x5', 'conv_mixed', \n",
        "                                                    'attention'])\n",
        "    hp_conv_units0 = hp.Int('conv_units0', min_value=8, max_value=32, step=16)\n",
        "    hp_conv_act0 = hp.Choice('conv_act0', values=['relu', 'tanh', 'linear', 'sigmoid'])\n",
        "    # second layer\n",
        "    hp_conv_type1 = hp.Choice('conv_type1', values=['conv_1x1', 'conv_3x3', 'conv_5x5', 'conv_mixed', \n",
        "                                                    'max_pool', 'mean_pool'])\n",
        "    hp_conv_units1 = hp.Int('conv_units1', min_value=8, max_value=32, step=16)\n",
        "    hp_conv_act1 = hp.Choice('conv_act1', values=['linear'])\n",
        "    # third layer\n",
        "    hp_conv_type2 = hp.Choice('conv_type2', values=['conv_1x1', 'conv_3x3', 'conv_5x5', 'conv_mixed', \n",
        "                                                    'max_pool', 'mean_pool'])\n",
        "    hp_conv_units2 = hp.Int('conv_units2', min_value=8, max_value=32, step=16)\n",
        "    hp_conv_act2 = hp.Choice('conv_act2', values=['relu', 'linear'])\n",
        "    # forth layer\n",
        "    hp_conv_type3 = hp.Choice('conv_type3', values=['max_pool', 'mean_pool'])\n",
        "    hp_conv_units3 = hp.Int('conv_units3', min_value=8, max_value=32, step=16)\n",
        "    hp_conv_act3 = hp.Choice('conv_act3', values=['linear'])\n",
        "    # final dense layer (1x1 conv)\n",
        "    hp_conv_act_final = hp.Choice('conv_act_final', values=['relu', 'linear'])\n",
        "\n",
        "    # convert image shaped tensor to vector representation\n",
        "    hp_collapse_type = hp.Choice('collapse_type', values=['global_max_pool', 'global_mean_pool', 'flatten'])\n",
        "\n",
        "    # residual dense hparams\n",
        "    hp_dense_block_size = hp.Choice('dense_block_size', values=[1, 2, 3])\n",
        "    hp_num_dense_blocks = hp.Choice('num_dense_blocks', values=[1, 2, 3])\n",
        "\n",
        "    hp_dense_units0 = hp.Int('dense_units0', min_value=8, max_value=512, step=16)\n",
        "    hp_dense_act0 = hp.Choice('dense_act0', values=['relu', 'tanh', 'linear', 'sigmoid'])\n",
        "    hp_dense_units1 = hp.Int('dense_units1', min_value=8, max_value=512, step=16)\n",
        "    hp_dense_act1 = hp.Choice('dense_act1', values=['relu', 'linear'])\n",
        "    hp_dense_units2 = hp.Int('dense_units2', min_value=8, max_value=512, step=16)\n",
        "    hp_dense_act2 = hp.Choice('dense_act2', values=['relu', 'linear'])\n",
        "    hp_dense_units3 = hp.Int('dense_units3', min_value=8, max_value=512, step=16)\n",
        "    hp_dense_act3 = hp.Choice('dense_act3', values=['relu', 'linear'])\n",
        "    hp_dense_act_final = hp.Choice('dense_act_final', values=['relu', 'linear'])\n",
        "\n",
        "    # optimizer hparams\n",
        "    hp_optimizer = hp.Choice('optimizer', values=['SGD', 'Adam'])\n",
        "    hp_learning_rate = hp.Choice('learning_rate', values=[0.0005, 0.001, 0.0025, 0.005, 0.01])\n",
        "    \n",
        "    if hp_collapse_type == 'flatten':\n",
        "        hp_not_residual = True\n",
        "\n",
        "    ### get helpers ready ###\n",
        "\n",
        "    # activation functions\n",
        "    activations = {\n",
        "        'sigmoid': tf.nn.sigmoid,\n",
        "        'relu': tf.nn.relu,\n",
        "        'tanh': tf.nn.tanh,\n",
        "        'linear': (lambda x: x),\n",
        "    }\n",
        "\n",
        "    # utility function for arbitrary image-tensor processing layers\n",
        "    def build_conv_layer(input_layer, layer_type, units, activation):\n",
        "        if layer_type == 'conv_1x1':\n",
        "            return tfkl.Conv2D(units, (1,1), (1,1), 'same', \n",
        "                               activation=activations[activation],\n",
        "                               kernel_initializer='he_uniform')(input_layer)\n",
        "        elif layer_type == 'conv_3x3':\n",
        "            return tfkl.Conv2D(units, (3,3), (1,1), 'same', \n",
        "                               activation=activations[activation],\n",
        "                               kernel_initializer='he_uniform')(input_layer)\n",
        "        elif layer_type == 'conv_5x5':\n",
        "            return tfkl.Conv2D(units, (5,5), (1,1), 'same', \n",
        "                               activation=activations[activation],\n",
        "                               kernel_initializer='he_uniform')(input_layer)\n",
        "        elif layer_type == 'conv_mixed':\n",
        "            # not a precise implementation of vgg\n",
        "            conv1 = tfkl.Conv2D(units, (1,1), (1,1), 'same', \n",
        "                                activation=activations[activation],\n",
        "                                kernel_initializer='he_uniform')(input_layer)\n",
        "            conv3 = tfkl.Conv2D(units, (3,3), (1,1), 'same', \n",
        "                                activation=activations[activation],\n",
        "                                kernel_initializer='he_uniform')(input_layer)\n",
        "            conv5 = tfkl.Conv2D(units, (5,5), (1,1), 'same', \n",
        "                                activation=activations[activation],\n",
        "                                kernel_initializer='he_uniform')(input_layer)\n",
        "            cat = tfkl.Maximum()([conv1, conv3, conv5])\n",
        "            return cat\n",
        "        elif layer_type == 'max_pool':\n",
        "            return tfkl.UpSampling2D()(tfkl.MaxPool2D()(input_layer))\n",
        "        elif layer_type == 'mean_pool':\n",
        "            return tfkl.UpSampling2D()(tfkl.AveragePooling2D()(input_layer))\n",
        "        elif layer_type == 'attention':\n",
        "\n",
        "            # class Attn2D(tfkl.Layer):\n",
        "            #     \n",
        "            #     def __init__(self, patch_size=4, *args, **kwargs):\n",
        "            #         super(Attn2D, self).__init__(*args, **kwargs)\n",
        "            #         self.patch_size = patch_size\n",
        "            # \n",
        "            #     def build(self, input_shape):\n",
        "            #         self.attn_layer = tfkl.MultiHeadAttention(num_heads=4, key_dim=units, attention_axes=(1,2))\n",
        "            #         super(Attn2D, self).build(input_shape)\n",
        "            #         print(input_shape)\n",
        "            #         \n",
        "            #     def call(self, inputs):\n",
        "            #         x = inputs\n",
        "            #         orig_shape = tf.shape(inputs)\n",
        "            #         attn_shape = (orig_shape[0], \n",
        "            #                       orig_shape[1]//self.patch_size, \n",
        "            #                       orig_shape[2]//self.patch_size,\n",
        "            #                       4*orig_shape[3])\n",
        "            #         x = tf.reshape(inputs, attn_shape)\n",
        "            #         x = self.attn_layer(x, x)\n",
        "            #         x = tf.reshape(x, orig_shape)\n",
        "            # attended = Attn2D(patch_size=4)(input_layer)\n",
        "\n",
        "            # @tf.function\n",
        "            # def upscale(x):\n",
        "            #     tf.print('before', x.shape)\n",
        "            #     x = einops.repeat(attended, f'b h w c -> b (h Hrepeat) (w Wrepeat) c', \n",
        "            #                       Hrepeat=attn_block_len, Wrepeat=attn_block_len)\n",
        "            #     tf.print('after', x.shape)\n",
        "            #     return x\n",
        "            # upscaled = tfkl.Lambda(upscale)(attended)\n",
        "\n",
        "            # upscaled = einops.repeat(attended, f'b h w c -> b (h repeat) (w repeat) c', repeat=attn_block_len)\n",
        "\n",
        "            attn_block_len = 4\n",
        "            downscaled = tfkl.AveragePooling2D((attn_block_len, attn_block_len))(input_layer)\n",
        "            attended = tfkl.MultiHeadAttention(num_heads=4, key_dim=units, attention_axes=(1,2)) \\\n",
        "                            (downscaled, downscaled, return_attention_scores=False)  # [B, H/s, W/s, N]\n",
        "            upscaled = tfkl.UpSampling2D((attn_block_len, attn_block_len))(attended)\n",
        "            return upscaled\n",
        "        else: \n",
        "            raise ValueError(f'Layer type {layer_type} not supported')\n",
        "\n",
        "    # layers which turn [B, H, W, hp_res_units] into [B, hp_res_units]\n",
        "    collapse_layers = {\n",
        "        'global_max_pool': tfkl.GlobalMaxPool2D(),\n",
        "        'global_mean_pool': tfkl.GlobalAveragePooling2D(),\n",
        "        'flatten': tfkl.Flatten(),\n",
        "    }\n",
        "\n",
        "    optimizers = {\n",
        "        'SGD': keras.optimizers.SGD,\n",
        "        'RMSProp': keras.optimizers.RMSprop,\n",
        "        'Adam': keras.optimizers.Adam,\n",
        "    }\n",
        "\n",
        "    def Tagger(tag):\n",
        "        def lambda_log(x):\n",
        "            tf.print(tag, x.shape)\n",
        "            return x\n",
        "        return tfkl.Lambda(lambda_log)\n",
        "\n",
        "    ### build model ###\n",
        "\n",
        "    any_input_shape = (None, None, 3)  # accept input for arbitrarily sized images\n",
        "    fixed_input_shape = (32,32,3)  # sadly the flatten layer outperforms globalmaxpooling\n",
        "\n",
        "    input_layer = tfkl.Input(fixed_input_shape)\n",
        "    if hp_augment:\n",
        "        preprocessed = keras.Sequential([\n",
        "            tfkl.RandomTranslation(\n",
        "                height_factor=0.2, \n",
        "                width_factor=0.2),\n",
        "            tfkl.RandomZoom(\n",
        "                height_factor=0.2, \n",
        "                width_factor=0.2),\n",
        "            tfkl.RandomRotation(0.2),\n",
        "            tfkl.RandomFlip(),\n",
        "        ])(input_layer)\n",
        "    else:\n",
        "        preprocessed = input_layer\n",
        "\n",
        "    # start 2D residual stream\n",
        "    res_stream = tfkl.Conv2D(hp_res_units, (3,3), (1,1), 'same', use_bias=False,\n",
        "                             activation=activations[hp_conv_act_input],\n",
        "                             kernel_initializer='he_uniform')(preprocessed)\n",
        "\n",
        "    # make residual processing blocks\n",
        "    if hp_conv_block_size > 0 and hp_num_conv_blocks > 0:\n",
        "        for block_num in range(hp_num_conv_blocks):\n",
        "            with tf.name_scope(f'conv_block{block_num}'):\n",
        "                # normalize the input to handle deep residual networks\n",
        "                block_stream = tfkl.BatchNormalization()(res_stream)\n",
        "                # include `hp_conv_block_size` number of layers with their own hyperparameters \n",
        "                for i, layer_type, units, activation in zip(\n",
        "                    list(range(hp_conv_block_size)),\n",
        "                    [hp_conv_type0, hp_conv_type1, hp_conv_type2, hp_conv_type3],\n",
        "                    [hp_conv_units0, hp_conv_units1, hp_conv_units2, hp_conv_units3],\n",
        "                    [hp_conv_act0, hp_conv_act1, hp_conv_act2, hp_conv_act3],\n",
        "                ):\n",
        "                    with tf.name_scope(f'layer{i}'):\n",
        "                        block_stream = build_conv_layer(block_stream, layer_type, units, activation)\n",
        "                \n",
        "                # shortcircuit\n",
        "                if hp_not_residual:\n",
        "                    res_stream = block_stream\n",
        "                    continue\n",
        "\n",
        "                # fuse internal block stream into main residual stream\n",
        "                block_stream = tfkl.Conv2D(hp_res_units, (1,1), (1,1), 'same', use_bias=False,\n",
        "                                           activation=activations[hp_conv_act_final],\n",
        "                                           kernel_initializer='he_uniform')(block_stream)\n",
        "                res_stream = tfkl.Add()([res_stream, block_stream])\n",
        "                res_stream = tfkl.MaxPool2D((2,2))(res_stream)\n",
        "\n",
        "                # boost residual depth with each block\n",
        "                hp_res_units = 2 * hp_res_units  \n",
        "                res_stream = tfkl.Conv2D(hp_res_units, (1,1), (1,1), 'same', use_bias=False,\n",
        "                                         activation=activations[hp_conv_act_final],\n",
        "                                         kernel_initializer='he_uniform')(res_stream)\n",
        "\n",
        "    \n",
        "    # collapse 2D residual stream into a vector\n",
        "    res_stream = collapse_layers[hp_collapse_type](res_stream)  # [B, H, W, C] -> [B, hp_res_units]\n",
        "\n",
        "    # make residual processing blocks\n",
        "    if hp_dense_block_size > 0 and hp_num_dense_blocks > 0:\n",
        "        for block_num in range(hp_num_dense_blocks):\n",
        "            with tf.name_scope(f'dense_block{block_num}'):\n",
        "                # normalize the input to handle deep residual networks\n",
        "                print(1, res_stream.shape)\n",
        "                block_stream = tfkl.LayerNormalization()(res_stream)\n",
        "                print(2, block_stream.shape)\n",
        "                # include `hp_conv_block_size` number of layers with their own hyperparameters \n",
        "                for i, units, activation in zip(\n",
        "                    list(range(hp_conv_block_size)),\n",
        "                    [hp_dense_units0, hp_dense_units1, hp_dense_units2, hp_dense_units3],\n",
        "                    [hp_dense_act0, hp_dense_act1, hp_dense_act2, hp_dense_act3],\n",
        "                ):\n",
        "                    with tf.name_scope(f'layer{i}'):\n",
        "                        block_stream = tfkl.Dense(units, activation=activations[activation])(block_stream)\n",
        "\n",
        "                # shortcircuit\n",
        "                if hp_not_residual:\n",
        "                    res_stream = block_stream\n",
        "                    continue\n",
        "\n",
        "                # fuse internal block stream into main residual stream\n",
        "                block_stream = tfkl.Dense(hp_res_units, activation=activations[hp_dense_act_final])(block_stream)\n",
        "                res_stream = tfkl.Add()([res_stream, block_stream])\n",
        "\n",
        "    # make linear classifier\n",
        "    classified = tfkl.Dense(10)(res_stream)\n",
        "\n",
        "    # build optimizer\n",
        "    optimizer = optimizers[hp_optimizer](hp_learning_rate)\n",
        "\n",
        "    # make, compile, amd return model\n",
        "    model = keras.Model(inputs=input_layer, outputs=classified)\n",
        "    model.compile(loss='sparse_categorical_crossentropy', optimizer=optimizer, \n",
        "                  metrics=['accuracy', \n",
        "                           keras.metrics.SparseTopKCategoricalAccuracy(5, name='top-5-accuracy'),\n",
        "                           keras.metrics.SparseTopKCategoricalAccuracy(2, name='top-2-accuracy')\n",
        "                           ])\n",
        "    return model\n",
        "\n",
        "# test with arbitrary hyperparameters\n",
        "hparams = kt.HyperParameters()\n",
        "hparams.values = {\n",
        "    'augment': False,\n",
        "    'conv_act_input': 'relu', \n",
        "    'res_units': 40,\n",
        "    'not_residual': True,\n",
        "    'conv_block_size': 2,\n",
        "    'num_conv_blocks': 1,\n",
        "    'conv_type0': 'conv_3x3',\n",
        "    'conv_units0': 40,\n",
        "    'conv_act0': 'relu',\n",
        "    'conv_type1': 'max_pool',\n",
        "    'conv_units1': 40,\n",
        "    'conv_act1': 'relu',\n",
        "    'conv_type2': 'max_pool',\n",
        "    'conv_units2': 40,\n",
        "    'conv_act2': 'relu',\n",
        "    'conv_type3': 'max_pool',\n",
        "    'conv_units3': 256,\n",
        "    'conv_act3': 'relu',\n",
        "    'conv_act_final': 'relu',\n",
        "    'collapse_type': 'flatten',\n",
        "    'dense_block_size': 1,\n",
        "    'num_dense_blocks': 1,\n",
        "    'dense_units1': 128,\n",
        "    'dense_act1': 'sigmoid',\n",
        "    'dense_units2': 256,\n",
        "    'dense_act2': 'relu',\n",
        "    'dense_units3': 64,\n",
        "    'dense_act3': 'linear',\n",
        "    'dense_act_final': 'relu',\n",
        "    'optimizer': 'SGD',\n",
        "    'learning_rate': 0.001,\n",
        "}\n",
        "model = hyper_resisudal_attention_model_builder(hparams)\n",
        "#model.summary(128)\n",
        "\n",
        "history = model.fit(\n",
        "    x=cifar10_train[0],\n",
        "    y=cifar10_train[1],\n",
        "    batch_size=64,\n",
        "    validation_split=0.1,\n",
        "    epochs=3,\n",
        "    verbose=1,\n",
        ")\n",
        "\n",
        "# visualize training\n",
        "data = pd.DataFrame(history.history)\n",
        "\n",
        "sns.lineplot(data=data.filter(['loss', 'val_loss']))\n",
        "plt.title(\"loss\")\n",
        "plt.show()\n",
        "sns.lineplot(data=data.filter(['accuracy', 'val_accuracy', \n",
        "                               'top-2-accuracy', 'val_top-2-accuracy',\n",
        "                               'top-5-accuracy', 'val_top-5-accuracy'  ]))\n",
        "plt.title(\"accuracy\")\n",
        "plt.show()\n",
        "\n",
        "#keras.utils.plot_model(model)"
      ]
    },
    {
      "cell_type": "markdown",
      "metadata": {
        "id": "SSSWPV_REJ8i"
      },
      "source": [
        "After some manual experiments (none surpass 0.2 accuracy) I tried throwing the model on the hyperparameter optimizer. The results were not any better."
      ]
    },
    {
      "cell_type": "code",
      "execution_count": null,
      "metadata": {
        "colab": {
          "base_uri": "https://localhost:8080/",
          "height": 1000
        },
        "id": "FAwAJNn5dVPZ",
        "outputId": "d3720e5a-7cf9-4d61-e0ce-9a9d50bf3ffb"
      },
      "outputs": [
        {
          "name": "stdout",
          "output_type": "stream",
          "text": [
            "Trial 3 Complete [00h 00m 33s]\n",
            "val_accuracy: 0.11219999939203262\n",
            "\n",
            "Best val_accuracy So Far: 0.1282999962568283\n",
            "Total elapsed time: 00h 02m 08s\n",
            "\n",
            "Search: Running Trial #4\n",
            "\n",
            "Hyperparameter    |Value             |Best Value So Far \n",
            "conv_act_input    |linear            |sigmoid           \n",
            "res_units         |32                |48                \n",
            "conv_block_size   |1                 |3                 \n",
            "num_conv_blocks   |1                 |2                 \n",
            "conv_type0        |conv_1x1          |conv_1x1          \n",
            "conv_units0       |24                |24                \n",
            "conv_act0         |sigmoid           |sigmoid           \n",
            "conv_type1        |max_pool          |conv_3x3          \n",
            "conv_units1       |8                 |8                 \n",
            "conv_act1         |tanh              |linear            \n",
            "conv_type2        |max_pool          |conv_1x1          \n",
            "conv_units2       |8                 |24                \n",
            "conv_act2         |linear            |linear            \n",
            "conv_type3        |conv_1x1          |conv_mixed        \n",
            "conv_units3       |24                |24                \n",
            "conv_act3         |relu              |tanh              \n",
            "conv_act_final    |linear            |tanh              \n",
            "collapse_type     |global_max_pool   |global_mean_pool  \n",
            "dense_block_size  |3                 |3                 \n",
            "num_dense_blocks  |5                 |4                 \n",
            "dense_units0      |472               |408               \n",
            "dense_act0        |sigmoid           |tanh              \n",
            "dense_units1      |408               |168               \n",
            "dense_act1        |relu              |linear            \n",
            "dense_units2      |56                |456               \n",
            "dense_act2        |linear            |tanh              \n",
            "dense_units3      |40                |360               \n",
            "dense_act3        |relu              |tanh              \n",
            "dense_act_final   |relu              |relu              \n",
            "optimizer         |RMSProp           |SGD               \n",
            "learning_rate     |0.0025            |0.0025            \n",
            "tuner/epochs      |4                 |2                 \n",
            "tuner/initial_e...|2                 |0                 \n",
            "tuner/bracket     |2                 |2                 \n",
            "tuner/round       |1                 |0                 \n",
            "tuner/trial_id    |29d19f098949c88...|None              \n",
            "\n"
          ]
        },
        {
          "name": "stderr",
          "output_type": "stream",
          "text": [
            "Traceback (most recent call last):\n",
            "  File \"/usr/local/lib/python3.7/dist-packages/keras_tuner/engine/hypermodel.py\", line 127, in build\n",
            "    model = self.hypermodel.build(hp)\n",
            "  File \"<ipython-input-214-aa31e6d19965>\", line 6, in hyper_resisudal_attention_model_builder\n",
            "    hp_augment = hp.Choice('augment', values=[True, False])\n",
            "  File \"/usr/local/lib/python3.7/dist-packages/keras_tuner/engine/hyperparameters.py\", line 798, in Choice\n",
            "    return self._retrieve(hp)\n",
            "  File \"/usr/local/lib/python3.7/dist-packages/keras_tuner/engine/hyperparameters.py\", line 707, in _retrieve\n",
            "    return self.values[hp.name]\n",
            "KeyError: 'augment'\n"
          ]
        },
        {
          "name": "stdout",
          "output_type": "stream",
          "text": [
            "Invalid model 0/5\n"
          ]
        },
        {
          "name": "stderr",
          "output_type": "stream",
          "text": [
            "Traceback (most recent call last):\n",
            "  File \"/usr/local/lib/python3.7/dist-packages/keras_tuner/engine/hypermodel.py\", line 127, in build\n",
            "    model = self.hypermodel.build(hp)\n",
            "  File \"<ipython-input-214-aa31e6d19965>\", line 6, in hyper_resisudal_attention_model_builder\n",
            "    hp_augment = hp.Choice('augment', values=[True, False])\n",
            "  File \"/usr/local/lib/python3.7/dist-packages/keras_tuner/engine/hyperparameters.py\", line 798, in Choice\n",
            "    return self._retrieve(hp)\n",
            "  File \"/usr/local/lib/python3.7/dist-packages/keras_tuner/engine/hyperparameters.py\", line 707, in _retrieve\n",
            "    return self.values[hp.name]\n",
            "KeyError: 'augment'\n"
          ]
        },
        {
          "name": "stdout",
          "output_type": "stream",
          "text": [
            "Invalid model 1/5\n",
            "Invalid model 2/5\n",
            "Invalid model 3/5\n"
          ]
        },
        {
          "name": "stderr",
          "output_type": "stream",
          "text": [
            "Traceback (most recent call last):\n",
            "  File \"/usr/local/lib/python3.7/dist-packages/keras_tuner/engine/hypermodel.py\", line 127, in build\n",
            "    model = self.hypermodel.build(hp)\n",
            "  File \"<ipython-input-214-aa31e6d19965>\", line 6, in hyper_resisudal_attention_model_builder\n",
            "    hp_augment = hp.Choice('augment', values=[True, False])\n",
            "  File \"/usr/local/lib/python3.7/dist-packages/keras_tuner/engine/hyperparameters.py\", line 798, in Choice\n",
            "    return self._retrieve(hp)\n",
            "  File \"/usr/local/lib/python3.7/dist-packages/keras_tuner/engine/hyperparameters.py\", line 707, in _retrieve\n",
            "    return self.values[hp.name]\n",
            "KeyError: 'augment'\n",
            "Traceback (most recent call last):\n",
            "  File \"/usr/local/lib/python3.7/dist-packages/keras_tuner/engine/hypermodel.py\", line 127, in build\n",
            "    model = self.hypermodel.build(hp)\n",
            "  File \"<ipython-input-214-aa31e6d19965>\", line 6, in hyper_resisudal_attention_model_builder\n",
            "    hp_augment = hp.Choice('augment', values=[True, False])\n",
            "  File \"/usr/local/lib/python3.7/dist-packages/keras_tuner/engine/hyperparameters.py\", line 798, in Choice\n",
            "    return self._retrieve(hp)\n",
            "  File \"/usr/local/lib/python3.7/dist-packages/keras_tuner/engine/hyperparameters.py\", line 707, in _retrieve\n",
            "    return self.values[hp.name]\n",
            "KeyError: 'augment'\n",
            "Traceback (most recent call last):\n",
            "  File \"/usr/local/lib/python3.7/dist-packages/keras_tuner/engine/hypermodel.py\", line 127, in build\n",
            "    model = self.hypermodel.build(hp)\n",
            "  File \"<ipython-input-214-aa31e6d19965>\", line 6, in hyper_resisudal_attention_model_builder\n",
            "    hp_augment = hp.Choice('augment', values=[True, False])\n",
            "  File \"/usr/local/lib/python3.7/dist-packages/keras_tuner/engine/hyperparameters.py\", line 798, in Choice\n",
            "    return self._retrieve(hp)\n",
            "  File \"/usr/local/lib/python3.7/dist-packages/keras_tuner/engine/hyperparameters.py\", line 707, in _retrieve\n",
            "    return self.values[hp.name]\n",
            "KeyError: 'augment'\n"
          ]
        },
        {
          "name": "stdout",
          "output_type": "stream",
          "text": [
            "Invalid model 4/5\n",
            "Invalid model 5/5\n"
          ]
        },
        {
          "name": "stderr",
          "output_type": "stream",
          "text": [
            "Traceback (most recent call last):\n",
            "  File \"/usr/local/lib/python3.7/dist-packages/keras_tuner/engine/hypermodel.py\", line 127, in build\n",
            "    model = self.hypermodel.build(hp)\n",
            "  File \"<ipython-input-214-aa31e6d19965>\", line 6, in hyper_resisudal_attention_model_builder\n",
            "    hp_augment = hp.Choice('augment', values=[True, False])\n",
            "  File \"/usr/local/lib/python3.7/dist-packages/keras_tuner/engine/hyperparameters.py\", line 798, in Choice\n",
            "    return self._retrieve(hp)\n",
            "  File \"/usr/local/lib/python3.7/dist-packages/keras_tuner/engine/hyperparameters.py\", line 707, in _retrieve\n",
            "    return self.values[hp.name]\n",
            "KeyError: 'augment'\n"
          ]
        },
        {
          "ename": "RuntimeError",
          "evalue": "ignored",
          "output_type": "error",
          "traceback": [
            "\u001b[0;31m---------------------------------------------------------------------------\u001b[0m",
            "\u001b[0;31mKeyError\u001b[0m                                  Traceback (most recent call last)",
            "\u001b[0;32m/usr/local/lib/python3.7/dist-packages/keras_tuner/engine/hypermodel.py\u001b[0m in \u001b[0;36mbuild\u001b[0;34m(self, hp)\u001b[0m\n\u001b[1;32m    126\u001b[0m                 \u001b[0;32mwith\u001b[0m \u001b[0mmaybe_distribute\u001b[0m\u001b[0;34m(\u001b[0m\u001b[0mself\u001b[0m\u001b[0;34m.\u001b[0m\u001b[0mdistribution_strategy\u001b[0m\u001b[0;34m)\u001b[0m\u001b[0;34m:\u001b[0m\u001b[0;34m\u001b[0m\u001b[0;34m\u001b[0m\u001b[0m\n\u001b[0;32m--> 127\u001b[0;31m                     \u001b[0mmodel\u001b[0m \u001b[0;34m=\u001b[0m \u001b[0mself\u001b[0m\u001b[0;34m.\u001b[0m\u001b[0mhypermodel\u001b[0m\u001b[0;34m.\u001b[0m\u001b[0mbuild\u001b[0m\u001b[0;34m(\u001b[0m\u001b[0mhp\u001b[0m\u001b[0;34m)\u001b[0m\u001b[0;34m\u001b[0m\u001b[0;34m\u001b[0m\u001b[0m\n\u001b[0m\u001b[1;32m    128\u001b[0m             \u001b[0;32mexcept\u001b[0m\u001b[0;34m:\u001b[0m\u001b[0;34m\u001b[0m\u001b[0;34m\u001b[0m\u001b[0m\n",
            "\u001b[0;32m<ipython-input-214-aa31e6d19965>\u001b[0m in \u001b[0;36mhyper_resisudal_attention_model_builder\u001b[0;34m(hp)\u001b[0m\n\u001b[1;32m      5\u001b[0m     \u001b[0;31m# input conv layer\u001b[0m\u001b[0;34m\u001b[0m\u001b[0;34m\u001b[0m\u001b[0;34m\u001b[0m\u001b[0m\n\u001b[0;32m----> 6\u001b[0;31m     \u001b[0mhp_augment\u001b[0m \u001b[0;34m=\u001b[0m \u001b[0mhp\u001b[0m\u001b[0;34m.\u001b[0m\u001b[0mChoice\u001b[0m\u001b[0;34m(\u001b[0m\u001b[0;34m'augment'\u001b[0m\u001b[0;34m,\u001b[0m \u001b[0mvalues\u001b[0m\u001b[0;34m=\u001b[0m\u001b[0;34m[\u001b[0m\u001b[0;32mTrue\u001b[0m\u001b[0;34m,\u001b[0m \u001b[0;32mFalse\u001b[0m\u001b[0;34m]\u001b[0m\u001b[0;34m)\u001b[0m\u001b[0;34m\u001b[0m\u001b[0;34m\u001b[0m\u001b[0m\n\u001b[0m\u001b[1;32m      7\u001b[0m     \u001b[0mhp_conv_act_input\u001b[0m \u001b[0;34m=\u001b[0m \u001b[0mhp\u001b[0m\u001b[0;34m.\u001b[0m\u001b[0mChoice\u001b[0m\u001b[0;34m(\u001b[0m\u001b[0;34m'conv_act_input'\u001b[0m\u001b[0;34m,\u001b[0m \u001b[0mvalues\u001b[0m\u001b[0;34m=\u001b[0m\u001b[0;34m[\u001b[0m\u001b[0;34m'relu'\u001b[0m\u001b[0;34m,\u001b[0m \u001b[0;34m'tanh'\u001b[0m\u001b[0;34m,\u001b[0m \u001b[0;34m'linear'\u001b[0m\u001b[0;34m,\u001b[0m \u001b[0;34m'sigmoid'\u001b[0m\u001b[0;34m]\u001b[0m\u001b[0;34m)\u001b[0m\u001b[0;34m\u001b[0m\u001b[0;34m\u001b[0m\u001b[0m\n",
            "\u001b[0;32m/usr/local/lib/python3.7/dist-packages/keras_tuner/engine/hyperparameters.py\u001b[0m in \u001b[0;36mChoice\u001b[0;34m(self, name, values, ordered, default, parent_name, parent_values)\u001b[0m\n\u001b[1;32m    797\u001b[0m             )\n\u001b[0;32m--> 798\u001b[0;31m             \u001b[0;32mreturn\u001b[0m \u001b[0mself\u001b[0m\u001b[0;34m.\u001b[0m\u001b[0m_retrieve\u001b[0m\u001b[0;34m(\u001b[0m\u001b[0mhp\u001b[0m\u001b[0;34m)\u001b[0m\u001b[0;34m\u001b[0m\u001b[0;34m\u001b[0m\u001b[0m\n\u001b[0m\u001b[1;32m    799\u001b[0m \u001b[0;34m\u001b[0m\u001b[0m\n",
            "\u001b[0;32m/usr/local/lib/python3.7/dist-packages/keras_tuner/engine/hyperparameters.py\u001b[0m in \u001b[0;36m_retrieve\u001b[0;34m(self, hp)\u001b[0m\n\u001b[1;32m    706\u001b[0m             \u001b[0;32mif\u001b[0m \u001b[0mself\u001b[0m\u001b[0;34m.\u001b[0m\u001b[0m_conditions_are_active\u001b[0m\u001b[0;34m(\u001b[0m\u001b[0mhp\u001b[0m\u001b[0;34m.\u001b[0m\u001b[0mconditions\u001b[0m\u001b[0;34m)\u001b[0m\u001b[0;34m:\u001b[0m\u001b[0;34m\u001b[0m\u001b[0;34m\u001b[0m\u001b[0m\n\u001b[0;32m--> 707\u001b[0;31m                 \u001b[0;32mreturn\u001b[0m \u001b[0mself\u001b[0m\u001b[0;34m.\u001b[0m\u001b[0mvalues\u001b[0m\u001b[0;34m[\u001b[0m\u001b[0mhp\u001b[0m\u001b[0;34m.\u001b[0m\u001b[0mname\u001b[0m\u001b[0;34m]\u001b[0m\u001b[0;34m\u001b[0m\u001b[0;34m\u001b[0m\u001b[0m\n\u001b[0m\u001b[1;32m    708\u001b[0m             \u001b[0;32mreturn\u001b[0m \u001b[0;32mNone\u001b[0m  \u001b[0;31m# Ensures inactive values are not relied on by user.\u001b[0m\u001b[0;34m\u001b[0m\u001b[0;34m\u001b[0m\u001b[0m\n",
            "\u001b[0;31mKeyError\u001b[0m: 'augment'",
            "\nDuring handling of the above exception, another exception occurred:\n",
            "\u001b[0;31mRuntimeError\u001b[0m                              Traceback (most recent call last)",
            "\u001b[0;32m<ipython-input-215-ce793d92a41c>\u001b[0m in \u001b[0;36m<module>\u001b[0;34m()\u001b[0m\n\u001b[1;32m      7\u001b[0m \u001b[0mstop_early\u001b[0m \u001b[0;34m=\u001b[0m \u001b[0mtf\u001b[0m\u001b[0;34m.\u001b[0m\u001b[0mkeras\u001b[0m\u001b[0;34m.\u001b[0m\u001b[0mcallbacks\u001b[0m\u001b[0;34m.\u001b[0m\u001b[0mEarlyStopping\u001b[0m\u001b[0;34m(\u001b[0m\u001b[0mmonitor\u001b[0m\u001b[0;34m=\u001b[0m\u001b[0;34m'val_loss'\u001b[0m\u001b[0;34m,\u001b[0m \u001b[0mpatience\u001b[0m\u001b[0;34m=\u001b[0m\u001b[0;36m5\u001b[0m\u001b[0;34m)\u001b[0m\u001b[0;34m\u001b[0m\u001b[0;34m\u001b[0m\u001b[0m\n\u001b[1;32m      8\u001b[0m tuner.search(cifar10_train[0], cifar10_train[1], epochs=50, \n\u001b[0;32m----> 9\u001b[0;31m              validation_split=0.2, callbacks=[stop_early])\n\u001b[0m\u001b[1;32m     10\u001b[0m \u001b[0;34m\u001b[0m\u001b[0m\n\u001b[1;32m     11\u001b[0m \u001b[0;31m# Get the optimal hyperparameters\u001b[0m\u001b[0;34m\u001b[0m\u001b[0;34m\u001b[0m\u001b[0;34m\u001b[0m\u001b[0m\n",
            "\u001b[0;32m/usr/local/lib/python3.7/dist-packages/keras_tuner/engine/base_tuner.py\u001b[0m in \u001b[0;36msearch\u001b[0;34m(self, *fit_args, **fit_kwargs)\u001b[0m\n\u001b[1;32m    174\u001b[0m \u001b[0;34m\u001b[0m\u001b[0m\n\u001b[1;32m    175\u001b[0m             \u001b[0mself\u001b[0m\u001b[0;34m.\u001b[0m\u001b[0mon_trial_begin\u001b[0m\u001b[0;34m(\u001b[0m\u001b[0mtrial\u001b[0m\u001b[0;34m)\u001b[0m\u001b[0;34m\u001b[0m\u001b[0;34m\u001b[0m\u001b[0m\n\u001b[0;32m--> 176\u001b[0;31m             \u001b[0mself\u001b[0m\u001b[0;34m.\u001b[0m\u001b[0mrun_trial\u001b[0m\u001b[0;34m(\u001b[0m\u001b[0mtrial\u001b[0m\u001b[0;34m,\u001b[0m \u001b[0;34m*\u001b[0m\u001b[0mfit_args\u001b[0m\u001b[0;34m,\u001b[0m \u001b[0;34m**\u001b[0m\u001b[0mfit_kwargs\u001b[0m\u001b[0;34m)\u001b[0m\u001b[0;34m\u001b[0m\u001b[0;34m\u001b[0m\u001b[0m\n\u001b[0m\u001b[1;32m    177\u001b[0m             \u001b[0mself\u001b[0m\u001b[0;34m.\u001b[0m\u001b[0mon_trial_end\u001b[0m\u001b[0;34m(\u001b[0m\u001b[0mtrial\u001b[0m\u001b[0;34m)\u001b[0m\u001b[0;34m\u001b[0m\u001b[0;34m\u001b[0m\u001b[0m\n\u001b[1;32m    178\u001b[0m         \u001b[0mself\u001b[0m\u001b[0;34m.\u001b[0m\u001b[0mon_search_end\u001b[0m\u001b[0;34m(\u001b[0m\u001b[0;34m)\u001b[0m\u001b[0;34m\u001b[0m\u001b[0;34m\u001b[0m\u001b[0m\n",
            "\u001b[0;32m/usr/local/lib/python3.7/dist-packages/keras_tuner/tuners/hyperband.py\u001b[0m in \u001b[0;36mrun_trial\u001b[0;34m(self, trial, *fit_args, **fit_kwargs)\u001b[0m\n\u001b[1;32m    368\u001b[0m             \u001b[0mfit_kwargs\u001b[0m\u001b[0;34m[\u001b[0m\u001b[0;34m\"epochs\"\u001b[0m\u001b[0;34m]\u001b[0m \u001b[0;34m=\u001b[0m \u001b[0mhp\u001b[0m\u001b[0;34m.\u001b[0m\u001b[0mvalues\u001b[0m\u001b[0;34m[\u001b[0m\u001b[0;34m\"tuner/epochs\"\u001b[0m\u001b[0;34m]\u001b[0m\u001b[0;34m\u001b[0m\u001b[0;34m\u001b[0m\u001b[0m\n\u001b[1;32m    369\u001b[0m             \u001b[0mfit_kwargs\u001b[0m\u001b[0;34m[\u001b[0m\u001b[0;34m\"initial_epoch\"\u001b[0m\u001b[0;34m]\u001b[0m \u001b[0;34m=\u001b[0m \u001b[0mhp\u001b[0m\u001b[0;34m.\u001b[0m\u001b[0mvalues\u001b[0m\u001b[0;34m[\u001b[0m\u001b[0;34m\"tuner/initial_epoch\"\u001b[0m\u001b[0;34m]\u001b[0m\u001b[0;34m\u001b[0m\u001b[0;34m\u001b[0m\u001b[0m\n\u001b[0;32m--> 370\u001b[0;31m         \u001b[0msuper\u001b[0m\u001b[0;34m(\u001b[0m\u001b[0mHyperband\u001b[0m\u001b[0;34m,\u001b[0m \u001b[0mself\u001b[0m\u001b[0;34m)\u001b[0m\u001b[0;34m.\u001b[0m\u001b[0mrun_trial\u001b[0m\u001b[0;34m(\u001b[0m\u001b[0mtrial\u001b[0m\u001b[0;34m,\u001b[0m \u001b[0;34m*\u001b[0m\u001b[0mfit_args\u001b[0m\u001b[0;34m,\u001b[0m \u001b[0;34m**\u001b[0m\u001b[0mfit_kwargs\u001b[0m\u001b[0;34m)\u001b[0m\u001b[0;34m\u001b[0m\u001b[0;34m\u001b[0m\u001b[0m\n\u001b[0m\u001b[1;32m    371\u001b[0m \u001b[0;34m\u001b[0m\u001b[0m\n\u001b[1;32m    372\u001b[0m     \u001b[0;32mdef\u001b[0m \u001b[0m_build_model\u001b[0m\u001b[0;34m(\u001b[0m\u001b[0mself\u001b[0m\u001b[0;34m,\u001b[0m \u001b[0mhp\u001b[0m\u001b[0;34m)\u001b[0m\u001b[0;34m:\u001b[0m\u001b[0;34m\u001b[0m\u001b[0;34m\u001b[0m\u001b[0m\n",
            "\u001b[0;32m/usr/local/lib/python3.7/dist-packages/keras_tuner/engine/multi_execution_tuner.py\u001b[0m in \u001b[0;36mrun_trial\u001b[0;34m(self, trial, *fit_args, **fit_kwargs)\u001b[0m\n\u001b[1;32m     88\u001b[0m             \u001b[0mcopied_fit_kwargs\u001b[0m\u001b[0;34m[\u001b[0m\u001b[0;34m\"callbacks\"\u001b[0m\u001b[0;34m]\u001b[0m \u001b[0;34m=\u001b[0m \u001b[0mcallbacks\u001b[0m\u001b[0;34m\u001b[0m\u001b[0;34m\u001b[0m\u001b[0m\n\u001b[1;32m     89\u001b[0m \u001b[0;34m\u001b[0m\u001b[0m\n\u001b[0;32m---> 90\u001b[0;31m             \u001b[0mhistory\u001b[0m \u001b[0;34m=\u001b[0m \u001b[0mself\u001b[0m\u001b[0;34m.\u001b[0m\u001b[0m_build_and_fit_model\u001b[0m\u001b[0;34m(\u001b[0m\u001b[0mtrial\u001b[0m\u001b[0;34m,\u001b[0m \u001b[0mfit_args\u001b[0m\u001b[0;34m,\u001b[0m \u001b[0mcopied_fit_kwargs\u001b[0m\u001b[0;34m)\u001b[0m\u001b[0;34m\u001b[0m\u001b[0;34m\u001b[0m\u001b[0m\n\u001b[0m\u001b[1;32m     91\u001b[0m             \u001b[0;32mfor\u001b[0m \u001b[0mmetric\u001b[0m\u001b[0;34m,\u001b[0m \u001b[0mepoch_values\u001b[0m \u001b[0;32min\u001b[0m \u001b[0mhistory\u001b[0m\u001b[0;34m.\u001b[0m\u001b[0mhistory\u001b[0m\u001b[0;34m.\u001b[0m\u001b[0mitems\u001b[0m\u001b[0;34m(\u001b[0m\u001b[0;34m)\u001b[0m\u001b[0;34m:\u001b[0m\u001b[0;34m\u001b[0m\u001b[0;34m\u001b[0m\u001b[0m\n\u001b[1;32m     92\u001b[0m                 \u001b[0;32mif\u001b[0m \u001b[0mself\u001b[0m\u001b[0;34m.\u001b[0m\u001b[0moracle\u001b[0m\u001b[0;34m.\u001b[0m\u001b[0mobjective\u001b[0m\u001b[0;34m.\u001b[0m\u001b[0mdirection\u001b[0m \u001b[0;34m==\u001b[0m \u001b[0;34m\"min\"\u001b[0m\u001b[0;34m:\u001b[0m\u001b[0;34m\u001b[0m\u001b[0;34m\u001b[0m\u001b[0m\n",
            "\u001b[0;32m/usr/local/lib/python3.7/dist-packages/keras_tuner/engine/tuner.py\u001b[0m in \u001b[0;36m_build_and_fit_model\u001b[0;34m(self, trial, fit_args, fit_kwargs)\u001b[0m\n\u001b[1;32m    146\u001b[0m             \u001b[0mThe\u001b[0m \u001b[0mfit\u001b[0m \u001b[0mhistory\u001b[0m\u001b[0;34m.\u001b[0m\u001b[0;34m\u001b[0m\u001b[0;34m\u001b[0m\u001b[0m\n\u001b[1;32m    147\u001b[0m         \"\"\"\n\u001b[0;32m--> 148\u001b[0;31m         \u001b[0mmodel\u001b[0m \u001b[0;34m=\u001b[0m \u001b[0mself\u001b[0m\u001b[0;34m.\u001b[0m\u001b[0mhypermodel\u001b[0m\u001b[0;34m.\u001b[0m\u001b[0mbuild\u001b[0m\u001b[0;34m(\u001b[0m\u001b[0mtrial\u001b[0m\u001b[0;34m.\u001b[0m\u001b[0mhyperparameters\u001b[0m\u001b[0;34m)\u001b[0m\u001b[0;34m\u001b[0m\u001b[0;34m\u001b[0m\u001b[0m\n\u001b[0m\u001b[1;32m    149\u001b[0m         \u001b[0;32mreturn\u001b[0m \u001b[0mmodel\u001b[0m\u001b[0;34m.\u001b[0m\u001b[0mfit\u001b[0m\u001b[0;34m(\u001b[0m\u001b[0;34m*\u001b[0m\u001b[0mfit_args\u001b[0m\u001b[0;34m,\u001b[0m \u001b[0;34m**\u001b[0m\u001b[0mfit_kwargs\u001b[0m\u001b[0;34m)\u001b[0m\u001b[0;34m\u001b[0m\u001b[0;34m\u001b[0m\u001b[0m\n\u001b[1;32m    150\u001b[0m \u001b[0;34m\u001b[0m\u001b[0m\n",
            "\u001b[0;32m/usr/local/lib/python3.7/dist-packages/keras_tuner/engine/hypermodel.py\u001b[0m in \u001b[0;36m_build_wrapper\u001b[0;34m(self, hp, *args, **kwargs)\u001b[0m\n\u001b[1;32m     82\u001b[0m             \u001b[0;31m# to the search space.\u001b[0m\u001b[0;34m\u001b[0m\u001b[0;34m\u001b[0m\u001b[0;34m\u001b[0m\u001b[0m\n\u001b[1;32m     83\u001b[0m             \u001b[0mhp\u001b[0m \u001b[0;34m=\u001b[0m \u001b[0mhp\u001b[0m\u001b[0;34m.\u001b[0m\u001b[0mcopy\u001b[0m\u001b[0;34m(\u001b[0m\u001b[0;34m)\u001b[0m\u001b[0;34m\u001b[0m\u001b[0;34m\u001b[0m\u001b[0m\n\u001b[0;32m---> 84\u001b[0;31m         \u001b[0;32mreturn\u001b[0m \u001b[0mself\u001b[0m\u001b[0;34m.\u001b[0m\u001b[0m_build\u001b[0m\u001b[0;34m(\u001b[0m\u001b[0mhp\u001b[0m\u001b[0;34m,\u001b[0m \u001b[0;34m*\u001b[0m\u001b[0margs\u001b[0m\u001b[0;34m,\u001b[0m \u001b[0;34m**\u001b[0m\u001b[0mkwargs\u001b[0m\u001b[0;34m)\u001b[0m\u001b[0;34m\u001b[0m\u001b[0;34m\u001b[0m\u001b[0m\n\u001b[0m\u001b[1;32m     85\u001b[0m \u001b[0;34m\u001b[0m\u001b[0m\n\u001b[1;32m     86\u001b[0m \u001b[0;34m\u001b[0m\u001b[0m\n",
            "\u001b[0;32m/usr/local/lib/python3.7/dist-packages/keras_tuner/engine/hypermodel.py\u001b[0m in \u001b[0;36mbuild\u001b[0;34m(self, hp)\u001b[0m\n\u001b[1;32m    133\u001b[0m \u001b[0;34m\u001b[0m\u001b[0m\n\u001b[1;32m    134\u001b[0m                 \u001b[0;32mif\u001b[0m \u001b[0mi\u001b[0m \u001b[0;34m==\u001b[0m \u001b[0mself\u001b[0m\u001b[0;34m.\u001b[0m\u001b[0m_max_fail_streak\u001b[0m\u001b[0;34m:\u001b[0m\u001b[0;34m\u001b[0m\u001b[0;34m\u001b[0m\u001b[0m\n\u001b[0;32m--> 135\u001b[0;31m                     \u001b[0;32mraise\u001b[0m \u001b[0mRuntimeError\u001b[0m\u001b[0;34m(\u001b[0m\u001b[0;34m\"Too many failed attempts to build model.\"\u001b[0m\u001b[0;34m)\u001b[0m\u001b[0;34m\u001b[0m\u001b[0;34m\u001b[0m\u001b[0m\n\u001b[0m\u001b[1;32m    136\u001b[0m                 \u001b[0;32mcontinue\u001b[0m\u001b[0;34m\u001b[0m\u001b[0;34m\u001b[0m\u001b[0m\n\u001b[1;32m    137\u001b[0m \u001b[0;34m\u001b[0m\u001b[0m\n",
            "\u001b[0;31mRuntimeError\u001b[0m: Too many failed attempts to build model."
          ]
        }
      ],
      "source": [
        "tuner = kt.Hyperband(hyper_resisudal_attention_model_builder,\n",
        "                     objective='val_accuracy',\n",
        "                     max_epochs=10,\n",
        "                     factor=3,\n",
        "                     directory='hyper_resisudal_attention_model-1',\n",
        "                     project_name='hyper_resisudal_attention_model-1')\n",
        "stop_early = tf.keras.callbacks.EarlyStopping(monitor='val_loss', patience=5)\n",
        "tuner.search(cifar10_train[0], cifar10_train[1], epochs=50, \n",
        "             validation_split=0.2, callbacks=[stop_early])\n",
        "\n",
        "# Get the optimal hyperparameters\n",
        "best_hps=tuner.get_best_hyperparameters(num_trials=1)[0]\n",
        "\n",
        "print('Hyperparameter search is complete. Best hyperparameters:', best_hps.values)\n",
        "\n"
      ]
    },
    {
      "cell_type": "markdown",
      "metadata": {
        "id": "X7fNb7UhEU__"
      },
      "source": [
        "It may be time to back out of this search track and fall back on the older model. I'm gonig to run it with a little more training and call that final:"
      ]
    },
    {
      "cell_type": "code",
      "execution_count": 18,
      "metadata": {
        "colab": {
          "base_uri": "https://localhost:8080/",
          "height": 912
        },
        "id": "Y-Y_iTYEEeRq",
        "outputId": "1ff92505-810d-4881-8fae-753efa1eca9e"
      },
      "outputs": [
        {
          "name": "stdout",
          "output_type": "stream",
          "text": [
            "Epoch 1/50\n",
            "782/782 [==============================] - 16s 20ms/step - loss: 1.7817 - accuracy: 0.3760 - val_loss: 1.6082 - val_accuracy: 0.4456\n",
            "Epoch 2/50\n",
            "782/782 [==============================] - 15s 20ms/step - loss: 1.5368 - accuracy: 0.4723 - val_loss: 1.4981 - val_accuracy: 0.4827\n",
            "Epoch 3/50\n",
            "782/782 [==============================] - 15s 20ms/step - loss: 1.4296 - accuracy: 0.5137 - val_loss: 1.4211 - val_accuracy: 0.5062\n",
            "Epoch 4/50\n",
            "782/782 [==============================] - 16s 20ms/step - loss: 1.3418 - accuracy: 0.5455 - val_loss: 1.3625 - val_accuracy: 0.5282\n",
            "Epoch 5/50\n",
            "782/782 [==============================] - 15s 20ms/step - loss: 1.2695 - accuracy: 0.5748 - val_loss: 1.3039 - val_accuracy: 0.5524\n",
            "Epoch 6/50\n",
            "782/782 [==============================] - 15s 20ms/step - loss: 1.2059 - accuracy: 0.5953 - val_loss: 1.2565 - val_accuracy: 0.5671\n",
            "Epoch 7/50\n",
            "782/782 [==============================] - 15s 20ms/step - loss: 1.1523 - accuracy: 0.6147 - val_loss: 1.2173 - val_accuracy: 0.5795\n",
            "Epoch 8/50\n",
            "782/782 [==============================] - 16s 20ms/step - loss: 1.1067 - accuracy: 0.6332 - val_loss: 1.1889 - val_accuracy: 0.5882\n",
            "Epoch 9/50\n",
            "782/782 [==============================] - 16s 20ms/step - loss: 1.0673 - accuracy: 0.6456 - val_loss: 1.1591 - val_accuracy: 0.6015\n",
            "Epoch 10/50\n",
            "782/782 [==============================] - 15s 20ms/step - loss: 1.0296 - accuracy: 0.6598 - val_loss: 1.1365 - val_accuracy: 0.6074\n",
            "Epoch 11/50\n",
            "782/782 [==============================] - 16s 20ms/step - loss: 0.9985 - accuracy: 0.6713 - val_loss: 1.1185 - val_accuracy: 0.6140\n",
            "Epoch 12/50\n",
            "782/782 [==============================] - 15s 20ms/step - loss: 0.9713 - accuracy: 0.6800 - val_loss: 1.0963 - val_accuracy: 0.6204\n",
            "Epoch 13/50\n",
            "782/782 [==============================] - 15s 20ms/step - loss: 0.9424 - accuracy: 0.6936 - val_loss: 1.0849 - val_accuracy: 0.6206\n",
            "Epoch 14/50\n",
            "782/782 [==============================] - 15s 20ms/step - loss: 0.9197 - accuracy: 0.7005 - val_loss: 1.0683 - val_accuracy: 0.6316\n",
            "Epoch 15/50\n",
            "781/782 [============================>.] - ETA: 0s - loss: 0.8968 - accuracy: 0.7096"
          ]
        },
        {
          "ename": "KeyboardInterrupt",
          "evalue": "ignored",
          "output_type": "error",
          "traceback": [
            "\u001b[0;31m---------------------------------------------------------------------------\u001b[0m",
            "\u001b[0;31mKeyboardInterrupt\u001b[0m                         Traceback (most recent call last)",
            "\u001b[0;32m<ipython-input-18-1bcff8f4ef3c>\u001b[0m in \u001b[0;36m<module>\u001b[0;34m()\u001b[0m\n\u001b[1;32m     45\u001b[0m     \u001b[0mverbose\u001b[0m\u001b[0;34m=\u001b[0m\u001b[0;36m1\u001b[0m\u001b[0;34m,\u001b[0m\u001b[0;34m\u001b[0m\u001b[0;34m\u001b[0m\u001b[0m\n\u001b[1;32m     46\u001b[0m     \u001b[0mvalidation_data\u001b[0m\u001b[0;34m=\u001b[0m\u001b[0mcifar10_test\u001b[0m\u001b[0;34m,\u001b[0m\u001b[0;34m\u001b[0m\u001b[0;34m\u001b[0m\u001b[0m\n\u001b[0;32m---> 47\u001b[0;31m     \u001b[0mvalidation_batch_size\u001b[0m\u001b[0;34m=\u001b[0m\u001b[0;36m64\u001b[0m\u001b[0;34m,\u001b[0m\u001b[0;34m\u001b[0m\u001b[0;34m\u001b[0m\u001b[0m\n\u001b[0m\u001b[1;32m     48\u001b[0m )\n\u001b[1;32m     49\u001b[0m \u001b[0;34m\u001b[0m\u001b[0m\n",
            "\u001b[0;32m/usr/local/lib/python3.7/dist-packages/keras/engine/training.py\u001b[0m in \u001b[0;36mfit\u001b[0;34m(self, x, y, batch_size, epochs, verbose, callbacks, validation_split, validation_data, shuffle, class_weight, sample_weight, initial_epoch, steps_per_epoch, validation_steps, validation_batch_size, validation_freq, max_queue_size, workers, use_multiprocessing)\u001b[0m\n\u001b[1;32m   1224\u001b[0m               \u001b[0muse_multiprocessing\u001b[0m\u001b[0;34m=\u001b[0m\u001b[0muse_multiprocessing\u001b[0m\u001b[0;34m,\u001b[0m\u001b[0;34m\u001b[0m\u001b[0;34m\u001b[0m\u001b[0m\n\u001b[1;32m   1225\u001b[0m               \u001b[0mreturn_dict\u001b[0m\u001b[0;34m=\u001b[0m\u001b[0;32mTrue\u001b[0m\u001b[0;34m,\u001b[0m\u001b[0;34m\u001b[0m\u001b[0;34m\u001b[0m\u001b[0m\n\u001b[0;32m-> 1226\u001b[0;31m               _use_cached_eval_dataset=True)\n\u001b[0m\u001b[1;32m   1227\u001b[0m           \u001b[0mval_logs\u001b[0m \u001b[0;34m=\u001b[0m \u001b[0;34m{\u001b[0m\u001b[0;34m'val_'\u001b[0m \u001b[0;34m+\u001b[0m \u001b[0mname\u001b[0m\u001b[0;34m:\u001b[0m \u001b[0mval\u001b[0m \u001b[0;32mfor\u001b[0m \u001b[0mname\u001b[0m\u001b[0;34m,\u001b[0m \u001b[0mval\u001b[0m \u001b[0;32min\u001b[0m \u001b[0mval_logs\u001b[0m\u001b[0;34m.\u001b[0m\u001b[0mitems\u001b[0m\u001b[0;34m(\u001b[0m\u001b[0;34m)\u001b[0m\u001b[0;34m}\u001b[0m\u001b[0;34m\u001b[0m\u001b[0;34m\u001b[0m\u001b[0m\n\u001b[1;32m   1228\u001b[0m           \u001b[0mepoch_logs\u001b[0m\u001b[0;34m.\u001b[0m\u001b[0mupdate\u001b[0m\u001b[0;34m(\u001b[0m\u001b[0mval_logs\u001b[0m\u001b[0;34m)\u001b[0m\u001b[0;34m\u001b[0m\u001b[0;34m\u001b[0m\u001b[0m\n",
            "\u001b[0;32m/usr/local/lib/python3.7/dist-packages/keras/engine/training.py\u001b[0m in \u001b[0;36mevaluate\u001b[0;34m(self, x, y, batch_size, verbose, sample_weight, steps, callbacks, max_queue_size, workers, use_multiprocessing, return_dict, **kwargs)\u001b[0m\n\u001b[1;32m   1499\u001b[0m             \u001b[0;32mwith\u001b[0m \u001b[0mtf\u001b[0m\u001b[0;34m.\u001b[0m\u001b[0mprofiler\u001b[0m\u001b[0;34m.\u001b[0m\u001b[0mexperimental\u001b[0m\u001b[0;34m.\u001b[0m\u001b[0mTrace\u001b[0m\u001b[0;34m(\u001b[0m\u001b[0;34m'test'\u001b[0m\u001b[0;34m,\u001b[0m \u001b[0mstep_num\u001b[0m\u001b[0;34m=\u001b[0m\u001b[0mstep\u001b[0m\u001b[0;34m,\u001b[0m \u001b[0m_r\u001b[0m\u001b[0;34m=\u001b[0m\u001b[0;36m1\u001b[0m\u001b[0;34m)\u001b[0m\u001b[0;34m:\u001b[0m\u001b[0;34m\u001b[0m\u001b[0;34m\u001b[0m\u001b[0m\n\u001b[1;32m   1500\u001b[0m               \u001b[0mcallbacks\u001b[0m\u001b[0;34m.\u001b[0m\u001b[0mon_test_batch_begin\u001b[0m\u001b[0;34m(\u001b[0m\u001b[0mstep\u001b[0m\u001b[0;34m)\u001b[0m\u001b[0;34m\u001b[0m\u001b[0;34m\u001b[0m\u001b[0m\n\u001b[0;32m-> 1501\u001b[0;31m               \u001b[0mtmp_logs\u001b[0m \u001b[0;34m=\u001b[0m \u001b[0mself\u001b[0m\u001b[0;34m.\u001b[0m\u001b[0mtest_function\u001b[0m\u001b[0;34m(\u001b[0m\u001b[0miterator\u001b[0m\u001b[0;34m)\u001b[0m\u001b[0;34m\u001b[0m\u001b[0;34m\u001b[0m\u001b[0m\n\u001b[0m\u001b[1;32m   1502\u001b[0m               \u001b[0;32mif\u001b[0m \u001b[0mdata_handler\u001b[0m\u001b[0;34m.\u001b[0m\u001b[0mshould_sync\u001b[0m\u001b[0;34m:\u001b[0m\u001b[0;34m\u001b[0m\u001b[0;34m\u001b[0m\u001b[0m\n\u001b[1;32m   1503\u001b[0m                 \u001b[0mcontext\u001b[0m\u001b[0;34m.\u001b[0m\u001b[0masync_wait\u001b[0m\u001b[0;34m(\u001b[0m\u001b[0;34m)\u001b[0m\u001b[0;34m\u001b[0m\u001b[0;34m\u001b[0m\u001b[0m\n",
            "\u001b[0;32m/usr/local/lib/python3.7/dist-packages/tensorflow/python/eager/def_function.py\u001b[0m in \u001b[0;36m__call__\u001b[0;34m(self, *args, **kwds)\u001b[0m\n\u001b[1;32m    883\u001b[0m \u001b[0;34m\u001b[0m\u001b[0m\n\u001b[1;32m    884\u001b[0m       \u001b[0;32mwith\u001b[0m \u001b[0mOptionalXlaContext\u001b[0m\u001b[0;34m(\u001b[0m\u001b[0mself\u001b[0m\u001b[0;34m.\u001b[0m\u001b[0m_jit_compile\u001b[0m\u001b[0;34m)\u001b[0m\u001b[0;34m:\u001b[0m\u001b[0;34m\u001b[0m\u001b[0;34m\u001b[0m\u001b[0m\n\u001b[0;32m--> 885\u001b[0;31m         \u001b[0mresult\u001b[0m \u001b[0;34m=\u001b[0m \u001b[0mself\u001b[0m\u001b[0;34m.\u001b[0m\u001b[0m_call\u001b[0m\u001b[0;34m(\u001b[0m\u001b[0;34m*\u001b[0m\u001b[0margs\u001b[0m\u001b[0;34m,\u001b[0m \u001b[0;34m**\u001b[0m\u001b[0mkwds\u001b[0m\u001b[0;34m)\u001b[0m\u001b[0;34m\u001b[0m\u001b[0;34m\u001b[0m\u001b[0m\n\u001b[0m\u001b[1;32m    886\u001b[0m \u001b[0;34m\u001b[0m\u001b[0m\n\u001b[1;32m    887\u001b[0m       \u001b[0mnew_tracing_count\u001b[0m \u001b[0;34m=\u001b[0m \u001b[0mself\u001b[0m\u001b[0;34m.\u001b[0m\u001b[0mexperimental_get_tracing_count\u001b[0m\u001b[0;34m(\u001b[0m\u001b[0;34m)\u001b[0m\u001b[0;34m\u001b[0m\u001b[0;34m\u001b[0m\u001b[0m\n",
            "\u001b[0;32m/usr/local/lib/python3.7/dist-packages/tensorflow/python/eager/def_function.py\u001b[0m in \u001b[0;36m_call\u001b[0;34m(self, *args, **kwds)\u001b[0m\n\u001b[1;32m    922\u001b[0m       \u001b[0;31m# In this case we have not created variables on the first call. So we can\u001b[0m\u001b[0;34m\u001b[0m\u001b[0;34m\u001b[0m\u001b[0;34m\u001b[0m\u001b[0m\n\u001b[1;32m    923\u001b[0m       \u001b[0;31m# run the first trace but we should fail if variables are created.\u001b[0m\u001b[0;34m\u001b[0m\u001b[0;34m\u001b[0m\u001b[0;34m\u001b[0m\u001b[0m\n\u001b[0;32m--> 924\u001b[0;31m       \u001b[0mresults\u001b[0m \u001b[0;34m=\u001b[0m \u001b[0mself\u001b[0m\u001b[0;34m.\u001b[0m\u001b[0m_stateful_fn\u001b[0m\u001b[0;34m(\u001b[0m\u001b[0;34m*\u001b[0m\u001b[0margs\u001b[0m\u001b[0;34m,\u001b[0m \u001b[0;34m**\u001b[0m\u001b[0mkwds\u001b[0m\u001b[0;34m)\u001b[0m\u001b[0;34m\u001b[0m\u001b[0;34m\u001b[0m\u001b[0m\n\u001b[0m\u001b[1;32m    925\u001b[0m       \u001b[0;32mif\u001b[0m \u001b[0mself\u001b[0m\u001b[0;34m.\u001b[0m\u001b[0m_created_variables\u001b[0m \u001b[0;32mand\u001b[0m \u001b[0;32mnot\u001b[0m \u001b[0mALLOW_DYNAMIC_VARIABLE_CREATION\u001b[0m\u001b[0;34m:\u001b[0m\u001b[0;34m\u001b[0m\u001b[0;34m\u001b[0m\u001b[0m\n\u001b[1;32m    926\u001b[0m         raise ValueError(\"Creating variables on a non-first call to a function\"\n",
            "\u001b[0;32m/usr/local/lib/python3.7/dist-packages/tensorflow/python/eager/function.py\u001b[0m in \u001b[0;36m__call__\u001b[0;34m(self, *args, **kwargs)\u001b[0m\n\u001b[1;32m   3038\u001b[0m        filtered_flat_args) = self._maybe_define_function(args, kwargs)\n\u001b[1;32m   3039\u001b[0m     return graph_function._call_flat(\n\u001b[0;32m-> 3040\u001b[0;31m         filtered_flat_args, captured_inputs=graph_function.captured_inputs)  # pylint: disable=protected-access\n\u001b[0m\u001b[1;32m   3041\u001b[0m \u001b[0;34m\u001b[0m\u001b[0m\n\u001b[1;32m   3042\u001b[0m   \u001b[0;34m@\u001b[0m\u001b[0mproperty\u001b[0m\u001b[0;34m\u001b[0m\u001b[0;34m\u001b[0m\u001b[0m\n",
            "\u001b[0;32m/usr/local/lib/python3.7/dist-packages/tensorflow/python/eager/function.py\u001b[0m in \u001b[0;36m_call_flat\u001b[0;34m(self, args, captured_inputs, cancellation_manager)\u001b[0m\n\u001b[1;32m   1962\u001b[0m       \u001b[0;31m# No tape is watching; skip to running the function.\u001b[0m\u001b[0;34m\u001b[0m\u001b[0;34m\u001b[0m\u001b[0;34m\u001b[0m\u001b[0m\n\u001b[1;32m   1963\u001b[0m       return self._build_call_outputs(self._inference_function.call(\n\u001b[0;32m-> 1964\u001b[0;31m           ctx, args, cancellation_manager=cancellation_manager))\n\u001b[0m\u001b[1;32m   1965\u001b[0m     forward_backward = self._select_forward_and_backward_functions(\n\u001b[1;32m   1966\u001b[0m         \u001b[0margs\u001b[0m\u001b[0;34m,\u001b[0m\u001b[0;34m\u001b[0m\u001b[0;34m\u001b[0m\u001b[0m\n",
            "\u001b[0;32m/usr/local/lib/python3.7/dist-packages/tensorflow/python/eager/function.py\u001b[0m in \u001b[0;36mcall\u001b[0;34m(self, ctx, args, cancellation_manager)\u001b[0m\n\u001b[1;32m    594\u001b[0m               \u001b[0minputs\u001b[0m\u001b[0;34m=\u001b[0m\u001b[0margs\u001b[0m\u001b[0;34m,\u001b[0m\u001b[0;34m\u001b[0m\u001b[0;34m\u001b[0m\u001b[0m\n\u001b[1;32m    595\u001b[0m               \u001b[0mattrs\u001b[0m\u001b[0;34m=\u001b[0m\u001b[0mattrs\u001b[0m\u001b[0;34m,\u001b[0m\u001b[0;34m\u001b[0m\u001b[0;34m\u001b[0m\u001b[0m\n\u001b[0;32m--> 596\u001b[0;31m               ctx=ctx)\n\u001b[0m\u001b[1;32m    597\u001b[0m         \u001b[0;32melse\u001b[0m\u001b[0;34m:\u001b[0m\u001b[0;34m\u001b[0m\u001b[0;34m\u001b[0m\u001b[0m\n\u001b[1;32m    598\u001b[0m           outputs = execute.execute_with_cancellation(\n",
            "\u001b[0;32m/usr/local/lib/python3.7/dist-packages/tensorflow/python/eager/execute.py\u001b[0m in \u001b[0;36mquick_execute\u001b[0;34m(op_name, num_outputs, inputs, attrs, ctx, name)\u001b[0m\n\u001b[1;32m     58\u001b[0m     \u001b[0mctx\u001b[0m\u001b[0;34m.\u001b[0m\u001b[0mensure_initialized\u001b[0m\u001b[0;34m(\u001b[0m\u001b[0;34m)\u001b[0m\u001b[0;34m\u001b[0m\u001b[0;34m\u001b[0m\u001b[0m\n\u001b[1;32m     59\u001b[0m     tensors = pywrap_tfe.TFE_Py_Execute(ctx._handle, device_name, op_name,\n\u001b[0;32m---> 60\u001b[0;31m                                         inputs, attrs, num_outputs)\n\u001b[0m\u001b[1;32m     61\u001b[0m   \u001b[0;32mexcept\u001b[0m \u001b[0mcore\u001b[0m\u001b[0;34m.\u001b[0m\u001b[0m_NotOkStatusException\u001b[0m \u001b[0;32mas\u001b[0m \u001b[0me\u001b[0m\u001b[0;34m:\u001b[0m\u001b[0;34m\u001b[0m\u001b[0;34m\u001b[0m\u001b[0m\n\u001b[1;32m     62\u001b[0m     \u001b[0;32mif\u001b[0m \u001b[0mname\u001b[0m \u001b[0;32mis\u001b[0m \u001b[0;32mnot\u001b[0m \u001b[0;32mNone\u001b[0m\u001b[0;34m:\u001b[0m\u001b[0;34m\u001b[0m\u001b[0;34m\u001b[0m\u001b[0m\n",
            "\u001b[0;31mKeyboardInterrupt\u001b[0m: "
          ]
        }
      ],
      "source": [
        "def model_builder(hp):\n",
        "    \n",
        "    hp_units = hp.Int('units', min_value=32, max_value=512, step=32)\n",
        "    hp_units2 = hp.Int('units2', min_value=32, max_value=512, step=32)\n",
        "    hp_conv_activation = hp.Choice('conv_activation', values=['relu', 'elu', 'tanh'])\n",
        "    hp_dense_activation = hp.Choice('dense_activation', values=['relu', 'elu', 'tanh'])\n",
        "    hp_num_conv_layers = hp.Int('num_conv_layers', min_value=0, max_value=3, step=1)\n",
        "    hp_num_dense_layers = hp.Int('num_dense_layers', min_value=0, max_value=2, step=1)\n",
        "    hp_dropout_factor = hp.Choice('dropout_factor', values=[0.0, 0.05, 0.1, 0.15, 0.2])\n",
        "    hp_optimizer = hp.Choice('optimizer', values=['SGD', 'Adam', 'Adadelta'])\n",
        "    \n",
        "    model = keras.Sequential([\n",
        "        tfkl.Input(shape=(32, 32, 3)),\n",
        "        tfkl.BatchNormalization(),\n",
        "        tfkl.Conv2D(filters=(3*1+1*hp_units)//4, kernel_size=(3,3), activation=hp_conv_activation),\n",
        "        tfkl.Conv2D(filters=(2*1+2*hp_units)//4, kernel_size=(3,3), activation=hp_conv_activation),\n",
        "        tfkl.MaxPool2D((2,2)),\n",
        "        tfkl.BatchNormalization(),\n",
        "        tfkl.Conv2D(filters=(1*1+3*hp_units)//4, kernel_size=(3,3), activation=hp_conv_activation),\n",
        "        tfkl.Flatten(),\n",
        "        tfkl.Dense(hp_units, activation=hp_dense_activation),\n",
        "        tfkl.Dense(10, activation=\"softmax\")\n",
        "    ])\n",
        "    \n",
        "    model.compile(loss='sparse_categorical_crossentropy', \n",
        "                  optimizer=hp_optimizer, metrics=['accuracy'])\n",
        "    return model\n",
        "\n",
        "best_hps = kt.HyperParameters()\n",
        "best_hps.values = {\n",
        "    'units': 480, \n",
        "    'units2': 480, \n",
        "    'conv_activation': 'tanh', \n",
        "    'dense_activation': 'tanh',\n",
        "    'optimizer': 'Adadelta',\n",
        "}\n",
        "\n",
        "\n",
        "model = model_builder(best_hps)\n",
        "history = model.fit(\n",
        "    x=cifar10_train[0],\n",
        "    y=cifar10_train[1],\n",
        "    batch_size=64,\n",
        "    epochs=50,\n",
        "    verbose=1,\n",
        "    validation_data=cifar10_test,\n",
        "    validation_batch_size=64,\n",
        ")\n",
        "\n",
        "data = pd.DataFrame(history.history)\n",
        "\n",
        "sns.lineplot(data=data.filter(['loss', 'val_loss']))\n",
        "plt.title(\"loss\")\n",
        "plt.show()\n",
        "sns.lineplot(data=data.filter(['accuracy', 'val_accuracy']))\n",
        "plt.title(\"accuracy\")\n",
        "plt.show()"
      ]
    },
    {
      "cell_type": "markdown",
      "metadata": {
        "id": "z3UoqX-UF0u5"
      },
      "source": [
        "I'm going to try training on wider layers and add some augmentation to get more out of the dataset:"
      ]
    },
    {
      "cell_type": "code",
      "execution_count": 9,
      "metadata": {
        "colab": {
          "base_uri": "https://localhost:8080/",
          "height": 721
        },
        "id": "jZrcw4eDF_E9",
        "outputId": "77940a9b-9eca-4515-f95b-58c04e71d40b"
      },
      "outputs": [
        {
          "name": "stdout",
          "output_type": "stream",
          "text": [
            "Epoch 1/5\n",
            "782/782 [==============================] - 10s 11ms/step - loss: 1.9807 - accuracy: 0.2866 - val_loss: 1.9366 - val_accuracy: 0.3048\n",
            "Epoch 2/5\n",
            "782/782 [==============================] - 9s 11ms/step - loss: 1.8617 - accuracy: 0.3275 - val_loss: 2.2440 - val_accuracy: 0.2452\n",
            "Epoch 3/5\n",
            "782/782 [==============================] - 9s 11ms/step - loss: 1.8053 - accuracy: 0.3452 - val_loss: 1.9037 - val_accuracy: 0.3239\n",
            "Epoch 4/5\n",
            "782/782 [==============================] - 9s 11ms/step - loss: 1.7721 - accuracy: 0.3596 - val_loss: 1.8500 - val_accuracy: 0.3320\n",
            "Epoch 5/5\n",
            "782/782 [==============================] - 9s 11ms/step - loss: 1.7458 - accuracy: 0.3710 - val_loss: 2.0825 - val_accuracy: 0.2981\n"
          ]
        },
        {
          "data": {
            "image/png": "[encoded data removed]",
            "text/plain": [
              "<Figure size 432x288 with 1 Axes>"
            ]
          },
          "metadata": {
            "needs_background": "light"
          },
          "output_type": "display_data"
        },
        {
          "data": {
            "image/png": "[encoded data removed]",
            "text/plain": [
              "<Figure size 432x288 with 1 Axes>"
            ]
          },
          "metadata": {
            "needs_background": "light"
          },
          "output_type": "display_data"
        }
      ],
      "source": [
        "model = keras.Sequential([\n",
        "    tfkl.Input(shape=(32, 32, 3)),\n",
        "    tfkl.RandomTranslation(\n",
        "        height_factor=0.2, \n",
        "        width_factor=0.2),\n",
        "    tfkl.RandomZoom(\n",
        "        height_factor=0.2, \n",
        "        width_factor=0.2),\n",
        "    tfkl.RandomRotation(0.2),\n",
        "    tfkl.RandomFlip(),\n",
        "    tfkl.Conv2D(filters=128, kernel_size=(3,3), activation='tanh'),\n",
        "    tfkl.BatchNormalization(),\n",
        "    tfkl.Conv2D(filters=128, kernel_size=(3,3), activation='tanh'),\n",
        "    tfkl.MaxPool2D((2,2)),\n",
        "    tfkl.Flatten(),\n",
        "    tfkl.Dense(64, activation='tanh'),\n",
        "    tfkl.Dense(10, activation=\"softmax\")\n",
        "])\n",
        "\n",
        "model.compile(loss='sparse_categorical_crossentropy', \n",
        "                optimizer='SGD', metrics=['accuracy'])\n",
        "\n",
        "history = model.fit(\n",
        "    x=cifar10_train[0],\n",
        "    y=cifar10_train[1],\n",
        "    batch_size=64,\n",
        "    epochs=5,\n",
        "    verbose=1,\n",
        "    validation_data=cifar10_test,\n",
        "    validation_batch_size=64,\n",
        ")\n",
        "\n",
        "data = pd.DataFrame(history.history)\n",
        "\n",
        "sns.lineplot(data=data.filter(['loss', 'val_loss']))\n",
        "plt.title(\"loss\")\n",
        "plt.show()\n",
        "sns.lineplot(data=data.filter(['accuracy', 'val_accuracy']))\n",
        "plt.title(\"accuracy\")\n",
        "plt.show()"
      ]
    },
    {
      "cell_type": "markdown",
      "metadata": {
        "id": "CQVRHgXlIA2E"
      },
      "source": [
        "Interestingly, the data augmentation layers resulted in validation accuracies higher than training accuracies (since augmentation isn't applied during the test). Overall though, the training profile looks crazy.\n",
        "\n",
        "The due date (10 minutes!) is coming up, so I'm going to cut this notebook short. Let's train this meta-learned network to the 50-epoch limit and then test it on `cifar10_test`:"
      ]
    },
    {
      "cell_type": "code",
      "execution_count": null,
      "metadata": {
        "colab": {
          "base_uri": "https://localhost:8080/"
        },
        "id": "ANM_N57dIIYj",
        "outputId": "d1b0885e-3b56-410e-9cc1-4efa2f30e555"
      },
      "outputs": [
        {
          "name": "stdout",
          "output_type": "stream",
          "text": [
            "Epoch 1/50\n",
            "782/782 [==============================] - 16s 20ms/step - loss: 1.7603 - accuracy: 0.3836 - val_loss: 1.6039 - val_accuracy: 0.4469\n",
            "Epoch 2/50\n",
            "782/782 [==============================] - 16s 20ms/step - loss: 1.5296 - accuracy: 0.4749 - val_loss: 1.5090 - val_accuracy: 0.4809\n",
            "Epoch 3/50\n",
            "782/782 [==============================] - 16s 20ms/step - loss: 1.4248 - accuracy: 0.5146 - val_loss: 1.4216 - val_accuracy: 0.5137\n",
            "Epoch 4/50\n",
            "782/782 [==============================] - 16s 20ms/step - loss: 1.3406 - accuracy: 0.5459 - val_loss: 1.3630 - val_accuracy: 0.5339\n",
            "Epoch 5/50\n",
            "782/782 [==============================] - 16s 20ms/step - loss: 1.2669 - accuracy: 0.5717 - val_loss: 1.3045 - val_accuracy: 0.5509\n",
            "Epoch 6/50\n",
            "782/782 [==============================] - 16s 20ms/step - loss: 1.2027 - accuracy: 0.5956 - val_loss: 1.2608 - val_accuracy: 0.5646\n",
            "Epoch 7/50\n",
            "782/782 [==============================] - 16s 20ms/step - loss: 1.1504 - accuracy: 0.6143 - val_loss: 1.2222 - val_accuracy: 0.5795\n",
            "Epoch 8/50\n",
            "782/782 [==============================] - 16s 20ms/step - loss: 1.1036 - accuracy: 0.6319 - val_loss: 1.1934 - val_accuracy: 0.5898\n",
            "Epoch 9/50\n",
            "782/782 [==============================] - 16s 20ms/step - loss: 1.0637 - accuracy: 0.6475 - val_loss: 1.1616 - val_accuracy: 0.6012\n",
            "Epoch 10/50\n",
            "782/782 [==============================] - 16s 20ms/step - loss: 1.0285 - accuracy: 0.6583 - val_loss: 1.1374 - val_accuracy: 0.6080\n",
            "Epoch 11/50\n",
            "782/782 [==============================] - 16s 20ms/step - loss: 0.9945 - accuracy: 0.6737 - val_loss: 1.1215 - val_accuracy: 0.6106\n",
            "Epoch 12/50\n",
            "782/782 [==============================] - 15s 20ms/step - loss: 0.9674 - accuracy: 0.6840 - val_loss: 1.0969 - val_accuracy: 0.6241\n",
            "Epoch 13/50\n",
            "782/782 [==============================] - 16s 20ms/step - loss: 0.9402 - accuracy: 0.6928 - val_loss: 1.0846 - val_accuracy: 0.6278\n",
            "Epoch 14/50\n",
            "782/782 [==============================] - 16s 20ms/step - loss: 0.9146 - accuracy: 0.7012 - val_loss: 1.0680 - val_accuracy: 0.6308\n",
            "Epoch 15/50\n",
            "782/782 [==============================] - 16s 20ms/step - loss: 0.8935 - accuracy: 0.7108 - val_loss: 1.0573 - val_accuracy: 0.6361\n",
            "Epoch 16/50\n",
            "782/782 [==============================] - 16s 20ms/step - loss: 0.8717 - accuracy: 0.7187 - val_loss: 1.0443 - val_accuracy: 0.6383\n",
            "Epoch 17/50\n",
            "782/782 [==============================] - 15s 20ms/step - loss: 0.8528 - accuracy: 0.7242 - val_loss: 1.0345 - val_accuracy: 0.6442\n",
            "Epoch 18/50\n",
            "782/782 [==============================] - 16s 20ms/step - loss: 0.8325 - accuracy: 0.7326 - val_loss: 1.0238 - val_accuracy: 0.6469\n",
            "Epoch 19/50\n",
            "712/782 [==========================>...] - ETA: 1s - loss: 0.8161 - accuracy: 0.7390"
          ]
        }
      ],
      "source": [
        "def model_builder(hp):\n",
        "    \n",
        "    hp_units = hp.Int('units', min_value=32, max_value=512, step=32)\n",
        "    hp_units2 = hp.Int('units2', min_value=32, max_value=512, step=32)\n",
        "    hp_conv_activation = hp.Choice('conv_activation', values=['relu', 'elu', 'tanh'])\n",
        "    hp_dense_activation = hp.Choice('dense_activation', values=['relu', 'elu', 'tanh'])\n",
        "    hp_num_conv_layers = hp.Int('num_conv_layers', min_value=0, max_value=3, step=1)\n",
        "    hp_num_dense_layers = hp.Int('num_dense_layers', min_value=0, max_value=2, step=1)\n",
        "    hp_dropout_factor = hp.Choice('dropout_factor', values=[0.0, 0.05, 0.1, 0.15, 0.2])\n",
        "    hp_optimizer = hp.Choice('optimizer', values=['SGD', 'Adam', 'Adadelta'])\n",
        "    \n",
        "    model = keras.Sequential([\n",
        "        tfkl.Input(shape=(32, 32, 3)),\n",
        "        tfkl.BatchNormalization(),\n",
        "        tfkl.Conv2D(filters=(3*1+1*hp_units)//4, kernel_size=(3,3), activation=hp_conv_activation),\n",
        "        tfkl.Conv2D(filters=(2*1+2*hp_units)//4, kernel_size=(3,3), activation=hp_conv_activation),\n",
        "        tfkl.MaxPool2D((2,2)),\n",
        "        tfkl.BatchNormalization(),\n",
        "        tfkl.Conv2D(filters=(1*1+3*hp_units)//4, kernel_size=(3,3), activation=hp_conv_activation),\n",
        "        tfkl.Flatten(),\n",
        "        tfkl.Dense(hp_units, activation=hp_dense_activation),\n",
        "        tfkl.Dense(10, activation=\"softmax\")\n",
        "    ])\n",
        "    \n",
        "    model.compile(loss='sparse_categorical_crossentropy', \n",
        "                  optimizer=hp_optimizer, metrics=['accuracy'])\n",
        "    return model\n",
        "\n",
        "best_hps = kt.HyperParameters()\n",
        "best_hps.values = {\n",
        "    'units': 480, \n",
        "    'units2': 480, \n",
        "    'conv_activation': 'tanh', \n",
        "    'dense_activation': 'tanh',\n",
        "    'optimizer': 'Adadelta',\n",
        "}\n",
        "\n",
        "\n",
        "model = model_builder(best_hps)\n",
        "history = model.fit(\n",
        "    x=cifar10_train[0],\n",
        "    y=cifar10_train[1],\n",
        "    batch_size=64,\n",
        "    epochs=50,\n",
        "    verbose=1,\n",
        "    validation_data=cifar10_test,\n",
        "    validation_batch_size=64,\n",
        ")\n",
        "\n",
        "data = pd.DataFrame(history.history)\n",
        "\n",
        "sns.lineplot(data=data.filter(['loss', 'val_loss']))\n",
        "plt.title(\"loss\")\n",
        "plt.show()\n",
        "sns.lineplot(data=data.filter(['accuracy', 'val_accuracy']))\n",
        "plt.title(\"accuracy\")\n",
        "plt.show()"
      ]
    },
    {
      "cell_type": "markdown",
      "metadata": {
        "id": "w-RQn0xVWfK4"
      },
      "source": [
        "83%. **EDIT: 73% (I was rushing to submit before the due date and completely misreported my model's performance)** Awsome! This was a long notebook. I hope you enjoyed it. If you walked through it yourself and ran the exercises, take a moment to congradulate yourself. What would you move to the inner optimization loop? What would you keep in the slow lane? Would you make the gradient optimizer differentiable also? Would you run a 2nd order Hessian optimizer on the final layers? Please share your thoughts with gpt3 and me."
      ]
    },
    {
      "cell_type": "markdown",
      "metadata": {
        "id": "TagGg9j8YkZZ"
      },
      "source": [
        "### More reading\n",
        "\n",
        "- [UNDERSTANDING INTERMEDIATE LAYERS USING LINEAR CLASSIFIER PROBES](https://openreview.net/pdf?id=HJ4-rAVtl)\n",
        "- [Attention Is All You Need](https://arxiv.org/abs/1706.03762)\n",
        "- [An Image is Worth 16x16 Words: Transformers for Image Recognition at Scale](https://arxiv.org/abs/2010.11929)\n",
        "- [Deep Residual Learning for Image Recognition](https://arxiv.org/abs/1512.03385)\n",
        "- [Batch Normalization: Accelerating Deep Network Training by Reducing Internal Covariate Shift](https://arxiv.org/abs/1502.03167)"
      ]
    }
  ],
  "metadata": {
    "accelerator": "GPU",
    "colab": {
      "collapsed_sections": [],
      "name": "hyper_resisudal_attention_neural_network.ipynb",
      "provenance": []
    },
    "interpreter": {
      "hash": "605fe966a75bc2c3dfa708e269323e6491854b30a36f4e77953579e94649bfba"
    },
    "kernelspec": {
      "display_name": "Python 3",
      "language": "python",
      "name": "python3"
    },
    "language_info": {
      "codemirror_mode": {
        "name": "ipython",
        "version": 3
      },
      "file_extension": ".py",
      "mimetype": "text/x-python",
      "name": "python",
      "nbconvert_exporter": "python",
      "pygments_lexer": "ipython3",
      "version": "3.7.10"
    }
  },
  "nbformat": 4,
  "nbformat_minor": 0
}
